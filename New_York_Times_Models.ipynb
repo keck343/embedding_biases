{
 "cells": [
  {
   "cell_type": "code",
   "execution_count": 2,
   "metadata": {},
   "outputs": [],
   "source": [
    "import gensim\n",
    "import os\n",
    "import codecs\n",
    "import re\n",
    "import string\n",
    "from gensim.models import Word2Vec\n",
    "import numpy as np\n",
    "import warnings\n",
    "warnings.filterwarnings('ignore')"
   ]
  },
  {
   "cell_type": "code",
   "execution_count": 4,
   "metadata": {},
   "outputs": [],
   "source": [
    "# articles set from https://www.kaggle.com/nzalake52/new-york-times-articles\n",
    "\n",
    "with open('nytimes_news_articles.txt', 'r') as f:\n",
    "    contents = f.readlines()"
   ]
  },
  {
   "cell_type": "code",
   "execution_count": 5,
   "metadata": {},
   "outputs": [],
   "source": [
    "articles = []\n",
    "article = ''\n",
    "\n",
    "for line in contents:\n",
    "    if line[0:4] == 'URL:':\n",
    "        if article != '':\n",
    "            articles.append(article)\n",
    "        article = ''\n",
    "    else:\n",
    "         article = article + line"
   ]
  },
  {
   "cell_type": "code",
   "execution_count": 6,
   "metadata": {},
   "outputs": [
    {
     "data": {
      "text/plain": [
       "8887"
      ]
     },
     "execution_count": 6,
     "metadata": {},
     "output_type": "execute_result"
    }
   ],
   "source": [
    "len(articles)"
   ]
  },
  {
   "cell_type": "code",
   "execution_count": 7,
   "metadata": {},
   "outputs": [],
   "source": [
    "def words(text):\n",
    "    regex = re.compile('[' + '–' + '—' + '”'+ re.escape(string.punctuation) + '0-9\\\\r\\\\t\\\\n]')   \n",
    "    text = regex.sub(\" \", text)\n",
    "    words = text.split()\n",
    "    wordsL = [word.lower() for word in words]\n",
    "    return(wordsL)"
   ]
  },
  {
   "cell_type": "code",
   "execution_count": 8,
   "metadata": {},
   "outputs": [],
   "source": [
    "ny_docs = []\n",
    "\n",
    "for article in articles:\n",
    "    ny_docs.append(words(article))"
   ]
  },
  {
   "cell_type": "code",
   "execution_count": 9,
   "metadata": {},
   "outputs": [
    {
     "data": {
      "text/plain": [
       "['washington',\n",
       " 'stellar',\n",
       " 'pitching',\n",
       " 'kept',\n",
       " 'the',\n",
       " 'mets',\n",
       " 'afloat',\n",
       " 'in',\n",
       " 'the',\n",
       " 'first']"
      ]
     },
     "execution_count": 9,
     "metadata": {},
     "output_type": "execute_result"
    }
   ],
   "source": [
    "ny_docs[0][0:10]"
   ]
  },
  {
   "cell_type": "code",
   "execution_count": 10,
   "metadata": {},
   "outputs": [],
   "source": [
    "frist_model = Word2Vec(ny_docs, min_count=1, size=300)"
   ]
  },
  {
   "cell_type": "code",
   "execution_count": 41,
   "metadata": {},
   "outputs": [],
   "source": [
    "frist_model.wv.save_word2vec_format('ny_model.txt', binary=False)"
   ]
  },
  {
   "cell_type": "code",
   "execution_count": 42,
   "metadata": {},
   "outputs": [
    {
     "name": "stdout",
     "output_type": "stream",
     "text": [
      "[('brilliant', 0.7613193988800049), ('legend', 0.7397980690002441), ('idol', 0.705564022064209), ('protagonist', 0.6986303329467773), ('“americana', 0.6782233715057373)]\n"
     ]
    }
   ],
   "source": [
    "result = frist_model.most_similar(positive=['man', 'genius'], negative=['woman'], topn=5)\n",
    "print(result)"
   ]
  },
  {
   "cell_type": "code",
   "execution_count": 43,
   "metadata": {},
   "outputs": [],
   "source": [
    "from scipy.spatial.distance import cosine\n",
    "\n",
    "def bais_genius(model):\n",
    "    man_diff = cosine(model['man'], model['genius'])\n",
    "    woman_diff = cosine(model['woman'], model['genius'])\n",
    "    return man_diff - woman_diff"
   ]
  },
  {
   "cell_type": "code",
   "execution_count": 44,
   "metadata": {},
   "outputs": [
    {
     "data": {
      "text/plain": [
       "-0.0020801424980163574"
      ]
     },
     "execution_count": 44,
     "metadata": {},
     "output_type": "execute_result"
    }
   ],
   "source": [
    "bais_genius(frist_model)"
   ]
  },
  {
   "cell_type": "code",
   "execution_count": 13,
   "metadata": {
    "code_folding": []
   },
   "outputs": [],
   "source": [
    "wordcount = {}\n",
    "for doc in ny_docs:\n",
    "    for word in doc:\n",
    "        if word not in wordcount:\n",
    "            wordcount[word] = 1\n",
    "        else:\n",
    "            wordcount[word] += 1"
   ]
  },
  {
   "cell_type": "code",
   "execution_count": 14,
   "metadata": {},
   "outputs": [
    {
     "data": {
      "text/plain": [
       "[('the', 428535),\n",
       " ('a', 201760),\n",
       " ('to', 186441),\n",
       " ('of', 185737),\n",
       " ('and', 175764),\n",
       " ('in', 161618),\n",
       " ('that', 89300),\n",
       " ('for', 69650),\n",
       " ('on', 63186),\n",
       " ('is', 59341)]"
      ]
     },
     "execution_count": 14,
     "metadata": {},
     "output_type": "execute_result"
    }
   ],
   "source": [
    "sorted(wordcount.items(), key=lambda x: x[1], reverse=True)[0:10]"
   ]
  },
  {
   "cell_type": "code",
   "execution_count": 47,
   "metadata": {},
   "outputs": [],
   "source": [
    "ny_models_100 = [frist_model]\n",
    "\n",
    "for i in range(99):\n",
    "    ny_models_100.append(Word2Vec(ny_docs, min_count=1, size=300))"
   ]
  },
  {
   "cell_type": "code",
   "execution_count": 48,
   "metadata": {},
   "outputs": [],
   "source": [
    "bais_genius_100 = []\n",
    "for model in ny_models_100:\n",
    "    bais_genius_100.append(bais_genius(model))"
   ]
  },
  {
   "cell_type": "code",
   "execution_count": 49,
   "metadata": {},
   "outputs": [
    {
     "data": {
      "text/plain": [
       "-0.05099347233772278"
      ]
     },
     "execution_count": 49,
     "metadata": {},
     "output_type": "execute_result"
    }
   ],
   "source": [
    "min(bais_genius_100)"
   ]
  },
  {
   "cell_type": "code",
   "execution_count": 50,
   "metadata": {},
   "outputs": [
    {
     "data": {
      "text/plain": [
       "0.024115383625030518"
      ]
     },
     "execution_count": 50,
     "metadata": {},
     "output_type": "execute_result"
    }
   ],
   "source": [
    "max(bais_genius_100)"
   ]
  },
  {
   "cell_type": "code",
   "execution_count": 53,
   "metadata": {},
   "outputs": [
    {
     "data": {
      "text/plain": [
       "0.01759645712747362"
      ]
     },
     "execution_count": 53,
     "metadata": {},
     "output_type": "execute_result"
    }
   ],
   "source": [
    "np.std(bais_genius_100)"
   ]
  },
  {
   "cell_type": "code",
   "execution_count": 55,
   "metadata": {},
   "outputs": [
    {
     "data": {
      "text/plain": [
       "-0.005465947687625885"
      ]
     },
     "execution_count": 55,
     "metadata": {},
     "output_type": "execute_result"
    }
   ],
   "source": [
    "np.mean(bais_genius_100)"
   ]
  },
  {
   "cell_type": "code",
   "execution_count": 59,
   "metadata": {},
   "outputs": [
    {
     "data": {
      "text/plain": [
       "(array([1., 0., 1., 1., 1., 3., 0., 3., 3., 1., 5., 4., 1., 2., 4., 6., 3.,\n",
       "        6., 6., 6., 5., 5., 5., 8., 5., 2., 0., 4., 3., 6.]),\n",
       " array([-0.05099347, -0.04848984, -0.04598622, -0.04348259, -0.04097896,\n",
       "        -0.03847533, -0.0359717 , -0.03346807, -0.03096444, -0.02846082,\n",
       "        -0.02595719, -0.02345356, -0.02094993, -0.0184463 , -0.01594267,\n",
       "        -0.01343904, -0.01093542, -0.00843179, -0.00592816, -0.00342453,\n",
       "        -0.0009209 ,  0.00158273,  0.00408636,  0.00658998,  0.00909361,\n",
       "         0.01159724,  0.01410087,  0.0166045 ,  0.01910813,  0.02161176,\n",
       "         0.02411538]),\n",
       " <a list of 30 Patch objects>)"
      ]
     },
     "execution_count": 59,
     "metadata": {},
     "output_type": "execute_result"
    },
    {
     "data": {
      "image/png": "[encoded data removed]",
      "text/plain": [
       "<matplotlib.figure.Figure at 0x21e08b36d8>"
      ]
     },
     "metadata": {},
     "output_type": "display_data"
    }
   ],
   "source": [
    "# Distribution of the amount of difference between each model's \n",
    "# distance between vectors for man and genius vs woman and genius (200 models)\n",
    "from matplotlib.pyplot import hist\n",
    "\n",
    "hist(bais_genius_100, bins=30)"
   ]
  },
  {
   "cell_type": "code",
   "execution_count": 60,
   "metadata": {},
   "outputs": [],
   "source": [
    "with open('ny_bais_genius.txt', 'w') as f:\n",
    "    for bais in bais_genius_100:\n",
    "        f.write(str(bais))\n",
    "        f.write(\"\\n\")"
   ]
  },
  {
   "cell_type": "code",
   "execution_count": 64,
   "metadata": {},
   "outputs": [],
   "source": [
    "women_diffs = []\n",
    "for i in range(100):\n",
    "    for j in range(100):\n",
    "        if i != j:\n",
    "            women_diffs.append(cosine(ny_models_100[i]['women'], ny_models_100[j]['women']))"
   ]
  },
  {
   "cell_type": "code",
   "execution_count": 65,
   "metadata": {},
   "outputs": [
    {
     "data": {
      "text/plain": [
       "0.0623164176940918"
      ]
     },
     "execution_count": 65,
     "metadata": {},
     "output_type": "execute_result"
    }
   ],
   "source": [
    "min(women_diffs)"
   ]
  },
  {
   "cell_type": "code",
   "execution_count": 66,
   "metadata": {},
   "outputs": [
    {
     "data": {
      "text/plain": [
       "0.4752131700515747"
      ]
     },
     "execution_count": 66,
     "metadata": {},
     "output_type": "execute_result"
    }
   ],
   "source": [
    "max(women_diffs)"
   ]
  },
  {
   "cell_type": "code",
   "execution_count": 67,
   "metadata": {},
   "outputs": [
    {
     "data": {
      "text/plain": [
       "0.051596714613036346"
      ]
     },
     "execution_count": 67,
     "metadata": {},
     "output_type": "execute_result"
    }
   ],
   "source": [
    "np.std(women_diffs)"
   ]
  },
  {
   "cell_type": "code",
   "execution_count": 68,
   "metadata": {},
   "outputs": [
    {
     "data": {
      "text/plain": [
       "0.24107247485054864"
      ]
     },
     "execution_count": 68,
     "metadata": {},
     "output_type": "execute_result"
    }
   ],
   "source": [
    "np.mean(women_diffs)"
   ]
  },
  {
   "cell_type": "code",
   "execution_count": 70,
   "metadata": {},
   "outputs": [
    {
     "data": {
      "text/plain": [
       "(array([  18.,   44.,  100.,   76.,  154.,  172.,  226.,  254.,  238.,\n",
       "         402.,  562.,  990., 1306., 1392., 1184., 1012.,  662.,  428.,\n",
       "         280.,  176.,   96.,   44.,   44.,   26.,    4.,    2.,    4.,\n",
       "           2.,    0.,    2.]),\n",
       " array([0.06231642, 0.07607964, 0.08984287, 0.10360609, 0.11736932,\n",
       "        0.13113254, 0.14489577, 0.15865899, 0.17242222, 0.18618544,\n",
       "        0.19994867, 0.21371189, 0.22747512, 0.24123834, 0.25500157,\n",
       "        0.26876479, 0.28252802, 0.29629124, 0.31005447, 0.32381769,\n",
       "        0.33758092, 0.35134414, 0.36510737, 0.37887059, 0.39263382,\n",
       "        0.40639704, 0.42016027, 0.43392349, 0.44768672, 0.46144994,\n",
       "        0.47521317]),\n",
       " <a list of 30 Patch objects>)"
      ]
     },
     "execution_count": 70,
     "metadata": {},
     "output_type": "execute_result"
    },
    {
     "data": {
      "image/png": "[encoded data removed]",
      "text/plain": [
       "<matplotlib.figure.Figure at 0x21e0afed30>"
      ]
     },
     "metadata": {},
     "output_type": "display_data"
    }
   ],
   "source": [
    "hist(women_diffs, bins=30)"
   ]
  },
  {
   "cell_type": "code",
   "execution_count": 71,
   "metadata": {},
   "outputs": [],
   "source": [
    "def bais_genius_plural(model):\n",
    "    man_diff = cosine(model['men'], model['genius'])\n",
    "    woman_diff = cosine(model['women'], model['genius'])\n",
    "    return man_diff - woman_diff"
   ]
  },
  {
   "cell_type": "code",
   "execution_count": 72,
   "metadata": {},
   "outputs": [],
   "source": [
    "bais_genius_plural_100 = []\n",
    "for model in ny_models_100:\n",
    "    bais_genius_plural_100.append(bais_genius_plural(model))"
   ]
  },
  {
   "cell_type": "code",
   "execution_count": 73,
   "metadata": {},
   "outputs": [
    {
     "data": {
      "text/plain": [
       "-0.06560985185205936"
      ]
     },
     "execution_count": 73,
     "metadata": {},
     "output_type": "execute_result"
    }
   ],
   "source": [
    "min(bais_genius_plural_100)"
   ]
  },
  {
   "cell_type": "code",
   "execution_count": 75,
   "metadata": {},
   "outputs": [
    {
     "data": {
      "text/plain": [
       "-0.014616379514336586"
      ]
     },
     "execution_count": 75,
     "metadata": {},
     "output_type": "execute_result"
    }
   ],
   "source": [
    "min(bais_genius_plural_100) - min(bais_genius_100)"
   ]
  },
  {
   "cell_type": "code",
   "execution_count": 74,
   "metadata": {},
   "outputs": [
    {
     "data": {
      "text/plain": [
       "0.041749466210603714"
      ]
     },
     "execution_count": 74,
     "metadata": {},
     "output_type": "execute_result"
    }
   ],
   "source": [
    "max(bais_genius_plural_100)"
   ]
  },
  {
   "cell_type": "code",
   "execution_count": 76,
   "metadata": {},
   "outputs": [
    {
     "data": {
      "text/plain": [
       "0.017634082585573196"
      ]
     },
     "execution_count": 76,
     "metadata": {},
     "output_type": "execute_result"
    }
   ],
   "source": [
    "max(bais_genius_plural_100) - max(bais_genius_100)"
   ]
  },
  {
   "cell_type": "code",
   "execution_count": 77,
   "metadata": {},
   "outputs": [
    {
     "data": {
      "text/plain": [
       "0.019172662453379744"
      ]
     },
     "execution_count": 77,
     "metadata": {},
     "output_type": "execute_result"
    }
   ],
   "source": [
    "np.std(bais_genius_plural_100)"
   ]
  },
  {
   "cell_type": "code",
   "execution_count": 78,
   "metadata": {},
   "outputs": [
    {
     "data": {
      "text/plain": [
       "0.0015762053259061222"
      ]
     },
     "execution_count": 78,
     "metadata": {},
     "output_type": "execute_result"
    }
   ],
   "source": [
    "np.std(bais_genius_plural_100) - np.std(bais_genius_100)"
   ]
  },
  {
   "cell_type": "code",
   "execution_count": 79,
   "metadata": {},
   "outputs": [
    {
     "data": {
      "text/plain": [
       "0.0031409794092178344"
      ]
     },
     "execution_count": 79,
     "metadata": {},
     "output_type": "execute_result"
    }
   ],
   "source": [
    "np.mean(bais_genius_plural_100)"
   ]
  },
  {
   "cell_type": "code",
   "execution_count": 80,
   "metadata": {},
   "outputs": [
    {
     "data": {
      "text/plain": [
       "0.00860692709684372"
      ]
     },
     "execution_count": 80,
     "metadata": {},
     "output_type": "execute_result"
    }
   ],
   "source": [
    "np.mean(bais_genius_plural_100) - np.mean(bais_genius_100)"
   ]
  },
  {
   "cell_type": "code",
   "execution_count": 81,
   "metadata": {},
   "outputs": [
    {
     "data": {
      "text/plain": [
       "(array([ 1.,  0.,  0.,  0.,  0.,  1.,  0.,  0.,  1.,  0.,  1.,  5.,  2.,\n",
       "         6.,  7.,  6.,  5.,  5.,  5.,  4.,  7., 10.,  8.,  9.,  4.,  6.,\n",
       "         2.,  2.,  0.,  3.]),\n",
       " array([-0.06560985, -0.06203121, -0.05845256, -0.05487392, -0.05129528,\n",
       "        -0.04771663, -0.04413799, -0.04055934, -0.0369807 , -0.03340206,\n",
       "        -0.02982341, -0.02624477, -0.02266612, -0.01908748, -0.01550884,\n",
       "        -0.01193019, -0.00835155, -0.0047729 , -0.00119426,  0.00238438,\n",
       "         0.00596303,  0.00954167,  0.01312031,  0.01669896,  0.0202776 ,\n",
       "         0.02385625,  0.02743489,  0.03101353,  0.03459218,  0.03817082,\n",
       "         0.04174947]),\n",
       " <a list of 30 Patch objects>)"
      ]
     },
     "execution_count": 81,
     "metadata": {},
     "output_type": "execute_result"
    },
    {
     "data": {
      "image/png": "[encoded data removed]",
      "text/plain": [
       "<matplotlib.figure.Figure at 0x21e0b62a20>"
      ]
     },
     "metadata": {},
     "output_type": "display_data"
    }
   ],
   "source": [
    "hist(bais_genius_plural_100, bins=30)"
   ]
  },
  {
   "cell_type": "code",
   "execution_count": 82,
   "metadata": {},
   "outputs": [],
   "source": [
    "woman_diffs = []\n",
    "for i in range(100):\n",
    "    for j in range(100):\n",
    "        if i != j:\n",
    "            woman_diffs.append(cosine(ny_models_100[i]['woman'], ny_models_100[j]['woman']))"
   ]
  },
  {
   "cell_type": "code",
   "execution_count": 83,
   "metadata": {},
   "outputs": [
    {
     "data": {
      "text/plain": [
       "0.5091082453727722"
      ]
     },
     "execution_count": 83,
     "metadata": {},
     "output_type": "execute_result"
    }
   ],
   "source": [
    "max(woman_diffs)"
   ]
  },
  {
   "cell_type": "code",
   "execution_count": 84,
   "metadata": {},
   "outputs": [
    {
     "data": {
      "text/plain": [
       "0.03389507532119751"
      ]
     },
     "execution_count": 84,
     "metadata": {},
     "output_type": "execute_result"
    }
   ],
   "source": [
    "max(woman_diffs) - max(women_diffs)"
   ]
  },
  {
   "cell_type": "code",
   "execution_count": 85,
   "metadata": {},
   "outputs": [
    {
     "data": {
      "text/plain": [
       "0.045577168464660645"
      ]
     },
     "execution_count": 85,
     "metadata": {},
     "output_type": "execute_result"
    }
   ],
   "source": [
    "min(woman_diffs)"
   ]
  },
  {
   "cell_type": "code",
   "execution_count": 86,
   "metadata": {},
   "outputs": [
    {
     "data": {
      "text/plain": [
       "0.05595145826099913"
      ]
     },
     "execution_count": 86,
     "metadata": {},
     "output_type": "execute_result"
    }
   ],
   "source": [
    "np.std(woman_diffs)"
   ]
  },
  {
   "cell_type": "code",
   "execution_count": 87,
   "metadata": {},
   "outputs": [
    {
     "data": {
      "text/plain": [
       "0.26088964064915976"
      ]
     },
     "execution_count": 87,
     "metadata": {},
     "output_type": "execute_result"
    }
   ],
   "source": [
    "np.mean(woman_diffs)"
   ]
  },
  {
   "cell_type": "code",
   "execution_count": 88,
   "metadata": {},
   "outputs": [],
   "source": [
    "# social has a word count of 1952\n",
    "social_diffs = []\n",
    "for i in range(100):\n",
    "    for j in range(100):\n",
    "        if i != j:\n",
    "            social_diffs.append(cosine(ny_models_100[i]['social'], ny_models_100[j]['social']))"
   ]
  },
  {
   "cell_type": "code",
   "execution_count": 89,
   "metadata": {},
   "outputs": [
    {
     "data": {
      "text/plain": [
       "(array([  12.,   26.,   42.,   50.,   72.,   88.,  104.,  152.,  164.,\n",
       "         224.,  274.,  408.,  618.,  842., 1012., 1068., 1086.,  974.,\n",
       "         856.,  654.,  414.,  286.,  218.,  124.,   60.,   40.,   12.,\n",
       "          14.,    4.,    2.]),\n",
       " array([0.06806856, 0.07809333, 0.08811809, 0.09814286, 0.10816762,\n",
       "        0.11819238, 0.12821715, 0.13824191, 0.14826668, 0.15829144,\n",
       "        0.16831621, 0.17834097, 0.18836573, 0.1983905 , 0.20841526,\n",
       "        0.21844003, 0.22846479, 0.23848955, 0.24851432, 0.25853908,\n",
       "        0.26856385, 0.27858861, 0.28861338, 0.29863814, 0.3086629 ,\n",
       "        0.31868767, 0.32871243, 0.3387372 , 0.34876196, 0.35878672,\n",
       "        0.36881149]),\n",
       " <a list of 30 Patch objects>)"
      ]
     },
     "execution_count": 89,
     "metadata": {},
     "output_type": "execute_result"
    },
    {
     "data": {
      "image/png": "[encoded data removed]",
      "text/plain": [
       "<matplotlib.figure.Figure at 0x21e0a0a6a0>"
      ]
     },
     "metadata": {},
     "output_type": "display_data"
    }
   ],
   "source": [
    "hist(social_diffs, bins=30)"
   ]
  },
  {
   "cell_type": "code",
   "execution_count": 90,
   "metadata": {},
   "outputs": [],
   "source": [
    "# 'the' has a word count of 428535\n",
    "the_diffs = []\n",
    "for i in range(100):\n",
    "    for j in range(100):\n",
    "        if i != j:\n",
    "            the_diffs.append(cosine(ny_models_100[i]['the'], ny_models_100[j]['the']))"
   ]
  },
  {
   "cell_type": "code",
   "execution_count": 91,
   "metadata": {},
   "outputs": [
    {
     "data": {
      "text/plain": [
       "(array([  10.,    8.,   22.,   26.,   50.,   48.,   54.,  122.,  114.,\n",
       "         138.,  184.,  222.,  182.,  286.,  496.,  704.,  920., 1084.,\n",
       "        1218., 1118.,  988.,  744.,  502.,  314.,  184.,   86.,   46.,\n",
       "          18.,    6.,    6.]),\n",
       " array([0.11051917, 0.12250096, 0.13448276, 0.14646455, 0.15844634,\n",
       "        0.17042814, 0.18240993, 0.19439172, 0.20637352, 0.21835531,\n",
       "        0.2303371 , 0.2423189 , 0.25430069, 0.26628248, 0.27826428,\n",
       "        0.29024607, 0.30222786, 0.31420966, 0.32619145, 0.33817324,\n",
       "        0.35015504, 0.36213683, 0.37411862, 0.38610042, 0.39808221,\n",
       "        0.410064  , 0.4220458 , 0.43402759, 0.44600938, 0.45799117,\n",
       "        0.46997297]),\n",
       " <a list of 30 Patch objects>)"
      ]
     },
     "execution_count": 91,
     "metadata": {},
     "output_type": "execute_result"
    },
    {
     "data": {
      "image/png": "[encoded data removed]",
      "text/plain": [
       "<matplotlib.figure.Figure at 0x21e0e54b00>"
      ]
     },
     "metadata": {},
     "output_type": "display_data"
    }
   ],
   "source": [
    "hist(the_diffs, bins=30)"
   ]
  },
  {
   "cell_type": "code",
   "execution_count": 92,
   "metadata": {},
   "outputs": [
    {
     "data": {
      "text/plain": [
       "('micromanagement', 1)"
      ]
     },
     "execution_count": 92,
     "metadata": {},
     "output_type": "execute_result"
    }
   ],
   "source": [
    "sorted(wordcount.items(), key=lambda x: x[1], reverse=False)[0]"
   ]
  },
  {
   "cell_type": "code",
   "execution_count": 93,
   "metadata": {},
   "outputs": [],
   "source": [
    "micromanagement_diffs = []\n",
    "for i in range(100):\n",
    "    for j in range(100):\n",
    "        if i != j:\n",
    "            micromanagement_diffs.append(cosine(ny_models_100[i]['micromanagement'], ny_models_100[j]['micromanagement']))"
   ]
  },
  {
   "cell_type": "code",
   "execution_count": 94,
   "metadata": {},
   "outputs": [
    {
     "data": {
      "text/plain": [
       "(array([  4.,   8.,   4.,  46.,  50.,  96., 194., 304., 432., 590., 700.,\n",
       "        860., 946., 972., 938., 828., 754., 570., 490., 350., 248., 182.,\n",
       "        132.,  84.,  46.,  30.,  26.,  10.,   4.,   2.]),\n",
       " array([0.19343609, 0.21296803, 0.23249998, 0.25203193, 0.27156388,\n",
       "        0.29109583, 0.31062778, 0.33015972, 0.34969167, 0.36922362,\n",
       "        0.38875557, 0.40828752, 0.42781947, 0.44735141, 0.46688336,\n",
       "        0.48641531, 0.50594726, 0.52547921, 0.54501116, 0.56454311,\n",
       "        0.58407505, 0.603607  , 0.62313895, 0.6426709 , 0.66220285,\n",
       "        0.6817348 , 0.70126674, 0.72079869, 0.74033064, 0.75986259,\n",
       "        0.77939454]),\n",
       " <a list of 30 Patch objects>)"
      ]
     },
     "execution_count": 94,
     "metadata": {},
     "output_type": "execute_result"
    },
    {
     "data": {
      "image/png": "[encoded data removed]",
      "text/plain": [
       "<matplotlib.figure.Figure at 0x21e0fbf908>"
      ]
     },
     "metadata": {},
     "output_type": "display_data"
    }
   ],
   "source": [
    "hist(micromanagement_diffs, bins=30)"
   ]
  },
  {
   "cell_type": "code",
   "execution_count": 106,
   "metadata": {},
   "outputs": [
    {
     "data": {
      "text/plain": [
       "('unionized', 16)"
      ]
     },
     "execution_count": 106,
     "metadata": {},
     "output_type": "execute_result"
    }
   ],
   "source": [
    "sorted(wordcount.items(), key=lambda x: x[1], reverse=False)[100000]"
   ]
  },
  {
   "cell_type": "code",
   "execution_count": 107,
   "metadata": {},
   "outputs": [],
   "source": [
    "# 'unionized', 16\n",
    "\n",
    "unionized_diffs = []\n",
    "for i in range(100):\n",
    "    for j in range(100):\n",
    "        if i != j:\n",
    "            unionized_diffs.append(cosine(ny_models_100[i]['unionized'], ny_models_100[j]['unionized']))"
   ]
  },
  {
   "cell_type": "code",
   "execution_count": 108,
   "metadata": {},
   "outputs": [
    {
     "data": {
      "text/plain": [
       "(array([  14.,   44.,   54.,  108.,  148.,  182.,  284.,  366.,  496.,\n",
       "         710.,  790.,  946.,  940., 1012.,  840.,  772.,  672.,  530.,\n",
       "         384.,  234.,  148.,   92.,   40.,   38.,   30.,   12.,    2.,\n",
       "           4.,    2.,    6.]),\n",
       " array([0.1210584 , 0.13174947, 0.14244053, 0.15313159, 0.16382265,\n",
       "        0.17451372, 0.18520478, 0.19589584, 0.20658691, 0.21727797,\n",
       "        0.22796903, 0.23866009, 0.24935116, 0.26004222, 0.27073328,\n",
       "        0.28142434, 0.29211541, 0.30280647, 0.31349753, 0.32418859,\n",
       "        0.33487966, 0.34557072, 0.35626178, 0.36695284, 0.37764391,\n",
       "        0.38833497, 0.39902603, 0.40971709, 0.42040816, 0.43109922,\n",
       "        0.44179028]),\n",
       " <a list of 30 Patch objects>)"
      ]
     },
     "execution_count": 108,
     "metadata": {},
     "output_type": "execute_result"
    },
    {
     "data": {
      "image/png": "[encoded data removed]",
      "text/plain": [
       "<matplotlib.figure.Figure at 0x21e0fe1898>"
      ]
     },
     "metadata": {},
     "output_type": "display_data"
    }
   ],
   "source": [
    "hist(unionized_diffs, bins=30)"
   ]
  },
  {
   "cell_type": "code",
   "execution_count": null,
   "metadata": {},
   "outputs": [],
   "source": []
  }
 ],
 "metadata": {
  "kernelspec": {
   "display_name": "Python 3",
   "language": "python",
   "name": "python3"
  },
  "language_info": {
   "codemirror_mode": {
    "name": "ipython",
    "version": 3
   },
   "file_extension": ".py",
   "mimetype": "text/x-python",
   "name": "python",
   "nbconvert_exporter": "python",
   "pygments_lexer": "ipython3",
   "version": "3.6.8"
  }
 },
 "nbformat": 4,
 "nbformat_minor": 2
}
