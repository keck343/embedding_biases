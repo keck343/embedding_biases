{
 "cells": [
  {
   "cell_type": "code",
   "execution_count": 23,
   "metadata": {},
   "outputs": [],
   "source": [
    "import gensim\n",
    "import os\n",
    "import codecs\n",
    "import re\n",
    "import string\n",
    "import io\n",
    "import numpy as np\n",
    "import warnings\n",
    "warnings.filterwarnings('ignore')"
   ]
  },
  {
   "cell_type": "code",
   "execution_count": 24,
   "metadata": {},
   "outputs": [],
   "source": [
    "# formating corpus\n",
    "os.chdir('/Users/7of9/Documents/Word2Vec/')\n",
    "f = open('FOX/DocList.txt', 'r')\n",
    "fox_list = f.readlines()\n",
    "os.chdir('FOX/')\n",
    "fox_files = []\n",
    "for file in fox_list:\n",
    "    file = file.split(\"\\\\\")[0] + \"/\" + file.split(\"\\\\\")[1]\n",
    "    file = file.replace(\"\\n\", \"\")\n",
    "    fox_files.append(file)\n"
   ]
  },
  {
   "cell_type": "code",
   "execution_count": 27,
   "metadata": {},
   "outputs": [],
   "source": [
    "import nltk\n",
    "from nltk.stem.porter import *\n",
    "\n",
    "def words(text):\n",
    "    regex = re.compile('[' + '–' + re.escape(string.punctuation) + '0-9\\\\r\\\\t\\\\n]')   \n",
    "    text = regex.sub(\" \", text)\n",
    "    words = text.split()\n",
    "    wordsL = [word.lower() for word in words]\n",
    "    stemmer = PorterStemmer()\n",
    "    stemmed = [stemmer.stem(word) for word in wordsL]\n",
    "    return(stemmed)"
   ]
  },
  {
   "cell_type": "code",
   "execution_count": 29,
   "metadata": {},
   "outputs": [],
   "source": [
    "# https://stackoverflow.com/questions/7691514/extracting-text-from-xml-using-python\n",
    "# preparing corpus for Word2Vec\n",
    "from xml.etree import cElementTree as ET\n",
    "from bs4 import BeautifulSoup\n",
    "\n",
    "#os.chdir('Raw/')\n",
    "fox_docs = []\n",
    "for text in fox_files[20:]:\n",
    "    with open(text) as f:\n",
    "        soup = BeautifulSoup(f, 'xml')\n",
    "    content = soup.find_all('TEXT')\n",
    "    fox_docs.append(words(str(content).replace('TEXT', '')))"
   ]
  },
  {
   "cell_type": "code",
   "execution_count": 50,
   "metadata": {},
   "outputs": [],
   "source": [
    "# Creating Multiple Word2Vec Models\n",
    "from gensim.models import Word2Vec\n",
    "\n",
    "fox_models = []\n",
    "for i in range(10):\n",
    "    fox_models.append(Word2Vec(fox_docs, min_count=1, size=300))"
   ]
  },
  {
   "cell_type": "code",
   "execution_count": 51,
   "metadata": {},
   "outputs": [
    {
     "data": {
      "text/plain": [
       "array([ 0.04063547,  0.01316679, -0.00557441, -0.06230384, -0.0132723 ,\n",
       "       -0.02259594,  0.04358752,  0.03321808,  0.04466537,  0.08241895,\n",
       "       -0.03553206,  0.05473089,  0.10403603, -0.04959665, -0.02707661,\n",
       "        0.0314827 ,  0.04837343, -0.14079328,  0.02665066, -0.0482365 ,\n",
       "        0.01357561,  0.0242806 , -0.12222427, -0.10770872, -0.04159199,\n",
       "        0.12560417, -0.03541125, -0.15054551, -0.04977736, -0.09915876,\n",
       "        0.08531117, -0.06451252, -0.0250667 , -0.00303152,  0.08958578,\n",
       "        0.06255117, -0.01242691,  0.06055062, -0.02829386, -0.11695766,\n",
       "        0.00347739,  0.00065887, -0.0292082 ,  0.00186145,  0.010423  ,\n",
       "        0.07236429,  0.0345329 ,  0.00892127,  0.02496287,  0.02605209,\n",
       "        0.13989684, -0.00429447, -0.00018508,  0.06162474, -0.07254846,\n",
       "       -0.09879389, -0.04704352,  0.02212003,  0.01781655, -0.01520075,\n",
       "       -0.07433799,  0.05223632, -0.09191015,  0.00018296, -0.02788164,\n",
       "        0.04892144, -0.05730559, -0.0453511 , -0.03185068,  0.0436341 ,\n",
       "       -0.04267243, -0.02635783,  0.0227821 ,  0.01953292, -0.01554151,\n",
       "        0.02086592,  0.00924301, -0.00948391, -0.04217737,  0.03080483,\n",
       "       -0.03470987, -0.00260581,  0.08689034, -0.02299456,  0.04174231,\n",
       "       -0.02416058,  0.03583604, -0.0372261 ,  0.01217002, -0.09808764,\n",
       "        0.01356152, -0.07507975,  0.06565964, -0.04903032,  0.02148885,\n",
       "       -0.02537221,  0.01470877,  0.00954661, -0.02861389,  0.08347181,\n",
       "        0.0211301 , -0.03394562, -0.00388868,  0.01951487,  0.05455205,\n",
       "       -0.04240492,  0.0459165 ,  0.04889208, -0.1015745 , -0.09458289,\n",
       "       -0.04076892, -0.03986604, -0.00207633,  0.02885318, -0.09506036,\n",
       "        0.02370214, -0.00977947, -0.12199824, -0.04585204,  0.00048947,\n",
       "       -0.04532159, -0.10425983, -0.00030828,  0.01227781, -0.12266999,\n",
       "        0.09552928,  0.05794513,  0.03473984, -0.01787272, -0.03588177,\n",
       "       -0.02088419, -0.03499689,  0.061672  , -0.04720341, -0.01382302,\n",
       "       -0.03170176, -0.04931292, -0.03800136,  0.02427356, -0.01185919,\n",
       "        0.01248314,  0.04041658, -0.0286662 , -0.01682411, -0.01024256,\n",
       "       -0.02762226, -0.02364112, -0.04544941, -0.063865  ,  0.06777257,\n",
       "        0.07004099,  0.01282403,  0.11603183, -0.02054563, -0.01003854,\n",
       "       -0.11801009,  0.05424258, -0.01639271,  0.04110743, -0.0283106 ,\n",
       "       -0.07356726,  0.0159063 ,  0.08605145,  0.01933688, -0.03899287,\n",
       "        0.05452329,  0.00049324, -0.00209564, -0.10453948, -0.03108935,\n",
       "       -0.00215864,  0.06377892,  0.03231831, -0.00051376, -0.04167696,\n",
       "        0.00356734, -0.11303753,  0.05419609, -0.04557154, -0.01268555,\n",
       "        0.06816295, -0.0441225 , -0.06310099,  0.03410321,  0.01905018,\n",
       "        0.00948635,  0.03551659,  0.02295788,  0.02211514,  0.09765771,\n",
       "       -0.05409223,  0.02112181,  0.01003563,  0.04366604,  0.04532775,\n",
       "        0.05596334, -0.03232725,  0.00633885,  0.02928089,  0.01044269,\n",
       "       -0.00949867, -0.03566083,  0.01905328,  0.02365078, -0.00593176,\n",
       "        0.03054233,  0.08020505, -0.07988925,  0.07641356, -0.01365905,\n",
       "       -0.04149892, -0.06103408, -0.12689856, -0.02876963, -0.02567022,\n",
       "       -0.00227326, -0.00194567,  0.01355764,  0.04822041,  0.01678297,\n",
       "       -0.03705066,  0.01595394, -0.06776941, -0.0662162 , -0.01872298,\n",
       "        0.03344443, -0.02819398,  0.03900503, -0.11127989, -0.00987514,\n",
       "       -0.04378745, -0.03359922,  0.00361292,  0.03249253,  0.07763219,\n",
       "       -0.0107934 ,  0.04073524, -0.10435897, -0.09969255,  0.04817712,\n",
       "        0.05604579, -0.03051674,  0.04951775,  0.09802583,  0.06915155,\n",
       "        0.03405626,  0.02837367, -0.05783971,  0.03337418,  0.07143766,\n",
       "        0.02528509,  0.04502859, -0.03977929,  0.03000793, -0.04241655,\n",
       "        0.01439309, -0.10562441,  0.03733723, -0.00867474, -0.0250558 ,\n",
       "        0.0432189 , -0.01671401, -0.03040346, -0.05060875, -0.03450479,\n",
       "       -0.0230819 , -0.06555487,  0.00211233,  0.0695814 ,  0.05044305,\n",
       "       -0.04530342, -0.01784465, -0.03008918,  0.05101295, -0.07720938,\n",
       "       -0.0346596 , -0.01372807,  0.00521206,  0.02815094,  0.032653  ,\n",
       "       -0.04032191,  0.02282236, -0.01722292, -0.03535801, -0.02515583,\n",
       "        0.0152725 , -0.00995109, -0.01979958, -0.03518956,  0.02809399,\n",
       "        0.09566408, -0.05985491,  0.03961083,  0.01804355,  0.042567  ,\n",
       "        0.04477674,  0.01599377, -0.03102192, -0.07281443, -0.04839739],\n",
       "      dtype=float32)"
      ]
     },
     "execution_count": 51,
     "metadata": {},
     "output_type": "execute_result"
    }
   ],
   "source": [
    "# Difference in the vector for king from model 0 to model 1\n",
    "np.subtract(fox_models[0]['king'],fox_models[1]['king'])"
   ]
  },
  {
   "cell_type": "code",
   "execution_count": 34,
   "metadata": {},
   "outputs": [
    {
     "name": "stdout",
     "output_type": "stream",
     "text": [
      "['shovel', 'snow', 'can', 'take', 'a', 'toll', 'on', 'your', 'bodi', 'particularli', 'heart', 'the', 'american', 'associ', 'said', 'strenuou', 'activ', 'actual', 'increas', 'chanc', 'of', 'have', 'attack', 'and', 'expert', 'say', 'there', 'are', 'some', 'peopl', 'who', 'should', 'never', 'even', 'pick', 'up', 'dr', 'marc', 'gillinov', 'cleveland', 'clinic', '“peopl', 'coronari', 'arteri', 'diseas', 'not', 'perform', '”', '“it', 'trigger', 'it’', 'hard', 'work', 'cold', 'temperatur', 'also', 'contribut', 'to', 'risk', 'becaus', 'it', 'caus', 'tighten', 'blood', 'pressur', 'other', 'factor', 'includ', 'high', 'cholesterol', 'peripher', 'age', 'if', 'you', 'think', 'or', 'experienc', 'short', 'breath', 'discomfort', 'in', 'left', 'arm', 'chest', 'pain', 'seek', 'medic', 'attent', 'immedi', 'lot', 's', 'got', 'be', 'thi', 'sharp', 'knife', 'like', 'could', 'just', 'fact', 'most', 'common', 'descript', 'relat', 'is', 'might', 'feel', 'an', 'eleph', 'sit', 're', 'get', 'stop', 'that', 'put', 'down', 'stay', 'insid', 'for', 'more', 'inform', 'log', 'onto', 'americanheart', 'org', 'student', 'their', 'lunch', 'at', 'barr', 'town', 'elementari', 'school', 'vt', 'agricultur', 'depart', 'friday', 'jan', 'make', 'perman', 'rule', 'allow', 'serv', 'larger', 'portion', 'lean', 'meat', 'whole', 'grain', 'meal', 'ap', 'photo', 'tobi', 'talbot', 'file', 'guidelin', 'restrict', 'size', 'were', 'origin', 'intend', 'combat', 'childhood', 'obes', 'but', 'mani', 'parent', 'complain', 'kid', 'weren', 't', 'enough', 'eat', 'administr', 'establish', 'maximum', 'too', 'limit', 'difficult', 'plan', 'daili', 'elimin', 'temporari', 'basi', 'than', 'year', 'ago', 'thursday', 'offici', 'made', 'chang', 'wa', 'announc', 'by', 'kevin', 'concannon', 'undersecretari', 'food', 'nutrit', 'consum', 'servic', 'he', 'ha', 'deliv', 'promis', 'give', 'nutritionist', 'flexibl', 'when', 'i', 'want', 'look', 'cheryl', 'tieg', 'late', 'she', 'epitom', 'beauti', 'tall', 'thin', 'blond', 'stand', 'feet', 'with', 'dark', 'brown', 'eye', 'hair', 'strong', 'eyebrow', 'couldn', 'ani', 'differ', 'spent', 'time', 'bad', 'about', 'what', 'wasn', 'then', 'saw', 'ali', 'macgraw', 'movi', 'love', 'stori', 'those', 'thick', 'eyebrows—i', 'final', 'recogn', 'possibl', 'my', 'own', 'health', 'com', 'healthi', 'skin', 'today', 'am', 'troubl', 'societi', 'definit', 'm', 'sure', 'how', 'start', 'breed', 'older', 'women', 'noth', 'grew', 'admir', 'grandmoth', 'helen', 'hay', 'jessica', 'tandi', 'seem', 'everywher', 'turn', 'alter', 'eras', 'everyth', 'mother', 'natur', 'gave', 'them', 'sad', 'thing', 'don', 'younger', 'untouch', 'peer', 'whi', 'do', 'so', 'rid', 'featur', 'uniqu', 'favor', 'cosmet', 'surgeri', 'enhanc', 'cooki', 'cutter', 'we', 'choic', 'buy', 'into', 'these', 'imag', 'consciou', 'decis', 'true', 'isn', 'supermodel', 'remember—they', 'freak', 'twenti', 'someth', 'barbi', 'doll', 'accept', 'good', 'hope', 've', 'learn', 'will', 'help', 'see', 'winter', 'annoy', 'solv', 'obsess', 'instead', 'worri', 'flaw', 'yourself', 'focu', 'right', 'tell', 'come', 'makeup', 'counter', 'fixat', 'shape', 'one', 'they', 'overlook', 'els', 'woman', 'ask', 'me', 'her', 'nose', 'smaller', 'point', 'out', 'amaz', 'smile', 'show', 'lip', 'lipstick', 'gloss', 'often', 'pleasantli', 'surpris', 'live', 'present', 'wast', 'much', 'energi', 'use', 'appreci', 'now', 'no', 'sens', 'pass', 'll', 'back', 'from', 'realiz', 'young', 'fresh', 'hate', 'teenag', 'wore', 'long', 'sleev', 'shirt', 'pictur', 'myself', 'day', 'fine', 'would', 'save', 'adolesc', 'angst', 'had', 'best', 'rather', 'tri', 'fight', 'worst', 'way', 'cope', 'stress', 'go', 'flow', 'incred', 'line', 'face', 'word', 'proof', 'life', 'laugh', 'express', 'ourselv', 'all', 'away', 'end', 'plastic', 'mannequin', 'tip', 'littl', 'conceal', 'blush', 'wonder', 'charg', 'fit', 'commit', 'smart', 'exercis', 'regularli', 'requir', 'quick', 'fix', 'better', 'over', 'term', 'old', 'still', 'version', 'encourag', 'pursu', 'self', 'bobbi', 'lifestyl', 'editor', 'keep', 'follow', 'everythingbobbi', 'http', 'www', 'articl', 'appear', 'istock', 'aspir', 'solidifi', 'survey', 'british', 'psychologist', 'richard', 'wiseman', 'found', 'nearli', 'percent', 'resolut', 'don’t', 'stick', 'invok', 'question', 'creat', 'endur', 'posit', 'crucial', 'notic', 'chief', 'barrier', 'improv', 'our', 'rigid', 'first', 'month', 'as', '‘new', 'beginnings’', 'may', 'everi', 'hear', 'patient', 'persuas', '“on', 'monday', 'i’ll', 'diet', '“after', 'birthday', 'begin', '“tomorrow', 'product', '“when', 'i’m', 'smoke', 'cigarett', '“at', 'pm', 'internet', 'surfing…”', 'yet', 'need', 'wait', 'set', 'date', 'embark', 'import', 'such', 'marker', 'mean', 'lose', 'off', 'medit', 'recent', 'decid', 'seriou', 'resolv', 'practic', 'minut', 'each', 'decemb', 'st', 'sinc', 'miss', 'coupl', 'despit', 'whenev', 'facilit', 'build', 'mind', 'until', 'next', 'meet', 'goal', 'onli', 'procrastin', 'bought', 'dri', 'board', 'kitchen', 'track', 'which', 'yoga', 'engag', 'cardio', 'act', 'kind', 'check', 'provid', 'opportun', 'pretti', 'hopeless', 'chart', 'januari', 'monitor', 'behavior', 'cornerston', 'cognit', 'therapi', 'scientif', 'base', 'new', 'year’', 'onc', 'moment', 'setback', 'imperfect', 'human', 'courag', 'again', 'here', 'four', 'maxim', 'big', 'intent', 'illustr', 'let’', 'imagin', 'small', 'move', 'toward', 'valu', 'perhap', 'step', 'record', 'sleep', 'wake', 'seven', 'hour', 'night', 'dure', 'honest', 'report', 'bed', 'rate', 'observ', 'thought', '“it’', 'weekend', '“i’ll', 'bother', 'stuck', 'type', 'listen', 'ok', 'you’v', 'unproduct', 'week', 'been', 'lost', 'isn’t', 'airplan', 'where', 'either', 'non', 'refund', 'flight', 'cheer', 'jennif', 'taitz', 'licens', 'york', 'citi', 'author', 'emot', 'dialect', 'skill', 'develop', 'relationship', 'visit', 'websit', 'drjennytaitz', 'find', 'facebook', 'twitter', 'becom', 'damag', 'heal', 'properli', 'surgeon', 'graft', 'procedur', 'involv', 'transplant', 'site', 'condit', 'sever', 'burn', 'ulcer', 'biopsi', 'surgic', 'wound', 'infect', 'determin', 'whether', 'split', 'full', 'depend', 'depth', 'area', 'cover', 'after', 'anesthesia', 'instrument', 'call', 'dermatom', 'remov', 'veri', 'slice', 'scalpel', 'layer', 'clean', 'unhealthi', 'tissu', 'place', 'stitch', 'secur', 'finish', 'doctor', 'prescrib', 'direct', 'protect', 'advic', 'sink', 'teeth', 'polish', 'chocol', 'nut', 'blueberri', 'wine', 'longer', 'studi', 'journal', 'research', 'polyphenol', 'antioxid', 'chemic', 'plant', 'reduc', 'overal', 'mortal', 'compar', 'subject', 'whose', 'contain', 'low', 'amount', 'known', 'while', 'link', 'reduct', 'cancer', 'diabet', 'regul', 'immun', 'system', 'anti', 'inflammatori', 'carcinoget', 'properti', 'cristina', 'andr', 'lacueva', 'lower', 'die', 'cocoa', 'anxieti', 'didn', 'know', 'exactli', 'accord', 'magic', 'least', 'mg', 'five', 'six', 'doesn', 'chow', 'head', 'broccoli', 'read', 'key', 'recommend', 'varieti', 'sourc', 'luckili', 'drink', 'chock', 'proven', 'benefit', 'superpow', 'list', 'item', 'favorit', 'child', 'autism', 'development', 'delay', 'disabl', 'brush', 'floss', 'dentist', 'realli', 'challeng', 'oral', 'hygien', 'especi', 'special', 'children', 'typic', 'caviti', 'dental', 'problem', 'gum', 'trauma', 'difficulti', 'effect', 'malform', 'physic', 'mental', 'abil', 'abl', 'themselv', '“they', 'accumul', 'plaqu', 'bacteria', 'steven', 'g', 'goldberg', 'inventor', 'dentalvib', 'inject', 'comfort', 'feed', 'periodont', 'uncontrol', 'movement', 'bite', 'cheek', 'tongu', 'certain', 'sugar', 'content', 'swollen', 'likewis', 'tube', 'failur', 'thrive', 'suscept', 'gingiv', 'inflamm', 'tartar', 'rebecca', 'slayton', 'director', 'chair', 'nation', 'foundation’', 'advisori', 'addit', 'avers', 'textur', 'stimul', 'tast', 'toothpast', 'hi', 'home', 'free', 'easi', 'toothbrush', 'bicycl', 'handl', 'spongi', 'hold', 'alway', 'supervis', 'doesn’t', 'water', 'gauz', 'fun', 'earlier', 'pleasant', 'experi', 'easier', 'habit', 'fern', 'ingber', 'presid', 'ceo', 'foundat', 'america', 'toothfairi', 'cooper', 'distract', 'him', 'music', 'earli', 'child’', 'erupt', 'pediatr', 'explain', '“if', 'compassion', 'great', 'ahead', 'dentist’', 'appoint', 'staff', 'specif', 'offic', 'extra', 'hand', 'cannot', 'altern', 'paperwork', 'beforehand', 'send', 'bring', 'copi', 'insur', 'card', 'object', 'expect', 'blanket', 'toy', 'they’r', 'afraid', 'prepar', 'talk', 'tilt', 'tool', 'lap', 'someon', 'touch', 'mouth', 'hover', 'scari', 'unless', 'you’r', 'phrase', 'teach', '“open', 'wipe', 'gel', 'rins', 'xylitol', 'significantli', 'less', 'administ', 'alreadi', 'suggest', 'antimicrobi', 'custom', 'tray', 'peroxid', 'two', 'method', 'prevent', 'juli', 'revel', 'freelanc', 'writer', 'copywrit', 'healthcar', 'issu', 'she’', 'mom', 'revelantwrit', 'sky', 'news', 'man', 'centimet', 'nail', 'embed', 'skull', 'accid', 'idea', 'carri', 'ct', 'scan', 'chines', 'name', 'local', 'media', 'mr', 'yang', 'cut', 'machin', 'happen', 'flew', 'rip', 'hole', 'told', 'went', 'sick', 'discov', 'penetr', 'socket', 'click', 'au', 'caregiv', 'warren', 'manchess', 'shave', 'paul', 'gregolin', 'noblesvil', 'ind', 'darron', 'cum', 'lie', 'await', 'helper', 'bath', 'groom', 'alzheim', 'task', 'aid', 'arriv', 'though', 'client', 'himself', 'bald', 'bespectacl', 'geezer', 'joke', 'demand', 'senior', 'nurs', 'worker', 'grow', 'babi', 'boomer', 'profess', 'employ', 'network', 'increasingli', 'wrinkl', 'among', 'popul', 'care', 'project', 'decad', 'analysi', 'paraprofession', 'institut', 'phi', 'nonprofit', 'advoc', 'countri', 'elderli', 'segment', 'workforc', 'person', 'largest', 'singl', 'demograph', 'abbi', 'marquand', 'chronic', 'muster', 'tax', 'came', 'retir', 'law', 'whom', 'regard', 'hero', 'inspir', 'career', 'three', 'hous', 'electrician', 'wife', 'break', 'dress', 'breakfast', 'quickli', 'remedi', 'doe', 'laundri', 'swaddl', 'warm', 'towel', 'dryer', 'sport', 'page', 'updat', 'belov', 'bear', 'sometim', 'pull', 'domino', 'puzzl', 'sedat', 'afternoon', 'relax', 'occasion', 'offer', 'glimps', 'trademark', 'wit', 'rememb', 'anyth', 'armi', 'bitch', 'outsid', 'respond', 'freez', 'ass', 'describ', 'abras', 'around', 'conscienc', 'men', 'eas', 'past', 'asset', 'advantag', 'convers', 'ach', 'hit', 'well', 'mayb', 'ordinari', 'agenc', 'burgeon', 'share', 'third', 'angel', 'anoth', 'built', 'entir', 'model', 'hire', 'occup', 'growth', 'driven', 'trend', 'later', 'turnov', 'constant', 'shown', 'willing', 'field', 'tough', 'job', 'market', 'supplement', 'incom', 'fastest', 'u', 'notori', 'pay', 'injuri', 'spinal', 'vacuum', 'continu', 'acknowledg', 'halfway', 'through', 'shift', 'weari', 'air', 'forc', 'pilot', 'real', 'estat', 'bu', 'driver', 'befor', 'profession', 'contentedli', 'nibbl', 'ham', 'sandwich', 'wrap', 'reflect', 'consid', 'reward', 'neurologist', 'suffer', 'concuss', 'boston', 'children’', 'hospit', 'conclud', 'athlet', 'avoid', 'both', 'globe', '“those', 'symptom', 'prefer', 'rest', 'anyway', 'co', 'william', 'meehan', '“but', 'mild', 'resum', 'recoveri', 'team', 'treat', 'receiv', 'play', 'player', 'took', 'heavi', 'quickest', 'nausea', 'dizzi', 'headach', 'did', 'specifi', 'ideal', 'few', '“for', 'aim', 'zero', 'level', 'complet', '“cognit', 'rest”', 'refrain', 'homework', 'text', 'video', 'game', 'mcdonald', 'logo', 'restaur', 'fillmor', 'district', 'san', 'francisco', 'california', 'reuter', 'robert', 'galbraith', 'mcdonald’', 'iowa', 'scienc', 'teacher', 'john', 'cisna', 'pound', 'drop', 'wasn’t', 'documentari', '’s', 'super', 'ate', 'calori', 'design', 'within', 'nutrient', 'carbohydr', 'fat', 'walk', 'cours', 'us', 'tv', 'station', 'kcci', '“not', 'bottl', 'pandemrix', 'h', 'n', 'flu', 'vaccin', 'r', 'adjuv', 'l', 'center', 'burgo', 'spain', 'novemb', 'felix', 'ordonez', 'suppos', 'simpl', 'against', 'swine', 'chloe', 'glasson', 'dream', 'given', 'schoolgirl', 'disord', 'narcolepsi', 'without', 'warn', 'fall', 'asleep', 'wherev', 'class', 'potenti', 'danger', 'dreamlik', 'autopilot', 'state', 'journey', 'eventu', 'safe', 'terrifi', 'famili', 'contact', 'polic', 'amid', 'fear', 'pioneer', 'treatment', 'normal', 'pattern', 'specialist', 'drug', 'sodium', 'oxyb', 'cost', 'royal', 'edinburgh', 'hypothermia', 'defin', 'profound', 'cool', 'core', 'degre', 'fahrenheit', 'signific', 'impact', 'disori', 'hallucin', 'produc', 'atyp', 'exacerb', 'interf', 'judgment', 'irregular', 'intervent', 'ultim', 'result', 'death', 'brain', 'slow', 'involuntari', 'muscl', 'contract', 'manufactur', 'heat', 'measur', 'expos', 'extrem', 'frigid', 'trifecta', 'wet', 'wind', 'sunni', 'same', 'windi', 'weather', 'precaut', 'hike', 'camp', 'ski', 'otherwis', 'spend', 'outdoor', 'partner', 'cell', 'phone', 'walki', 'talki', 'enabl', 'signal', 'manni', 'alvarez', 'fox', 'channel', 'fnc', 'manag', 'prior', 'contributor', 'rower', 'genevra', 'stone', 'gym', 'massachusett', 'march', 'brian', 'snyder', 'femal', 'marin', 'boot', 'press', 'confirm', 'corp', 'implement', 'standard', 'yearli', 'test', 'recruit', 'south', 'carolina', 'mass', 'upper', 'tim', 'hewett', 'medicin', 'ohio', 'univers', 'wexner', 'magnet', 'reson', 'mri', 'gener', 'vs', 'strength', 'closer', 'account', 'glare', 'individu', 'certainli', 'last', 'hardli', 'eight', 'gawker', 'becam', 'infantri', 'train', 'toughest', 'militari', 'copyright', 'livesci', 'techmedianetwork', 'compani', 'reserv', 'materi', 'publish', 'broadcast', 'rewritten', 'redistribut', 'let', 'situat', 'legit', 'midnight', 'hey', 'hungri', 'angela', 'lemond', 'd', 'academi', 'dietet', 'trick', 'munch', 'fare', 'won', 'spike', 'incit', 'crave', 'pack', 'light', 'fill', 'combo', 'tide', 'till', 'morn', 'snack', 'under', 'medium', 'banana', 'tablespoon', 'almond', 'butter', 'appl', 'ounc', 'chees', 'cup', 'black', 'bean', 'corn', 'tortilla', 'plain', 'yogurt', 'carrot', 'hummu', 'power', 'million', 'adult', 'alcohol', '“vital', 'signs”', 'control', 'cdc', 'drinker', 'advers', 'affect', 'tom', 'frieden', 'quarter', '“bing', 'excess', '“high', 'averag', 'drinkers”', 'per', 'pregnant', 'drive', 'car', 'oper', 'machineri', 'estim', 'economi', 'billion', 'numer', 'social', 'brief', 'screen', 'number', 'patient’', 'consumpt', 'discuss', 'futur', 'routin', 'part', '“in', 'appropri', 'jonathan', 'serri', 'join', 'april', 'current', 'correspond', 'atlanta', 'bureau', 'anyon', 'allergi', 'epinephrin', 'auto', 'injector', 'between', 'approxim', 'half', 'epipen', 'auvi', 'qs', 'circul', 'colleagu', 'nationwid', 'ensur', '—', 'sign', 'barack', 'obama', 'nov', 'financi', 'incent', 'stock', 'prescript', 'action', 'reason', 'fromsever', 'instruct', 'written', 'verbal', 'correctli', 'devic', 'safeti', 'cap', 'fist', 'syring', 'thumb', 'orang', 'needl', 'appli', 'swing', 'bit', 'deploy', 'directli', 'thigh', 'near', 'outer', 'angl', 'straight', 'firmli', 'second', 'massag', 'leav', 'pant', 'necessari', 'strang', 'allerg', 'reaction', 'emerg', 'wear', 'repeat', 'dose', 'refil', 'note', 'inhal', 'albuterol', 'antihistamin', 'benadryl', 'avail', 'doubt', 'store', 'refriger', 'hot', 'kept', 'room', 'liquid', 'pen', 'clear', 'discolor', 'float', 'speck', 'watch', 'q', 'view', 'necessarili', 'collaps', 'jog', 'prospect', 'park', 'brooklyn', 'identifi', 'lb', 'suddenli', 'eve', 'p', 'rush', 'methodist', 'critic', 'victim', 'blue', 'jacket', 'adida', 'sneaker', 'outdoorsmicrogen', 'gmail', 'newli', 'instat', 'fail', 'public', 'knock', 'shouldn’t', 'discourag', 'polli', 'de', 'mill', 'physiologist', 'haven’t', '“i', 'fellow', 'soldier', 'hurt', 'foxnew', '“realiz', 'bigger', 'target', 'program', 'aren’t', 'women’', 'men’', 'woman’', 'usual', 'body…their', 'hip', 'leg', 'tend', 'heavier', 'shoulder', 'broader', 'narrow', 'higher', 'bulk', 'locat', 'lift', 'herself', 'hormon', 'testosteron', 'harder', 'weight', 'order', 'heavili', 'strengthen', '“your', 'stabl', '“you’r', 'abdomin', 'stabil', 'plank', 'bar', 'smooth', 'motion', 'mid', 'bicep', 'forearm', 'revers', 'group', 'composit', 'swim', 'row', 'boost', 'that’', 'vari', 'easili', 'progress', 'who’v', 'struggl', 'we’r', 'genet', 'disadvantag', 'doabl', 'understand', 'brought', 'statist', 'annual', 'ac', 'steadili', 'declin', 'equat', 'decreas', 'sub', 'stride', '“between', 'translat', 'period', 'lead', 'ahmedin', 'jemal', 'vice', 'surveil', 'interest', 'substanti', 'middl', 'util', 'case', 'data', 'compil', 'remain', 'unit', 'incid', 'somewhat', 'almost', 'paint', 'accur', 'interpret', '“they’r', 'detect', 'techniqu', 'accident', 'attribut', 'occur', '“', 'primarili', 'due', '“primarili', 'there’', 'major', 'breast', 'colorect', 'howev', 'although', 'lung', 'deadliest', 'form', 'colon', 'prostat', 'respons', '“ye', 'overweight', '“we', 'quit', '…', 'maintain', 'diet…', 'ca', 'clinician', 'along', 'companion', 'figur', 'glass', 'okay', 'fetal', 'spectrum', 'rang', 'indic', 'moder', 'pregnanc', 'copenhagen', 'denmark', 'janni', 'niclasen', 'conduct', 'danish', 'birth', 'cohort', 'larg', 'gather', 'drank', 'niclasen’', 'further', 'topic', 'sociolog', 'mothers’', 'psycholog', 'variabl', 'connect', 'intellig', 'wari', 'philadelphia', 'urban', 'outfitt', 'fire', 'offens', 'piec', 'cloth', 'controversi', 'depress', 'price', 'shopper', 'distast', 'tweet', 'absolut', 'disgust', 'sell', 'disgrac', 'battl', 'evid', 'support', 'mood', 'substanc', 'quietli', 'wrote', 'madhav', 'goyal', 'email', 'awar', 'approach', 'led', 'hopkin', 'baltimor', 'write', 'jama', 'intern', 'emphas', 'concentr', 'whatev', 'enter', 'sound', 'environ', 'focus', 'mantra', 'particular', 'sort', 'search', 'electron', 'databas', 'catalog', 'trial', 'randomli', 'assign', 'random', 'gold', 'particip', 'met', 'criteria', 'combin', 'similar', 'antidepress', 'tie', 'surpass', 'confid', 'qualiti', 'influenc', 'role', 'address', 'allan', 'gorol', 'editori', 'accompani', 'exampl', 'belief', 'complimentari', 'vitamin', 'undergo', 'slim', 'professor', 'harvard', 'conceiv', 'path', 'travel', 'gain', 'insight', 'side', 'sext', 'sexual', 'mobil', 'technolog', 'christoph', 'houck', 'rhode', 'island', 'bradley', 'hasbro', 'refer', 'nude', 'seminud', 'explicit', 'messag', 'previou', 'teen', 'admit', 'caution', 'youth', 'initi', 'questionnair', 'attempt', 'riski', 'sent', 'puberti', 'process', 'somebodi', 'genit', 'vagin', 'sex', 'add', 'literatur', 'offlin', 'onlin', 'blur', 'jeff', 'templ', 'obstetr', 'gynecolog', 'texa', 'branch', 'galveston', 'reinforc', 'guardian', 'ongo', 'portfolio', 'nake', 'throughout', 'lifespan', 'mileston', 'broach', 'open', 'pediatrician', 'threaten', 'strategi', 'undo', 'holiday', 'indulg', 'won’t', 'fizzl', 'februari', 'post', 'below', 'quest', 'shed', 'fast', 'confus', 'top', '“what', 'everyon', 'overwhelm', 'myriad', 'popular', 'swear', 'drastic', 'detox', 'cleans', 'ditch', 'carb', 'caveman', 'gluten', 'vegan', 'counsel', 'backfir', 'fruit', 'veggi', 'fatigu', 'intens', 'ultra', 'trendi', 'bing', 'bread', 'sweet', '“just', 'didn’t', 'right”', 'readi', 'chosen', 'loss', 'tactic', 'gut', 'sane', 'sustain', 'structur', 'trade', 'homemad', 'consist', 'swap', 'spaghetti', 'squash', 'motiv', 'perspect', 'doubl', 'digit', 'assum', 'melt', 'shorten', 'round', 'tub', 'frame', 'huge', 'flip', 'far', 'faster', 'regain', 'matter', 'hung', 'jean', 'looser', 'clearer', 'facial', 'puffi', 'etc', 'white', 'derail', 'superfood', 'bloat', 'adopt', 'cleaner', 'healthier', 'intak', 'lentil', 'consider', 'fiber', 'broken', 'absorb', 'gi', 'tract', 'stream', 'digest', 'push', 'plenti', 'lessen', 'belli', 'balk', 'muffin', 'scone', 'oatmeal', 'rounder', 'upgrad', 'worth', 'expans', 'adjust', 'info', 'pitfal', 'lack', 'probabl', 'friend', 'member', 'cowork', 'sanction', 'skip', 'tempt', 'revolv', 'pizza', 'redbox', 'dinner', 'sabotag', 'boat', 'via', 'celebr', 'success', 'regular', 'pat', 'song', 'download', 'app', 'flower', 'desk', 'empow', 'closest', 'hinder', 'ts', 'deal', 'pusher', 'slip', 'regardless', 'revamp', 'you’ll', 'truth', 'tire', 'cook', 'throw', 'plu', 'sooth', 'escap', 'mad', 'boss', 'boyfriend', 'forego', 'urg', 'reach', 'beyond', 'wagon', 'perfect', '“off”', 'streak', 'strict', 'equal', 'greater', 'cynthia', 'sass', 'regist', 'dietitian', 'master’', 'frequent', 'seen', 'health’', 'privat', 'lo', 'distanc', 'consult', 'ranger', 'nhl', 'tampa', 'bay', 'ray', 'mlb', 'certifi', 'latest', 'seller', 'conquer', 'inch', 'undat', 'lorena', 'mckinnon', 'julia', 'navarro', 'womb', 'daughter', 'born', 'provo', 'utah', 'grandchild', 'gestat', 'surrog', 'son', 'fertil', 'began', 'husband', 'micah', 'dozen', 'miscarriag', 'longest', 'sister', 'salt', 'lake', 'tribun', 'ly', 'cae', 'shot', 'embryo', 'implant', 'girl', 'surrogaci', 'arrang', 'knew', 'mostli', 'weird', 'unclear', 'rare', 'detail', 'twin', 'granddaught', 'main', 'grandson', 'grate', 'obstacl', 'burden', 'must', 'marri', 'payment', 'bond', 'truli', 'astound', 'discoveri', 'valproic', 'acid', 'depakot', 'assimil', 'concept', 'seizur', 'bipolar', 'neuron', 'plasticity—help', 'remodel', 'recov', 'acut', 'takao', 'hensch', 'molecular', 'cellular', 'biolog', 'divid', 'volunt', 'placebo', 'ear', 'variou', 'tones—to', 'essenc', 'pitch', 'score', 'hensch’', 'acquir', 'capac', 'languag', 'math', 'artist', 'dementia', 'liver', 'henc', 'function', 'rise', 'toxic', 'drosi', 'tremor', 'done', 'keith', 'ablow', 'psychiatrist', 'keithablow', 'swiss', 'drugmak', 'roch', 'factori', 'burgdorf', 'bern', 'switzerland', 'pascal', 'lauener', 'effici', 'complex', 'antibodi', 'rais', 'innov', 'shuttl', 'mice', 'cross', 'neurolog', 'seal', 'molecul', 'fatal', 'worldwid', 'tripl', 'campaign', 'modifi', 'eli', 'lilli', 'merck', 'johnson', 'root', 'prove', 'uphil', 'experiment', 'industri', 'analyst', 'believ', 'prize', 'sale', 'hijack', 'transport', 'mechan', 'receptor', 'mediat', 'transcytosi', 'transfer', 'protein', 'basic', 'modul', 'bind', 'cargo', 'luca', 'santarelli', 'neurosci', 'ophthalmolog', 'telephon', 'interview', 'wednesday', 'amyloid', 'hallmark', 'precursor', 'gantenerumab', 'pre', 'fiftyfold', 'memori', 'rob', 'neurodegen', 'huntington', 'evalu', 'therapeut', 'priorit', 'struck', 'biotech', 'firm', 'isi', 'engin', 'irish', 'prothena', 'parkinson', 'undertak', 'pipelin', 'phase', 'iii', 'crenezumab', 'govern', 'colombian', 'mutat', 'forti', 'pneumococc', 'fever', 'healthday', 'separ', 'latter', 'outweigh', 'simultan', 'influenza', 'melissa', 'stockwel', 'assist', 'columbia', 'releas', 'ad', 'win', 'contest', 'haven', 'payoff', 'friendship', 'peter', 'delani', 'abus', 'samhsa', 'rockvil', 'maryland', 'mir', 'underag', 'consequ', 'thousand', 'analyz', 'th', 'grader', 'drunk', 'connected', 'abstain', 'behind', 'addict', 'academ', 'instanc', 'paper', 'boy', 'neighborhood', 'indirectli', 'resist', 'attitud', 'joseph', 'allen', 'virginia', 'charlottesvil', 'plagu', 'civic', 'debat', 'adulthood', 'convinc', 'terribl', 'event', 'promin', 'world', 'resourc', 'navig', 'handbook', 'usa', 'gov', 'jhyeec', 'ruth', 'ravv', 'arctic', 'blast', 'plummet', 'midwest', 'thermomet', 'neg', 'chill', 'person’', 'frostbitten', 'scare', 'josh', 'spagolli', 'runner', 'gear', 'street', 'mile', 'trek', 'run', 'rain', 'sentiment', 'echo', 'persever', 'frosti', 'evanston', 'illinoi', 'club', 'bill', 'hagu', 'david', 'miller', 'patrick', 'mchugh', 'bitter', 'pavement', 'sun', 'waist', 'abov', 'simpli', 'endorphin', 'pump', 'joy', 'element', 'ego', 'pride', 'brendan', 'cournan', 'coach', 'compet', 'race', 'streaker', 'consecut', 'extend', '‘streakers’', 'jenni', 'hadfield', 'founder', 'coachjenni', 'brag', 'agre', 'exhilar', 'excit', 'tranquil', 'desol', 'surg', 'adrenalin', 'asid', 'ice', 'fewer', 'daylight', 'fall…especi', 'stormi', 'visibl', 'strain', 'tension', 'slipperi', 'terrain', 'glove', 'hat', 'bendabl', 'metal', 'yaktrax', 'bottom', 'shoe', 'clamp', 'sunlight', 'clip', 'band', 'lather', 'vaselin', 'oliv', 'oil', '“alway', 'marathon', 'frozen', 'zone', 'antarctica', 'deepli', 'chicago', 'report’', 'felt', 'general’', 'tobacco', 'effort', '“the', 'watersh', 'levi', 'scientist', 'georgetown', 'lombardi', 'comprehens', '“bi', 'suffici', 'demonstr', 'profoundli', 'individual’', 'smoker', 'ban', 'advertis', 'gaug', 'magnitud', 'people’', 'ill', 'hypothet', '“mani', 'across', 'e', 'benefici', 'switch', '“eight', '“…thi', 'lesson', 'concern', 'educ', 'cisnet', 'fund', 'soft', 'mattress', 'this—now', 'select', 'maker', 'reveal', 'ce', 'la', 'vega', 'x', 'wireless', 'sensor', 'snore', 'button', 'section', 'partner’', 'upward', 'review', 'tech', 'savvi', 'goe', 'queen', 'french', 'defens', 'psychoact', 'marijuana', 'pregnenolon', 'cannabinoid', 'global', 'cannabi', 'organ', 'nestl', 'sa', 'gerber', 'nescaf', 'instant', 'coffe', 'deepen', 'unusu', 'biotechnolog', 'partnership', 'profit', 'obtain', 'dynam', 'inc', 'emmanuel', 'baetg', 'smoothi', 'agreement', 'wouldn', 'disclos', 'cdi', 'execut', 'palay', 'pharmaceut', 'stem', 'matur', 'begun', 'fatti', 'avocado', 'interact', 'applic', 'wall', 'yesterday', 'televis', 'meme', 'roth', 'activist', 'deni', 'clearli', 'mention', 'fallen', 'complic', 'herbal', 'rhythm', 'imbal', 'psychot', 'episod', 'deadli', 'minor', 'hispan', 'african', 'hardwork', 'strive', 'prey', '“miracl', 'drugs”', 'newspap', 'guru', 'toler', 'polici', 'argument', 'shame', 'lazi', 'irrespons', 'solut', 'upon', '“normal', 'ye', 'achiev', 'pace', 'fraudul', 'exist', 'dietari', 'fda', 'fraud', 'letter', 'mandatori', 'taint', 'illicit', 'fals', 'cure', 'scam', 'pharmaci', 'crack', 'con', 'neither', 'nor', 'label', 'sexi', 'bikini', 'coerc', 'dollar', 'answer', 'argu', 'compass', 'judg', 'guilti', 'earn', 'happi', 'grab', 'headlin', 'unexpect', 'america’', 'epidem', 'cisna’', 'menu', 'formula', 'straightforward', 'salad', 'grill', 'chicken', 'egg', 'company’', 'assembl', 'delight', 'sausag', 'burrito', 'bowl', 'mapl', 'milk', 'nutriti', 'dessert', 'opt', 'parfait', 'veget', 'pair', 'trainer', 'pricey', 'spin', 'workout', 'cheap', 'conveni', 'he’', 'lighter', 'slimmer', 'midsect', 'total', 'ldl', '“bad', 'cholesterol”', 'excel', 'faith', 'fad', 'craze', 'suit', 'recip', 'delici', 'book', 'miracl', 'disappear', 'hyperion', 'f', 'putnam', 'tanya', 'zuckerbrot', 'ms', 'rd', 'bestsel', 'linkedin', 'ffactor', 'tanya’', 'weekli', 'newslett', 'harden', 'stroke', 'autoimmun', 'vascular', 'worsen', 'psoriasi', 'arthriti', 'oxid', 'densiti', 'lipoprotein', 'oxldl', 'elev', 'atherosclerosi', 'mous', 'inhibit', 'alon', 'yeonseok', 'chung', 'houston', 'circulatori', 'rheumatoid', 'greatli', 'efficaci', 'immunolog', 'pharmacolog', 'foster', 'farm', 'shut', 'usda', 'cockroach', 'infest', 'fred', 'prouser', 'central', 'feder', 'inspector', 'inspect', 'closur', 'facil', 'livingston', 'sanit', 'fsi', 'deputi', 'abdalla', 'amin', 'ron', 'occas', 'wash', 'egregi', 'insanitari', 'highest', 'prioriti', 'septemb', 'statement', 'pest', 'southeast', 'modesto', 'reopen', 'soon', 'shutdown', 'salmonella', 'fresno', 'safeguard', 'recal', 'advis', 'thoroughli', 'octob', 'outbreak', 'carlo', 'alberto', 'gome', 'portug', 'badwat', 'ultramarathon', 'foot', 'mount', 'whitney', 'luci', 'nicholson', 'exponenti', 'boast', 'plo', 'explor', 'marti', 'hoffman', 'familiar', 'gone', 'valuabl', 'exercise…', 'rehabilit', 'davi', 'eswar', 'krishnan', 'stanford', 'ultrarunn', 'histori', 'incur', 'glanc', '“these', 'wouldn’t', 'hone', 'slightest', 'versu', 'stuff', '“a', 'knee', 'fractur', 'asthma', 'encount', 'fell', 'categori', '“knee', 'concern…liga', 'tendon', 'notabl', 'presum', 'provok', 'allergen', 'obvious', '“let’', 'dead', 'giveaway', 'everybodi', 'assess', 'prone', 'volum', 'cardiac', 'fibrosi', '“there’', 'delv', 'psych', 'tick', 'er', 'sack', 'green', 'packer', 'quarterback', 'aaron', 'rodger', 'nfc', 'wild', 'playoff', 'footbal', 'lambeau', 'mike', 'dinovo', 'blake', 'colleg', 'capguardian', 'thebigspur', 'country’', 'pastim', 'character', 'tackl', 'speed', 'conduc', 'traumat', 'leagu', 'nfl', 'season', '“game', 'exposur', 'taken', '“concuss', 'ainissa', 'ramirez', 'newton’', 'helmet', 'claim', 'helmet’', 'proper', 'presenc', 'altogeth', 'radic', 'spark', 'paradigm', 'dissect', 'blow', 'shaken', 'gelatin', 'slide', 'forth', 'inner', '“imagin', 'shell', 'former', 'yale', 'yolk', 'shake', 'subsid', 'sole', 'deficit', 'multipl', 'player’', 'encephalopathi', 'cte', 'degen', 'impair', 'cantu', 'wreak', 'havoc', 'metabol', 'cat', 'advisor', 'neck', 'spine', 'committe', '“so', 'axon', 'microscop', 'neuropatholog', 'introduc', 'introduct', 'ncaa', 'grown', 'aggress', 'collid', '“you', 'tremend', 'violent', 'profil', 'spoken', 'alex', 'karra', 'detroit', 'lion', 'diagnos', 'xxvi', 'mvp', 'mark', 'rypien', 'suicid', 'junior', 'seau', 'easterl', 'dave', 'duerson', 'highlight', 'surround', '“fine', 'penal', 'crazi', 'inclin', 'rugbi', 'australian', 'soccer', 'mask', 'invinc', 'impetu', 'theori', 'feasibl', 'propos', 'prompt', 'replac', 'deadlier', 'can’t', 'kill', 'naiv', 'safer', 'headgear', 'worn', 'meant', 'creation', 'lacross', 'foam', 'pocket', 'dissip', '“we’v', 'lee', 'hanson', 'creator', 'linear', 'transvers', 'impact…', 'we’v', 'decoupl', 'pad', 'catch', '“footbal', 'web', 'airbag', 'guardiancap', 'prematur', 'bbc', 'duke', 'birth—dur', 'soon—may', 'membran', 'tear', 'ruptur', 'study’', 'antibiot', 'preterm', 'ami', 'murtha', 'gynocolog', 'quirki', 'migrain', 'quantifi', 'relief', 'choos', 'blunt', 'count', 'gram', 'ted', 'kaptchuk', 'beth', 'israel', 'deaco', 'forgo', 'reliev', 'comparison', 'pill', 'envelop', 'rizatriptan', 'dummi', 'neutral', 'secretli', 'mix', 'teas', 'remark', 'untreat', 'fake', 'pure', 'ritual', 'subconsci', 'sham', 'benign', 'document', 'har', 'staci', 'dean', 'phenomenon', 'skew', 'star', 'captain', 'luc', 'picard', 'stab', 'surviv', 'thank', 'invent', 'adhes', 'repair', 'glue', 'stapl', 'jeffrey', 'karp', 'pedro', 'del', 'nido', 'sutur', 'realign', 'bent', 'lock', 'watertight', 'repel', 'polym', 'withstand', 'beat', 'vessel', 'viscos', 'honey', 'patch', 'intestin', 'edg', 'torn', 'togeth', 'collagen', 'shine', 'ultraviolet', 'highli', 'reactiv', 'acryl', 'chain', 'resembl', 'rubber', 'intertwin', 'pig', 'rat', 'insert', 'attach', 'septum', 'atria', 'chamber', 'carotid', 'incis', 'tini', 'anim', 'defect', 'regrow', 'moreov', 'aren', 'compat', 'gecko', 'biomed', 'approv', 'europ', 'minim', 'invas', 'suitabl', 'unfortun', 'membership', 'unus', 'treadmil', 'enjoy', 'huf', 'puf', 'nurtur', 'anywher', 'budget', 'wide', 'checklist', '‘thing', 'necessities’', 'nice', '’', 'locker', 'i‘ll', 'tour', 'caught', 'wow', 'floor', 'parlor', 'front', 'realiti', 'money', 'what’', 'proxim', 'agent', 'access', 'cheaper', 'crunch', 'close', 'workplac', 'dvd', 'traffic', 'netflix', 'candid', 'guest', 'obligatori', 'friendli', 'instructor', 'schedul', 'amen', 'justifi', 'shower', 'examin', 'gym’', 'forese', 'employe', 'technic', 'scoop', 'strike', 'patron', 'opinion', 'yelp', 'unhappi', 'drain', 'gap', 'bridg', 'skinni', 'bone', 'hashtag', 'chan', 'tumbler', 'upload', 'buzzfe', 'quip', 'harri', 'style', 'cent', 'attract', 'australia', 'kimitsu', 'yogachi', 'crawl', 'slept', 'suck', 'insect', 'burrow', 'hendrik', 'helmer', 'unwelcom', 'invad', 'extract', 'forcep', 'unpleas', 'sensat', 'throe', 'twitch', 'ordeal', 'woken', 'poison', 'spider', 'spa', 'recreat', 'pool', 'puerto', 'rico', 'eighteen', 'hotel', 'bacterium', 'pseudomona', 'aeruginosa', 'rash', 'chlorin', 'contamin', 'michel', 'hlavsa', 'epidemiologist', 'waterborn', 'disinfect', 'summer', 'august', 'river', 'spring', 'cryptosporidium', 'parasit', 'diarrhea', 'swimmer', 'preswim', 'swallow', 'wade', 'chorin', 'germ', 'instantli', 'morbid', 'scripp', '“fluid', 'biopsy”', 'biomark', 'bloodstream', 'differenti', 'predict', 'scenario', 'kuhn', 'wrong', 'buildup', '“harden', 'sudden', 'clot', 'endotheli', 'strongli', 'clump', 'block', '“that', 'apart', 'theoriz', 'comput', 'algorithm', '“outliers”', 'hd', 'cec', 'assay', 'sampl', 'technique’', 'cardiovascular', 'forecast', 'cleanli', 'sensit', 'lajolla', 'abandon', 'virtual', 'robust', 'analys', 'london', 'confer', 'peak', 'hunter', 'paleo', 'speci', 'default', 'gari', 'frost', 'imperi', 'loom', 'wave', 'index', 'britain', 'background', 'abid', 'harvi', 'dietician', 'genesi', 'centr', 'manchest', 'intermitt', 'dieter', 'interspers', 'succeed', 'weigh', 'hunt', 'berri', 'biochemistri', 'unilev', 'palaeolith', 'mimic', 'era', 'googl', 'fish', 'forag', 'seafood', 'seed', 'glucos', 'satieti', 'eater', 'alexandra', 'johnston', 'rowett', 'atkin', 'appetit', 'cite', 'momentum', 'fade', 'bullet', 'judi', 'buttriss', 'nuanc', 'mainten', 'twice', 'otc', 'lax', 'phosphat', 'bowel', 'kidney', 'dehydr', 'harm', 'frustrat', 'scale—or', 'tight', 'waistband', 'fit—i', 'defici', 'med', 'clue', 'react', 'j', 'hedaya', 'psychiatri', '“whether', 'onu', 'doctor’', 'weight—and', 'gain—so', 'bump', 'gradual', 'chevi', 'chase', 'md', 'correl', 'lone', 'belinda', 'needham', 'uab', 'culprit', 'wean', 'slowli', 'dominiqu', 'fradin', 'loma', 'linda', 'wellbutrin', 'blame', 'buddi', 'attend', 'watcher', 'chemistri', 'plate', 'rx', 'steroid', 'beta', 'blocker', 'tamoxifen', 'heartburn', 'creep', 'wittlin', 'endocrin', 'divis', 'rochest', 'ny', 'biggi', 'thu', 'harsh', 'bizarr', 'suspect', 'waistlin', 'flora', 'constip', 'probiot', 'hydrat', 'rich', 'powder', 'metamucil', 'globul', 'scrub', 'hypothyroid', 'magnesium', 'iron', 'compromis', 'sap', 'compens', 'caffein', 'weak', 'red', 'spinach', 'brazil', 'imposs', 'awhil', 'tricky—but', 'wise', 'insulin', 'unavoid', 'real—w', 'exercise—and', 'food—to', 'readili', 'unnecessari', 'plantar', 'fasciiti', 'musculoskelet', 'osteoarthr', 'unintent', 'donald', 'bohay', 'cochairman', 'orthopaed', 'ankl', 'bike', 'therapist', 'needs—ask', 'qualifi', 'achi', 'cushing’', 'syndrom', 'osteoporosi', 'tone', 'purpl', 'silveri', 'stretch', 'abdomen', 'ruddi', 'cortisol', 'tumor', 'adren', 'gland', 'proceed', 'batteri', 'telltal', 'distribut', 'slender', 'tests—includ', 'urinalysi', 'body’', 'deem', 'pituitari', 'newbi', 'equip', 'pete', 'mccall', 'diego', 'ace', 'disconnect', 'dedic', 'spot', 'temptat', 'ipod', 'shuffl', 'max', 'perk', 'hyper', 'session', 'discount', 'negoti', 'wardrob', 'malfunct', 'janet', 'jackson', 'jessi', 'kneeland', 'nyc', 'rags—and', 'ninth', 'grade—it', 'invest', 'bra', 'trust', 'resiz', 'butt', 'great—but', 'regimen', 'competit', 'patienc', 'embrac', 'acquaint', 'injur', 'circuit', 'dash', 'kettlebel', 'ball', 'gunnar', 'peterson', 'beverli', 'hill', 'monopol', 'courtesi', 'spatial', 'stake', 'bug', 'space', 'jump', 'rope', 'kick', 'neglect', 'hidden', 'gem', 'killer', 'sculpt', 'master', 'speak', 'serious', 'pranc', 'oppenheim', 'bathroom', 'frontal', 'gress', 'viru', 'pork', 'spread', 'therefor', 'hog', 'rose', 'porcin', 'ped', 'coronaviru', 'gastroenter', 'piglet', 'contagi', 'viral', 'sold', 'supermarket', 'relev', 'ever', 'audienc', 'whop', 'them—includ', 'spous', 'friends—actu', 'undermin', 'medi', 'weightloss', 'fla', 'journey—and', 'brownies…', 'bake', 'guilt', 'induc', 'succumb', 'browni', 'baker', 'buck', 'franc', 'largeman', 'lover', 'salli', 'jealou', 'sejal', 'shah', 'gestur', 'go…', 'fatten', 'entré', 'steel', 'greg', 'hotting', 'mph', 'dukan', 'fork', 'yo', 'out—or', 'afterward', 'amazingli', 'dig', 'ignor', 'em', 'repli', 'jerk', 'anorex', 'comment', 'physican', 'willpow', 'through—and', 'held', 'peanut', 'mommi', 'instinct', 'sweeti', 'before…', 'uncondit', 'mash', 'potato', 'tabl', 'backup', 'undermining—', 'bought…', 'ring', 'ding', '—get', 'thanks…', 'busi', 'rude', 'honesti', 'sadden', 'anniversari', 'yeah', 'inconveni', 'oct', 'ramp', 'widespread', 'lyn', 'finelli', 'hasn', 'wors', 'climb', 'north', 'risen', 'underli', 'washington', 'king', 'counti', 'spokesman', 'marqis', 'nevada', 'washo', 'southern', 'clark', 'stark', 'remind', 'joe', 'iser', 'besid', 'sneez', 'cough', 'fiction', 'telescop', 'restor', 'sight', 'macular', 'degener', 'amd', 'blind', 'retina', 'vision', 'stage', 'len', 'sid', 'mandelbaum', 'ophthalmologist', 'east', 'magnifi', 'camera', 'processor', 'integr', 'retrain', 'patients’', 'capabl', 'undergon', 'cataract', 'patricia', 'gajewski', 'shop', 'everyday', 'grant', 'sew', 'grass', 'gajewski’', 'tesesco', 'doorbel', 'door', 'centrasight', 'infertil', 'disappoint', 'vitro', 'ivf', 'option', 'common—and', 'treatable—caus', 'ovul', 'polycyst', 'ovari', 'menstrual', 'cycl', 'male', 'underweight', 'thyroid', 'hirshfeld', 'cytron', 'reproduct', 'endocrinologist', 'guy', 'surrey', 'semen', 'intrauterin', 'insemin', 'iui', 'optim', 'donor', 'endometriosi', 'uterin', 'bleed', 'fallopian', 'clomid', 'tubal', 'std', '“sexual', 'transmit', 'chlamydia', 'sperm', 'commun', 'substitut', 'rod', 'slightli', 'christian', 'hartmann', 'carcinogen', 'subtl', 'bright', 'june', 'beg', 'dna', 'slather', 'sunscreen', 'toast', 'crust', 'covert', 'sneak', 'backyard', 'barbecu', 'host', 'rethink', 'dog', 'harbor', 'nitrosamin', 'chuck', 'styrofoam', 'styren', 'fri', 'acrylamid', 'squeez', 'ketchup', 'squirt', 'mustard', 'deterg', 'tougher', 'stain', 'wish', 'threat', 'guidanc', 'lurk', 'shadow', 'dodg', 'c', 'dioxan', 'scale', 'environment', 'causer', 'nasal', 'impur', 'ingredi', 'sonya', 'lunder', 'shield', 'greener', 'clorox', 'polyethylen', 'glycol', 'peg', 'polyoxyethylen', 'oxynol', 'eth', 'dirt', 'formaldehyd', 'corps', 'spiffi', 'respiratori', 'fabric', 'revert', 'elbow', 'greas', 'hook', 'emiss', 'chip', 'wastewat', 'doughnut', 'amino', 'asparagin', 'timothi', 'fennel', 'toxicolog', 'rti', 'strateg', 'shorter', 'spud', 'soak', 'k', 'mayor', 'michael', 'bloomberg', 'biodegrad', 'anticip', 'lid', 'polystyren', 'leach', 'andrew', 'rice', 'arsen', 'respect', 'mediev', 'assassin', 'pantri', 'brand', 'bounc', 'vulner', 'hansen', 'union', 'pot', 'ratio', 'inbox', 'cig', 'stomach', 'nitrat', 'nitrit', 'bacon', 'turkey', 'wisconsin', 'relaps', 'trim', 'boil', 'microwav', 'al', 'madrig', 'guid', 'thicket', 'polio', 'aleppo', 'hosam', 'katan', 'syrian', 'northeastern', 'provinc', 'raqqa', 'appeal', 'crippl', 'infecti', 'syria', 'launch', 'unicef', 'condemn', 'halt', 'civil', 'war', 'pose', 'region', 'paralyz', 'outskirt', 'elizabeth', 'hoff', 'repres', 'damascu', 'provinci', 'capit', 'rebel', 'islamist', 'qaeda', 'iraq', 'levant', 'rival', 'recaptur', 'territori', 'sunday', 'uptak', 'deir', 'zor', 'douma', 'rural', 'permit', 'humanitarian', 'enforc', 'ceasefir', 'conflict', 'secretari', 'kerri', 'pari', 'russian', 'foreign', 'minist', 'sergei', 'lavrov', 'lakhdar', 'brahimi', 'conven', 'peac', 'flee', 'maurer', 'icrc', 'suppli', 'necess', 'besieg', 'itchi', 'opposit', 'preserv', 'methylisothiazolinon', 'mi', 'dermat', 'irrit', 'cbc', 'misdiagnos', 'eczema', 'impetigo', 'perian', 'buttock', 'suspicion', 'mari', 'radhika', 'nakrani', 'connecticut', 'farmington', 'conn', 'extens', 'loui', 'dreyfu', 'golden', 'award', 'hilton', 'shearer', 'invis', 'nomine', 'show’', 'comedi', 'hollywood', 'pulmonari', 'furthermor', 'nicotin', '‘safe’', 'prohibit', 'promot', '“health”', 'poor', 'mccarthi', 'commerci', 'blu', 'ecig', 'skimpi', 'tout', 'actor', 'famou', 'midday', '‘indoor’', '‘outdoor’', 'seri', 'categor', 'oppos', 'alert', 'fair', 'physician', 'subsequ', 'dougla', 'scharr', 'forget', 'sage', 'gerocognit', 'spoke', 'gayatri', 'devi', 'lenox', 'practition', 'valid', 'neuropsychiatri', 'bailey', 'coat', 'infus', 'cord', 'utero', 'joann', 'kurzberg', '‘hiccup', 'like’', 'infant', '“she', '‘all', 'clear’', 'hospital’', 'discharg', 'stroke”', 'placenta', 'detach', 'umbil', 'yield', 'bailey’', '‘she', 'rub', 'bank', 'bob', 'stemcyt', 'baby’', 'hematopoiet', 'progenitor', 'leukemia', 'lymphoma', 'heard', 'alzheimer’', 'ran', 'someday', '“to', 'enrol', 'wander', 'kurtzberg', 'marrow', 'kurtzberg’', 'elig', 'neonat', 'intraven', 'iv', 'fluid', 'durham', 'kurtbzberg', 'neural', 'angiogenesi', 'format', 'revascular', '“both', 'nerv', 'transfus', 'i’v', 'handed…', '“two', 'finger', 'cerebr', 'palsi', 'grasp', '“bailey', '“her', 'purs', 'charl', 'birmingham', 'dens', 'hemi', 'paresi', 'lawson', 'collect', 'afford', 'chasa', 'biologicsbloodvaccin', 'resourcesfory', 'ucm', 'htm', 'percentag', 'brese', 'pandem', 'matthew', 'palma', 'west', 'palm', 'beach', 'primari', 'kindergarten', 'handout', 'father', 'champagn', 'angri', 'outburst', 'yell', 'punch', 'retreat', 'princip', 'violenc', 'domin', 'grappl', 'patchwork', 'underfund', 'costli', 'crime', 'denni', 'chestnut', 'calm', 'none', 'sharon', 'stephan', 'florida', 'minnesota', 'anonym', 'olympia', 'steadi', 'stigmat', 'cautiou', 'cavalierli', 'juszczak', 'allianc', 'uncov', 'denis', 'wheatley', 'recognit', 'grade', 'prison', 'truanci', 'suspens', 'fourth', 'involuntarili', 'pencil', 'overturn', 'classroom', 'defianc', 'return', 'counselor', 'seth', 'bernstein', 'contrast', 'leader', 'request', 'expand', 'susan', 'dramat', 'fifth', 'reluct', 'anderson', 'davenport', 'hyperact', 'ritalin', 'repeatedli', 'sob', 'refus', 'psychiatr', 'prozac', 'pharmacist', 'knowledg', 'wire', 'mgh', 'ucla', 'connectom', 'ultrasound', 'sensori', 'percept', 'discrimin', 'input', 'technician', 'burst', 'fetu', 'map', 'neuroscientist', 'chat', 'noninvas', 'transcrani', 'electrod', 'electr', 'scalp', 'bunch', 'tyler', 'carilion', 'wrist', 'impuls', 'electroencephalographi', 'eeg', 'weaken', 'encod', 'tactil', 'pin', 'distinguish', 'puff', 'poorer', 'tweak', 'paradox', 'neighbor', 'quiet', 'balanc', 'essenti', 'triangul', 'vanish', 'disrupt', 'numb', 'optic', 'illus', 'tuesday', 'preval', 'afflict', 'southwest', 'alabama', 'arkansa', 'indiana', 'kansa', 'louisiana', 'mississippi', 'missouri', 'mexico', 'oklahoma', 'advocaci', 'lowest', 'delawar', 'hawaii', 'nebraska', 'dakota', 'tennesse', 'elain', 'thompson', 'casey', 'hinds’', 'eldest', 'faculti', 'box', 'fundrais', 'upset', 'hind', 'fought', 'daughters’', 'chick', 'fil', 'mascot', 'daughter’', 'sticker', 'backpack', 'instil', 'exchang', 'corpor', 'donat', 'loyalti', 'sugari', 'sweeten', 'beverag', 'counteract', 'yvonn', 'terri', 'mcelrath', 'michigan', 'ann', 'arbor', '‘hey', '“one', 'junk', 'road', 'england', 'joint', 'mine', 'hundr', 'acupunctur', 'korean', 'previous', 'cartilag', 'degrad', 'stiff', 'allevi', 'purportedli', 'oddest', 'guermazi', 'radiolog', 'abscess', 'obscur', 'anatomi', 'fibrou', 'steril', 'thread', 'asian', 'complementari', 'rotaviru', 'diarrheal', 'intussuscept', 'rotateq', 'rotarix', 'myth', 'adequ', 'manner', 'blockag', 'rotashield', 'withdrawn', 'outcom', 'katherin', 'yih', 'marilyn', 'mckenna', 'inappropri', 'pour', 'parti', 'reportedli', 'violat', 'reject', 'paid', '“facebook’', 'spokesperson', 'dunderhead', 'blog', 'gabi', 'moisa', 'rollercoast', 'inevit', 'realist', '“slow', 'secret', 'kaiser', 'permanente’', 'baggi', 'sweatpant', '“b”', 'splurg', 'parenthood', 'draw', 'satisfi', 'richer', 'angu', 'deaton', 'economist', 'princeton', 'happier', 'midlif', 'nonpar', 'damper', 'marit', 'satisfact', 'arthur', 'stoni', 'brook', 'gallup', 'ladder', 'anger', 'religi', 'fulli', 'empti', 'nester', 'noncustodi', 'modern', 'oswald', 'warwick', 'rout', 'grandma', 'busybodi', 'fulfil', 'carol', 'graham', 'rear', 'grandkid', 'grandchildren', 'intuit', 'grandpar', 'tea', 'japan', 'nadolol', 'nadolol’', 'stunt', 'leaflet', 'tablet', 'drug’', 'grapefruit', 'sotiri', 'antoni', 'kooren', 'deter', 'illeg', 'checkup', 'dissuad', 'daniel', 'romer', 'pennsylvania', 'annenberg', 'deterr', 'climat', '“nightmar', 'bacteria”', 'suburb', 'carbapenem', 'enterobacteriacea', 'cre', 'enzym', 'overus', 'evolv', 'stronger', 'respir', 'cystoscopi', 'cathet', 'vital', 'segreg', 'isol', 'diminish', 'whoever', 'gown', 'ventil', 'mainli', '“pocket”', 'problemat', 'coli', 'smarter', 'rel', 'superbug', 'worrisom', 'cidex', 'vigil', 'packag', 'unsteril', 'minimum', 'b', 'samadi', 'chairman', 'urolog', 'robot', 'urologist', 'diagnosi', 'pleas', 'roboticoncolog', 'shanel', 'kate', 'tribut', 'stranger', 'fli', 'canada', 'daddi', 'seat', 'nervou', 'businessman', 'plane', 'ride', '‘daddi', 'kindli', 'correct', 'uncomfort', 'despis', 'turtl', 'paragraph', 'aw', 'apologet', 'sentenc', 'philli', 'bhutanes', 'priest', 'replet', 'unspecif', 'vomit', 'omar', 'kherad', 'hpital', 'geneva', 'gastroscopi', 'tradit', 'bhutan', 'pellet', 'laboratori', 'corrobor', 'guess', 'western', 'arnaud', 'perrier', 'conclus', 'interven', 'bell', 'paralysi', 'deceas', 'audio', 'sync', 'speech', 'window', 'millisecond', 'wider', 'perceiv', 'stephen', 'camarata', 'vanderbilt', 'nashvil', 'tenn', 'badli', 'dub', 'visual', 'autist', 'bound', 'auditori', 'stimuli', 'flash', 'beep', 'hammer', 'deceiv', 'mcgurk', 'audiovisu', 'compon', 'ga', 'voic', 'ba', 'da', 'acuiti', 'lesser', 'wallac', 'salient', 'phthalat', 'odd', 'fragranc', 'interfer', '“given', 'scrutini', 'anecdot', 'quantit', 'zota', 'georg', 'citizen', 'bbzp', 'dnbp', 'deh', 'dnop', 'didp', 'dinp', 'dep', 'dibp', '“three', 'dehp', 'banned…in', 'nine', 'partial', 'congress', 'marketplac', 'dnbpb', 'disruptor', '“unfortun', 'latin', 'purpos', 'maristela', 'monteiro', 'pan', '“there', 'comb', 'vilma', 'gawryszewski', '‘necessary’', 'biggest', 'el', 'salvador', 'guatemala', 'nicaragua', 'argentina', 'costa', 'rica', 'ecuador', 'venezuela', 'overconsumpt', '“thi', 'iceberg', '“of', 'yourapechkin', 'onset', 'muscular', 'aerob', 'greatest', 'inact', 'incorpor', 'broad', 'canadian', 'hint', 'veugel', 'alberta', 'edmonton', 'meaning', 'danc', 'pedomet', 'wealthier', 'weekday', 'cardiologist', 'bc', 'vancouv', 'downsid', 'inexpens', 'upsid', 'easiest', 'tailor', 'characterist', 'rudimentari', 'kathryn', 'phillip', 'gender', 'genotyp', 'planck', 'munich', 'extent', 'scandal', 'hotlin', 'tamper', 'complaint', 'convict', 'felon', 'technologist', 'stump', 'disturb', 'kathi', 'wilet', 'spokeswoman', 'sympathet', 'distress', 'branum', 'prosecutor', 'unawar', 'alleg', 'warrant', 'investig', 'pamela', 'mismatch', 'trace', 'lineag', 'thoma', 'lippert', 'stonewal', 'ownership', 'owner', 'storag', 'transmiss', 'rodriguez', 'patern', 'cb', 'affili', 'kutv', 'dad', 'wheez', 'occurr', 'keen', 'persist', 'ginger', 'passag', 'swell', 'capsul', 'tune', 'ubiquit', 'clifford', 'bassett', 'diplomat', 'nyu', 'langon', 'otolaryngolog', 'suni', 'lich', 'urgent', 'obamacar', 'infrastructur', 'shortag', 'disast', 'prepared', 'snapshot', 'rank', 'wyom', 'liabil', 'reli', 'medicar', 'medicaid', 'polit', 'flashpoint', 'rollout', 'coverag', 'spiral', 'jon', 'hirshon', 'oversaw', 'o', 'clock', 'congression', 'probe', 'median', 'dismal', 'colorado', 'kentucki', 'montana', 'arizona', 'uninsur', 'oregon', 'lotteri', 'leaner', 'expens', 'shock', 'matern', 'ward', 'deliveri', 'uncompl', 'cesarean', 'unsubstanti', 'variat', 'appal', 'affair', 'rene', 'y', 'hsia', 'ucsf', 'systemwid', 'childbirth', 'stagger', 'fee', 'reimburs', 'appendix', 'compound', 'lawyer', 'enthusiast', 'reform', 'tilburt', 'bioethicist', 'mayo', 'minn', 'outdat', 'deduct', 'opac', 'prediabet', 'endocrinolog', 'tcm', 'chun', 'su', 'yuan', 'tang', 'holist', 'tcm’', 'principl', 'herb', 'ngt', 'mixtur', 'tianqi', 'astragali', 'radix', 'coptidi', 'rhizoma', 'tread', 'china', 'wart', 'flammabl', 'cryogen', 'dimethyl', 'ether', 'propan', 'unreport', 'burnt', 'blister', 'karen', 'nast', 'nearbi', 'ignit', 'household', 'curl', 'papillomaviru', 'hpv', 'salicyl', 'soften', 'dispens', 'californian', 'asd', 'dd', 'unsaf', 'kathleen', 'angkustsiri', 'insomnia', 'disproven', 'antifung', 'chelat', 'mercuri', 'reut', 'rs', 'fyqbyp', 'automat', 'convent', 'complement', 'chose', 'preschool', 'noreen', 'fraser', 'trip', 'lifetim', 'survivor', 'botswana', 'africa', 'cape', 'bucket', 'christma', 'constantli', 'malaria', 'evacu', 'deserv', 'wing', 'feedback', 'aliv', 'marvel', 'land', 'leopard', 'cheetah', 'zebra', 'giraff', 'hippo', 'jeep', 'god', 'sunset', 'spiritu', 'fortitud', 'minded', 'heck', 'nearest', 'hang', 'command', 'ship', 'shouldn', 'seiz', 'metastat', 'groundbreak', 'noreenfraserfound', 'choroideremia', 'lancet', 'novel', 'gene', 'code', '“gene', 'maclaren', 'oxford', '“and', 'chm', 'chromosom', 'choroid', 'retin', 'pigment', 'epithelium', 'photoreceptor', '“fix”', 'adeno', 'aav', '“…but', 'virus’', 'nucleu', 'strand', 'eyesight', '“now', '“…we’r', 'pave', '“ani', 'pigmentosa', '“…for', 'modif', 'fitbit', 'tracker', 'apolog', 'user', 'retail', 'wristband', 'nickel', 'stainless', 'toldconsumerist', 'port', 'consumerist', 'complaintson', 'forum', 'kinda', 'stove', 'broke', 'nbc', 'abc', 'bumpi', 'blisteri', 'scali', 'dye', 'harmless', 'sorri', 'assur', 'jawbon', 'fan', 'accommod', 'herp', 'pritelivir', 'replic', 'simplex', 'lesion', 'milligram', 'quiz', 'whitley', 'partli', 'anna', 'wald', 'seattl', 'unaffect', 'monkey', 'aicuri', 'squirrel', 'forest', 'sweden', '‘ye', 'primit', 'lethargi', 'folk', 'compuls', 'intellectu', 'affymetrix', 'digeorg', 'cytoscan', 'dx', 'prenat', 'newborn', 'sickl', 'anemia', 'cystic', 'centuri', 'genom', 'santa', 'clara', 'calif', 'fibromyalgia', 'austria', 'thirti', 'nanogram', 'millilit', 'econom', 'florian', 'wepner', 'orthopedist', 'speis', 'vienna', 'fortifi', 'juic', 'cereal', 'fightervitamin', 'ptsd', 'hdac', 'inhibitor', 'rodent', 'overcom', 'li', 'huei', 'tsai', 'mit', 'picow', 'overrid', 'psychotherapi', 'potent', 'overwrit', 'quantumdx', 'prototyp', 'nanowir', 'biosensor', 'ltd', 'tuberculosi', 'lag', 'kingdom', 'sputum', 'saliva', 'mucu', 'diagnost', 'warburton', 'cofound', 'ipad', 'thicker', 'mini', 'cm', 'credit', 'dispos', 'cartridg', 'pop', 'antimalari', 'fragment', 'silicon', 'etch', 'warfarin', 'veterinari', 'forens', 'poc', 'pronounc', 'pock', 'handheld', 'regulatori', 'halloran', 'crowdfund', 'feb', 'indigogo', 'bird', 'ditan', 'beij', 'suzi', 'wong', 'guard', 'commiss', 'jake', 'dun', 'taiwan', 'hong', 'kong', 'poultri', 'appar', 'adapt', 'cluster', 'sporad', 'alarm', 'render', 'mammal', 'gregori', 'hartl', 'rapid', 'headquart', 'stanc', 'likelihood', 'mingl', 'virus', 'northern', 'hemispher', 'openshaw', 'histor', 'behav', 'undetect', 'divers', 'tamiflu', 'unabl', 'tara', 'iannuccillo', 'os', 'notat', 'outset', 'genentech', 'distributor', 'cri', 'notion', 'grimac', 'downward', 'laughter', 'playtim', 'deliber', 'convey', 'hiroko', 'nakayama', 'sacr', 'tokyo', 'context', 'exhibit', 'sibl', 'exhaust', 'tonight', 'depriv', 'luxuri', 'kristen', 'knutson', 'ph', 'painlessli', 'ojil', 'increment', 'daunt', 'cellulit', 'bedroom', 'daytim', 'norm—', 'temp', 'dim', 'lamp', 'bedtim', 'pineal', 'melatonin', 'siren', 'istuff', 'crash', 'artifici', 'fool', 'hypothalamu', 'transit', 'peek', 'length', 'bladder', 'bedtime—especi', 'booz', 'drowsi', 'hypothes', '—the', 'deepest', 'issues—li', 'to—ar', 'nois', 'whir', 'slumber', 'cancel', 'horn', 'chew', 'harmless—no', 'smart—habit', 'candi', 'chomp', 'brake', 'knuckl', 'deep', 'ib', 'stick…', 'hunger', 'debunk', 'mint', 'flavor', 'minti', 'sip', 'curb', 'tmj', 'temporomandibular', 'jaw', 'ouch', '“overus', 'earach', 'toothach', 'buster', 'cramp', '“chew', 'takahashi', 'gastroenterolog', 'vincent', 'sorbitol', 'mannitol', 'woe', 'rot', 'logic', 'fraught', '“sugar', 'tooth', 'decay', 'sheep', 'lanolin', 'skincar', 'yellow', 'waxi', 'sebac', '“wool', 'harvest', 'sheep’', 'wool', 'roller', 'unsavori', 'inde', 'silver', 'amalgam', 'tin', 'fortun', 'now’', 'hottest', 'hardback', 'stat', 'gp', 'monetari', 'reinvigor', 'ab', 'film', 'sleek', 'interfac', 'match', 'plethora', 'beginn', 'alik', 'penni', 'iphon', 'gympact', 'android', 'vegetarian', 'barcod', 'watchers’', 'runkeep', 'layout', 'cue', 'audibl', 'zombi', 'right…', 'arena', 'mission', 'laden', 'hord', 'undead', 'amp', 'chatter', 'couldn’t', '“clean', 'eating”', 'construct', 'sideway', 'zucchini', 'decenc', 'buzzword', 'mainstream', 'culture—and', 'tummi', 'rejoic', 'being—even', 'digestion—seem', 'cronut', 'copycat', 'rut', 'bore', 'creativ', '“go', 'clean”', 'entertain', 'sour', 'cream', 'greek', 'creami', 'dairi', 'bonu', '“this”', '“that”', 'riddl', 'satur', 'virgin', 'coconut', 'please—i’l', 'ground', '“milk', 'healthiest', 'cauliflow', '“dough', 'italian', 'fault', 'simplic', 'glow', 'valpon', 'chef', 'thehealthyappl', 'magazin', 'pinterest', 'postpon', 'heartfelt', 'plea', 'amend', 'exclus', '“fox', 'josi', 'gracchi', 'ductal', 'carcinoma', 'sloan', 'ketter', 'roll', 'schoolwork', 'bulli', 'ton', 'npr', 'poll', 'adel', 'cadieux', 'devo', 'grand', 'mich', 'withdraw', 'uncertainti', 'stomachach', 'chao', 'lori', 'lite', 'esteem', 'chaotic', 'affirm', 'life’', 'philosophi', 'disagre', 'kid’', 'fashion', 'inspiration—it', '“life', 'transform', 'boards”', 'repin', 'curat', 'msf', 'cottag', 'strawberri', 'tenderloin', 'sardin', 'salmon', 'watermelon', 'oat', 'playlist', 'mindset', 'gratitud', '“mental', 'fantast', 'infograph', 'gadget', 'gift', 'mitzi', 'dulan', 'indulge—in', 'boozi', 'merriment—win', 'cocktail', 'eggnog', 'galore—wil', 'jim', 'studio', 'imbib', 'effect—a', 'downtime—opt', 'peril', 'theanin', 'valerian', 'herb—often', 'blends—ha', 'nervous', 'cherri', 'tart', 'durat', 'decaf', 'stoke', 'tryptophan—an', 'convert', 'neurotransmitt', 'serotonin', 'calcium', 'exert', 'reap', 'chamomil', 'yep', 'glycin', 'sed', 'bust', 'brighten', 'celeri', 'kale', 'c—one', 'value—which', 'lethal', 'coma', 'ibuprofen', 'chronicl', 'jason', 'ryan', 'tenni', 'sj', 'torso', '“jason’', 'horror', 'scream', 'raw', 'clair', '‘he', '’”', 'woke', 'sunshin', 'silent', 'ultraviol', 'uva', 'radiat', 'lab', 'dilat', 'hypertens', 'radar', 'martin', 'feelisch', 'southampton', 'nitric', 'deriv', 'somehow', 'hypothesi', 'explan', 'warmth', 'unknown', 'dermatolog', 'unrel', 'synthes', 'cagri', 'ozgur', 'unlik', 'flavanoid', 'aedin', 'cassidi', 'anglia', 'norwich', 'diari', 'skynew', 'smarti', 'portsmouth', 'ri', 'snort', 'bruce', 'digennaro', 'impli', 'sgt', 'jame', 'prosthet', 'holland', 'uniform', 'motor', 'grip', 'groceri', 'atm', 'afghanistan', 'desper', 'inabl', 'fluidli', '“i’d', 'duti', 'boobi', 'trap', 'improvis', 'explos', 'deton', 'underneath', 'mountain', 'surf', 'rock', 'eager', 'amput', 'walter', 'reed', 'bethesda', 'said…they', 'unlimit', 'capabilities…i', 'sides’', 'myoelectr', 'ime', 'ampute', 'rotat', 'pasquina', 'limb', 'cabl', 'prosthetic’', 'surfac', 'sweat', '“obvious', 'summertim', 'haywir', 'itself', 'humid', 'recipient’', 'wherea', 'tap', 'therebi', '“we’r', 'alfr', 'mann', 'reliabl', 'deeper', 'underw', 'quality…grab', 'wallet', 'trail', 'forward', 'geolog', 'asthmat', 'roughli', 'predictor', 'kahn', 'airway', 'cincinnati', 'cessat', 'cotinin', 'kreindler', 'pulmonologist', 'readmit', 'sophist', 'readmiss', 'secondhand', 'circumst', 'alan', 'crawford', 'statin', 'disorient', 'admiss', 'delirium', 'understood', 'neuro', 'valeri', 'watford', 'banner', 'islamabad', 'pakistan', 'anjum', 'nave', 'terrorist', 'mammogram', 'lump', 'euphem', 'shroud', 'stigma', 'muslim', 'asia', 'pinkribbon', 'oncologist', 'taboo', 'conserv', 'islam', 'cultur', 'immor', 'pakistani', 'politician', 'fehmida', 'mirza', 'silenc', 'shi', 'neglig', 'resid', 'shambl', 'shahzad', 'aalam', 'exact', 'rampant', 'rawalpindi', 'exam', 'aftab', 'lectur', 'openli', 'abysm', 'sector', 'starv', 'saira', 'hasan', 'shifa', 'healer', 'reput', 'advanc', 'sameera', 'raja', 'art', 'galleri', 'karachi', 'embarrass', 'hide', 'singer', 'sheryl', 'crow', 'actress', 'christina', 'appleg', 'freeli', 'crimin', 'prime', 'disqualifi', 'excus', 'elect', 'chemotherapi', 'parliament', 'ministri', 'proton', 'knoxvil', 'provis', 'beam', 'hambi', 'brain’', 'cocain', 'icahn', 'sinai', 'parp', 'rar', 'accumben', 'epigenet', 'kimberli', 'scobi', 'postdoctor', 'sidekick', 'synaps', 'overexpress', 'synapt', 'pluristem', 'orthoped', 'plx', 'voluntari', 'charit', 'auspic', 'ehrlich', 'germani', 'zami', 'aberman', 'gluteu', 'mediu', 'transglut', 'necessit', 'endpoint', 'isometr', 'gluteal', 'display', 'dust', 'hazi', 'zhengzhou', 'henan', 'stringer', 'pollut', 'quantiti', 'pacif', 'ocean', 'sulfat', 'fossil', 'fuel', 'scholar', 'smog', 'nitrogen', 'carbon', 'monoxid', 'export', 'outsourc', 'haunt', 'steve', 'irvin', 'greenhous', 'gase', 'worldwatch', 'korea', 'noxiou', 'cloud', 'sacrif', 'emphysema', 'westerli', 'tran', 'boundari', 'transboundari', 'confront', 'anxiou', 'dous', 'unrest', 'affluent', 'soil', 'predominantli', 'schiff', 'epidemiolog', '“player', 'o’kan', 'puget', 'athletes’', 'girls’', 'inquir', '“our', 'collegi', '“…we', '“becaus', 'canari', 'wharf', 'simon', 'newman', 'program’', 'hobbi', '“particip', 'glasgow', 'scotland', 'stadium', 'ordinarili', 'valv', 'resort', 'mitral', 'regurgit', 'backward', 'frail', 'hesit', 'prolong', 'overnight', '“chaos”', 'precis', 'thrown', 'chrono', 'derk', 'dijk', 'rhythmic', 'tonsillectomi', 'dexamethason', 'commonli', 'usag', 'ineffect', 'rosenfeld', 'impress', 'sake', 'spanx', 'shapewear', 'huffington', 'undergar', 'inflict', 'gastroenterologist', 'dermatologist', 'chiropractor', 'upshot', 'compress', 'reflux', 'incontin', 'eros', 'esophag', 'giant', 'moistur', 'yeast', 'bacteri', 'belt', 'irma', 'myer', 'santana', 'williamson', 'sullivan', 'quibbl', 'snide', 'scott', 'scheinin', 'serendip', 'idiopath', 'scar', 'height', 'insist', 'bloodless', 'jehovah', 'ironi', 'sat', 'oxygen', 'tank', 'bare', 'viabl', 'rv', 'bicker', 'hadn', 'adamantli', 'invit', 'barbara', 'manicur', 'pedicur', 'salon', 'linger', 'color', 'balloon', 'nest', 'thermostat', 'instal', 'frey', 'lifestyle—th', 'mildli', 'expenditur', 'colder', 'wouter', 'van', 'marken', 'lichtenbelt', 'maastricht', 'netherland', '‘healthy’', 'shiver', '“brown', '‘turn', 'on’', '“instead', 'nonshiv', 'thermogenesi', 'nst', 'indoor', 'ambient', '“mi', '“physiolog', 'adhd', 'antipsychot', 'abilifi', 'risperd', 'schizophrenia', 'aman', 'nisong', 'methylphenid', 'concerta', 'modest', '“buri', 'russel', 'barkley', 'connor', 'overwhelmingli', 'marriag', 'lauri', 'tarkan', 'journalist', 'wellbeefil', 'duluth', 'frostbit', 'alyssa', 'lommel', 'teri', 'caringbridg', 'wdio', 'minu', 'sophomor', 'toe', 'stephani', 'ben', 'hawkin', 'or…we’l', '“adopt', 'leftov', 'destroy', '“pro', 'life”', 'discard', 'trash', 'indefinit', 'limbo…you’r', 'nightlight', 'adoptions’', 'snowflak', 'referr', 'obstetrician', 'tyson', '‘adoption’', '‘donation’', 'recipi', 'paula', 'amato', 'ethic', 'asrm', 'unplan', 'legal', 'statu', 'drawn', 'w', 'bush', '‘snowflake’', 'veto', 'embryon', 'asrm’', '“embryo', 'parentag', 'inaccur', 'mislead', 'standpoint', '“everybodi', 'court', '‘no’', '“adopted”', 'donor’', 'faiths…th', 'lgbt', 'nexium', 'prilosec', 'gallston', 'hiatal', 'hernia', 'scope', 'physician’', 'accuraci', 'versa', 'tum', 'dosag', 'transpar', '©', 'zsolt', 'nyulaszi', 'sedentari', 'deborah', 'rohm', 'permanent', 'pasadena', '‘saccades’', 'dot', '‘o’', '‘x', 'buzzer', 'incorrect', 'undetermin', 'slower', 'outlet', 'justin', 'bieber', 'khalil', 'arrest', 'allegedli', 'drag', 'miami', 'dui', 'dade', 'jail', 'bieber’', 'mug', 'gawk', 'awkwardli', 'showcas', 'blemish', 'acn', 'proactiv', 'pimpl', 'chin', 'microphon', 'pimpli', 'hasn’t', '“some', 'joshua', 'zeichner', 'breakout', 'overdr', 'newfound', 'predispos', 'cow’', 'thorough', 'wexler', 'oz’', 'veteran', 'poorli', 'conform', 'consent', 'robillard', 'neuroeth', 'revis', 'wheat', 'clariti', 'jacobson', 'marvin', '“natur', 'niam', 'miner', 'rheumatolog', 'willow', 'bark', 'naproxen', 'alev', 'advil', 'retent', 'chondroitin', 'glucosamin', 'conjunct', 'unproven', '“appear', 'omega', 'tender', 'gastrointestin', 'odor', 'deform', 'imper', 'tens', 'helpless', '“heat', 'radiant', 'watt', 'reflector', 'bulb', 'dull', 'spasm', 'pepsi', 'cola', 'pepsico', 'investor', 'segar', 'tag', 'rtr', 'methylimidazol', 'mei', 'proposit', 'mandat', 'microgram', 'caramel', 'soda', 'hue', 'purchas', 'retest', 'malta', 'goya', 'coke', 'sprite', 'california’', 'labels—even', 'exce', 'attorney', 'petit', 'vial', 'gardasil', 'kinston', 'cervic', 'pap', 'smear', 'gynecologist', 'nike', 'intercours', 'northeast', 'cuddl', 'marshmallow', 'muppet', 'ruster', 'grover', 'rosita', 'elmo', 'monster', 'erni', 'bert', 'sesam', 'workshop', 'barrett', 'namesak', 'makeov', 'jahmeic', 'strowder', 'classmat', 'bryson', 'payn', 'loaf', 'dorito', 'valentin', 'fuster', 'viewer', 'jorg', 'baxter', 'rooster', 'colombia', 'wealthi', 'sponsor', 'bogota', 'poster', 'stair', 'proport', 'undernourish', 'shelter', 'rachael', 'lynch', 'episcop', 'harlem', 'mecca', 'charact', 'garden', 'mysteri', 'dip', 'kateshia', 'brussel', 'sprout', 'cabbag', 'dont', 'madrid', 'jaim', 'cesped', 'verifi', 'gmo', 'op', 'redmond', 'absenc', 'seventi', 'crop', 'hardi', 'rep', 'canario', 'democrat', 'somewher', 'batra', 'bio', 'vast', 'commod', 'voter', 'ballot', 'hampshir', 'lawmak', 'defeat', 'oppon', 'lauer', 'chemist', 'enact', 'oner', 'voluntarili', 'coalit', 'meanwhil', 'monsanto', 'procter', 'gambl', 'soy', 'cheerio', 'european', 'faber', 'pro', 'funni', 'walker', 'postur', 'fairli', 'veer', 'deviat', 'siobhan', 'schabrun', 'sydney', 'smartphon', 'hazard', 'tourist', 'pier', 'rescu', 'gait', 'hallway', 'texter', 'supposedli', 'profici', 'multitask', 'pedestrian', 'collis', 'vehicl', 'dictat', 'meantim', 'erick', 'munoz', 'photograph', 'marlis', 'mateo', 'haltom', 'fort', 'jr', 'smith', 'cst', 'unconsci', 'unborn', 'paramed', 'preced', 'pend', 'tarrant', 'lawsuit', 'misappli', 'jp', 'discontinu', 'abort', 'distinctli', 'abnorm', 'german', 'bmc', 'withhold', 'subchapt', 'draft', 'legisl', 'contracept', 'swedish', 'norlevo', 'levonorgestrel', 'uliprista', 'acet', 'levonel', 'postinor', 'levodonna', 'ema', 'ellaon', 'uliprist', 'microscopi', 'scaffold', 'thedieck', 'kit', 'cornelia', 'karlsruh', 'revolution', 'hydrogel', 'lens', 'crystal', 'reproduc', 'retain', 'biomateri', 'retriev', 'refin', 'soonest', 'smoothli', 'dynavis', 'machinej', 'meric', 'img', 'jack', 'vermeil', 'kurtz', 'chestertown', 'dick', 'teammat', 'lighthead', '“swimmi', 'rehab', 'gross', 'coordin', 'rebuild', 'masterson', 'westmoreland', 'greenburg', 'penn', 'rehabilitation—th', 'computer', 'neurocognit', 'sway', 'dysfunct', 'chant', 'phil', 'jone', 'team’', 'weren’t', 'redesign', 'autom', 'allot', 'tachistoscop', 'vocabulari', 'illumin', 'they’v', 'solid', 'rave', '“they’v', 'equestrian', '“each', 'improve…', 'wearabl', 'analyt', 'platform', 'localyt', 'effortless', 'raphael', 'auphan', 'withings’', 'aura', 'bedsid', '“user', 'seamless', '“even', 'ago…', 'users’', 'unnatur', 'seamlessli', 'streamlin', 'jacob', 'mileag', 'mobiqu', 'simpler', 'liken', 'hood', 'dashboard', 'taper', '“small', 'robbart', 'registri', 'basebal', 'anymor', 'lesbian', 'mentor', 'curious', 'youtub', 'mirror', '‘build', 'come’', 'wendi', 'kramer', '“deliveri', 'vinc', 'vaughn', 'mtv', '“gener', 'cryo', 'curiou', 'that…', 'unregul', 'unoffici', 'vaughn’', 'oversight', 'nobodi', 'she’d', 'she’ll', 'know…ar', '“…i’d', 'meta', 'practicion', 'colin', 'michi', 'sought', 'help—everyth', 'insemination—dur', 'percentages—for', 'children—may', 'margin', 'error', 'broad—rang', 'radon', 'strip', 'doorfram', 'wilkinson', 'trickl', 'vent', 'brick', 'tropic', 'uranium', 'epa', 'coauthor', 'calcul', 'airtight', 'leaki', 'bmj', 'mitig', 'retrofit', 'insul', 'homeown', 'imperm', 'certif', 'plateau', 'crowd', 'registr', 'overcrowd', 'impos', 'jam', 'interv', 'torch', 'obviou', 'lunchtim', 'glut', 'traci', 'anderson’', 'saturday', 'how’', 'cozi', 'fomo', 'loser', 'instagram', 'privi', 'loneli', '“friends”', 'forev', 'bestnightev', 'preoccupi', 'brilliant', 'memoli', 'fend', 'sweep', 'lightli', 'quarantin', 'nih', 'scold', 'bennett', 'grin', 'flat', 'salti', 'drip', 'throat', 'particl', 'nostril', 'runni', 'hemagglutinin', 'boggl', 'anthoni', 'fauci', 'assumpt', 'neuraminidas', 'spray', 'harsher', 'treanor', 'sniffl', 'congest', 'compli', 'heather', 'janicek', 'machado', 'somber', 'lay', 'griev', 'unbear', 'arduou', 'disregard', 'labb', 'garner', 'affidavit', 'glassi', 'soulless', 'smell', 'perfum', 'deterior', 'misread', 'larri', 'behalf', 'statut', 'telegram', 'enni', 'tomorrow', 'thanksgiv', 'hello', 'morton', 'neuroma', 'donna', 'morton’', 'thicken', 'pebbl', 'sock', 'drmanni', 'cheat', 'approach—famili', 'sections—can', 'albeit', 'awak', 'camann', 'brigham', 'loud', 'poulin', 'doula', 'gentli', 'demeanor', 'whisk', 'id', 'heartbeat', 'breastfeed', 'mother’', 'breastfe', 'drape', 'mom’', 'briefli', '“most', '“famili', 'welcom', 'heed', 'mentality—it’', 'adag', 'information—even', '“embodi', 'peni', 'pessimist', 'pittsburgh', 'uk', 'optimist', 'attitude—no', 'smiled—regardless', 'happy—report', 'caribbean', 'superlin', 'cruis', 'sea', 'liberti', 'termin', 'bayonn', 'dock', 'liner', 'aboard', 'doti', 'tourism', 'commission', 'passeng', 'disembark', 'crew', 'voyag', 'midway', 'onboard', 'sincer', 'guests’', 'vacat', 'juan', 'jersey', 'dutch', 'maarten', 'haiti', 'arne', 'dodd', 'norwegian', 'stricken', 'solov', 'oncolog', '“fatigu', 'spiral—th', 'janic', 'kiecolt', 'glaser', 'cardiorespiratori', 'debilit', 'counterpart', '“yoga', '‘let’', 'hatha', 'sequenc', 'marcia', 'miller’', 'bolster', 'taught', 'savasana', 'columbu', '“breath', 'secondari', 'verrier', 'barnaba', 'unnot', 'bronx', 'footag', 'brother', 'lament', 'saint', 'turnaround', 'accus', 'scheme', 'newser', 'moving—anyth', 'pounds—chanc', 'niacin', 'solubl', 'artichok', 'leaf', 'attun', 'jenkin', 'atkinson', 'toronto', 'iq', 'dilut', 'trait', 'mikey', 'cortez', 'rooni', 'wineri', 'temecula', 'nelli', 'jae', 'riversid', 'cling', 'bandag', 'seemingli', 'drunken', 'smash', 'oldest', 'heaven', 'pray', 'youngest', 'austin', 'miguel', 'gregari', 'mischiev', 'verit', 'whirlwind', 'goof', 'warrior', 'cowboy', 'picturesqu', 'backwat', 'vineyard', 'pile', 'lane', 'barrel', 'seatbelt', 'toss', 'angelica', 'toni', 'wheelchair', 'sidelin', 'basketbal', 'pine', 'bundl', 'courtsid', 'hug', 'tickl', 'mickey', 'disneyland', 'uncl', 'niec', 'nephew', 'reflex', 'vespa', 'neurointens', 'rapidli', 'strap', 'toddler', 'gate', 'innoc', 'gotten', 'wheel', 'drove', 'adventur', 'threw', 'renal', 'dialysi', 'portrait', 'pale', 'paus', 'choke', 'vibrant', 'fetus', 'thc', 'cortex', 'tibor', 'harkani', 'karolinska', 'embo', 'neuropsychiatr', 'delta', 'tetrahydrocannabinol', 'detriment', 'superior', 'ganglion', 'scg', 'yasmin', 'hurd', 'childbear', 'campus', 'haley', 'delplato', 'colgat', 'anorexia', 'perpetu', 'calor', '“nap', 'diet”', 'pervad', 'nap', 'devin', '“want', 'dialogu', 'societ', 'pervas', 'bombard', 'hacker', 'sari', 'shepphird', '“studi', 'effortlessli', 'payer', 'insecur', 'thinner', 'campu', 'midst', 'nationaleatingdisord', 'aspect', 'quizz', 'sti', 'amongst', 'lubna', 'pal', '“lack', 'implic', '‘yes’', '“onc', 'ejacul', 'semin', '“from', 'desir', 'pelvi', '“i’m', 'positions—it’', 'meaningless', 'mispercept', 'lutein', 'lh', 'positive…', '“…sperm', '“women', 'temper', '“get', 'misconcept', 'time…that', 'span', 'reexamin', '“collect', 'women…w', 'metastas', 'lymph', 'node', 'cardiff', 'wale', 'bcl', 'cancer’', 'metastasi', 'clarkson', 'university’', 'tumor’', 'clarkson’', 'suppress', '‘reverse’', 'westwel', 'andrea', 'brancal', 'softwar', 'silico', 'simul', 'librari', 'mice’', 'envisag', '“…', 'tiziana', 'motrin', 'staffer', 'relabel', 'nonsteroid', 'nsaid', 'memo', 'group’', 'reshap', 'multibillion', 'chapter', 'blockbust', 'vioxx', 'subset', 'newer', 'beef', 'celebrex', 'pfizer’', 'shortest', 'tuesday’', 'ira', '“all', 'scarlet', 'painkil', 'pfizer', 'undu', '“current', 'support”', 'cow', 'hoov', 'calf', 'kitti', 'selah', 'ranch', 'veterinarian', 'appendag', 'vet', 'cud', 'clendenin', 'tailgat', 'tasti', 'buffalo', 'morsel', 'shred', 'sauc', 'chop', 'onion', 'spoon', 'breadcrumb', 'sloppi', 'slider', 'tomato', 'pickl', 'spici', 'condiment', 'bun', 'chunk', 'feta', 'cucumb', 'skewer', 'cube', 'kebab', 'salsa', 'guacamol', 'cal', 'nix', 'meatbal', 'glaxosmithklin', 'chickenpox', 'batch', 'wavr', 'belgium', 'shipment', 'varicella', 'priorix', 'tetra', 'measl', 'mump', 'rubella', 'mmrv', 'varilrix', 'gsk', 'alloc', 'revenu', 'ration', 'mmr', 'booster', 'boostrix', 'diphtheria', 'tetanu', 'whoop', 'reader', 'gout', 'toenail', 'fungu', 'dewayn', 'garrett', 'jerem', 'chri', 'kilham', 'uric', 'byproduct', 'slideshow', 'ailment', 'pertain', 'manuka', 'leptospermum', 'scoparium', 'zealand', 'tamanu', 'calophyllum', 'inophyllum', 'fungal', '“toenail', 'brilliantli', 'mail', 'garth', 'callaghan', 'emmagarth', 'stockpil', 'napkin', 'emma', 'richmond', 'va', '‘thi', 'sketch', 'quot', 'self…', '“unbeknownst', 'conspir', 'father’', 'prognosi', 'overtim', 'emma’', 'graduat', 'unfound', 'years…but', 'case…', 'outlook', 'napkinnotesdad', 'synthet', 'trachea', 'bioreactor', 'apparatu', 'regen', 'manmad', 'windpip', 'hart', 'russia', 'esophagu', 'underestim', 'vacanti', 'night’', 'disease’', 'cage', 'gozal', 'comer', 'chaiwat', 'subprasom', 'pesticid', 'ddt', 'ii', 'livestock', 'except', 'predat', 'richardson', 'wood', 'rutger', '“…and', 'legaci', 'parkinson’', 'emori', 'southwestern', 'school’', 'dde', 'serum', 'fourfold', 'possess', 'apo', 'allel', 'mechanist', 'sixth', '“tradit', 'norway', 'neurodegener', 'specul', 'unsolv', 'jostein', 'holmen', 'acetylcystein', 'nac', 'obstruct', 'copd', 'phlegm', 'fold', 'thwart', 'nccam', 'bergo', 'sahlgrenska', 'timelin', 'caroten', 'radicals—cel', 'lindahl', 'biomedicin', 'gothenburg', '“suggest', 'selenium', 'undiagnos', 'preview', 'museum', 'icon', 'peculiar', 'amnesia', 'henri', 'molaison', 'epilepsi', 'medial', 'tempor', 'lobe', 'hippocampu', 'thereaft', 'scatter', 'jacopo', 'annes', 'observatori', 'millimet', 'intact', 'brainwa', 'scovil', 'advent', 'neuroimag', 'spare', 'posterior', 'hippocampusd', 'undamag', 'hippocamp', 'entorhin', 'hippocampusfrom', 'mortem', 'neil', 'burgess', 'nj', 'sail', 'notifi', 'threshold', 'bernadett', 'noroviru', 'anything—', 'foodborn', 'confin', 'soap', 'purel', 'fran', 'wallach', '“also', 'buffet', 'ship’', 'protocol', 'contrari', '‘self', 'isolation’', '“usual', 'else—', 'immuno', 'comorbid', 'flag', 'interrupt', 'eaten', 'pinpoint', 'paramount', '…and', 'eduardo', 'avont', 'oquendo', 'subway', 'getti', 'tragic', 'unfold', 'tendenc', 'elop', 'permiss', 'kennedi', 'krieger', 'bolt', 'dart', 'drown', 'corner', 'nonverb', 'augment', 'pec', 'hamper', 'celiberti', 'phd', 'bcba', 'firsthand', '‘i’', 'iep', 'awaar', 'collabor', 'lamin', 'toolkit', 'exploit', 'privaci', 'deaf', 'motorist', 'cautious', 'hometown', 'reloc', 'brandon', '“he', 'importantli', 'avonte’', 'vanessa', 'fontain', 'senat', 'schumer', 'tragedi', 'jennifercerbasi', 'ident', 'xand', 'tulleken', 'regim', 'fordham', 'macro', 'villain', 'jebb', '“process', 'unbeliev', 'astonish', 'brothers’', 'two’', 'horizon', 'pancreat', 'forefront', 'pancrea', '“doubl', 'laparoscop', 'cocoon', 'immunotherapi', 'microrna', 'pecoraro', 'suzann', 'harper', 'testicular', 'suzanne’', 'unsuccess', 'nottingham', '“intralipid', 'hen’', 'theoret', 'lucki', 'eighth', 'libbi', 'conni', 'exhal', 'suspici', 'louisvil', '“carbonyl', 'carbonyl', 'noncancer', 'bousamra', 'reprogram', 'mason', 'bioprocess', 'pluripot', 'changer', 'riken', 'multipli', 'stimulu', 'stap', 'haruko', 'obokata', 'regener', 'ip', 'destruct', 'protest', 'dusko', 'ilic', 'calendar', 'mistak', 'inadequ', 'misinterpret', 'splash', 'spit', 'nahln', 'pedv', 'faec', 'ontario', 'truck', 'biosecur', 'slump', 'cervo', 'marshal', 'participants’', 'videotap', 'undergradu', 'buffer', 'heighten', 'sarah', 'townsend', 'usc', '“virtual', 'lowered”', 'inferior', 'mistrust', 'vr', 'underground', 'participant’', 'unalt', 'incompet', 'paranoia', '“passengers”', '“were', 'freeman', 'rick', 'wilk', 'diversifi', 'independ', 'xarelto', 'zytiga', 'multi', 'waldstreich', 'plc', 'broaden', 'panel', 'bash', 'crunchi', 'cheesi', 'council', 'pleaser', 'pretzel', 'guiltless', 'gourmet', 'ridden', 'perfectli', 'greasi', 'popchip', 'oili', 'spice', 'mealtim', 'dish', 'load', 'pleasur', 'deli', 'starkist', 'tuna', 'creations®', 'pastrami', 'awesom', 'pouch', 'crumbl', 'dough', 'rockin’', 'garlic', 'puppi', 'soire', 'hebrew', 'flaki', 'liciou', 'pudg', 'cupcak', 'itali', 'classic', 'cannoli', 'cone', 'holi', 'moli', 'lumpectomi', 'chemo', 'patholog', 'ladi', 'erad', 'whatsoev', 'metropolitan', 'ingest', '“challeng', 'test”', 'itch', 'they’d', 'equival', 'desensit', 'ewan', 'cambridg', 'oit', 'gentl', 'escal', 'steepli', 'exagger', '“more', 'greenhawt', '“veri', 'anaphylaxi', 'frighten', 'macho', 'sander', 'greenland', 'bahar', 'gholipouror', 'alterwir', 'followu', 'tan', 'eleni', 'lino', 'par', 'melanoma', 'eastern', 'basal', 'squamou', 'brenda', 'cartmel', 'legislatur', 'sclerosi', 'walnut', 'flaxse', 'cod', 'princess', 'illness…', 'uncommon', 'predomin', 'sicken', 'ripe', '“risk', '“anoth', 'restroom', 'bleach', 'clia', 'thousandth', 'peikin', 'upcom', 'unannounc', 'sanitari', 'vest', 'precancer', 'swab', 'arbyn', 'attila', 'lorincz', 'unaccept', 'quo', 'abryn', 'reassur', 'oh', 'umea', 'maria', 'wennberg', '“…our', 'results…', 'gameplay', 'stefan', 'duma', 'biomechan', 'paramet', 'acceler', 'hail', 'riddel', 'vsr', 'revolut', 'years’', '“appl', 'configur', '“up', 'persuad', 'equipment…', 'neurosurgeri', 'mourn', 'overlap', 'nutrisystem', 'startl', 'ochner', 'fans…a', 'fabricator', 'luke’', 'roosevelt', 'year…', 'massiv', 'rail', 'offend', '“diet”', 'zenko', 'hrynkiw', 'brookwood', 'triniti', 'snowstorm', 'neurosurgeon', 'farther', '‘i’m', '‘where’', 'trinity’', '“without', 'montclair', 'statewid', 'untold', '‘you', 'storm', 'metro', 'highway', 'chelsea', 'ala', 'strikingli', 'buckl', 'dietrich', 'jehl', 'eri', 'automak', 'fasten', 'unbelt', 'morbidli', 'bmi', 'eject', 'peggi', 'howel', 'obey', 'busti', 'strangl', 'deb', 'burgard', 'prais', 'ramif', 'nelson', 'seahawk', 'jar', 'squar', 'denver', 'bronco', 'peyton', 'enthus', 'punish', 'scarier', 'distinct', 'sizabl', 'poll—and', 'parents—said', 'hrynkim', '“realli', '“kind', 'masley', 'breakthrough', 'omnivor', 'meat—even', 'fats—which', 'dairy—rais', 'triglycerid', 'seventh', 'adventist', 'doctrin', 'legum', 'dawn', 'blatner', 'flexitarian', 'energ', 'sexier', 'meatless', 'armpit', 'agree—it', 'masculin', 'scent', 'dartmouth', 'couch', 'fest', 'kati', '‘thanksgiving’', 'jalapeno', 'popper', 'hefti', 'lee’', 'crush', 'cornflak', 'lengthwis', '½', 'skim', 'mozzarella', 'teaspoon', 'kosher', 'flour', 'beaten', 'preheat', 'oven', 'sheet', 'nonstick', 'sealabl', 'bag', 'pepper', 'dredg', '“chicken', 'fingers”', 'fat—a', 'friendly’', '‘gardein', 'alternative”', 'gardein', 'scallopini', 'cutlet', 'thaw', 'bbq', 'crispi', 'pita', '“pita', 'lycopen', 'pepperoni', 'bubbl', 'smother', '“then', 'cilantro', 'drizzl', 'glob', 'coin', '¼', 'minc', 'zig', 'zag', 'katieleehom', 'joan', 'pagano', 'nineti', 'squat', 'hunch', 'lengthen', '“brace', 'arch', 'ribcag', 'lat', '“while', 'pasta', 'boil…you', 'joanpaganofit', 'sushi', 'acog', 'banker', 'westfield', 'progesteron', 'toxin', 'amanda', 'seay', 'orbit', 'dilig', 'here’', 'scraper', 'brainer', 'sticki', '“saliva', 'salivari', 'debri', 'eclampsia', 'delays—even', 'collar', '“block', 'almost—if', 'all—th', 'goals—run', 'bench', 'fundament', 'circumfer', 'margaret', 'ashwel', 'stuart', 'mcgill', 'waterloo', 'verdict', 'stupid', 'puke', 'stu', 'work—h', 'claudio', 'gil', 'araújo', 'clinimex', 'rio', 'janeiro', 'movements—low', 'up—wer', '—and', 'goal—but', 'dan', 'pentathlon', 'orlean', 'amo', 'grunebaum', 'weill', 'cornel', 'fierc', 'amish', 'midwiv', 'triplet', 'midwif', 'breech', 'riskier', 'liter', 'grunebuam', 'labor', 'clench', 'fist—that’', 'quart', 'aorta', 'capillari', 'redeposit', 'vein', 'plumb', 'chambers—th', 'ventricles—connect', 'atrium', 'heart’', 'pacemak', 'deposit', 'platelet', 'dislodg', 'elsewher', 'ischemia', 'insuffici', 'activity—', 'temperature—can', 'angina', 'mistaken', 'indigest', 'migrat', 'palpit', 'errat', 'arrhythmia', 'electrocardiogram', 'ecg', 'ekg', 'ultrafast', 'cardiocatheter', 'threefold', 'angioplasti', 'inflat', 'clog', 'stent', 'bypass', 'backlog', 'pericard', 'inflam', 'symptom—short', 'spill', 'countless', 'tower', 'atop', 'ten', 'tenant', 'coliform', 'microb', 'fece', 'tower’', 'plug', 'epoxi', 'caulk', 'goin’', 'poxi', 'putti', 'bisphenol', 'bpa', 'building’', 'captiv', 'bureaucraci', '“unnecessary”', '“too', 'puriti', 'nation’', 'reservoir', 'upstat', 'purview', 'superintend', 'adher', 'bloodi', 'hepat', 'filtrat', 'filter', 'ewg’', 'epa’', 'herein', 'deirdr', 'imu', 'devot', 'dienviro', 'center™', 'hackensack', 'cattl', 'foxnewshealth', 'condom', 'republican', 'misunderstood', 'laid', 'dempsey', 'spur', 'steinbaum', 'decilit', 'dl', 'overestim', 'simplifi', 'monounsatur', 'polyunsatur', 'burger', 'fizzi', 'bulletin', 'firmer', 'disastr', 'roberto', 'vogli', 'grower', 'disincent', 'subsidi', 'tighter', 'deregul', 'transact', 'sharpest', 'ireland', 'stringent', 'greec', 'francesco', 'branca', 'welfar', 'align', 'meningococc', 'inocul', 'bexsero', 'novarti', 'ag', 'serotyp', 'mening', 'renew', 'submit', 'uc', 'ferri', 'column', 'stink', 'nonen', 'grassi', 'aka', 'breakdown', 'perspir', 'odorless', 'eccrin', 'apocrin', 'hairi', 'compos', 'antiperspir', 'deodor', 'aluminium', 'temporarili', 'pore', 'healthygeez', 'clearanc', 'pillcam', 'polyp', 'incomplet', 'colonoscopi', 'isra', 'endoscop', 'covidien', 'iarc', 'unten', 'richest', 'trillion', 'disproportion', 'bernard', 'stewart', 'lundahl', 'lincoln', 'cutoff', 'distort', 'raquel', 'hernandez', 'petersburg', 'lynn', 'brann', 'syracus', 'indirect', 'haidong', 'zhu', 'georgia', 'regent', 'augusta', 'exceed', 'elliott', 'antman', 'commend', 'bourg', 'irisin', 'dispers', '“good”', '“shiver', 'celi', 'commonwealth', 'adipos', 'experiment’', 'physicians…', 'inherit', 'gerstmann', 'strussler', 'scheinker', 'gss', 'uteru', 'preimplant', 'prion', 'creutzfeldt', 'jakob', 'cvd', 'cake', 'quanh', 'quintil', 'hadn’t', 'pathway', 'dyslipidemia', 'can…', 'rectum', 'fecal', 'immunochem', '“fits”', 'stool', 'oakland', '“adult', 'annal', 'markedli', 'surprisingli', 'occult', 'fobt', 'cumbersom', '“fobt', 'unwil', 'slight', 'perfor', 'cancer…', 'gruppuso', 'hockey', 'microstructur', 'brains’', 'microhemorrhag', 'echlin', '“how', 'pact', 'lupu', 'bristol', 'squibb', 'takeda', 'sanofi', 'guw', 'v', 'aabo', 'sørensen', 'prosthesi', 'rome', 'grail', 'mandarin', 'patrizia', 'tocci', 'sorensen', 'firework', 'rocket', 'explod', 'bionic', 'blindfold', 'dane', 'miniatur', 'tidi', 'alastair', 'ritchi', 'bioengin', 'viabil', 'preliminari', 'dexter', 'lifehand', 'intra', 'width', 'ulnar', 'gradat', 'cylind', 'unveil', 'silvestro', 'micera', 'ecol', 'polytechniqu', 'federal', 'lausann', 'cuola', 'sant', 'pisa', 'marla', 'reick', 'popcorn', 'stamp', 'preponder', 'roger', 'clemen', 'insolubl', '“fountain', 'libido', 'antigen', 'psa', 'ng', 'circadian', 'estrogen', 'gynecomastia', 'viagra', 'ciali', 'levitra', 'handicap', 'musician', 'stevi', 'kyoung', 'stumbl', 'biologist', 'kanold', 'darken', 'lit', 'circuitri', '“blind”', 'cochlear', 'blindness’', '“mayb', 'northwestern', 'jo', 'feinberg', 'refram', 'edit', 'desktop', 'object’', 'vividli', 'joel', 'voss', 'adam', 'bubon', 'pet', 'gaylord', 'charli', 'cascad', '“clearli', 'suffering”', 'grey', 'thirsti', 'lymphat', 'pneumon', 'septicaem', 'dug', 'gaylord’', '“…i', 'fluke', 'basket', 'yorgo', 'karahali', 'norrina', 'mmhg', 'prehypertens', 'cumul', '“that’', '‘i', 'mediterranean', 'firefight', 'hdl', 'stefano', 'puls', 'acoust', 'wenlong', 'cheng', 'shu', 'gong', 'ultrathin', 'aircraft', 'semiconductor', 'lithographi', 'nanomateri', 'monash', 'melbourn', 'capacitor', 'piezoelectr', 'brittl', 'astronautlik', 'oleylamin', 'miniscul', 'threadlik', 'twist', 'bend', 'lightweight', 'supplant', 'hasten', 'cyborg', 'stretchabl', 'adelaid', 'society’', 'wittert', 'bless', 'counterfeit', 'piraci', 'thierri', 'roge', 'rotten', 'cologn', 'antifreez', 'urin', 'salembi', 'authent', 'fbi', 'phoni', 'classifi', 'sinu', 'jeanett', 'graf', 'vendor', 'lookout', '“limit', 'edition”', 'perfume’', 'faux', 'iran', 'kamran', 'khazaeni', 'mashhad', 'linguist', 'pathologist', 'namak', 'persian', 'vowel', 'conson', 'iranian', 'reconstruct', 'rhinoplasti', 'vocal', 'pearlman', 'broadway', 'opera', 'sing', 'airflow', 'mina', 'constantinid', 'broadli', 'hardest', 'garcia', 'rawlin', 'pathogen', 'taylor', 'trypsin', 'entranc', 'brosen', 'nepal', 'whiskey', 'bet', 'pancharam', 'bishwokarma', 'gopeta', 'stag', 'sanjeev', 'khadka', 'siliguri', 'indian', 'bengal', 'pashupati', 'chaudhari', 'koirala', 'dharan', 'titl', 'ash', 'piehler', 'thorac', 'fascin', 'coffin', 'lavish', 'mahogani', 'casket', 'cremat', 'sand', 'ensu', 'earth', 'accomplish', 'regret', 'guarante', 'enlist', 'craftsman', 'proud', 'engrav', 'undersid', 'poem', 'fondli', 'ovarian', 'paclitaxel', 'carboplatin', 'spleen', 'unorthodox', 'skeptic', 'pharmalog', 'plausibl', 'jeann', 'drisko', 'azodiacarbonamid', 'coincid', 'vani', 'hari', 'foodbab', 'mat', 'elast', '‘eat', 'azodiacarbonamide’', 'victori', 'swift', 'testament', 'cdc’', 'mmwr', 'pneumonia', 'mere', 'tdap', 'pertussi', 'papilloma', 'shingl', 'zoster', '“vaccin', '“improv', 'leonard', 'nimoy', 'cast', 'premier', 'spock', 'string', 'grandpa', 'llap', 'abbrevi', 'prosper', 'nativ', 'synonym', 'vulcan', 'starship', 'enterpris', 'abram', 'franchis', 'loyal', 'avid', 'mussel', 'neurotoxin', 'domoic', 'reconsid', 'alga', 'world’', 'feeder', 'clam', 'scallop', 'amnes', 'shellfish', 'coastal', 'creatur', 'dolphin', 'darwin', 'colleague’', 'charleston', 'acid’', 'funk', 'rodents’', 'ppm', 'analog', 'glutam', 'kidney’', '“although', 'nephrolog', 'dreamstim', 'firstborn', 'auckland', 'infanc', 'fingernail', 'splinter', 'vertic', 'lodg', 'onychocyt', 'matricoma', 'beneath', 'lunula', 'dori', 'whitish', 'moon', 'melanocyt', 'melanin', 'malign', 'recurr', 'vtt', 'finland', 'fluctuat', '“weight', 'leena', 'orsama', 'coax', 'alongsid', 'capaldi', 'dislik', 'unsweeten', 'milder', 'picki', 'devina', 'wadhera', 'olymp', 'lindsey', 'vonn', 'devast', 'sunk', 'unstabl', 'applaud', 'health—even', 'fearless', 'divorc', 'scariest', 'terrifying—and', 'lettuc', 'envi', 'cheeseburg', 'happiest', 'paddl', 'jet', 'skiing—th', 'tiger', 'golf', 'patience—on', 'tournament', 'ping', 'pong', 'kraft', 'mac', 'gatorad', 'bromin', 'sketchi', 'petroleum', 'beet', 'turmer', 'bvo', 'bromine—a', 'flame', 'retardants—and', 'emulsifi', 'nasti', 'ammonia', 'annatto', 'butyl', 'hydroxyanisol', 'bha', 'cart', 'ridicul', 'ah', 'gloriou', 'cacao', 'nib', 'cinnamon', 'cashew', 'sprinkl', 'cardamom', 'packet', 'jason’', 'purse—al', 'cracker', 'blend', 'want—i’m', 'mélang', 'snacks—you', 'mixer', 'stir', 'vanilla', '“cookies”', 'granola—littl', 'they’ll', 'ant', 'raisin', 'curri', 'satay', 'savori', 'cider', 'vinegar', 'tangi', 'fanci', 'trout', 'crumb', 'endless', 'raven', '“rebound', 'hunger”', 'fructos', 'syrup—account', 'imped', 'leptin', '“satiat', 'hormone”', 'tip—add', 'pancak', 'syrup', 'leafi', 'folat', 'quash', 'romain', 'collard', 'radicchio', 'rebound', 'outsmart', 'handi', 'envis', 'sizzl', 'steak', 'rumbl', 'pang', 'breakfast—or', 'snack—then', 'uncheck', 'heidi', 'hanna', '“stressahol', '“stress', 'nag', 'busier', 'are…', 'void', 'disengag', 'vibrat', 'synergyprogram', 'heel', 'sleepless', 'chore', 'onepluson', 'romant', 'schwartz', 'parallel', 'carv', 'shaunti', 'feldhahn', 'tow', 'partner—coffe', 'ready—remind', 'francin', 'leder', 'gottman', 'tab', 'reciproc', 'whisper', 'game—whatev', '“make', '“schedul', 'foreplay', 'intimaci', 'compliment', 'shortcom', 'bode', 'amidst', 'lightheart', 'humor', 'grandma’', 'babysitt', 'marina', 'folsom', 'drought', 'we’d', 'precipit', 'governor', 'jerri', 'declar', 'drought’', 'interplay', 'censu', 'farmer', 'rancher', 'region’', 'rebat', 'toilet', 'sprinkler', 'project’', 'dwindl', 'dishwash', 'agency’', 'watersens', 'slate', 'ponder', 'sizeabl', 'kiwi', 'plum', 'portend', 'we’ll', 'freakishli', '“freak”', 'hurrican', 'sandi', 'coast', 'flood', 'rage', 'wildfir', 'repercuss', 'hall', 'highland', '“particularli', '‘', 'historian', '“prior', 'landmark', 'misnom', 'eric', 'boerwinkl', 'diesel', 'particul', 'boom', 'bracket', 'dian', 'lauderdal', 'exposed…', 'perrera', '“secondhand', '“kid', 'dichlorodiphenyltrichloroethan', 'insecticid', 'boomers’', 'vivid', 'features…', '“evid', 'playth', 'vapor', 'rug', 'dump', 'minamata', 'perara', '‘what', '‘woe', '“biolog', 'fitter', 'rughwani', '“successful”', '‘’i’m', 'invari', '“until', 'one’', 'soul', 'unawaken', 'anatol', 'commemor', 'poodl', 'buri', 'koby’', 'temperament', 'palpabl', 'grief', 'silli', 'cara', 'heartbroken', 'lola', 'cat…”', 'cara’', 'sean', 'distraught', 'goldendoodl', 'rusti', 'uncertain', 'furri', 'overreact', 'cathart', 'kinder', 'you’d', 'cherish', 'honor', 'empath', 'lieu', 'circumv', 'platitud', 'kailin', 'pipe', 'vend', 'portland', 'oswaldo', 'riva', 'ctv', 'pyrex', 'paraphernalia', 'durc', '“variou', 'hiv', 'sore', 'polka', 'philip', 'seymour', 'hoffman’', 'overdos', 'spotlight', 'heroin', 'vicodin', 'percocet', 'instantan', 'euphoria', 'marco', 'phoenix', 'captur', '“someth', '“bag”', 'lace', 'fentanyl', 'potenc', 'shoot', 'dope', 'impoverish', 'me…in', 'suboxon', 'opiat', 'agonist', 'antagonist', 'methadon', 'siegel', 'internist', 'expend', 'skate', 'compendium', 'elit', 'racer', 'kilogram', 'km', 'downhil', 'bobsled', 'luge', 'spectat', 'cotton', 'sled', 'athletic', 'shutterstock', 'enterica', 'callend', 'reheat', 'uncook', 'microbi', 'wattag', 'celsiu', 'gonzalo', 'fuent', 'fang', 'carlsen', 'prick', 'pink', 'sportscast', 'conjunctiva', 'eyelid', 'eyebal', 'maladi', 'redden', 'wateri', 'cloudi', 'dander', 'eyedrop', 'dryness', 'wearer', 'pillow', 'washcloth', 'eyelin', 'reced', 'hairlin', 'hered', '•', 'stressor', 'senn', 'vote', 'formul', 'wage', 'drift', 'panelist', 'ellenberg', 'conced', 'kaboli', 'settl', 'sanjay', 'kaul', 'everett', 'shook', 'usher', 'chikungunya', 'mosquito', 'chik', 'un', 'gun', 'ya', 'stoop', 'destin', 'guadeloup', 'martiniqu', 'aed', 'aegypti', 'albopictu', 'laura', 'harrington', 'entomolog', 'incub', 'rainfal', 'northward', 'net', 'miseri', 'reinfect', 'howi', 'mandel', 'mario', 'anzuoni', 'atrial', 'fibril', 'fib', 'healthlin', 'fame', 'tape', '“scare', 'stethoscop', 'uh', 'flutter', 'talker', 'tb', 'ventricl', 'quiver', '“fib', 'facts”', 'cardiovers', 'faint', 'fibsorfact', 'arkebau', 'glad', 'phenylethylamin', 'passion', 'oyster', 'legend', 'casanova', 'zinc', 'aphrodisiac', 'ancient', 'roman', 'symbol', 'venu', 'goddess', 'newlyw', 'soup', 'honeymoon', 'curv', 'biotin', 'cayenn', 'cumin', 'amor', 'capsaicin', 'chili', 'fieri', 'rev', 'stamina', 'manitoba', 'mcgavock', 'winnipeg', 'policymak', 'afterschool', 'dissemin', 'slogan', 'curriculum', 'reevalu', 'shrunk', 'indigen', 'pont', 'dell', 'provision', 'rex', 'arbogast', 'sorbic', 'natamycin', 'mold', 'blogger', 'azodicarbonamid', 'starbuck', 'cartoon', 'graze', 'pastur', 'shelv', 'circl', 'gavin', 'schmidt', 'shelf', 'northfield', 'oscar', 'mayer', 'jell', 'planter', 'maxwel', 'drawback', 'nokia', 'blackberri', 'tsto', 'underrepres', 'symptomsof', 'remot', 'unconcern', 'association’', 'apa', '“extrem', 'stress”', 'hannah', 'sturgil', 'workload', 'norman', 'apa’', 'today’', 'someone’', 'biannual', 'mammographi', 'intramuscular', 'pinch', 'overli', 'immobil', 'vacil', 'mathemat', 'tamer', 'orabi', 'mathematician', 'guelph', 'nonmandatori', 'mimick', 'norm', 'sword', 'nonvaccin', 'nightli', 'anchorman', 'brokaw', 'news’', 'myeloma', 'plasma', '“approxim', 'premalign', 'freder', 'reu', 'hematolog', 'caucasian', 'curabl', 'remiss', 'myoloma', 'thalidomid', 'bortezomib', 'lenalidomid', 'neuropathi', 'brokaw’', 'stomp', 'bolingbrook', 'myeloid', 'deck', 'smiley', 'spirit', 'freshman', 'rough', '‘god', 'roof', 'william’', 'esrd', 'extern', 'judith', 'lichtman', 'dew', 'constrict', 'prudent', 'lackland', 'machel', 'pardu', 'opthamolog', 'neuroprotect', 'vegf', 'leak', 'neurotroph', 'bdnf', '“bdnf', 'persev', 'riverfront', 'promenad', 'peruvian', 'iquito', 'amazon', 'lighthous', 'botanist', 'wildlif', 'preservationist', 'toil', 'biodivers', 'ecosystem', 'reappear', 'mats', 'yagua', 'shipibo', 'tribal', 'grizzl', 'sunburn', 'conrad', 'outright', 'rag', 'pursuit', 'vagu', 'tale', 'faraway', 'expat', 'citizenship', 'victorian', 'gentleman', 'grime', 'formerli', 'parad', 'bitten', 'jungl', 'camaraderi', 'refresh', 'wholesom', 'club’', 'cafe', 'dusk', 'arrow', 'tribe', 'encroach', 'narco', 'traffick', 'jaguar', 'poacher', 'manuscript', 'shaman', 'residu', 'sapo', 'frog', 'porter', 'timber', 'grandeur', 'britain’', 'geograph', 'marbl', 'statuari', 'brass', 'trumpet', 'sieg', 'ceaseless', 'rainforest', 'patio', 'furnitur', 'tortur', 'nonetheless', 'hum', 'jewel', 'varieg', 'shade', 'humbl', 'immens', 'exploratori', 'siberia', 'ethnobotani', 'amherst', 'radio', 'naturex', 'avignon', 'medicinehunt', 'strasbourg', 'kessler', 'unknowingli', 'lisen', 'arnheim', 'dahlström', 'biostatist', 'institutet', 'also…consid', 'complianc', 'asymptomat', 'helicobact', 'pylori', 'cytomegaloviru', 'atherosclerot', 'clinton', 'wright', 'evelyn', 'mcknight', 'agents…i', 'atherosclerosis…which', 'partook', 'manhattan', 'psychomotor', 'sociodemograhp', 'takeaway', 'corrod', 'volleybal', 'sophia', 'wang', 'delin', 'beckman', 'duart', 'expect…for', 'ethnic', 'earwax', 'monel', 'underarm', 'unlock', 'orient', 'preti', 'remaind', 'descent', 'volatil', 'voc', 'katharin', 'prokop', 'prigg', 'nadya', 'swedan', 'phenomen', 'uneven', 'placement', 'destabil', 'ici', 'sprain', 'ligament', 'acl', 'meniscu', 'itb', 'pelvic', 'tailbon', 'seldom', 'stiffer', 'loos', 'cadenc', '“snow', 'days”', 'overtrain', 'ellipt', 'labral', 'tendin', 'snowsho', 'physiatrist', 'shore', 'lij', 'manhasset', 'drnadya', 'unkind', 'woodi', 'taxicab', 'screw', 'yuk', 'florenc', 'nightingal', 'ratch', 'medpag', 'vip', 'ischem', 'undervaccin', 'nanci', 'gorelick', 'merci', 'hauenstein', 'congenit', 'positron', 'tomographi', 'irrevers', 'lisa', 'mosconi', 'man’', 'benzen', 'herbicid', 'overh', 'sauna', 'overheat', 'testicl', 'varicocel', 'gonorrhea', 'viril', 'neurointoxic', 'neurodevelopment', '“silent', 'epidemic”', 'manganes', 'fluorid', 'chlorpyrifo', 'dichlorodiphenyl', 'trichloroethan', 'tetrachloroethylen', 'polybromin', 'diphenyl', '“chlorpyrifo', 'landrigan', 'solvent', 'retard', 'methylmercuri', 'polychlorin', 'biphenyl', 'toluen', 'grandjean', 'wondrou', 'bipartisan', 'lautenberg', 'vitter', 'nonpartisan', 'secondli', 'worthwhil', 'carpet', '“lastli', '‘whi', '‘freshman', '‘food', '“through', 'recess', 'instabl', 'lópez', 'cevallo', 'student’', 'psychosoci', '“concern', 'thave', 'farmer’', '“ultim', 'dyslexia', 'spell', 'harrar', 'dyslex', 'asymmetri', 'speaker', 'headphon', 'confound', 'multisensori', 'about…', 'jane', 'harrison', 'antonio', 'gay', 'maryjan', 'shrink', 'unitedhealth', 'exclud', 'waiver', 'underscor', 'budg', 'bariatr', 'stagnat', 'downturn', 'hurdl', 'overhaul', 'pisano', 'cardiolog', 'gastric', 'recoup', 'mercer', 'carson', 'liu', 'katz', 'aaa', 'dispar', 'stagnant', 'widen', 'mehrotra', 'waitlist', 'state’', 'procur', 'opo', 'dsa', 'retrospect', 'devis', 'oftentim', 'friedewald', 'outliv', 'longev', 'equiti', 'alvin', 'craig', 'mccaw', 'nobel', '“…sometim', 'incompat', '“exchange”', 'ndd', 'abecassi', 'wilcox', 'trunk', 'yun', 'alta', 'sag', 'vertebra', 'disc', 'pilat', 'bewar', 'dive', 'restructur', 'upright', 'franci', 'jwm', 'pillar', 'xpress', 'mcbeth', 'keel', 'staffordshir', 'lam', 'berkeley', 'rode', 'bart', 'sf', 'commut', 'unidentifi', 'contra', 'abroad', 'berreman', 'brazilian', 'nonsmok', 'fabio', 'pitta', 'londrina', 'deleteri', 'karina', 'furlanetto', 'respirolog', 'underlin', 'edelman', 'quitter', 'decod', 'tingl', 'nieca', 'tisch', 'panic', 'trembl', 'terror', 'doom', 'headed', 'shortli', 'promptli', 'atherosclerosis—a', 'spontan', 'henryk', 'sadura', 'petri', 'norovirus—a', 'flu—to', 'heav', 'stamm', 'chapel', 'ashor', 'germiest', 'hotspot', 'keyboard', 'computer—food', 'worker’', 'stinki', 'monthli', 'basis—', '“anyth', 'office—lik', 'fridge—can', 'mitt', 'contagion', 'staphylococcu', 'aureus—th', 'infections—in', 'nsf', 'damp', 'microorgan', 'microbiolog', 'dry—and', 'meet—and', 'spreader', 'improperli', 'cash', 'stash', 'wipes—mani', 'reusabl', 'lug', 'bacteria—from', 'meat—and', 'clicker', 'maid', 'equipment—', 'japanes', 'staph', 'polyest', 'gloves—not', 'workout—wip', 'overindulg', 'nikolao', 'pyrsopol', 'hepatolog', 'liverfound', 'varicos', 'bulg', 'common—', 'phlebolog', '“pregnanc', 'lui', 'vena', 'cava', 'graviti', '“dilat', 'rosser', 'montefior', 'vulva', 'hemorrhoid', '“varicos', 'superfici', 'predisposit', 'interior', 'prop', 'hose', 'redirect', 'pantyhos', 'doc', 'mcmeekin', 'bebe', 'dharapak', 'benchmark', 'bleak', 'nondis', 'siperstein', 'baromet', 'lynna', 'ruttledg', 'schoolteach', 'walgreen', 'safeway', 'relic', 'discriminatori', 'defend', 'buse', 'workday', 'collat', 'paycheck', 'emphat', 'rattl', 'vermont', 'subminimum', 'corbin', 'contractor', 'ken', 'melvin', 'crawfordsvil', 'pickup', 'tractor', 'socioeconom', 'cacioppo', 'companionship', 'mutual', 'elastin', 'nichol', 'gallon', 'enlarg', 'cardiomegali', '“an', 'echocardiogram', 'transient', 'rfid', 'tagdr', '“transient', 'electronics”', 'dissolv', 'urbana', 'champaign', '“…it’', 'generation’', 'electronics’', 'wafer', 'nanomet', 'tungsten', 'cellulos', 'circuit’', 'dissolut', 'layer’', 'atom', 'stringi', 'adjac', 'tightli', 'cranial', 'drill', 'skull…', 'biocompat', '“…so', 'curran', 'shanshan', 'concert', 'biogerontolog', 'alh', 'worm', 'fed', 'caenorhabd', 'elegan', 'mitochondri', 'nutrigenet', 'apoa', 'nevertheless', 'snowbal', 'bogart', 'distant', 'cyberbulli', 'taunt', 'unexplain', 'scratch', 'bruis', 'bisexu', 'transgend', '“h”', '“hispan', 'latino”', '“a”', '“asian”', 'eva', 'realopt', 'graph', 'planner', 'doomsday', 'plot', 'thriller', 'univeristi', 'sift', 'crisi', 'them…', 'smallpox', 'anthrax', '“…they', '‘okay', 'them…wher', 'personnel', '“timelin', 'ranbaxi', 'gurgaon', 'delhi', 'adnan', 'abidi', 'laps', 'india', 'hamburg', 'sacrific', 'americans’', 'penalti', 'spuriou', 'accutan', 'neurontin', 'cipro', 'adulter', 'lifecycl', 'pacifi', 'sooner', 'nicu', 'nathali', 'maitr', 'hush', 'preemi', 'jayn', 'standley', 'tallahasse', 'ampl', 'pavlov', 'lullabi', 'melodi', 'octav', 'repetit', 'livabl', 'monday’', 'thiamin', 'riboflavin', 'pantothen', 'compel', 'eggplant', 'lasagna', 'rosacea', 'lotion', 'potion', 'unwant', 'brighter', 'cutan', 'glycem', 'iodiz', 'aggrav', 'everyone’', 'banish', 'butternut', 'sunflow', 'apricot', 'pumpkin', 'stubborn', 'flax', 'chia', 'jacquelin', 'motherhood', 'jbholist', 'haze', 'guangzhou', 'guangdong', 'cori', 'slechta', 'smallest', 'ultrafin', '‘do', 'slectha', 'unfilt', 'natal', 'cerebrospin', '‘white', 'ventriculomegali', 'atmospher', 'bobsl', 'holcomb', 'villag', 'sochi', 'gaillard', 'olympian', 'bronz', 'medal', 'holcomb’', 'feat', 'keratoconu', 'cornea', 'torino', 'autobiographi', 'boxer', 'wachler', 'he’d', 'crossroad', 'corneal', '“steven', 'skyscrap', 'ascend', 'pinnacl', 'renam', 'keracotonu', 'stood', 'glioblastoma', 'nanofib', 'polycaprolacton', 'pcl', 'polyurethan', 'latch', 'monorail', 'ravi', 'bellamkonda', 'coulter', '“tumor', 'collector”', 'collector', 'gioblastoma', 'inoper', 'pressru', 'yosef', 'mizrahi', 'mexican', 'nopalito', 'cactu', 'desert', 'gurion', 'negev', 'silverman', 'edibl', 'cacti', '“nopal', 'nopal', 'moncrotopho', 'cacti’', 'peel', 'myfoxla', 'incess', 'tail', 'stalk', 'relentless', 'paw', 'ocd', 'herit', 'elinor', 'karlsson', 'earliest', 'hoard', 'wag', 'doberman', 'pinscher', 'bull', 'terrier', 'shetland', 'sheepdog', 'shepherd', 'outrag', 'rung', 'unravel', 'kloer', 'matznick', 'behaviorist', 'breeder', 'carrier', 'neurology’', 'similarli', 'heads’', 'schutt', 'frank', 'condi', '“yet', 'headwear', 'nostalg', 'née', 'prune', 'saltwat', 'gargl', 'hagen', 'care—tri', 'oldi', 'raymond', 'norfolk', 'queasi', 'bengay', 'ointment', 'menthol', 'ugh', 'acosta', 'scentless', 'decidedli', 'unsexi', 'rebrand', 'trendier', 'psyllium', 'pepto', 'bismol', 'diarrhea—and', 'cabinet', 'wane', 'scene', 'excedrin', 'jelli', 'vogu', 'newfangl', 'springfield', 'wisdom', 'moist', 'packs—especi', 'snowi', 'hydroxytryptophan', 'htp', 'dopamin', '“feel', 'good”', 'clostridium', 'difficil', 'bacteriacdc', 'akin', 'exempt', 'lipitor', 'basement', 'enema', 'openbiom', 'recur', 'moor', 'wichita', 'endors', 'reclassif', 'kamep', 'lima', 'diff', 'offset', 'patent', 'ramucirumab', 'allay', 'docetaxel', 'bmo', 'arfaei', 'imclon', 'dorothi', 'dunlop', 'acceleromet', 'and…on', '“be', 'people…who', 'sluggishli', 'idl', 'infrequ', '“howev', 'conundrum', 'discours', 'miser', 'dirti', 'diaper', 'needi', 'kiddo', 'offspr', 'buzz', 'ecco', 'unsurprisingli', 'various', 'childfre', 'extran', 'smidg', 'custodi', 'bliss', 'anybodi', 'bonni', 'le', 'supervisedbi', 'emili', 'impett', 'conscious', 'tantrum', 'latham', 'immobl', 'enorm', 'hearti', 'ucl', 'unrespons', 'wardl', '‘fullness’', 'variant', 'clare', 'llewellyn', 'extinguish', 'ashtray', 'shanghai', 'railway', 'who’', 'framework', 'fctc', 'fctc’', 'hanauer', 'trustworthi', 'healthgrad', 'ratemd', 'lagu', 'baystat', 'schuchat', 'antivir', 'von', 'encinita', 'fcm', '“caus', 'paper’', 'stakehold', 'utmost', 'demid', 'olga', 'dophoto', 'bacon—or', 'sausage—a', 'stockholm', 'symptoms—such', 'jaundic', 'loss—they', 'nonspecif', 'bison', 'silhouet', 'theodor', 'malgorzata', 'litkowska', 'witter', 'healthway', 'saddest', 'aloha', 'hawaiian', 'despair', 'bakken', 'influx', 'unemploy', 'noteworthi', 'underl', 'dentistri', 'borough', 'allegri', 'behest', 'grassroot', 'contin', 'fungicid', 'sum', 'naturalnew', 'arby’', 'gray', 'unappet', 'subway’', 'purveyor', 'ought', 'cave', 'lend', 'quarterli', 'consortium', '“tension', 'tth', 'population—', 'sara', 'schramm', 'duisburg', 'essen', 'frequenc', 'subtyp', 'unilater', 'pulsat', '“psycholog', 'poop', 'offput', 'jofr', 'millennia', 'dazzl', 'beer', 'ferment', 'dioxid', 'kimchi', 'salami', 'chewi', 'pee', 'stuf', 'lactic', 'spoil', 'urinari', 'microbiologist', 'catalonia', 'irta', 'girona', 'lactobacillu', 'bifidobacterium', 'abund', 'excrement', 'fuet', 'spanish', 'chorizo', 'paprika', 'taster', 'agenda', 'mcbride', 'shoestr', 'salari', 'simulcast', 'entic', 'moni', 'brca', 'mastectomi', 'hysterectomi', 'mcmath', 'omari', 'sealey', 'jahi', 'tonsil', '“much', 'jahi’', 'nailah', 'winkfield', '“give', 'unselfish', 'generos', 'family’', 'honestli', 'neurocrit', 'winkfield’', 'vigor', 'edward', 'archer', '“vigor', 'activity”', '“stand', '‘princess', 'parade’', 'dickinson', 'khsb', 'lankford', 'rhabdomyosarcoma', 'claire’', 'hugh', 'eyelash', '‘good', 'hors', 'carriag', '‘beauti', 'beast’', 'kshb', '“no', 'cochlea', 'albert', 'mammalian', '“with', 'gabriel', 'skullassoci', 'print', 'templat', 'manuel', 'dela', 'cruz', 'gabriel’', 'son’', 'forehead', 'quogu', '“hi', 'protrud', 'coron', 'synostosi', 'anterior', 'plagiocephali', 'fuse', 'asymmetr', '“know', 'up…it', 'colo', 'egnor', 'elliot', 'duboy', 'operation’', 'head…', '“use', 'symmetri', 'dimens', 'stencil…', '“…gabriel', 'dear', 'grape', 'jay', 'tyramin', 'citru', 'sauerkraut', 'maoi', 'rosalind', 'eel', 'scanner', 'szabo', 'ancestor', 'andic', 'mta', 'elt', 'etholog', 'hungari', 'fmri', 'owner’', 'goodson', 'dalla', 'blown', 'electrolyt', 'refuel', 'kruse', 'hoag', 'realistic—and', 'skimp', '“stretch', 'deadlin', 'swamp', 'goofi', 'fotinak', 'gordon', 'douglass', 'periodontolog', 'swish', '“choos', 'hungry—not', 'flick', '“perform', 'provoc', 'nightmares—ev', 'yike', 'mode', 'stressahol', 'grid', '“digit', 'detox”—get', 'media—i', '“don’t', 'neat', 'fidget', 'narcot', 'opioid', 'hydrocodon', 'oxycodon', 'morphin', 'pinar', 'karaca', 'mandic', 'misus', 'sidewalk', 'slush', 'roadway', 'electrocut', 'avenu', 'downtown', 'cordon', 'manhol', 'doorknob', 'gothamist', 'consolid', 'edison', 'ed', 'jodi', 'reviv', 'cardiopulmonari', 'resuscit', 'cpr', 'pit', 'bella', 'inorgan', 'chlorid', 'nacl', 'cacl', 'mgcl', 'potassium', 'kcl', 'deicer', 'deic', 'meltwat', 'conduit', 'fray', 'bowen', 'sweeney', 'sami', 'bradi', '“day', 'lives”', 'lest', 'ali—who', '“days”—just', 'scriptless', 'megan', 'sanov', 'patrol', 'seren', 'else—y', 'bland', 'enemi', 'loser”', 'alison', 'concret', 'sense—h', 'financ', 'insurmount', 'shel', 'silverstein', 'whale', 'shout', 'tong', 'bummer', 'persona', 'grata', 'salem', 'play—i', '—a', 'kitten', 'lesson—learn', 'til', 'karat', 'paediatr', '“sometim', 'cot', 'dorfman', '“prepar', 'reclin', 'pretend', 'aussi', 'solar', 'inher', 'rack', 'hodgkin', 'sarcoma', 'sneaki', 'asbesto', 'stiffen', 'breather', 'asbestosi', 'kicker', 'mesothelioma', 'nope', 'ticker', 'firefighters’', 'blaze', 'sun”', 'airlin', 'iceland', 'cosmic', 'pilots’', 'sunbath', 'cushi', 'ergonom', 'gobbl', 'jockeying’', 'leisur', 'sax', 'physiolog', '“sit', 'alic', 'chen', '“beyond', 'atrophi', 'underdevelop', 'habitu', 'cooler', 'technogym', 'ballchair', 'wobbl', 'ambassador', 'qr', 'circular', 'counterclockwis', 'obliqu', 'quad', 'hamstr', 'glute', 'ball—', 'blinch', 'acetaminophen', 'trimest', 'ritz', 'hyperkinet', 'hkd', 'strongest', 'drug…', '‘not', 'neurodevelop', '“think', 'keyhol', 'door…', 'bodies…', 'chapa', 'judici', 'taurin', 'guarana', 'creatin', 'guzzl', 'extracurricular', 'flashi', 'almighti', 'veendam', 'mazatlan', 'ft', 'specimen', 'panama', 'canal', 'caribbean’', 'delus', 'psychosi', 'swaran', 'singh', 'immigr', 'hardship', 'fleet', 'offhand', 'dataset', 'avon', 'longitudin', 'nurseri', 'recept', 'unaccount', 'mancuso', 'alpin', 'rosa', 'khutor', 'medalist', 'podium', 'ceremoni', 'skier', 'cortina', 'champion', 'ladies’', 'snag', 'slalom', 'fi', 'championship', 'decor', 'lindsay', '“…there’', 'alp', 'squaw', 'valley', 'refreshed…then', 'athletes…and', 'islands’', 'slope', 'zico', 'bask', 'zip', 'mountaintop', 'molli', 'moreland', 'wagner', 'moreland’', 'scleros', 'cholang', 'wagner’', 'uno', 'fung', 'clinic’', '‘are', '‘no', '“long', 'remnant', 'deplet', 'donors’', 'life…and', 'anybody’', 'nlodfohio', 'ketamin', 'electroconvuls', 'ect', 'anesthet', '“special', 'newest', 'lexapro', 'effexor', 'unremit', 'forthcom', 'signatur', 'rebecka', 'peebl', 'perelman', 'entiti', 'nervosa', 'nighttim', 'manual', 'dsm', 'inconsist', 'neq', 'purg', 'cristin', 'runfola', 'kir', 'neda', 'carolin', 'bulimia', 'unpreced', '“boy', 'flourish', 'intrins', 'extrins', 'i’d', 'filmmak', 'harold', 'rami', 'ghostbust', 'groundhog’', 'vascul', 'aneur', 'manifest', 'sahil', 'parikh', 'whichev', 'depict', 'overact', 'incapacit', 'relearn', 'rheumat', 'sjögren', 'factors…and', 'hive', 'dissimilar', 'angiographi', 'disorder’', 'immunosuppress', 'unpredict', 'chernin', '“scream', 'rooms”', 'disciplin', 'misbehav', 'infract', 'spitbal', 'seclus', 'weep', 'overst', 'imprison', 'humili', 'kindl', 'nightmar', 'flashback', 'powerless', 'disciplinari', 'perpetr', 'solitari', 'warden', 'inmat', 'empathet', 'foul', 'selfi', 'padlock', 'sein', 'platiau', '‘selfies’', 'lice', 'sfist', 'marci', 'mcquillan', 'nitless', 'nogin', '“typic', 'pic', 'tenfold', 'researchers’', 'pna', 'compounds—known', 'glycat', 'ages—in', '“onli', 'vlassara', 'geriatr', 'enzyme—cal', 'sirt', '—i', 'nucleic', 'diet—meat', 'drier', 'char', 'mechanisms—in', 'already…', 'absorpt', 'agav', 'darker', 'bang', 'cranberri', 'raspberri', 'sweeter', 'mango', 'nanoparticl', 'thrombosi', 'widow', 'fifti', 'bereav', 'faulti', 'angelina', 'joli', 'oophorectomi', 'narod', 'claudin', 'isaac', 'domchek', 'basser', 'menopaus', 'periton', 'interestingli', 'peshkin', 'lauren', 'dubin', 'olney', 'aunt', 'cousin', 'devick', 'urgenc', 'grave', 'balcer', '“sinc', 'ways—', 'baselin', 'sac', 'bess', 'preseason', '‘toolbox’', 'toolbox', 'shear', 'brooklyn’', 'hipster', 'beard', '“facial', 'transplants”', 'patchi', 'stubbl', '“brooklyn', '‘look’', 'spotti', 'epstein', 'midtown', 'lumberjack', 'roadi', 'hybrid', 'williamsburg', 'bushwick', 'danni', '“fill', 'in”', 'edgi', '‘rug', 'nomin', 'gupta', 'cnn’', 'gupta’', 'credenti', 'embodi', '“america’', 'vivek', 'murthi', 'murthy’', 'prestigi', 'overse', 'mrc', 'anesthesiolog', 'chairwoman', 'specialti', 'chairmen', 'chairwomen', 'lobbi', 'miracul', 'personifi', 'tinetti', 'antihypertens', 'diuret', 'tenoret', 'lopressor', 'publicli', 'unsteadi', 'commentari', 'lightheaded', 'tradeoff', 'happili', 'adena', 'galinski', 'demographi', 'encompass', 'amelia', 'karrak', 'wellb', 'intersect', 'wive', 'gerontolog', 'psychiatrist’', '“bible”', 'manual’', 'tr', 'subgroup', 'asperger’', 'pdd', 'continuum', 'scd', 'systemat', 'kristin', 'kulag', 'scholarship', 'prostatectomi', '“watch', 'wait”', 'chek', 'palb', 'limitless', 'killer”', 'revok', 'zohydra', 'analges', 'overprescrib', 'cnn', 'zogenix', 'reznikoff', 'hennepin', 'haemophilu', 'dtap', 'ipv', 'hib', '“mmr', 'sørup', 'ci', 'kerstin', 'hellwig', 'progestin', 'causal', 'amount…', 'justif', 'dystrophi', 'mitochondria', 'sportier', 'jeremi', 'farrar', 'wellcom', 'chariti', 'swiftli', 'braud', 'newcastl', 'pronuclear', 'spindl', 'vanguard', 'evan', 'eichler', '“five', '“…there', 'bia', 'sébastien', 'jacquemont', 'unequivoc', 'delet', 'development…imagin', 'weaker', 'novo', '“dad', 'mack', 'nff', 'gigi', 'scout', 'bridget', 'colleen', 'propel', 'fourteen', 'resili', 'tbi', 'neurogenesi', 'aron', 'barbey', 'polymorph', 'val', 'methionin', 'valin', 'vietnam', 'focal', 'prefront', 'subjects’', 'qualif', 'drew', 'intracellular', 'reorgan', 'converg', 'egyptian', 'egypt', '“miracle”', 'maj', 'gen', 'ibrahim', 'abdul', 'atti', 'aptli', '“complet', 'device”', 'contrapt', 'antenna', 'swivel', 'purifi', '“defeat', 'rational', 'thomson', 'essam', 'heggi', 'planetari', 'nasa', 'egypt’', 'interim', 'illusionari', 'goodman', 'perplex', 'counterintuit', 'lindley', 'dissatisfi', 'copay', 'grandfath', 'leari', 'aurora', '‘out', 'taylo', 'goldsboro', 'unimmun', 'orenstein', 'santiago', 'hom', 'dominican', 'republ', 'davinci', 'avatar', 'delic', 'danilo', 'medina', 'sanchez', 'espanol', 'renown', 'part…', '“big', 'caesarean', 'neena', 'modi', 'hrh', 'leonor', 'photographi', 'neill', 'madelein', 'kungahuset', 'se', 'o’neil', 'presbyterian', 'lilian', 'throne', 'royalti', 'figurehead', 'etiquett', 'dual', 'diplomaci', 'madeleine’', '‘h', 'duchess', 'gotland', '“deathly”', 'estonia', 'alpha', 'glycoprotein', 'albumin', 'vldl', 'citrat', 'nonvascular', 'idesign', 'amyotroph', 'lou', 'gehrig’', 'hc', 'hypercalor', 'hf', 'micro', 'rna', 'kim', 'kardashian', 'leann', 'rime', 'guinea', 'viniegra', 'cnio', 'antagomir', 'erwin', 'lebwohl', 'anytim', 'asp', 'murphi', 'nip', 'tuck', 'diaphragm', 'fingertip', 'didier', 'pittet', 'decontamin', 'anesthesiologist', 'wisdom’', 'unsworth', 'derriford', 'plymouth', 'departur', 'jarvi', 'sofia', 'lucil', 'packard', 'palo', 'alto', 'martha', 'mendoza', 'sen', 'formal', 'amplifi', 'jamila', 'flaccid', 'haren', 'hints—factor', 'are—but', 'berga', 'ob', 'gyn', 'baptist', 'winston', 'soundli', 'brusher', 'strenuous', 'celiac', 'electromagnet', 'emit', 'freezer', 'fridg', 'whip', 'minutes—m', '“fun”', 'time—', 'hectic', 'crudité', 'satiat', 'skillet', 'scrambl', 'flake', 'truffl', 'quinoa', 'vidalia', 'wok', 'burner', 'transluc', 'clove', 'sauté', 'teriyaki', 'szechuan', 'srichacha', 'evenli', 'mung', 'penner', 'telegraph', 'kilter', 'estonian', 'finnish', 'duplic', 'lipoprotein—or', '—particl', 'frailti', 'nh', 'causat', 'bi', 'coulda', 'woulda', 'shoulda', 'grind', 'pearli', 'ghareeb', 'crown', 'shortcut', 'loan', 'annualcreditreport', 'mega', 'debt', 'skolnik', 'zocdoc', 'raini', 'mortgag', 'hsh', 'cyst', 'molar', 'steer', 'laptop', 'warranti', 'rori', 'kleinman', 'nodul', 'kleinman’', 'ablat', '“microwav', 'fischman', '“liter', 'mountsinai', '“hormon', 'shelbi', 'ambien', 'incorrectly—eith', '“night', 'owl', 'oexman', 'meban', '“blue', '“parent', 'sleepi', 'filler', 'school—whatev', 'music—', 'represent', 'mcconaughey', '“dalla', 'buyer', 'club”', 'mcconaughey’', 'livin’”', 'eleg', 'bylin', 'livin', 'jkl', 'rigor', 'leverag', 'plight', 'sreedhar', 'potarazu', 'acclaim', 'entrepreneur', 'visionari', 'vitalspr', 'wellzon', 'ribbon', 'facad', 'evolut', 'communic', 'morri', 'virolog', 'nicd', 'clone', 'heaviest', 'misinform', 'counterproduct', 'nyhan', 'retract', 'misconduct', 'anni', 'iib', 'zap', 'surrend', 'bout', 'warmer', 'brother’', 'doorman', 'oncologist’', 'restart', 'cane', 'trivial', 'blossom', 'garrison', 'talli', 'ific', 'bethani', 'beemind', 'startup', 'reev', 'prici', 'meltzer', 'jewish', 'sleeper', 'starter', 'sick”', 'sidney', 'kidneys’', 'creatinin', 'glomerular', 'egfr', '“vascular', '“slightly”', '“pre', '“pre”', 'willi', 'insomniac', 'tm', 'rachel', 'sala', 'lent', 'repent', 'christ', 'shall', 'forgot', '“real”', 'housew', 'wolv', 'moral', 'casual', 'curs', 'beget', 'graphic', 'virtu', 'handshak', 'bibl', 'improp', 'vancomycin', '“doctor', '‘mayb', 'overgrow', 'stewardship', 'caretak', 'mcdoubl', 'igf', 'vanc', 'longo', '‘would', 'nhane', 'compris', 'ability—even', 'injected—', 'diet’', '“cancer', 'barron', 'prosser', 'anencephali', 'horrifi', 'anencephaly…', 'doh', '‘yeah', 'barron’', '“medic', 'upstream', 'upwind', 'handford', 'nuclear', 'folic', 'more…i', 'polycarbon', 'receipt', 'shuk', 'ho', 'excret', '“daughter”', 'partit', '“…becaus', 'offers…', 'sprint', 'needn’t', 'that—on', 'blip', 'pear', 'broil', 'anja', 'niedringhau', 'sober', 'troop', 'sociologist', 'ronald', 'servicememb', 'starr', 'veteran’', 'rajendra', 'morey', 'bomb', 'grenad', 'stun', '‘bell', 'subconcuss', 'diffus', 'tensor', 'dti', 'veterans’', 'daze', 'neuropsycholog', 'is…expert', 'mostofski', 'myocardi', 'infarct', 'hostil', 'tylenol', 'aspirin', 'rockstar', 'azagba', 'atlant', 'dare', 'thrill', 'rebelli', 'weed', 'untrustworthi', 'fictiti', 'coca', 'maureen', 'lustig', 'incens', 'contenti', 'unmitig', 'consensu', 'fattest', 'lorenzo', 'cohen', 'center’', 'india’', 'swami', 'vivekananda', 'anusandhana', 'samsthana', 'apnea', 'taiwan’', '“independ', 'nanomedicin', 'ormond', 'microtia', 'rib', 'ferretti', 'tinker', 'voucher', 'poverti', 'hud', 'neal', 'halfon', 'coerciv', 'geffen', 'christin', 'metz', 'feinstein', 'gravi', 'margarin', 'pud', 'lastli', 'shilpi', 'mehta', 'nordic', 'preeclampsia', 'teachabl', 'idaho', 'alaska', 'midwiferi', 'tattoo', 'ink', 'pooch', '“mistah', 'caption', 'mel', 'dog’', 'dumb', 'cruel', 'defenseless', 'inhuman', 'bias', 'pervers', 'selfish', 'canva', 'sarcast', 'cruelti', 'barbar', 'waldrup', 'yazoo', 'engrain', 'kyle', 'rothenberg', 'prater', '“obes', 'complac', 'donaldson', 'starkvil', 'see…', 'mississippian', 'hop', 'mogul', 'simmon', 'simmons’', '“success', 'stillness”', 'invigor', '“fight', 'flight”', 'transcendent', 'useless', 'religion', '“still', '“everi', 'prophet', 'gateway', 'nirvana', 'samadhi', 'taqua', 'disput', '‘god’', 'rabbi', 'imam', 'preacher', 'buddhist', '‘look', 'oprah', 'winfrey', 'ellen', 'rahm', 'emanuel', 'chancellor', 'proce', 'demystifi', 'dutra', 'stanton', 'glantz', 'axe', 'tar', 'nightclub', 'intravagin', 'antiretrovir', 'kiser', 'to…hav', 'tenofovir', 'vagina', 'nuvar', 'mirena', 'ring’', 'truvada', 'tonofovir', 'primat', 'immunodefici', 'fraction', 'exceedingli', 'dire', 'shampoo', 'germain', 'levelsand', 'agriculture’', 'palat', 'juliana', 'hangov', 'entri', 'piasecki', 'moodi', '“part', 'woman”', 'hanley', 'caveat', 'menstruat', 'exercise’', 'magazine’', 'tv’', 'skirt', 'ellenbarrett', 'nonmelanoma', 'rodney', 'sinclair', 'nmsc', 'altitud', 'menno', 'bouma', 'honorari', 'lshtm', 'saharan', 'debr', 'zeit', 'ethiopia', 'plasmodium', 'anophel', 'socio', 'antioquia', 'malari', 'unambigu', 'indisput', 'merced', 'pascual', 'promiscu', 'gina', 'secura', 'dispel', 'floodgat', 'detractor', 'arina', 'grossu', 'council’', 'digniti', 'hector', 'nicol', 'enlighten', 'lactat', 'advice—', '—on', 'foray', 'tie…clog', 'duct…', 'destigmat', 'shirtless', 'cruz’', 'photoshoot', 'campbel', 'to…', 'stereotyp', 'billboard', 'clarksvil', 'tn', 'mommycon', 'mama', 'uganda', 'breastfeeding’', 'aca', 'preexist', 'uproar', 'wednesday’', 'contempl', 'premium', 'quandari', 'outlin', 'employees’', 'corridor', 'cbo', 'recalcul', 'corridor”', 'ipab', 'endo', 'ave', 'biweekli', 'dublin', 'fortesta', 'bold', 'wolf', 'fischer', 'fivefold', 'hypogonad', 'erectil', 'armani', '“about', 'tertiari', 'abraham', 'aris', 'follicl', 'there’r', 'imagine…th', 'pluggi', 'cornfield—', 'unsatisfi', '“…when', 'propecia', 'rogain', 'jeff’', 'follicular', 'fue', 'eyelet', '“though', 'umbrella', 'vaniti', 'salespeopl', '“hair', 'salesperson', '“first', 'bracelet', 'anticanc', 'cedric', 'garland', '“vitamin', 'ucsd', 'cardiometabol', 'iglayreg', 'supervisor', 'metabolom', 'mono', 'unsatur', 'bagel', 'leeann', 'weintraub', 'culver', 'marinad', 'quota', 'sodium—about', 'worthi', 'day—or', 'serving—up', 'day—and', 'slash', 'supers', 'bagel—flavor', 'asiago', 'entenmann', 'freshli', 'parmesan', 'yourself—y', 'mg—still', 'patti', 'calories—ther', 'brunch', 'stack', 'diner', 'pourabl', 'pea', 'sammi', 'provolon', 'or—bett', 'yet—piec', 'aphasia', 'appslab', 'uni', 'burda', '‘can', 'app’', 'simplist', 'clunki', 'multipurpos', 'portabl', 'spina', 'bifida', 'multivitamin', 'mcg', 'mcrae', 'calcium—', 'iu', 'dha', 'postpartum', 'cholin', 'fittest', 'men—and', 'levels—and', 'wayward', 'hutchinson', 'pomegran', 'madison', 'isoflavon', 'ellag', 'stealth', 'brim', 'pterostilben', 'day—pour', 'befriend', 'plan—about', 'calories—had', 'amazing—and', 'proven—health', 'apnea—snor', 'symptom—ar', 'snooz', 'it’ll', 'energet', 'shiitak', 'mushroom', 'herald', 'teruhiko', 'wakayama', 'yamanashi', 'nhk', 'cheapli', 'acquisit', 'robin', 'lovel', 'badg', 'inquiri', 'facetim', 'kgun', 'toon', 'dial', 'tuscan', 'ariz', 'bentley', 'toone’', 'guerrero', 'gn', 'resound', 'linx', 'heinz', 'bade', 'competitor', 'lar', 'viksmoen', 'trebl', 'bass', 'geotag', 'laurel', 'christensen', 'audiolog', 'noisi', 'misplac', 'intermediari', 'minitek', 'siemen', 'streamer', 'aiken', 'dalhousi', 'nova', 'scotia', 'incorrectli', 'acclimat', 'premarit', 'cohabit', 'shaki', 'contemporari', 'ariel', 'kuperberg', 'greensboro', 'suprem', 'polyamori', 'yay', 'exclam', 'wildli', 'solida', 'wed', 'sassler', 'roommat', 'coontz', 'evergreen', 'domest', 'flout', 'josh’', 'aime', 'chimerix', '‘it’', 'unwilling', 'infuri', 'fredericksburg', 'jude', 'memphi', 'adenoviru', 'brincidofovir', '‘they', 'kenneth', 'moch', '‘compassion', 'use’', 'unapprov', '“…to', 'savejosh', 'horribl', 'compassionateuserequest', 'ventricular', 'hypertrophi', '…we', 'diastol', 'nitrou', 'morpholog', 'leprosi', 'satnarayan', 'leper', 'coloni', 'manish', 'swarup', 'ashok', 'yadav', 'kasturba', 'ostrac', 'shun', 'indign', 'neelawati', 'longtim', 'stub', 'ruin', 'hereditari', 'dormant', 'claw', 'inward', 'droplet', 'intensifi', 'mycobacterium', 'lepra', 'chattisgarh', 'maharashtra', 'bihar', 'indonesia', 'timor', 'agarw', 'merg', 'scarc', 'reassign', 'gopal', 'nongovernment', 'endem', 'venugop', 'elder', 'government', 'rupe', 'pittanc', 'uttam', 'kumar', 'refug', 'tenement', 'sorrow', 'fluent', 'clincher', 'flatter', 'viscer', 'mess', 'lifesav', 'plotkin', '‘fine', 'charter', 'chimerix…i', 'lemonad', 'backload', 'starchi', 'roast', '“eat', 'princ', 'pauper', 'steam', 'raid', 'hungrier', 'clever', 'ploy', '“good', 'crohn’', 'coliti', 'permeabl', 'intoler', 'breastf', 'rhamnosu', 'infanti', 'gasseri', 'lacto', 'starch', 'kefir', 'kombucha', 'autopsi', 'radioact', 'multicent', 'florbetapir', 'amyvid', 'tracer', 'murali', 'doraiswami', '“…if', 'florbetapir’', 'rate…peopl', '“…the', 'manpo', 'kei', 'meter', 'catrin', 'tudor', 'pennington', 'baton', 'roug', 'brisk', 'clay', 'marsh', 'didnt', 'camilla', 'nykjaer', 'leed', 'underreport', 'boyc', 'medstar', 'fuss', 'allograft', 'vasculopathi', 'cyclosporin', 'irv', 'kron', 'samer', 'najjar', 'marfan', 'aortic', 'lord', 'motorcycl', 'dispatch', 'knight', 'annandal', 'cashier', 'annapoli', 'sharpsburg', 'sue', 'piano', 'guitar', 'sheila', 'dread', 'donatelif', 'yorker', 'lanza', 'murder', 'empathi', 'cosbi', 'lionel', 'dahmer', 'serial', 'milwauke', 'andi', 'juvenil', 'denial', 'asperg', 'devolv', 'reclus', 'massacr', 'remors', 'deaden', 'reluctantli', 'reawaken', 'unreal', 'horrend', 'unthink', 'preciou', 'ckd', 'ardelyx', 'tenapanor', 'reuptak', 'seep', 'mucosa', 'charmot', 'divert', 'spencer', 'emul', 'vasculatur', 'sodium’', '“…most', 'prayer', 'wollaeg', 'snarki', 'sanderl', 'ventur', 'calcimedica', 'sotera', 'aster', 'chimerix’', 'wend', 'hutton', 'speedi', 'canaan', 'script', 'inattent', 'mizuna', 'scripts’', 'daydream', 'adderal', 'nonstimul', 'strattera', 'overdiagnos', 'dismiss', 'molina', 'misdiagnosi', 'overdiagnosi', 'disorder—and', 'lenard', 'adler', 'hotli', 'rectal', 'sleepili', 'assert', '“waiting”', 'palli', 'leeri', 'expo', 'anaheim', 'undevelop', 'potabl', 'seminar', 'gmo’', 'spotter', 'nielsen', 'penton', 'botan', 'outreach', 'saga', 'malaysian', 'tongkat', 'foil', 'moot', 'ecolog', 'futurist', 'mexico’', 'vicent', 'keynot', 'auditorium', 'weil', 'incept', 'aisl', 'teem', 'exposit', 'dollars—and', 'medication—and', 'workaround—than', 'unsur', 'formulari', 'nerdwallet', 'prescriptions—or', 'solicit', 'price—which', 'angiotensin', 'napala', 'pratini', 'nourish', 'amniot', 'tanzania', 'biom', 'medicalcasereport', 'jill', 'rabin', 'ambulatori', 'hyde', 'cervix', 'ectop', 'reabsorb', 'elisa', 'bandera', 'brunswick', 'taller', 'webmd', 'prolaps', 'symptomat', 'barber', 'sacrospin', 'sslf', 'uterosacr', 'vault', 'ul', 'extraperiton', 'suspend', 'apex', 'intraperiton', 'bilater', 'uret', '“overal', 'kegel', 'standalon', 'leakag', 'unlicens', 'beautician', 'botch', 'tamira', 'mobley', 'bail', 'manslaught', 'feloni', 'assault', 'tamara', 'blain', 'cosmetologist', 'inn', 'clandestin', 'plump', 'blaine’', 'fate', 'drucker', 'homicid', 'yangzhou', 'jiangsu', 'monogam', 'heterosexu', 'discord', 'uninfect', 'iud', 'wu', 'copper', 'paragard', 'peipert', 'inert', 'underus', 'henrik', 'zetterberg', 'tau', 'certainti', 'yelverton', 'tegner', 'lulea', 'rink', 'clamor', 'oakley', 'wollongong', 'bacteria’', '‘dna', 'bacterium’', 'carprofen', 'antibacteri', 'bromofenac', 'vedaprofen', '‘off', 'target’', 'micrograph', 'bud', 'lymphocyt', 'virion', 'raltegravir', 'hiv’', 'dobard', 'freedman', 'standstil', 'whoa', 'cdk', 'asap', 'palbociclib', 'girth', 'mucin', 'cystadenoma', 'herman', 'postmenopaus', 'shallow', 'shove', 'squish', 'kg', 'crohn', 'ramnik', 'xavier', 'blueprint', 'treatabl', 'mahajan', 'noninflammatori', 'repopul', 'reassess', 'erica', 'gunderson', 'hell', 'drugfre', '“heavy”', 'imperson', 'theft', 'sting', 'falsifi', 'ryoji', 'noyori', 'bow', 'toru', 'hanai', 'immatur', 'credibl', 'dissert', 'masatoshi', 'takeichi', 'ghanga', 'conjoin', 'cygnu', 'hindu', 'sonipat', 'haryana', 'dicephal', 'parapagu', 'babies’', 'shikha', 'malik', 'icu', 'stillbirth', 'hyland', 'roswel', 'mauric', 'druzin', 'ammunit', 'unexpos', 'lifelong', 'passiv', '“essenti', 'andrey', 'rzhetski', 'micropeni', 'hypospadia', 'urethra', 'undescend', 'geopolit', '“malform', 'heterogen', 'subpopul', '‘load', 'county…it', 'emphasi', 'shosk', 'brownish', 'grossli', 'straw', 'amber', 'ale', 'bile', 'urine—', 'reddish', 'tint', 'uti', 'porphyria', 'dy', 'fret', '“smell', 'foamier', 'foami', '“urin', 'oxytocin', '“love', 'oxytocin’', 'psychoneuroendocrinolog', '“negative”', '“attent', 'bias”', 'prof', 'youl', 'inj', 'seoul', 'â©', 'logan', 'bannatyn', '‘five', 'rule’', 'aston', 'tile', 'escherichia', 'aureu', 'ortiz', 'obalon', 'border', 'ortíz', 'lagarder', 'tijuana', 'puro', 'chicano', 'latino', '“lost', 'expertis', 'mahmood', '“intern', 'excellence”', 'salin', 'nutritionist’', '“treatment”', 'ortíz’', '—that', 'clientel', 'statesid', 'misunderstand', 'vourvoulia', 'bvourvoulia', 'foxnewslatino', 'pix', 'nala', 'buff', 'bantam', 'brahma', 'gainesvil', 'flock', 'salmonellosi', 'duck', 'hatcheri', 'barton', 'behravesh', 'lieuten', 'gees', 'feather', 'beak', 'kiss', 'bender', 'campylobact', 'yard', 'seali', 'visitor', 'undisclos', 'wrongdo', 'bs', 'coverup', 'confidenti', 'istockphoto', 'convuls', 'hyperthyroid', 'coars', 'perfectionist', 'too—', 'butterfli', 'cart—especi', 'takeout', '“lock', 'goodi', 'pesto', 'tapenad', 'sundri', 'voilà', 'barley', 'wheatberri', 'itself—that’', 'versatil', 'balsam', 'vinaigrett', 'porridg', 'recipe—just', 'loav', '“mysteri', 'fish”', 'filet', 'halibut', 'shrimp', 'lemon', 'lime', 'breezi', 'yawn', 'does—but', 'reports—a', 'expir', 'overhead', 'doug', 'rauch—th', 'trader', 'joe’', 'supermarkets—i', '“expir', 'food”', 'table—it’l', '“sell', 'by”', 'terminolog', 'aragon', 'downright', '“food', 'chalk', 'foods—environ', 'meats—especi', 'listeria—which', 'listeriosi', 'which—in', 'cases—can', 'them—even', 'years—but', 'undent', 'restock', 'spoil—it', 'it—and', 'carving—self', 'jani', 'whitlock', 'equilibrium', 'disassoci', 'emb', 'ana', 'moreno', 'psychotherapist', 'lucida', 'metaphor', 'somebody’', 'unmanag', '“have', 'jewelri', 'razor', 'blade', 'knive', 'therapy—which', 'skills—i', 'he’ll', 'beer’', 'lager', 'microbrew', 'tetri', 'jacki', 'andrad', 'kavanagh', 'queensland', 'brisban', 'lott', 'dillen', 'leiden', 'lawrenc', '“thirdhand', 'smoke”', 'stale', '‘ashtray’', 'nuisanc', 'bo', 'thirdhand', 'suzaynn', 'schick', 'occupi', 'encapsul', 'ozon', 'disclosur', 'pint', 'guin', 'pub', 'macdiarmid', 'patrick’', 'preach', 'catholic', 'shamrock', 'worshipp', 'flavonoid', 'churchil', 'sulfur', 'lupeol', 'sinigrin', 'sulforaphan', 'crucifer', 'buttermilk', 'quercetin', 'chromium', 'phytochem', 'leek', 'allicin', 'cv', 'caremark', 'drugstor', 'walmart', 'contradictori', 'wal', 'mart', 'kroger', 'rite', 'schneiderman', 'dewin', 'guam', 'tequila', 'lighten', 'agavin', 'aspartam', 'sucros', 'centro', 'incetagcioan', 'estudio', 'avanzado', 'irapuato', 'guanajuato', 'abstract', 'taste…thi', 'lopez', 'dunlap', 'parents’', 'eliana', 'perrin', 'intox', 'impression', 'perki', 'surgeon’', 'swimsuit', 'décolleté', 'sunray', 'spf', 'dimpl', 'pector', 'droop', 'straighter', 'landa', 'bodylogicmd', 'bioident', 'jen', 'jenlandamd', 'word—but', 'glaze', 'fat—but', 'topper', 'saturated—but', 'overboard', 'coconut—but', 'donut', 'rein', 'pollutants—', 'smoke—and', 'xrmagnu', 'mansk', 'iw', 'pd', 'faraon', 'empiriko', 'chemosynthet', 'biomimik', 'euthan', '“chemosynthet', 'mukund', 'chorghad', '“whenev', 'thinq', 'pharma', 'painstakingli', 'metabolit', '“leftovers”', '“say', 'catalyst', 'decomposit', 'metabolites—', '“plu', 'mind—', 'laud', 'canola', 'mackerel', 'rapese', 'lard', 'hydrogen', 'doubli', '“bad”', 'creamer', 'reformul', 'bride', 'flinder', 'dissatisfact', 'bridal', 'couri', 'queri', 'alexi', 'lauricella', 'mott', 'splint', 'juliet', 'fuller', 'natali', 'tracheomalacia', 'glenn', 'hollist', 'garrett’', 'replica', '“splint”', 'printer', 'tack', 'ohy', 'white—a', 'overjoy', 'cnycentr', 'jenna', 'hinman', 'kinleigh', 'azlynn', 'crous', 'choriocarcinoma', 'hinman’', 'wiley', 'bunn', 'ecmo', 'wife’', '“touch', 'sergeant', 'drum', 'me”', '“prayer', 'jenna”', 'flurri', 'supplier', 'manipul', 'wockhardt', 'nissen', 'traction', 'boehring', 'ingelheim', 'doxil', 'lever', 'narendra', 'saini', 'collus', 'cdsco', 'understaf', 'underqualifi', 'zonszein', 'metformin', 'kovac', 'truste', 'piyush', 'nahar', 'jefferi', 'array', 'reddi', 'lansoprazol', 'gaglia', 'joslin', '“aromatherapy”', 'conjur', 'candl', 'aromatherapi', 'lifter', 'aroma', 'lavend', 'frankincens', 'patchouli', 'uplift', 'eucalyptu', 'interchang', 'amomatherapi', 'nebul', 'pendant', 'flibanserin', '“femal', 'genitalia', 'hypoact', 'hsdd', 'arous', 'unbal', 'interperson', 'zoloft', 'paxil', 'rekindl', 'lust', 'clitori', 'labia', 'impercept', 'unprepar', 'ambul', '“emergency”', 'costs—and', 'bankruptci', 'separate—even', 'belong', 'inventori', 'keeper', 'gamut', 'care—and', '‘covered’', 'provider’', 'summari', 'laci', 'glover', 'stomach’', 'cocoa’', 'feast', 'flavanols—', 'antioxidants—', 'prebiotics—', 'bacteria—', 'prebiot', 'outcompet', 'undesir', 'finley', 'boy’', 'icebox', 'mithilesh', 'chauhan', 'mumbai', 'mithilesh’', 'aruna', 'ramseh', 'borrow', 'unconvent', 'thermocol', 'chauhan’', 'wadia', 'arwood', 'michigan’', 'glaucoma', 'reilli', 'moonlight', 'superstar', 'dab', 'tarnish', 'cookwar', 'copperi', 'eco', 'vase', 'ousli', 'scour', 'brew', 'glycerin', 'wax', 'candlestick', 'moisten', 'scuf', 'dampen', 'nook', 'cranni', 'cornstarch', 'countertop', 'lu', 'qi', 'blakemor', 'huntington’', '“like', 'with…there’', '“glori', '“befor', 'doses…th', 'infection’', 'plead', 'medication’', 'duty”', 'epicent', 'unbalanc', 'geiger', 'unpaid', 'luke', 'macgregor', 'multidrug', 'mdr', 'fuell', 'poorest', 'speedier', 'unitaid', 'raviglion', 'chile', 'ticket', 'misfold', 'aβ', 'oligom', 'soto', 'aggreg', 'brain…', 'cyclic', 'amplif', 'pmca', '“speed', 'up”', 'biochem', '‘here', 'lipid', 'citric', 'reid', 'biochemist', 'monosodium', 'msg', 'connot', 'unbeknownst', 'whey', 'pectin', 'pdf', 'needlessli', 'function—and', 'glutamin', 'santacruz', 'unheard', 'unblind', 'symbiot', 'immers', 'underwat', 'ecker', 'caughey', 'cathi', 'emei', 'propon', 'tina', 'brochur', '“spice', 'spices’', 'eunic', 'fandiño', 'bogotá', 'fernando', 'vergara', 'cuddli', 'tot', '‘rescued’', 'chubbi', 'valledupar', 'fandino', '‘‘ignorance’’', 'santiago’', 'words—', '—routin', 'schaefer', 'llc', 'hungov', 'thistl', 'alo', 'vera', 'rehydr', 'surfer', 'triathlet', 'electrolytes—includ', 'chloride—of', 'bytox', 'hairless', 'replenish', 'seasick', 'darn', 'prefunc', 'redeem', 'detoxifi', 'picrorhiza', 'ginseng', 'proprieti', 'astragalu', 'poria', 'blowfish', 'quell', 'gummi', 'useabl', 'methylcobalamin', 'lozeng', 'pretoxx', 'decent', 'acytel', 'cystein', 'glutathion', 'bodili', 'krakow', 'zucker', 'hillsid', 'glen', 'oak', 'dysregul', 'amwa', 'formid', 'theme', 'outgo', 'tousimi', 'disposit', 'luck', 'whomev', 'tic', 'clint', 'tutor', 'bergen', 'affection', 'risperidon', 'mandi', 'aba', 'marta', 'flap', 'zoo', 'rotterdam', 'goodby', 'enclosur', 'kee', 'veldboer', '‘it', 'duprey', 'tavar', 'defibril', 'stover', 'shapiro', 'hypothalam', 'panhypopituitar', 'snip', 'courier', 'telomer', 'expedit', 'snif', '“bodi', 'signifi', 'trimethylaminuria', 'tmau', '“metabol', 'garbag', 'trimethylamin', 'outward', 'detector', '“under', '“antiperspir', 'aluminum', 'botox', 'rumor', 'aromat', 'eman', 'peppermint', 'basel', 'jcvi', 'menb', 'jimenez', 'xanax', 'codein', 'amphetamin', 'euphor', 'barbitu', 'benzodiazepin', 'alprazolam', 'klonopin', 'valium', '“highs”', 'blackout', 'oxycontin', 'steal', 'demerol', 'darvocet', 'drugs’', '“purpl', 'drank”', '“sizzurp', 'concoct', 'dopamine—a', 'attention—in', 'repertoir', 'undoubtedli', 'pistachio', 'hemp', 'slaw', 'english', 'nutshel', 'kernel', 'germin', 'fave', 'indi', 'goat', 'hazelnut', 'uv', 'mish', 'chipotl', 'pineappl', 'peppercorn', 'taco', 'garnish', 'reignit', 'zest', 'pli', 'poni', 'tee', 'boston’', 'howard', 'brodi', '“active”', 'kamerow', 'craziest', 'moms’', 'levkoff', 'unpopular', 'tween', '‘sex', 'talk’', 'askfm', 'kik', 'vine', 'password', '“never', 'emoticon', 'stare', '‘like’', 'cosmopolitan', 'siriu', 'xm', '“am', 'drwider', 'noah', 'kauff', 'comeback', '“oil', '“pull”', 'ayurveda', '“gandusha”', '“kaval”', 'ayurved', 'charaka', 'saṃhitā', 'bronchiti', 'gerson', 'hoars', 'ayureveda', 'brewster', 'multidimension', 'sighted', 'ama', 'unknow', '“pull', 'out”', 'polar', 'lipophil', 'chlorhexidin', 'mouthwash', 'detoxif', 'scrape', 'gag', 'anisha', 'durv', 'acupuncturist', '…also', 'neem', '“ayurveda', 'vastli', '“alcohol', 'poisonings…', 'ralph', 'hingson', 'administration’', 'nhtsa', 'bac', '“are', 'rosemari', 'gearhart', 'hesketh', 'crossfit', 'healthsystem', 'endometri', 'kristi', 'vape', 'henley', 'vaporium', 'franklin', 'gum—and', 'minneapoli', 'youngster', 'childproof', 'concentrations—say', '—are', 'javier', 'hock', 'sacramento', 'bartend', 'utensil', 'assemblyman', 'repeal', 'revisit', 'pedroncelli', 'weeknight', 'anchovi', 'cojita', 'gloveless', 'wedg', 'spritzer', 'straggler', 'mojito', 'randi', 'paragari', 'craft', 'inflex', 'slap', 'eateri', 'liza', 'fria', 'shrug', 'dine', 'restaurateur', 'randal', 'selland', 'infring', 'discret', 'ravin', 'patel', 'ella', 'capitol', 'barehand', 'gin', 'tonic', 'guild', 'romolo', 'mixolog', 'latex', 'aros', 'schaffner', 'forg', 'chapman', 'falla', 'festiv', 'unload', 'ebola', 'conakri', 'saliou', 'samb', 'hemorrhag', 'damantang', 'camara', 'lyon', 'prefectur', 'sierra', 'leon', 'liberia', 'guecked', 'moham', 'ayoya', 'congo', 'chimpanze', 'ivori', 'esther', 'sterk', 'bat', 'liberian', 'gwenigal', 'puré', 'roux', 'soni', 'dsc', 'spank', '“viciou', 'cycle”', 'misbehavior', 'fragil', 'unmarri', 'mackenzi', 'adesman', 'bernic', 'dahn', 'southeastern', 'lofa', 'gueked', 'macenta', 'nzerekor', 'kissidoug', 'virul', 'taskforc', 'funer', 'metabiota', 'brima', 'kargbo', 'tarik', 'jasarev', 'zair', 'piot', 'discover', 'carer', 'médecin', 'frontièr', 'sudan', 'mali', 'unansw', 'prechter', 'mcinni', 'manic', 'mania', 'lithium', 'ipsc', 'ion', '‘fire', '’…', 'wealth', 'all”', 'idi', 'vasodil', 'phthalid', 'hibiscu', 'oolong', 'systol', 'mm', 'hg', 'archiv', 'cam', 'pushpa', 'narayanaswami', 'ginkgo', 'biloba', 'bee', 'reflexolog', 'spastic', '“gingko', 'tired', '‘pin', 'needles’', 'inaccess', 'cologuard', 'kuala', 'lumpur', 'samsul', 'risk”—', 'diseases—', '“few', 'neira', '“commun', 'childcar', 'coleen', 'boyl', 'marshalyn', 'yeargin', 'allsopp', 'discrep', 'bronchu', 'espey', '“cellular', 'adenosin', 'triphosph', 'atp', 'cell’', 'cells’', 'sabatini', 'whitehead', 'kivanc', 'birsoy', 'antimycin', 'inactiv', 'atpif', 'mitochondrion’', 'dealt', '“atpif', 'overtli', 'nucleus', 'druggabl', 'cultiv', 'irrig', 'creek', 'rampantli', 'farmwork', 'salina', '“transgenerational”', 'glyphos', 'roundup', 'multin', 'monsanto’', 'entropi', 'soybean', 'seedl', 'compost', 'vigilantli', 'knust', 'furthest', 'spillov', '“especi', 'lightchas', 'photograhi', 'upmc', 'bid', 'gunshot', 'month—a', 'oxygen—though', 'planning—two', 'booth', 'chandigarh', 'ajay', 'verma', 'organis', 'nigeria', 'poonam', 'khetrap', 'mankind', 'legion', 'rotari', 'uttar', 'pradesh', 'mammoth', 'migrant', 'gunmen', 'spi', 'milit', 'escort', 'roadsid', 'convoy', 'kabul', 'eb', 'ebb', 'thrust', 'wren', 'firearm', 'springtim', 'tricki', 'kaplin', 'austrian', 'interferon', 'quinolin', 'tree', 'pollen', 'cubic', 'clearest', 'fantom', 'multicellular', 'alistair', 'forrest', 'hume', 'roslin', 'leap', 'atla', 'roadmap', 'ldk', 'submiss', 'cliff', '‘old', 'time’', 'leech', 'sucker', 'vertigo', 'sinus', 'leeches’', 'hypnosi', 'hypnotherapi', 'michael’', 'malnourish', '“societi', 'group…for', 'jimmi', 'nascar', 'chevrolet', 'stp', 'martinsvil', 'speedway', 'han', 'tether', 'rainier', 'ehrhardt', 'bobo', 'nascar’', 'dale', 'earnhardt', 'daytona', 'crushabl', 'restraint', 'driver’', 'emerson', 'concord', 'automobil', 'nba', 'olvey', 'fia', 'motorsport', 'liaison', 'centers’', '“noth', 'drivers’', 'categories—', 'uniformli', 'fighter', 'earnhardt’', '“nascar', 'preteen', 'borderlin', 'seeri', 'baylor', 'urbina', 'irrespect', 'demosthen', 'panagiotako', 'harokopio', 'athen', 'meth', 'imageri', 'evidenc', 'abhilash', 'multimedia', 'drugs—', 'methamphetamin', 'oxycodone—', 'scab', 'shockingli', 'reus', 'justina', 'pelleti', 'justina’', 'not—that', '“somatoform', 'disorder”', 'anatom', 'somatoform', 'obliter', 'lousi', 'unfaith', 'discern', 'teenager’', 'shatter', 'vehement', 'misguid', 'uninjur', 'cruciat', 'bjorn', 'bareniu', 'fifteen', 'radiologist', 'quicker', 'yasin', 'dhaher', 'menisc', 'farthest', 'unintend', 'geographi', 'indict', 'alviar', 'status', 'cerebrovascular', 'aneurysm', 'compliant', '“base', 'habits…so', 'june”', 'week”', 'hibern', 'prep', 'brightli', 'friend—or', 'tempo', 'now—wheth', 'brows', 'stylish', 'hurtl', 'kevlar', 'bona', 'fide', 'matrix', 'pluck', 'projectil', 'gonna', 'monti', 'python', 'slew', 'haul', 'linolen', 'santora', 'butku', 'halv', 'fumbl', 'slipper', 'bpm', 'pierr', 'chickpea', 'pinto', 'smuggl', 'roughag', 'bp', 'handgrip', 'payload', 'weekly—say', 'run—and', 'changes—for', 'burnout', 'psychosomat', 'reset', 'flushot', 'healthmap', 'patient—th', 'z', 'yellowfin', 'decibel', 'earplug', 'leight', 'howardleightconsum', 'fido', 'krasuski', 'karaok', 'sheeran', 'tamp', 'postmeal', 'shack', 'mate', 'meetup', 'glug', 'brill', 'reaper', 'pessim', 'cheeto', 'nowher', 'stationari', 'pedal', 'pearc', 'brink', 'snowboard', 'superstardom', 'pois', 'shaun', 'pearce’', 'screech', '“…it', 'hbo', 'reel', 'heartach', 'difficult—and', 'happen—and', 'redo', 'pba', 'pseudobulbar', 'avanir', '“…he', 'has—what', 'with—ha', 'pbainfo', 'brain”', 'kevinpearc', 'us—', 'viciou', 'cycle—', 'swanson', 'potti', 'softer', '“thing', 'foods—bread', 'dyan', 'gramerci', 'mosaic', 'saturn', 'cassini', 'spacecraft', 'jpl', 'caltech', 'ssi', 'planet', 'coalesc', 'satellit', 'dec', 'geophys', 'sascha', 'kempf', 'boulder', 'rocki', 'micrometeoroid', 'dusti', 'zoom', 'radii', 'kuiper', 'neptun', 'oort', 'interstellar', 'jupit', 'gravit', 'plung', 'archaeolog', 'ambiti', 'smithsonian', 'revolutionari', 'artifact', 'laser', 'metello', 'articul', 'osag', 'skeleton', 'dinosaur', 'kumbuka', 'silverback', 'gorilla', 'clipboard', 'compulsori', 'zsl', 'zoo’', 'duli', 'kirsti', 'wigglesworth', 'penguin', 'peck', 'jami', 'eagl', 'zookeep', 'aardvark', 'invertebr', 'reptil', 'amphibian', 'hulk', 'blackboard', 'cun', 'zoolog', 'habben', 'coral', 'meerkat', 'endang', 'tapir', 'okapi', 'flamingo', 'spini', 'lizard', 'loughborough', 'archaeologist', 'tomb', 'inhabit', 'strangest', 'leicest', 'revil', 'lilt', 'scoliosi', 'hasti', 'gourd', 'emblazon', 'behead', 'xvi', 'bystand', 'sop', 'handkerchief', 'bourbon', 'bled', 'oop', 'unearth', 'etruscan', 'lanc', 'skelet', 'warlik', 'enigmat', 'groov', 'limeston', 'winnemucca', 'archeolog', 'imperil', 'heritag', 'apamea', 'loot', 'ebla', 'trove', 'cuneiform', 'beirut', 'mosqu', 'herod', 'herodium', 'israelit', 'shabbi', 'funerari', 'throng', 'stoneheng', 'megalith', 'auroch', 'beast', 'congreg', 'monument', 'erect', 'butcher', 'pristin', 'peru', 'empir', 'incan', 'machu', 'picchu', 'mausoleum', 'assort', 'fineri', 'prevail', 'iceman', 'astonishingli', 'mummi', 'oftzi', 'descend', 'unbroken', 'tzi', 'tutankhamun', 'pharaoh', 'horemweb', 'wikimedia', 'embalm', 'mummifi', 'unleash', 'scarab', 'anomali', 'scholarli', 'tude', 'et', 'travaux', 'egyptologist', 'salima', 'ikram', 'cairo', 'burial', 'tut', 'osiri', 'underworld', 'evok', 'akhenaten', 'worship', 'aten', 'mummif', 'stolen', 'quintessenti', 'rebirth', 'resurrect', 'nonhuman', 'resin', 'goolik', 'carter', 'lustrou', 'libat', 'blackish', 'allud', 'inund', 'mytholog', 'maat', 'allus', 'brutal', 'butcheri', 'fledg', 'erhap', 'unwrap', 'divin', 'identif', 'turmoil', 'panther', 'donovan', 'fwc', 'napl', 'darrel', 'interst', 'collier', 'alien', 'gj', 'hubbl', 'esa', 'stsci', 'kreidberg', 'exoplanet', 'feild', 'extraterrestri', 'milki', 'galaxi', 'sphere', 'constel', 'leo', 'spectra', 'featureless', 'fingerprint', 'steami', 'ophiuchu', 'b—featureless', 'bean—both', 'chicago—to', 'methan', 'sulfid', 'measurement—our', 'webb', 'poke', 'fuzzi', 'opillonid', 'nicknam', 'creepi', 'crawli', 'arachnid', 'opilion', 'album', 'harvestmen', 'cephalothorax', 'decompos', 'opportunist', 'venom', 'subdu', 'paglo', 'barroeta', 'toupe', 'stretchi', 'silk', 'flex', 'arachnologist', 'ricardo', 'rocha', 'ineffici', 'pholcida', 'garag', 'cellar', 'ugliest', 'nye', 'ky', 'biblic', 'factual', 'cordial', 'prod', 'contradict', 'looy', 'mock', 'strident', 'evolutionist', 'bigfoot', 'mythic', 'dyer', 'bigfoottoday', 'proclaim', 'ksat', 'loop', 'graini', 'reclaim', '“bigfoot”', 'fairi', 'vindic', 'hoax', 'troy', 'alexand', 'tambopata', 'fenc', 'diamet', 'tarp', 'reddit', 'moth', 'torr', 'hatch', 'ouramazingplanet', 'blob', 'spermatophor', 'spiderl', 'cecropia', 'mite', 'pheromon', 'lure', 'neptunian', 'gaseou', 'geoff', 'kepler', 'ame', 'cornucopia', 'orb', 'astronom', 'avalanch', 'peach', 'astronomi', 'starlight', 'keck', 'tug', 'doppler', 'infer', 'radiu', 'encas', 'helium', 'astrophys', 'ji', 'wei', 'xie', 'elus', 'ison', 'comet', 'koi', 'lightest', 'vc', 'pulliam', 'aguilar', 'cfa', 'hotter', 'puffier', 'oddbal', 'kip', 'fluffier', 'dwarf', 'eon', 'ttv', 'exomoon', 'extraordinari', 'ectobiu', 'kohlsi', 'sensilla', 'vršanský', 'evolutionari', 'genu', 'periplaneta', 'americana', 'scuttl', 'baltic', 'slovak', 'northwest', 'sedimentari', 'epoch', 'eocen', 'extinct', 'newcom', 'labandeira', 'kohl', 'paleobiolog', 'blanchard', 'fncjrreport', 'abelisaur', 'carnivor', 'theropod', 'saudi', 'arabia', 'leonov', 'palaeontolog', 'moscow', 'titanosaur', 'arabian', 'peninsula', 'jordan', 'oman', 'lebanon', 'benjamin', 'kear', 'taxonom', 'recogniz', 'paleobiologist', 'uppsala', 'adaffa', 'sandston', 'conglomer', 'cretac', 'tethi', 'plesiosaur', 'mosasaur', 'shark', 'excav', 'outcrop', 'khuraybah', 'chomper', 'biped', 'sauropod', '‘duel', 'dinos’', 'iss', 'station’', 'orlando', 'sentinel', 'bolden', 'astronaut', 'elon', 'musk’', 'spacex', 'taxi', 'leori', 'chiao', 'spaceflight', 'nasa’', 'abel', 'fainter', 'gaze', 'lotz', 'illingworth', 'blobbi', 'clumpi', 'sparkl', 'wavelength', 'einstein', 'binocular', 'conselic', 'underst', 'nustar', 'lownasa', 'celesti', 'spectroscop', 'chandra', 'viewpoint', 'fiona', 'hongjun', 'montreal', 'pulsar', 'nebula', 'supernova', 'psr', 'rcw', 'kiloelectron', 'volt', 'kev', 'pareidolia', 'supernatur', 'phenomena', 'wallop', 'en', 'antar', 'sunris', 'flare', 'ingal', 'canaver', 'unman', 'loft', 'orbitalsci', 'sunspot', 'elia', 'teleconfer', 'liftoff', 'roar', 'fishermen', 'calv', 'benito', 'bermudez', 'ojo', 'liebr', 'lagoon', 'baja', 'fin', 'conanp', 'baleen', 'negro', 'ark', 'coven', 'auch', 'cathedr', 'vassil', 'domain', 'treasur', 'solomon', 'raider', 'messiah', 'seeker', 'costum', 'folklor', 'plunder', 'babylonian', 'nebuchadnezzar', 'jesu', 'treatis', 'massekhet', 'kelim', 'levit', 'davila', 'pseudepigrapha', 'noncanon', 'scriptur', 'eerdman', 'babylonia', 'shamshiel', 'sariel', 'scroll', 'qumran', 'eden', 'radianc', 'amsterdam', 'emek', 'halachah', 'adolph', 'jellinek', 'exegesi', 'deduc', 'prologu', 'shimmur', 'hid', 'coincident', 'inscrib', 'durabl', 'parchment', 'papyru', 'ezekiel', 'yad', 'zvi', 'elabor', 'leatherback', 'camouflag', 'ichthyosaur', 'sølberg', 'toothi', 'dolphinlik', 'johan', 'lindgren', 'lund', 'paleontologist', 'microraptor', 'crowlik', 'dino', 'archaeopteryx', 'organel', 'unchart', 'halo', 'melanosom', 'eumelanin', 'reptilian', 'fishlik', 'snout', 'oval', 'microanalysi', 'sediment', 'dermoch', 'coriacea', 'asphalt', 'stealthi', 'underbelli', 'dwell', 'countershad', 'murki', 'crustacean', 'heliospher', 'gyroscop', 'avion', 'culbertson', 'est', 'gmt', 'uptick', 'cosmonaut', 'navia', 'spout', 'times—', 'ar', 'flux', 'fallout', 'cubesat', 'hawthorn', 'spaceshiptwo', 'mojav', 'mar', 'aerospac', 'reconnaiss', 'infom', 'marsscientif', 'commar', 'galact', 'mach', 'pst', 'whiteknighttwo', 'slick', 'masucci', 'alsburi', 'sir', 'branson', 'spaceship', '“today', 'flawless', 'superson', 'ss', 'propuls', 'subson', '“today’', 'whitesid', 'holli', 'sam', 'galactic’', 'spaceport', 'tuber', 'stanley', 'kay', 'nutcrack', 'paranthropu', 'boisei', 'olduvai', 'hominid', 'gorg', 'johanson', 'maxillari', 'baboon', 'ambos', 'kenya', 'landscap', 'flintstone’', 'brontosauru', 'paleolith', '“tiger', 'nuts”', 'hominin', 'flintston', 'grasshopp', 'cavemen', '“nutcrack', 'man”', 'kenyan', 'cyperu', 'esculentu', 'unheat', 'roberson', 'wimp', 'carbin', 'meteorologist', 'snap', 'okla', 'meteorolog', 'breathtak', 'coldest', 'continent', 'chillier', 'warmest', 'spew', 'disprov', 'hayho', 'vortex', 'maue', 'weeni', 'dessler', 'delorean', 'trickier', 'wormhol', 'physicist', 'hawk', 'amal', 'dorai', 'attende', 'astrophysicist', 'nemiroff', 'teresa', 'wilson', 'houghton', 'repositori', 'arxiv', 'anachronist', 'pope', 'gott', 'bandringa', 'mazon', 'megahan', 'stunningli', 'unpublish', 'hatchl', 'sallan', 'vertebr', 'paleontolog', 'spawn', 'stud', 'coal', 'freshwat', 'migratori', 'midwestern', 'inland', 'shorelin', 'basin', 'iri', 'suction', 'purnel', 'cogent', 'maisey', 'resuppli', 'eagerli', 'spacemen', 'outpost', 'applaus', 'madagascar', 'oblig', 'congratul', 'fullerton', 'linkup', 'gordo', 'flickr', 'looper', 'quantum', 'cosmo', 'timelik', 'warp', 'tunnel', 'theorem', 'forbid', 'heisenberg', 'deutsch', 'exit', 'facsimil', 'aaronson', 'furi', 'sinabung', 'pillag', 'temnothorax', 'pilagen', 'slave', 'bernhard', 'seifert', 'zookey', 'acorn', 'castl', 'piler', 'tenth', 'hollow', 'slavemak', 'casualti', 'jab', 'stinger', 'longispinosu', 'andtemnothoraxambigu', 'unrecogn', 'pensoft', 'mainzand', 'thesenckenberg', 'goerlitz', 'ridg', 'spacesuit', 'crock', 'marswalk', 'matthieu', 'komorowski', 'hanksvil', 'jumpsuit', 'sim', 'spacewalk', 'wilder', 'hab', 'habitat', 'fog', 'headband', 'footprint', 'treacher', 'steep', 'jag', 'elizabethhowel', 'curios', 'crater', 'church', 'ketevan', 'martyr', 'georgian', 'ruler', 'harem', 'mitochondrion', 'tumultu', 'kakheti', 'abba', 'niraj', 'rai', 'hyderabad', 'languish', 'shiraz', 'sept', 'canon', 'orthodox', 'saintli', 'augustinian', 'friar', 'portugues', 'sarcophagu', 'goa', 'cytoplasm', 'haplogroup', 'subcontin', 'adjoin', 'jacqu', 'cassiman', 'geneticist', 'leuven', 'tiktaalik', 'kalliopi', 'monoyio', 'beasti', 'rosea', '“tiktaalik', 'daeschler', 'drexel', 'cryptid', 'crocodil', 'gill', 'terrestri', 'forefin', '“previou', '‘front', 'drive’', 'locomot', '‘four', 'tetrapod', 'shubin', 'csi', 'lungfish', 'slither', 'aquarium', '“regardless', 'cmdr', 'astrophotograph', 'walck', 'nc', 'timingreg', 'sossusvlei', 'namibrand', 'namibia', 'skywatch', 'tucker', 'lunar', 'algonquin', 'settler', 'synod', '—amid', 'midwint', 'howl', 'hungrili', 'yule', 'apoge', 'aug', '—usual', 'edt', '—in', 'earthworm', 'caw', 'theful', 'apr', 'phlox', '—among', 'shad', 'paschal', 'easter', 'eclips', 'ringsid', '—flower', 'jun', '—strawberri', 'jul', '—thi', 'monik', 'antler', 'deer', 'velveti', 'fur', 'thunder', 'thunderstorm', 'sturgeon', 'champlain', 'sultri', 'perige', 'perseid', 'meteor', 'brightest', 'sep', '—tradit', 'autumn', 'equinox', '—with', 'banquet', 'entireti', 'moonset', 'umbral', 'beaver', '—at', 'arc', 'diametr', 'supermoon', 'faintest', 'siana', 'alavi', 'oesch', 'bouwen', 'labbé', 'spitzer', 'unseen', 'frontier', 'unaid', 'anahita', 'permeat', 'reioniz', 'aa', 'outshon', 'vintag', 'lumin', 'stellar', 'luminos', 'fabul', 'synergi', 'twentieth', 'merger', 'rychard', 'bedrock', 'antiqu', 'pharaon', 'sixteenth', 'dynasti', 'seneb', 'sohag', 'deciph', 'hieroglyph', 'intermedi', 'asfar', 'incandesc', 'lifelin', '‘light', 'bulb’', 'hal', 'twisti', 'compact', 'fluoresc', 'cfl', '“none', 'rider', 'franz', 'matzner', 'demis', 'lutron', 'sylvania', 'depot’', 'hoarder', 'depot', 'zelienopl', 'pa', 'taxpay', '“incred', 'expensive”', 'herd', 'suburban', 'scourg', 'roam', 'cayuga', 'ligat', '“fertil', 'lyme', 'wreck', 'fairfax', 'jurisdict', 'fisheri', 'silverthorn', 'city’', '“exploding”', 'denicola', 'worthless', '“implant', '“surgic', 'enclos', 'arboretum', 'simplest', 'cheapest', 'rifl', 'mersereau', 'nonleth', 'manhandl', 'myopathi', 'squid', 'owlfish', 'monterey', 'mbari', 'epic', 'backbon', 'robinson', 'narrat', 'rickett', 'thun', 'rov', 'tussl', 'grabbi', 'tentacl', 'slit', 'suffoc', 'smelt', 'bathylagu', 'gonatu', 'onyx', 'tock', 'rzoze', 'catastroph', 'martyl', 'langsdorf', 'painter', 'fukushima', 'meltdown', 'earthquak', 'tsunami', 'airborn', 'stall', 'asylum', 'snowden', 'summit', 'vladimir', 'putin', 'waver', 'weapon', 'leadership', 'disarma', 'lightbulb', '‘lightbulb’', 'phaseout', 'messier', 'eso', 'calçada', 'harp', 'sunlik', 'brucalassi', 'silla', 'pasquini', 'jogger', 'catfish', 'sonner', 'nev', 'reno', 'heali', 'quarri', 'acr', 'sank', 'gazett', 'finder', 'mayberri', 'playground', 'picnic', 'helm', 'trucke', 'drinkwat', 'meadow', 'reclam', 'hydrocarbon', 'crafoord', 'bioscienc', 'geoscienc', 'polyarthr', 'krona', 'molnar', 'juri', 'tecton', 'kronor', 'holger', 'swede', 'abbey', 'winchest', 'vike', 'illiter', 'archeologist', 'century’', 'osteolog', 'nick', 'thorp', 'alfred’', 'moved—along', 'royals’', 'monk', 'altar', 'anglo', 'saxon', 'wessex', 'week’', '“great', 'pancam', 'sol', 'martian', 'rover', '“appeared”', 'errant', 'squyr', 'rove', 'mars”', 'gypsum', 'rim', 'endeavour', 'meridiani', 'planum', 'rover’', 'exclaim', '“mar', 'panoram', 'mer', '“pinnacl', '‘wait', 'rock’', '“flipped”', 'maneuv', 'meteorit', 'ejecta', 'opportunity’', 'actuat', 'robot’', '‘chatter', 'jitteri', '“tiddlywinking”', 'obligingli', 'static', 'flung', 'notch', 'odomet', 'gusev', 'spirit’', 'rougher', 'mars’', 'recount', 'spaceshot', 'twerk', 'mccann', 'miley', 'cyru', 'rump', 'jiggl', 'staccato', 'ensnar', 'samantha', 'vibert', 'caller', 'hobo', 'tegenaria', 'agrestisi', 'latrodectu', 'hesperu', 'spiderweb', 'tangl', 'cobweb', 'cricket', 'amplitud', 'percuss', 'vibe', 'reminisc', 'whisperlik', 'scurri', 'slingshot', 'naatlo', 'splendida', 'fling', 'blew', 'grace', 'weav', 'phobia', 'dinoso', 'tavern', 'wayn', 'weaver', 'dee', 'weeklong', 'spurt', 'gravel', 'sudeep', 'limnologist', 'taho', 'angler', 'railroad', 'brownfield', 'cleanup', 'groundwat', 'kittrel', 'rowland', 'businesswoman', 'preclud', 'yuill', 'curtail', 'ibis', 'geronticu', 'eremita', 'choreograph', 'updraft', 'marku', 'unsöld', 'microlight', 'exquisit', 'ultralight', 'aerodynam', 'reintroduc', 'wingtip', 'undul', 'coaster', 'downdraft', 'accordingli', 'muijr', 'kenni', 'breuer', 'malcolm', 'ritter', 'malcolmritt', 'critter', 'cutest', 'rosetta', 'darmstadt', 'juergen', 'mai', 'phila', 'lander', 'churyumovgerasimenko', 'carreau', 'airworthi', 'dpa', 'reinhardt', 'agon', 'rendezv', 'churyumov', 'gerasimenko', 'rt', '“hello', 'telecommand', 'paolo', 'unchang', 'asteroid', 'irrepar', 'plume', 'lasso', 'reboot', 'gretchen', 'buttorf', 'rig', 'moonland', '‘rithmet', 'squad', 'dreamer', 'earth’', 'understat', 'thruster', 'theater', 'grad', 'undergrad', 'mother”', 'bachelor', '“their', 'astut', 'boe', 'rockethub', 'kaplan', 'pc', 'geek', 'goodcleantech', 'guitarfish', 'matt', 'potenski', 'iucn', 'chimaera', 'cartilagin', 'dulvi', 'alarmingli', 'entangl', 'bycatch', 'overfish', 'manta', 'devil', 'sonja', 'sawfish', 'stingray', 'wedgefish', 'simpfendorf', 'indo', 'gulf', 'thailand', 'grim', 'elif', 'panorama', 'moonscap', 'changâ', 'cnsa', 'chinanew', 'kremer', 'di', 'apollo', 'soviet', 'lightn', 'min', 'eeri', 'spectromet', 'qinghai', 'lanzhou', 'spooki', 'apparit', 'mast', 'aborigin', 'elijah', 'chariot', 'nazi', 'swastika', 'ogrocki', 'farm—and', 'pigsti', 'imprint', 'fascist', 'filho', 'miranda', 'acao', 'integralista', 'brasileira', 'abandoned—and', 'white—children', 'orphanag', 'guardianship', 'salut', 'hitler', 'jerusalem', 'seismic', 'israel’', 'sebastian', 'scheiner', 'tumbl', 'edific', 'retic', 'mideast', 'avi', 'shapira', 'friction', 'quak', 'aqsa', 'holiest', 'sepulch', 'crucifi', 'brace', 'rever', 'dome', 'palestinian', 'sovereignti', 'arab', 'imping', 'jew', 'nobl', 'sanctuari', 'minaret', 'citadel', 'fortress', 'eilat', 'lieber', 'padua', 'affix', 'outfit', 'qutab', 'minar', 'bosnia', 'herzegovina', 'venic', 'verona', 'aquila', 'modena', 'padova', 'orna', 'eugen', 'hoshiko', 'exports—mani', 'america—ar', 'boomerang', 'gizmodo', 'artist’', 'awok', 'comet—believ', 'system—wil', 'titan', 'lorain', 'allison', 'lifeboat', 'debrina', 'republic', 'unimpress', 'restrain', 'coloss', 'cere', 'imcc', 'cnr', 'herschel', 'inconclus', 'kupper', 'europa', 'enceladu', 'volcano', 'vesta', 'litter', 'whack', 'antiproton', 'deceler', 'cern', 'kuroda', 'antimatt', 'ulmer', 'annihil', 'cosmolog', 'enigma', 'tenet', 'reign', 'antielectron', 'antihydrogen', 'antiparticl', 'downstream', 'hyperfin', 'imagnasa', 'univ', 'contnasa', 'ithaca', 'murray', 'plop', 'outlast', 'yoli', 'shwartz', 'byzantin', 'iaa', 'salvag', 'courtyard', 'cistern', 'rectangular', 'intric', 'geometr', 'inscript', 'twelv', 'dedicatori', 'varga', 'boar', 'amphora', 'krater', 'sloth', 'recycl', 'pauli', 'attenborough', 'mouldi', 'gloppi', 'shag', 'heap', 'josé', 'canopi', 'labori', 'defec', 'dung', 'larva', 'bum', 'phosphor', 'reef', 'acacia', 'adriano', 'chiarello', 'são', 'paulo', 'herbivor', 'dweller', 'digesta', 'koala', 'constrain', 'pygmi', 'mane', 'swelter', 'hundredth', 'goddard', 'noaa', 'frankli', 'karl', 'ashevil', 'aon', 'benfield', 'typhoon', 'haiyan', 'philippin', 'fitow', 'nino', 'glassesoff', 'cdan', 'presbyopia', 'optometrist', '“super', 'nimrod', 'madar', '“vision', 'pane', 'gabor', 'macaroni', 'uri', 'polat', 'optometri', 'perceptu', 'presbyop', 'subscript', 'hing', '“retina”', 'tdr', 'preflight', 'astrotech', 'titusvil', 'dimitri', 'gerondidaki', 'relay', 'driss', 'coastlin', 'kashiwazaki', 'voynich', 'unintellig', 'defi', 'beineck', 'cryptograph', 'bibliophil', 'sonic', 'syllabl', 'essay', 'blumenth', 'herbalgram', 'xiuhamolli', 'xiuhhamolli', '“aztec', 'herbal”', 'folio', 'rexford', 'talbert', 'cryptographi', 'garden’', 'applequist', 'botani', 'taxa', 'decipher', 'horticulturist', 'feebl', 'syllabari', 'alphabet', 'fait', 'accompli', 'intrigu', 'ethnobotan', 'ethnobotanist', 'neutrino', 'petaelectronvolt', 'icecub', 'pole', 'halzen', 'misfit', 'nuclei', 'ghostli', 'magellan', 'teraelectronvolt', 'tev', 'photon', 'gamma', 'abuzz', 'uli', 'erlangen', 'nuremberg', 'spearhead', 'clyde', 'cowan', 'frederick', 'reactor', 'weakli', 'neutron', 'cherenkov', 'muon', 'dumand', 'successor', 'antarct', 'kilomet', 'baikal', 'gigaton', 'gvd', 'éretat', 'claud', 'monet', 'impressionist', 'olson', 'etretat', 'falais', 'aval', 'normandi', 'topograph', 'postcard', 'planetarium', 'referenc', 'raleigh', 'lyubov', 'orlova', 'rourk', 'ghost', 'vanished—but', 'scrap', 'adrift', 'nautic', 'unactiv', 'afloat', 'cannib', 'finkel', 'pointi', 'mesopotamia', 'coracl', 'mesopotamian', 'ponytail', 'boundless', 'enthusiasm', 'floodwat', 'hype', 'owen', 'wooden', 'bitumen', 'gilgamesh', 'storytel', 'horsepow', 'constern', 'writ', 'weetabix', 'exil', 'babylon', 'sin', 'councilor', 'prefac', 'odontodactylu', 'cultrif', 'manti', 'roy', 'caldwel', 'neurobiologist', 'stomatopoda', 'fisherman', 'splitter', 'calib', 'rainbow', 'harbing', 'setup', 'spectral', 'stich', 'coher', 'prawn', 'odditi', 'chug', 'arthrit', 'calla', 'scrutin', 'flybi', 'unexpectedli', 'boon', 'arvidson', 'snazzi', 'snatch', 'messeng', 'meyer', 'decamp', 'motherlod', 'robertpaulyoung', 'flop', 'primordi', 'scorpion', 'shunyi', 'defensin', 'swept', 'reemerg', 'nich', 'bryan', 'pincer', 'evolutionarili', 'snake', 'boa', 'cobra', 'stifl', 'jellyfish', 'cosmologist', 'cedar', 'cement', 'preemin', 'blunder', 'newscientist', 'urthecast', 'glitch', 'undon', 'oleg', 'kotov', 'sergey', 'ryazanskiy', 'fidel', 'reattach', 'charm', 'calibr', 'excurs', 'landsat', 'mazar', 'haifa', 'gershon', 'galil', 'yah', 'yin', 'earthenwar', 'jug', 'dictionari', 'ophel', 'parabl', 'chah', 'lak', 'thirtieth', 'yod', 'judean', 'hezekiah', 'scof', 'samuel', 'libnah', 'likecs', 'carl', 'lalueza', 'paleogenom', 'pompeu', 'fabra', 'latitud', 'hiker', 'labyrinthin', 'braa', 'arintero', 'cantabrian', 'scandinavia', 'scandinavian', 'guido', 'barbujani', 'associazion', 'genetica', 'italiana', 'ferrara', 'neolith', 'yutu', 'microblog', 'underway', 'travers', 'iridum', 'jade', 'rabbit', 'xinhua', 'spite', 'night—which', 'hangintherejaderabbit', 'pnasa', 'gpm', 'tanegashima', 'snowfal', 'grunsfeld', 'perch', 'anchor', 'aloft', 'neeck', 'rapidscat', 'dragon', 'aerosol', 'oco', 'smap', 'qesem', 'rosh', 'ayin', 'hearth', 'weizmann', 'prehistor', 'shahack', 'kimmel', 'campfir', 'ha’ayin', 'infrar', 'spectroscopi', 'gopher', 'barkai', 'tel', 'aviv', 'flint', 'michelangelo', 'duel', 'sheffield', 'eran', 'elhaik', 'graur', 'interbre', 'interbreed', 'merit', 'wherebi', 'homo', 'sapien', 'forbear', 'anthropolog', 'diamond', 'pablo', 'martinez', 'monsivai', 'legendari', 'game—and', 'carat', 'françoi', 'farg', 'histoir', 'naturel', 'xiv', 'center—al', 'crude', 'merchant', 'recut', 'encyclopedia', 'dimensions—until', 'eschew', 'blusteri', 'meringu', 'spokan', 'froze', 'apostl', 'klunk', 'mcmaster', 'hamilton', 'justinian', 'yersinia', 'pesti', 'rampag', 'gilbert', 'flea', 'poinar', 'snuff', 'sharpen', 'avert', 'neanderth', 'mettmann', 'ducklau', 'furrow', 'brow', 'portray', 'brutish', 'akey', 'absent', 'sriram', 'sankararaman', 'tishkoff', 'tiskhoff', 'svant', 'paabo', 'todd', 'disotel', 'sciencemag', 'borenstein', 'borenbear', 'orrl', 'tomer', 'wikipedia', 'ivi', 'pox', 'diana', 'bautista', 'summar', 'weirdest', 'histamin', 'chloroquin', 'bred', 'corpul', 'pachyderm', 'tehama', 'disney', 'dumbo', 'mcname', 'ndovo', 'osh', '“cow', 'mpq', 'unbreak', 'dimension', 'coolest', 'mehul', 'qubit', 'boyd', 'angular', 'disallow', 'oscil', 'perpendicular', 'helic', 'refract', 'helix', 'thebeam', 'lengthi', 'momenta', 'acoupl', 'hilleri', 'savail', 'philosoph', 'beekeep', 'nd', 'essex', 'jct', 'duback', 'junction', 'cantrel', 'burlington', 'hafernik', 'apocephalu', 'boreali', 'jerki', 'etern', 'berenbaum', 'bumblebe', 'honeybe', 'paris', 'cha', 'mraz', 'apiari', 'nectar', 'entomologist', 'homogen', 'ringspot', 'leif', 'pollin', 'apocalyps', 'otv', 'inaugur', 'vandenberg', 'ksc', 'opf', 'refurbish', 'renov', 'hardwar', 'runway', 'line’', 'centerlin', 'apprais', 'bunko', 'pentagon', 'aviat', 'faa', 'aerial', 'ua', 'frees', 'naval', 'newport', 'testb', 'grego', 'hangar', 'surplu', 'gubrud', 'parachut', 'hyperson', 'gubrud’', 'piti', 'erik', 'simonsen', 'dyna', 'soar', 'usaf', 'spaceplan', 'maneuver', 'canist', 'mcnamara', 'autonom', 'spacecraft’', 'gratifi', 'aldrin', 'spacedotcom', 'phylogenet', 'xs', 'ys', '“adam', 'diverg', 'swipe', 'rebutt', '“adam”', 'werner', 'arber', 'vatican’', '“scientif', 'pontif', 'winner', '“therefor', 'mcra', 'bearer', 'pickrel', '‘adam', 'amus', 'conflat', 'marcelo', 'sánchez', 'sorondo', '“contemporari', 'language…thi', 'clarifi', 'galileo', 'cardin', 'cesar', 'baronio', 'rightli', 'bishop', 'phytosaur', 'machaeroprosopu', 'lottorum', 'mueller', 'canyon', 'garza', 'scrubbi', 'triassic', 'conif', 'underbrush', 'oxbow', 'cunningham', 'jurass', 'allig', 'crossfield', 'rising', 'skysurvey', 'ieso', 'wannab', 'luhman', 'fusion', 'mottl', 'ian', 'vela', 'exo', 'biller', 'foldabl', 'oragami', 'gallagh', 'gretzki', 'famous', 'pond', 'mcleman', 'robertson', 'wilfr', 'laurier', 'narr', 'rinkwatch', 'skateabl', 'unreli', 'pero', 'sherbrook', 'quebec', 'muller', 'airport', 'paradis', 'socha', 'flatten', 'saucer', 'airtim', 'ufo', 'glide', 'flyer', 'chrysopelea', 'paradisi', 'glider', 'splay', 'cylindr', 'giza', 'pyramid', 'silo', 'forelimb', 'cult', 'vener', 'khafr', 'aera', 'bustl', 'barrack', 'sailor', 'menkaur', 'khentkaw', 'lehner', 'nile', 'waterfront', 'symposium', 'charcoal', 'junip', 'ware', 'potteri', 'granit', 'aswan', 'khufu', 'builder', 'gang', 'sahur', 'harpoon', 'spear', 'respit', 'boni', 'kelsey', 'unfinish', 'hut', 'greet', 'melodramat', 'microblogg', 'usernam', 'huiyan', 'staid', 'folksi', 'fond', 'cutesi', 'propaganda', 'panda', 'heroic', 'brave', 'farewel', 'personif', 'heartstr', 'eelgrass', 'chalki', 'mon', 'johansen', 'mn', 'mariann', 'holmer', 'borum', 'lawn', 'mud', 'seab', 'barren', 'seawe', 'fungi', 'grassland', 'termit', 'exot', 'clamber', 'rhawn', 'astrobiologist', 'veil', 'inexplic', 'recklessli', 'settlement', 'edfu', 'chicagoâ', 'huni', 'snefru', '×', 'marouard', 'graffiti', 'sheikh', 'mortar', 'djoser', 'meidum', 'masteri', 'cemeteri', 'endow', 'manpow', 'wadi', 'jarf', 'papyri', 'cuttlefish', 'sichel', 'chameleon', 'disguis', 'squidlik', 'cleverli', 'parker', 'cuti', 'cephalopod', 'crafti', 'sepia', 'officinali', 'octopu', 'mollusk', 'slug', 'snail', 'chromatophor', 'nanoscal', 'leucophor', 'iridophor', 'pigmentari', 'leila', 'deravi', 'luminesc', 'nanostructur', 'granul', 'hanlon', 'jeopard', 'geniu', 'hu', 'unexpand', 'emitt', 'environmentalist', 'leck', 'abbot', 'vow', 'strictest', 'conservationist', 'seagrass', 'wwf', 'unconvinc', 'contravent', 'doha', '‘world', 'brad', 'abbott', 'unesco', 'thorn', 'starfish', 'spacecrafterik', 'petigura', 'earthl', 'latecom', 'goldilock', 'requisit', 'loeb', 'superh', 'cmb', 'kelvin', 'denser', 'analogu', 'nascent', 'anthrop', 'multivers', 'edwin', 'turner', 'winn', 'glacier', 'mcmurdo', 'urmston', 'waterfal', 'bonney', 'helicopt', 'geologist', 'falcon', 'griffith', 'obscura', 'aqueou', 'fissur', 'rust', 'lake—thre', 'saltier', 'oxygen—sustain', 'flown', 'tundra', 'audubon', 'gull', 'fowl', 'nina', 'coleman', 'barnstabl', 'lem', 'hamster', 'shannon', 'eldredg', 'majest', 'shareen', 'carmella', 'nihil', 'lioness', 'azira', 'cub', 'borysew', 'poland', 'andrzej', 'pabich', 'sahim', 'camel', 'wrench', 'washington’', 'kcts’', 'earthfix', 'decim', 'howe', '“starfish', 'kct', 'writh', 'contort', 'pycnopodia', 'helianthoid', 'pisast', 'ochraceu', 'diver', 'videograph', 'syndrome’', 'pb', 'sickstarfish', 'overpopul', 'urchin', 'devour', 'kelp', 'hexagon', 'swirl', 'ingersol', 'turbul', 'landmass', 'landform', 'solstic', 'edgington', 'emperor', 'charlemagn', 'proserpina', 'kidnap', 'berlin', 'rühli', 'aachen', 'shin', 'kneecap', 'limp', 'daiichi', 'tepco', 'manley', 'radioisotop', 'cesium', 'tequesta', 'invert', 'historymiami', 'america—on', 'earmark', 'carr', 'ponc', 'augustin', 'whittl', 'seminol', 'flagler’', 'mdm', 'burmes', 'phython', 'everglad', 'necropsi', 'radiocarbon', 'bible’', 'erez', 'lidar', 'sapir', 'hen', 'anachron', 'aravah', 'patriarch', 'arava', 'unreach', 'donkey', 'mule', 'dylan', 'lovan', 'snappi', 'enrich', 'discipl', 'swomley', 'bowti', 'coyn', 'subvert', 'rebut', 'polari', 'menefe', 'carboni', 'majaess', 'sufi', 'kochab', 'larger—and', 'brigher—than', 'rogelio', 'bernal', 'andreo', 'bibliothèqu', 'national', 'engl', 'villanova', 'cepheid', 'oft', 'tycho', 'brahe', 'abd', 'rahaman', 'ptolemi', 'stymi', 'ccd', '—essenti', 'camera—replac', 'amateur', 'wasaton', 'croatia', 'czech', 'photoelectr', 'hst', 'spectrograph', 'entomb', 'jehol', 'psittacosauru', 'confuciusorni', 'pyroclast', 'postmortem', 'muscbaoyu', 'jiang', 'lakeb', 'pompeii', 'scorch', 'harlow', 'mineralogist', 'volcan', 'biota', 'conifer', 'yixian', 'jiufotang', 'vesuviu', 'herculaneum', 'baoyu', 'nanj', 'sihetun', 'paleoanthropolog', 'motley', 'birdlik', 'mineralog', 'ashen', 'crisp', 'spatter', 'glean', 'krakatoa', 'station—a', '−', 'thermal', 'bose', 'condens', 'piggyback', 'micrograv', 'universe—even', 'pico', 'chilli', 'twilight', 'msss', 'tamu', 'smudg', 'guillermo', 'abramson', 'sagan', 'infinit', '“look', 'ideolog', 'coward', 'peasant', 'corrupt', 'sinner', 'mote', 'sunbeam', 'pixel', 'fervent', 'hatr', 'glori', 'triumph', 'momentari', 'twinkl', 'parodi', 'sarcasticrov', 'qgkuqj', 'lda', 'spun', 'mastcam', 'riedel', 'vantag', 'mastracchio', 'xlviii', 'kiochi', 'wakata', 'mikhail', 'tyurin', 'wager', 'spacefly', 'hoc', 'gymnast', 'downtim', 'pleistocen', 'eramauricio', 'anton', 'woolli', 'rhino', 'wildflow', 'forb', 'monoton', 'crain', 'ecologist', 'stepp', 'wooli', 'permafrost', 'sedg', 'coprolit', 'shaggi', 'grazer', 'wildflowerlik', 'spars', 'wetter', 'shrub', 'outgrown', 'jolt', 'gardner', 'country—compar', 'chesapeak', 'calcif', 'crab', 'rie', 'acidif', 'whitman', 'pliocen', 'oceanographi', 'deleg', 'luedtk', 'montgomeri', '“absolutely”', 'watermen', 'hooper', 'luedtke’', '“singl', 'best”', 'beatl', 'centauri', 'induct', 'piscium', 'pisc', 'offshor', 'jrgensby', 'lophelia', 'pertusa', 'bedford', 'redfish', 'monkfish', 'bott', 'ambigu', 'unrealist', 'aye', 'ingo', 'titz', 'predetermin', 'yea', 'nay', 'loudest', 'parliamentari', 'charlott', 'villaraigosa', 'teleprompt', 'louder', 'abstent', 'silt', 'happisburgh', 'estuari', 'ashton', 'tangibl', 'thame', 'rhinocero', 'antecessor', 'windbreak', 'clive', 'hymn', 'muddi', 'vole', 'mcnabb', 'perish', 'isabel', 'groot', 'liverpool', 'potter', 'chanceri', 'nash', 'city—about', 'hydropon', 'mashabl', 'pesticides—sinc', 'crowdcub', 'ngc', 'doradu', 'tarantula', 'seti’', 'shostak', 'systems”', 'shostak’', '“fantast', 'percentage”', 'alertli', 'fe', 'spaceport’', 'bower', 'watchdog', '‘here’', 'gotta', 'biographi', 'suborbit', 'branson’', 'keller', 'bessel', 'anu', 'skymapp', 'smss', 'extrapol', 'haystack', 'crane', 'america—and', 'tallest', 'senseless', 'sandhil', 'bluntli', 'inbreed', 'mariu', 'pistol', 'tobia', 'stenbaek', 'bro', 'aquaria', 'eaza', 'euro', 'bengt', 'holst', 'yorkshir', 'antelop', 'castrat', 'cute', 'incarcer', 'loch', 'ness', 'custodian', 'nessi', 'inver', 'discredit', 'notorieti', 'monstrou', 'hump', 'columba', 'cathol', 'righteou', 'vanquish', 'satan', 'serpent', 'cryptozoolog', 'scottish', 'gallop', 'flesh', 'aquat', 'sigh', 'waterway', 'swarm', 'dumpster', 'baruch', 'mecea', 'wipeout', 'zalasiewicz', 'purport', 'infiltr', 'feral', 'takeov', 'impend', 'stamped', 'scamper', 'nevil', 'monarch', 'ancestri', 'turi', 'bosworth', 'jackpot', 'curvatur', 'mutil', 'roundworm', 'otzi', 'leanchoilid', 'caron', 'chisel', 'kootenay', 'shale', 'pomona', 'yoho', 'cambrian', 'arthropod', 'clawlik', 'polychaet', 'burgessochaeta', 'sessil', 'spong', 'brachiopod', 'seafloor', 'chengjiang', 'escarp', 'laurentia', 'ancestr', 'horizont', 'mountainsid', 'topographi', 'wildest', 'lode', 'litholog', 'paleoenvironment', 'taphonom', 'conway', 'deepwat', 'jhu', 'apl', 'palikir', 'hiris', 'lefnasa', 'linea', 'rsl', 'brine', 'lujendra', 'ojha', 'crism', 'mro', 'icaru', 'odyssey', 'brini', 'zurek', 'savanna', 'jose', 'alonso', 'irradi', 'hermann', 'helmholtz', 'blurri', 'myopia', 'shortsighted', 'gladiat', 'decapit', 'redfern', 'bioarchaeologist', 'leather', 'marshi', 'shoemak', 'amphitheat', 'isotop', 'shard', 'headhunt', 'trophi', 'hadrian', 'barbarian', 'subhuman', 'beetl', 'stunk', 'authorityphoto', 'â¬â©', 'ardon', 'hama', '“master', 'israel”', 'chi', 'isaw', 'dnainfo', 'adorn', 'vultur', 'nahal', 'mishmar', 'gilat', 'ram', 'figurin', 'scepter', 'woven', 'goblet', 'wheaton', 'curatori', 'ceram', 'textiles—sometim', 'deuterium', 'tritium', 'hohlraum', 'livermor', 'eddi', 'dewald', 'minuscul', 'fission', 'seawat', 'debbi', 'callahan', 'blink', 'bootstrap', 'output', 'mccrori', 'heng', 'sinith', 'crocodilian', 'croc', 'herpetolog', 'ground—and', 'dinet', 'skittish', 'turin', 'muddl', 'forgeri', 'premis', 'crucifixion', 'geochemistri', 'carpinteri', 'politecnico', 'linen', 'giulio', 'fanti', 'il', 'mistero', 'della', 'sindon', 'rizzoli', 'corona', 'furnish', 'ramsey', 'situ', 'meccanica', 'sci', 'mashup', 'utc', 'forebod', 'sleet', 'swath', 'nw', 'wintri', 'nathan', 'geostationari', 'sorghum', 'texan', 'sugarcan', 'aphid—but', 'raul', 'villanueva', 'aphid', 'ravag', 'honeydew', 'befoul', 'woo', 'wg', 'ladybug', 'lacew', 'tusk', 'burk', 'kiro', 'landown', 'sidor', 'seattle’', 'mastodon', 'kirotv', 'darwinilu', 'sedarisi', 'beetlecollect', 'epithet', 'sedari', 'styliano', 'chatzimanoli', 'resurfac', 'starstruck', 'chattanooga', 'rediscov', 'baha', 'blanca', 'bueno', 'hm', 'beagl', 'ro', 'cuarto', 'crdoba', 'sawtooth', 'anda', 'humorist', 'audiobook', 'chipmunk', 'bestiari', 'fabl', 'anthropomorph', 'animal’', 'jylland', 'liabl', 'lojtv', 'poulsen', 'ritzau', 'unsuit', 'uffizi', 'pessina', 'bellini', 'hurri', 'malnutrit', 'wolfgang', 'sohn', 'krasnaya', 'polyana', 'nineteen', 'slovakian', 'luger', 'josef', 'petrulak', 'bmw', 'whoosh', 'smoother', 'breadwinn', 'juggernaut', 'dow', 'ferrari', 'speedskat', 'mclaren', 'parabol', 'sharpli', 'ligeti', 'fairer', 'hofer', 'underequip', 'underdog', 'jamaican', 'sprinter', 'usain', 'ioc', 'zamboni', 'folder', 'bykovski', 'jumper', 'hourglass', 'unfair', 'teamwork', 'reynold', 'fendrich', 'mt', 'tristar', 'constantin', 'corvu', 'kiefer', 'sutherland', 'milo', 'harington', 'cassia', 'londinium', '“pompeii', 'hadrian’', 'pict', 'italy’', 'cataclysm', '“i’v', 'lava', 'magma', 'viscou', 'rosali', 'lope', 'petrifi', 'plaster', 'yeoman', '“archeolog', 'meticul', 'villa', 'pompeian', '“pompeii”', '‘immort', 'comic', '‘pompeii’', 'yellowston', '“yellowston', 'underfloor', 'pei', 'zhaoyu', 'anzick', 'quartz', 'bevel', 'clovi', 'mont', 'elk', 'heirloom', 'ochr', 'esk', 'willerslev', 'shane', 'doyl', 'bozeman', 'reburi', 'helena', 'troll', 'ibex', 'unh', 'energiesâlow', 'schwadron', 'eo', 'heliosheath', 'starkli', 'reconnect', 'uricurituba', 'critica', 'euzivaldo', 'queiroz', 'tributari', 'apurimac', 'wrongli', 'mantaro', 'drainag', 'hydrograph', 'dam', 'contend', '—but', 'yongbyon', 'digitalglob', 'kalinin', 'iaea', 'korea’', 'chernobyl', 'jane’', 'obsolet', '“could', 'ukrainian', 'ferenc', 'dalnoki', 'veress', 'nonprolifer', 'wolfsthal', 'relianc', 'obsolesc', 'renaiss', 'englefield', 'iaea’', 'serg', 'luxor', 'accessori', 'hisham', 'barakat', 'thiev', 'fled', 'pretext', 'detent', 'rampart', 'monica', 'cartouch', 'upris', 'sladki', 'condo', 'architectur', 'vacant', 'gleam', 'eyesor', 'revit', 'stearn', 'biscayn', 'thatch', 'posthol', 'blacken', 'plaza', 'jarzombek', 'leas', 'residenti', 'quicken', 'singleton', 'megwatt', 'coachella', 'cravath', 'chemehuevi', 'ransom', 'vy', 'nightlif', 'hohokam', 'mound', 'mesa', 'nabokov', 'eloqu', 'crowley', 'horner', 'allyson', 'ebay', 'stein', 'amli', 'koppelman', 'elwha', 'klallam', 'sequim', 'columbian', 'insle', 'russia’', 'defunct', 'kosmo', 'harmlessli', 'colonel', 'alexei', 'zolotukhin', 'ria', 'novosti', 'decommiss', 'unoccupi', 'iridium', 'telecommun', 'eicher', 'planet’', 'reentri', 'esa’', 'miscellan', 'metric', 'donohu', 'ladbrok', 'australiasia', 'malecon', 'havana', 'cuba', 'desmond', 'boyland', 'dea', 'cia', 'vaughan', 'sarasota', 'lobster', 'embargo', 'helplessli', 'communist', 'behring', 'usf', 'uf', 'haridopolo', 'jeb', 'cobbl', 'broker', 'cuban', 'karger', 'oppress', 'tupp', 'castro', 'freedom', 'arthenia', 'joyner', 'unanim', 'snapper', 'grouper', 'yucatan', 'broward', 'rippl', 'bruno', 'jardin', 'reina', 'outcri', 'gigant', 'interplanetari', 'slooh', 'nea', 'slooh’', 'cox', 'tore', 'chelyabinsk', 'innumer', 'kiloton', 'tnt', 'measli', 'berman', 'boslough', 'undiscov', 'biospher', 'neo', 'conting', 'deflect', 'webcast', 'stargaz', 'qe', 'aztec', 'inah', 'rocio', 'heyday', 'aztacapozalco', 'zamora', 'techichi', 'chihuahua', 'xoloitzcuintli', 'whizz', 'shockwav', 'wasteland', 'klemetti', 'molten', 'chronolog', 'lair', 'plagioclas', 'sluggish', 'kari', 'geochemist', 'kent', 'slam', 'dunk', 'subduct', 'mantl', 'aleutian', 'pinatubo', 'missil', 'kazakhstan', 'civilian', 'goce', 'malvestuto', 'bluefish', 'cove', 'carmel', 'scuba', 'wrestl', 'skyview', 'antiochu', 'amit', 'alley', 'irina', 'zilberbod', 'basalt', 'sixti', 'seleucid', 'hasmonean', 'jannaeu', 'orchard', 'townspeopl', 'judea', 'yuval', 'burma', 'marcu', 'kirk', 'prese', 'rocks—known', 'blueston', 'types—may', 'bevin', 'carn', 'meini', 'dolerit', 'goedog', 'rhyolit', 'rho', 'felin', 'raft', 'belat', 'soyuz', 'homeland', 'lade', 'downlink', 'pockmark', 'butler', 'hine', 'earthshin', 'toscanelli', 'foreground', 'wallaston', 'herodotu', 'agricola', 'golgi', 'zinner', 'lichtenberg', 'schiaparelli', 'mare', 'oceanu', 'procellarum', 'aristarchu', 'exospher', 'leonardo', 'vinci', 'mona', 'gherardini', 'silvano', 'vinceti', 'valuat', 'sant’orsola', 'gherardini’', 'basilica', 'santissima', 'annuziata', 'duomo', 'androgyn', 'louvr', 'apprentic', 'gian', 'giacomo', 'caprotti', 'salai', 'noblewoman', 'beatric', 'milanes', 'ludovico', 'sforza', 'alight', 'bloom', 'boilov', 'matthia', 'furst', 'reindeer', 'herder', 'helsinki', 'rudolph', 'glitter', 'carib', 'ollila', 'lapland', 'souvenir', 'erdmann', 'conspiraci', 'vandal', 'screengrab', 'cheop', 'hobbyist', 'atlanti', 'erich', 'dniken', 'theorist', 'explicitli', 'unscientif', 'ludicr', 'fallaci', 'plato', 'timaeu', 'critia', 'tolkien', 'superman', 'krypton', 'pseudosci', 'mcgraw', 'baseless', 'shocker', 'fantasi', 'culmin', 'multigener', 'spectacular', 'khnum', 'khuf', 'rewrit', 'subterfug', 'insult', 'radford', 'benjaminradford', 'shortwav', 'filament', 'geomagnet', 'spaceweath', 'daysid', '“magnet', 'kiesl', 'sauk', 'spica', 'starri', 'celestri', 'triangl', 'gibbou', 'bluish', 'retrograd', 'eastward', 'arcturu', 'brillianc', 'ruddier', 'disk', 'apertur', 'magnif', 'memor', 'nickolay', 'lamm', 'antic', 'folli', 'violet', 'mole', 'marsupi', 'smorgasbord', 'hedgehog', 'macaqu', 'slaughterhous', 'ferret', 'goggl', 'nocturn', 'fatwah', 'gaiae', 'emir', 'tantamount', '“such', 'khaleej', 'quran', '“do', 'yourselv', 'lansdorp', 'footstep', 'ibn', 'battuta', 'polo', 'armstrong', 'breathabl', 'dani', 'eder', 'colonist', 'fatwa', 'rihla', 'god’', '‘travel', 'speechless', 'exoplanetari', 'characteris', 'extrasolar', 'heik', 'rauer', 'prolif', 'lagrang', 'finalist', 'marcopolo', 'ste', '€', 'euclid', 'darla', 'zelenitski', 'calgari', 'gargantuan', 'pachyrhinosaur', 'badland', 'lumber', 'frill', 'electronâ', 'supersymmetri', 'edmund', 'tiniest', 'sven', 'sturm', 'axi', 'odula', 'chirp', 'chimp', 'mullin', 'azusa', 'ingot', 'maacah', 'nava', 'panitz', 'ruhama', 'bonfil', 'hidey', 'surveyor', 'strata', 'huleh', 'qameh', 'mimi', 'lavi', 'hoop', 'knot', 'iconographi', 'ornament', 'canaanit', 'benjaminit', 'sheba', 'bichri', 'joab', 'jarl', 'apocalypse—or', 'jorvik', 'nors', 'thor', 'odin', 'loki', 'ragnarok', 'organizers—who', 'countdown', 'website—say', 'heimdallr', 'mystic', 'gjallerhorn', 'portent', 'liv', 'livtrasir', 'mida', 'madiedo', 'huelva', 'goug', 'nubium', 'firebal', 'enshroud', 'midweek', 'cathodoluminesc', 'µm', 'zircon', 'granodiorit', 'tonalit', 'inhospit', 'dubiou', 'erod', 'riverb', 'inclus', 'methuselah', 'cliqu', 'geochem', 'primev', 'wiggl', 'bowr', 'chaff', 'chamberlain', 'mollusc', 'notes—and', 'portal', 'benevol', 'deiti', 'baffl', 'armchair', 'dana', 'stratou', 'stella', 'artwork', 'interlock', 'conic', 'disintegr', 'pentagram', 'bedevil', 'bunker', 'scientolog', 'sdov', 'cme', 'earthsid', 'veloc', 'supercharg', 'bernd', 'wuestneck', '—though', 'overstat', 'björn', 'nilsson', 'nomad', 'scania', 'södertörn', 'hanö', 'gyttja', 'peat', 'nyberg', 'parmitano', 'mishap', 'gerstenmai', 'suffredini', 'snorkel', 'macgyv', 'booti', 'lockwood', 'boöti', 'orchestra', 'violin', 'cello', 'echel', 'nirspec', 'geoffrey', 'tmt', 'preprint', 'greenpeac', 'calamit', '“subtrop', 'sink”', '“climat', 'rossi', 'tidal', 'algal', 'plankton', 'inflow', 'upwel', 'navi', 'sonar', 'nichola', 'pyenson', 'splotch', 'dinoflagel', 'humpback', 'taklamakan', 'forgotten', 'cheesemak', 'cowhid', 'andrej', 'shevchenko', 'rennet', 'lactos', 'behold', 'vilifi', 'gentler', 'strife', 'ashdown', 'buckingham', 'palac', 'batter', 'richardian', 'screenwrit', 'philippa', 'langley', 'greyfriar', 'ula', 'clash', 'exhum', 'modernist', 'backdrop', 'majesti', 'mowbray', 'westminst', 'distrust', 'instig', 'pathfind', 'unnam', 'uwingu', 'stern', 'pluto', 'sequestr', 'cartographi', 'profan', 'swahili', 'iau', 'bb', 'disapprov', 'misl', 'malibu', 'sikich', 'cougar', 'panzer', 'theres', 'bavaria', 'bavarian', 'nerlich', 'paleopathologist', 'shallowli', 'atacama', 'parch', 'driest', 'alpaca', 'llama', 'maiz', 'chaga', 'protozoan', 'trypanosoma', 'cruzi', 'buggi', 'galapago', 'krista', 'pbi', 'denali', 'karin', 'tuxen', 'bettman', 'trekker', 'ecotour', 'wapusk', 'spar', 'hudson', 'ador', 'scaveng', 'charismat', 'photobomb', 'svalbard', 'longyearbyen', 'hakon', 'mosvold', 'larsen', 'scanpix', 'week—it', 'miso', 'tennessean', 'okra', 'archipelago', 'germplasm', 'okayama', 'storehous', 'impenetr', 'armor', 'penitentiari', 'alcatraz', 'confeder', 'sympath', 'denounc', 'fortif', 'caponi', 'jut', 'bonanza', 'lissauer', 'wholesal', 'hudgin', 'kaltenegg', 'seti', 'seagar', 'flicker', 'pyongyang', 'capita', 'kilowatt', 'beehiv', 'mckay', 'gluckstadt', 'hayn', 'haselmai', 'gizmo', 'nemesi', 'kern', 'beetlebaffl', 'klein', 'carnuntum', 'danub', 'legionari', 'ludu', 'neubauer', 'palu', 'magnu', 'gladiatori', 'flavian', 'spaciou', 'ex', 'lanista', 'magnetomet', 'emi', 'wheeler', 'atv', 'thisyoutub', 'hebron', 'centerpiec', 'municip', 'gibberish', 'unread', '“applic', 'smalltalk', 'symmetries”', 'fin”', '“simul', 'methodolog', 'nonsens', '“postmodern”', '“free', 'merkel', 'sobotta', 'springer', 'cyril', 'fourier', 'investigating…', 'placehold', 'scigen', 'plagiar', 'professor’', 'archibald', '“publish', 'perturb', 'maximlott', 'rainstorm', 'porta', 'nocera', 'doorway', 'giancarlo', 'galan', 'necropoli', 'salvator', 'laporta', 'nola', '‘pompeii', 'irlando', '“right', 'sorrentino’', '‘the', 'beauty’', 'dario', 'franceschini', 'matteo', 'renzi', 'eu', 'reunit', 'rainwat', 'giovanni', 'puglisi', 'spheroid', 'iddingsit', 'yamato', 'microtunnel', 'micron', 'astrobiolog', 'hurl', 'biotic', 'dirk', 'schulz', 'makuch', 'spherul', 'abiot', 'nakhla', 'lew', 'nonliv', 'biogen', 'moffett', 'biomolecul', 'arisen', 'macromolecul', 'microfeatur', 'louisa', 'preston', 'tubul', 'kcna', 'yorki', 'unexcav', 'lash', 'ackerman', 'giulia', 'rodano', 'franceschini’', 'defer', 'wring', 'diagram', 'hyperuniform', 'corbo', 'lau', 'astat', 'disorgan', 'cram', 'disarray', 'disorderli', 'torquato', 'goliath', 'briton', 'bushbi', 'bere', 'strait', 'trip—for', 'beringia—th', 'alaska—befor', 'treeless', 'alaskan', 'bog', 'glacial', 'beringia', 'o’rourk', 'unew', 'stopov', 'submerg', 'lowland', 'discovered—which', 'chukotka', 'fiscal', 'maintainingnasa', 'groundwork', 'stratospher', 'omnibu', 'cach', 'jupiter’', 'sl', 'orion', 'debut', 'uncrew', 'corral', 'replan', 'flagship', 'manageri', 'miscu', 'europe’', 'arian', 'kourou', 'guiana', 'nondefens', 'barbera', 'yosemit', 'campsit', 'np', 'bratwurst', 'irksom', 'reliant', 'beastli', 'anthropogen', 'subsist', 'camper', 'backcountri', 'bin', 'stealer', 'campground', 'webcam', 'squeak', 'spectacl', 'virtualtelescop', 'hastili', 'pithoviru', 'acanthamoeba', 'castellanii', 'enhancementjulia', 'bartoli', 'chantal', 'abergel', 'ig', 'amu', 'siberian', 'lain', 'claveri', 'bioinformat', 'aix', 'marseil', 'banal', 'kolyma', 'driller', 'amoeba', 'pandoravirus', 'isocahedr', 'triangular', 'curti', 'suttl', 'virologist', 'displac', 'ceccano', 'gianluca', 'masi', 'replay', 'overseen', 'pinprick', 'cu', 'haleakala', 'spaceguard', 'loggerhead', 'bookend', 'mansfield', 'hattera', 'seabird', 'sargassum', 'musk', 'testifi', 'subcommitte', 'testimoni', 'monopoli', 'lockhe', 'crimea', 'gass', 'unsustain', 'chaplain', 'dotcom', 'billionaire’', 'daohug', 'fauna', 'pterosaur', 'liaon', 'jihol', 'wacki', 'catalogu', 'mongolia', 'mesozo', 'bucktooth', 'aberdeen', 'hebrid', 'trench', 'darkest', 'realm', 'vanuatu', 'caledonia', 'jamieson', 'grenadi', 'cusk', 'bait', 'thom', 'linley', 'cameron', 'deepsea', 'redwood', 'priceless', 'bomk', 'burl', 'legitim', 'timberland', 'windstorm', 'poach', 'letterhead', 'exodu', 'raab', 'scientist’', 'squadron', 'einstein’', 'postul', 'pfleegor', '“space', '“dear', 'weighti', 'foretel', 'letter’', 'collection’', '“import', 'history”', 'pfleegor’', 'military’', '“star', 'stripes”', 'einstein”', 'soldier’', 'tent', '“tonight', 'entitl', '‘einstein’', 'clarif', 'heir', 'io', 'renssela', 'polytechn', 'leshin', 'pappalardo', 'artilleri', 'warfar', 'dove', 'cant', '“set', 'rebellion', 'ottoman', 'nobleman', 'circa', 'mitch', 'fraa', 'skirmish', 'turk', 'gunpowd', 'shrapnel', 'incendiari', 'barn', 'harebrain', 'lefteri', 'pitaraki', 'wiltshir', 'pembrokeshir', 'hammerston', 'mute', 'torvosauru', 'gurneyi', 'krasovskiy', 'hendrickx', 'octávio', 'mateu', 'universidad', 'lisboa', 'museu', 'lourinhã', 'lisbon', 'tanneri', 'predatori', 'tyrannosauru', 'carcharodontosauru', 'giganotosauru', 'aureliu', 'polion', 'legio', 'adiutrix', 'tebuni', 'bancroft', 'obeis', 'ceas', 'pannonia', 'consular', 'tebtuni', 'grenfel', 'adamson', 'legibl', 'papyrologist', 'fayyum', 'homesick', 'alabast', 'pharoan', 'iset', 'amenhotep', 'jewitt', 'slowly—they', 'yorp', 'asteroid’', 'rubbl', 'bighorn', 'tucson', 'catalina', 'yuma', 'lamb', 'listeningap', 'wojcieszak', 'liker', 'barcelona', 'anhedonia', 'amusia', 'verg', 'other—also', 'normal—peopl', 'eveleth', 'treati', 'chlorofluorocarbon', 'cfc', 'condition', 'loophol', 'insignific', 'hcfc', 'johann', 'laub', 'firn', 'unpollut', 'tasmania', 'agela', 'clathrod', 'lowli', 'devoid', 'lenton', 'exet', '“anim', 'jaxa', 'koichi', 'kibo', 'cupola', 'astro', 'crewmat', 'commandership', 'tsukuba', 'tma', 'handov', 'arigato', 'roscosmo', 'artemyev', 'skvortsov', 'crewmemb', 'logist', 'airlock', 'porch', 'exterior', 'htv', 'kounotori', 'stork', 'sixteen', 'crewmen', 'collectspac', 'jaxa’', 'ferguson', 'ing', 'elis', 'outlandish', 'thesi', 'comed', 'castaneda', 'miniseri', 'spacetim', 'degrass', 'literaci', 'macfarlan', '—creator', 'orchestr', 'moat', 'spacefar', 'tolbachik', 'oncom', 'trundl', 'volcanologist', 'glaciovolcan', 'rainer', 'jokulhlaup', 'grmsvtn', 'geoscientist', 'mucki', 'tuya', 'pushpin', 'mcgarvi', 'bakeri', 'bulbou', 'hyaloclastit', 'waterlin', 'bathtub', 'smelli', 'quilt', 'patagonian', 'glaciovolcano', 'thorniest', 'movabl', 'victoria', 'transantarct', 'cusp', 'constraint', 'ocearch', 'lydia', 'kcpq', 'jacksonvil', 'skomal', 'handedli', 'chisholm', 'lydia’', 'transocean', 'hueter', 'rosedal', 'gazzaley', 'sxsw', 'lewi', 'videogam', 'biofeedback', 'yvett', 'electroencephalogram', 'demo', 'headset', 'watson', 'fg', 'dzhezkazgan', 'trio', 'hypergi', 'hr', 'interferomet', 'supergi', 'betelgeus', 'binari', 'olivi', 'chesneau', 'observatoir', 'côte', 'd’azur', 'vlt', 'interferometri', 'spacex’', '‘grasshopper’', 'unopen', 'phylacteri', 'shai', 'halevi', 'unrol', 'storeroom', 'artefact', 'pnina', 'shor', 'tefillin', 'yonatan', 'schor', '“buck', 'spindli', 'retro', 'falcon’', 'royc', 'sdsc', 'strickland', 'paypal', 'tesla', 'hyperloop', 'sunday’', 'boozer', 'sb', '“iffi', 'hydraul', 'road”', 'thru', 'elonmusk', 'months”', '“should', 'hop”', 'catapult', 'prelaunch', 'intel', 'talent', 'alec', 'vadim', 'arshavski', 'camenzind', 'precautionari', 'mend', 'handler', 'anomal', 'unschedul', 'redund', 'transpond', 'panze', 'gamer', 'outperform', 'maze', '“travel', 'dolin', 'primatologist', 'dearborn', 'primatolog', 'lrc', 'hooki', 'bribe', 'bookstor', 'joystick', '“brick”', '“everyth', 'mall', '‘go', 'fragaszi', 'ape', 'unwari', 'males”', 'lexigram', 'aloud', '“panze', 'chex', 'garber', 'skyrim', 'kalenda', 'maurepa', 'murfreesboro', 'jax', 'margi', 'jenk', '“sure', 'fugitt’', 'park’', 'tlc’', 'duggar', 'plow', '“diamond', 'mongol', 'genghi', 'khan', 'shinzo', 'abe', 'mongolian', 'norov', 'altankhuyag', 'ulan', 'bator', 'kyodo', 'rain—specif', 'lush', 'hessl', 'arid', 'horsepower—liter', 'exomar', '“opportun', 'plantagenet', 'woodchip', 'grit', 'perciv', 'zhang', 'husk', 'breweri', 'cellulose—th', 'ined', 'polysaccharid', 'linkag', 'tapioca', 'glycosid', 'amylas', 'cellulas', 'powderi', 'zhang’', 'amylos', 'vat', 'beer—onli', 'biorefineri', 'aplenti', '“corn', 'ethanol', 'biofuel', 'challenge—world', 'waiter', '“would', 'nanuqsauru', 'hoglundi', 'tyrannosaur', 'fiorillo', 'tykoski', 'perot', '‘pygmi', 'tyrannosaur’', 'famin', 'eke', 'huddl', 'pothol', 'wand', 'ibanez', 'graveyard', 'braemer', 'recherch', 'scientifiqu', 'naturalist', 'qarassa', 'emmer', 'gazel', 'styliz', 'schemat', 'anatolia', 'personhood', 'jericho', 'juína', 'olivin', 'ringwoodit', 'pearson', 'leaven', 'hunk', 'chondrit', 'chiefli', 'belch', 'anvil', 'morph', 'keppler', 'bayreuth', 'hydroxid', 'slab', 'emplac', 'anhydr', 'kimberlit', 'mento', 'juna', 'ultradeep', 'misshapen', 'innard', 'cr', 'prehensil', 'robonaut', 'horvat', 'posner', 'stilt', 'eyehol', 'hershman', 'apport', 'contour', 'hemar', 'steinhardt', 'foothil', 'dai', 'ichi', 'okuma', 'crowdsourc', 'donn', 'moyer', 'daryl', 'buessel', 'oceanograph', 'iodin', 'behren', 'higley', 'becquerel', 'renton', 'funnel', 'safari', 'minichino', 'imani', 'neonatologist', 'moss', 'signi', 'boelen', 'verdant', 'cryopreserv', 'drake', 'mossi', 'mayan', 'hun', 'rootlik', 'rhizoid', 'spore', 'circumstanti', 'eisenkop', 'redditor', 'binghamton', 'piur', 'tunic', 'subatom', 'wmap', 'clockwis', 'steffen', 'richter', 'trillionth', 'millionth', 'bock', 'afterglow', 'sunglass', '‘b', '‘curl’', 'monda', 'collin', 'lm', 'shimmer', 'veini', 'otherworldli', '“whi', 'china’', 'launchpad', 'privileg', 'endeavor', 'shuttles’', 'ukrain', 'rework', 'worldli', 'grush', 'ggrushsprint', 'earthlink', 'scarp', 'fram', 'carnegi', 'shrunken', 'byrn', 'bryne', 'shrinkag', 'glies', 'phl', 'upr', 'arecibo', 'vatican', 'biosignatur', 'steward', 'apai', 'apt', 'ebi', 'pri', 'fresco', 'artemi', 'sprawl', 'cantil', 'lapress', 'apophi', 'wee', 'erigon', 'regulu', 'tuscon', 'andrejko', 'transmitt', 'sacrifici', 'paxon', 'voyl', 'hindsight', 'messi', 'toassess', 'giacobini', 'reagan', 'congratulatori', 'halley', 'intercept', 'farquhar', 'stole', 'accomplic', 'ise', 'spaceref', 'exotic—and', 'esoteric—orbit', 'swoop', 'trajectori', 'chagrin', 'path—if', 'entrepreneuri', 'moon’', 'boeing’', 'ambit', 'cellphon', 'mao', 'zedong', 'democraci', 'cede', 'to”', 'militar', 'morpheu', 'reconsider', 'hor', 'oeuvr', 'glitzi', 'gala', 'snakehead', 'gannon', 'waldorf', 'astoria', 'palett', 'lpez', 'alegra', 'durian', 'ostrich', 'carcass', 'muskrat', 'tuxedo', 'innocu', 'appet', 'mealworm', 'bezo', 'squeamish', 'roach', 'overheard', 'exoskeleton', 'unsettl', 'citat', 'seafar', 'honore', 'moonwalk', 'sylvia', 'earl', 'munk', 'daz', 'zuber', 'telecast', 'intrepid', 'rurka', 'envisat', 'hekla', 'geophysicist', 'pll', 'einarsson', 'morgunblai', 'soho', 'luhmann', 'sped', 'narrowli', 'hydro', 'ying', 'superstorm', 'stereo', 'maiden', '“moon', 'tankag', 'centaur', 'jointli', 'stages’', 'optimum', 'hierakonpoli', 'sacrifi', 'hippopotamus', 'cypru', 'wim', 'neer', 'belgian', 'friedman', 'thecat', 'feli', 'silvestri', 'wildcat', 'housecat', 'catu', 'chau', 'egpyt', 'binaries—an', 'itself—but', 'lockn', 'malingen', 'ormo', 'age—and', 'cornfield', 'rootworm', 'bt', 'corn—so', 'bacillu', 'thuringiensi', 'greenbelt', 'lro', 'printout', 'terabyt', 'browser', 'glint', 'vim', 'beacon', 'churn', 'punga', 'lorenz', 'wackiest', 'spectacularli', 'mighti', 'deforest', 'downfal', 'interconnect', 'overreach', 'venison', 'reestablish', 'anew', 'inequ', 'egalitarian', 'equit', 'retire', 'unequ', 'stratif', 'imperman', 'crise', 'overview', 'ubiqu', 'upstart', 'masten', 'armadillo', 'ecor', 'anzu', 'wyliei', 'bestow', 'demon', 'toothless', 'crest', 'fragmentari', 'lamanna', 'bayou', 'spif', 'catchi', 'unpronounc', 'gulli', 'likeli', 'contruct', 'darren', 'aronofksi', 'apocalypt', 'featurett', 'waterproof', 'tigri', 'euphrat', 'cubit', 'creationist', 'caravel', 'jesuit', 'polymath', 'athanasiu', 'kircher', 'quadrup', 'bilg', 'mose', 'ararat', 'ricacoleman', 'sheehi', 'gulp', 'hydrophi', 'platuru', 'gingerli', 'guanacast', 'slimmest', 'hardwir', 'menageri', 'extravehicular', 'spinoff', 'offshoot', 'entail', 'pertin', 'baikonur', 'cosmodrom', 'wrangl', 'longstand', 'trent', 'perrotto', 'president’', '“nasa', 'japan’', 'shipshap', 'npo', 'energomash', 'hagel', 'quark', 'hadron', 'lhc', 'tevatron', 'fermilab', 'batavia', 'gigaelectronvolt', 'nigel', 'lockyer', 'cdf', 'dzero', 'higg', 'boson', 'electroweak', 'rolf', 'heuer', 'underpin', 'backerjack', 'galeri', 'westlicht', 'hasselblad', 'auction', 'terukazu', 'fujisawa', 'diaz', 'weightless', 'seasons’', '“tast', 'stars”', 'gastronomi', 'ju', 'turf', 'meteorito', 'cabernet', 'sauvignon', 'cantaloup', 'gazpacho', 'caviar', 'seclud', 'ferdinand', 'reinvent', 'astra', 'fourseason', 'costarica', 'drone', 'sportsmen', 'harass', 'outlaw', 'uav', 'nuse', 'hunter’', 'muse', 'foothold', 'sportsman', '“sportsmen', 'moos', 'woodcraft', 'capt', 'chastain', 'trooper', 'gopro', 'quadcopt', 'tibbl', 'extermin', 'walli', 'schirra', 'gemini', 'manhood', 'tidbit', 'rethk', 'garment', 'sheath', 'snugli', 'humong', 'motherboard', 'fore', 'shepard', 'suit—forc', 'mag', 'humeru', 'atlantocheyl', 'mortoni', 'anjason', 'harpel', 'oddli', 'embank', 'monmouth', 'parri', 'offhandedli', 'schein', 'atlantoch', 'shortchang', 'swam', 'nro', 'nrol', 'statiusaf', 'geosynchron', 'eavesdrop', 'betti', 'sapp', 'lob', 'eelv', 'entrust', 'warfight', 'spaceflightnow', 'justu', 'bengtsson', 'korsa', '“terror', 'behemoth', '“rat', 'hell”', 'solna', '“next', 'ratzilla', 'sweden’', 'diysect', '“avatar', 'arabidopsi', 'kickstart', 'glowingpl', 'backer', 'bioluminesc', 'crossbr', 'vibrio', 'fischeri', 'spec', 'agrobacterium', 'tumefacien', 'arabidopsis’', 'aptitud', '“kickstopper”', 'amass', 'evans’', 'sevenfold', 'holm', '“bluntli', '“ask', '“won’t', 'power”', 'pandora’', 'pontormo', 'mannerist', 'poplar', '“visit', 'casein', '“chees', 'artists’', 'theophilu', 'cennino', 'cennini', 'polypeptid', 'quicklim', '“whatev', 'biennial', 'viola', 'carucci', 'giovan', 'battista', 'rosso', 'fiorentino', 'florentin', 'pupil', 'sarto', 'carmignano', 'metaphys', 'elisabeth', 'fixedli', 'statuesqu', 'geremicca', 'fathom', 'rossi’', 'woodworm', 'repaint', 'varnish', 'overpaint', 'overcast', 'pontormo’', 'ledg', 'passer', 'claudiu', 'likphoto', 'marleen', 'sagrillo', 'crescent', 'dangl', 'midair', 'ra', 'warhors', 'shanhur', 'augustu', 'trajan', 'epigraph', 'zeitschrift', 'fr', 'gyptisch', 'sprach', 'und', 'altertumskund', 'martina', 'nerpel', 'swansea', 'ku', 'cleopatra', 'cultic', 'axial', 'horu', 'phallu', 'harco', 'willem', 'egyptolog', 'gerda', 'henkel', 'dsseldorf', 'dil', 'universitt', 'leipzig', 'ren', 'facult', 'universitair', 'notr', 'dame', 'paix', 'namur', 'thedeutsch', 'archologisch', 'nederland', 'vlaam', 'instituut', 'escholarship', 'dh', 'vp', 'rogu', 'redefin', 'elkin', 'tanton', 'carnegie’', 'sheppard', 'demot', 'sedna', 'chadwick', 'trujillo', 'biden', 'uranu', 'perihelion', 'rasberri', 'voraci', 'tawni', 'a’', 'agrilif', 'mulch', 'fencepost', 'wit’', 'meteoroid', 'maui’', 'frankfurt', 'allgemein', 'zeitung', 'manfr', 'niekisch', '‘shock', 'incident’', '‘speechless', 'culprit’', 'derang', 'psychopath', 'gruesom', 'vampir', 'chupacabra', 'redondo', 'blackbird', 'beeb', 'spook', 'heifer', 'grisli', 'satanist', 'sadist', 'botul', 'malici', 'scum', 'anatoxin', 'canid', 'coyot', 'death—usu', 'punctur', 'neck—', '“stab', 'wounds”', 'sadli', 'prankster', 'visualis', 'sudanes', 'infra', 'reflectographi', 'archangel', 'woolen', 'μιχαήλ', 'transliter', 'tilley', 'theolog', 'theologian', 'tattoo’', 'heavenli', 'protector', 'amulet', '“christian', '“place', 'gnostic', 'cultist', 'gospel', 'enoch', '“jew', 'zimmerman', 'dakhleh', 'oasi', '“ancient', 'cowen', 'brice', 'kuhl', 'subject’', '“way', 'suspect’', 'snoop', 'forcibl', 'noah’', '“noah”', 'pundit', '“noah', '“flood', '“freak', 'flood”', 'samaria', 'stone’', 'ostens', 'fruitless', 'unexplor', 'lowel', '—could', 'tych', 'credenc', 'overpow', 'flashlight', 'dimmer', 'stevenag', 'sandbox', 'clad', 'garish', 'dune', 'airbu', 'hutti', 'safest', 'mcconnico', 'alarmist', 'tol', 'sussex', 'intergovernment', 'ipcc', 'pullout', 'damn', 'chariklo', 'maquet', 'encircl', 'felip', 'braga', 'riba', 'sensibl', 'nonplanetari', 'christiaan', 'huygen', 'proto', 'raptor', 'amarillo', 'muskett', 'bomber', 'backsid', 'sweetman', 'whiteman', 'demarch', 'treblinka', 'keplicz', 'sturdi', 'coll', 'poland—treblinka', 'camps—discov', 'mesh', 'eyewit', 'bathhous', 'inter', 'heartwarm', 'curt', 'schleier', 'holocaust', 'hinckley', 'auschwitz', 'creameri', 'germanton', 'gerri', 'broom', 'environments—and', 'fruiti', 'champ', 'morocco', 'osteologist', 'charterhous', 'crossrail', 'afterlif', 'chime', 'monasteri', 'undisturb', 'strontium', 'carver', 'westward', 'orderli', 'lawless', 'hornacek', 'gerald', 'overachiev', 'scrappi', 'goran', 'dragic', 'bledso', 'mcdonough', 'frye', 'castoff', 'markieff', 'plumle', 'rooki', 'scotti', 'pippen', 'leandro', 'barbosa', 'blank', 'aing', 'gentri', 'clipper', 'jare', 'dudley', 'scola', 'marcin', 'gortat', 'downplay', 'lon', 'babbi', 'baum', 'thebaumerphx', 'buccan', 'lovi', 'schiano', 'meara', 'stint', 'buc', 'postseason', 'glazer', 'lineback', 'dungi', 'indianapoli', 'colt', 'mccoy', 'lavont', 'cornerback', 'revi', 'glennon', 'downfield', 'tedford', 'lesli', 'frazier', 'crabtre', 'wi', 'roemer', 'harbaugh', 'kaepernick', 'davon', 'phelp', 'rematch', 'onward', 'niner', 'skid', 'unbeaten', 'bitterli', 'newton', 'division', 'playmak', 'succinct', 'owe', 'qb', 'pierc', 'dawson', 'subzero', 'touchdown', 'vernon', 'gimm', 'wrestler', 'ric', 'flair', 'pep', 'bye', 'gore', 'wideout', 'achil', 'vic', 'fangio', 'tomsula', 'mathi', 'aj', 'knile', 'conroy', 'foxborough', 'patriot', 'afc', 'kickoff', 'punt', 'charger', 'uhlman', 'behrman', 'dalton', 'corey', 'liuget', 'jarret', 'entrench', 'futil', 'mora', 'schottenheim', 'bristl', 'offseason', 'horrid', 'gruden', 'outscor', 'redskin', 'zimmer', 'cleat', 'vontaz', 'burfict', 'winc', 'wr', 'cobi', 'onterio', 'mccalebb', 'wedig', 'dimitroff', 'echelon', 'scrimmag', 'dunn', 'roster', 'smitti', 'julio', 'roddi', 'kroy', 'biermann', 'weatherspoon', 'georgehenryap', 'woodhead', 'rey', 'maualuga', 'ladariu', 'ronni', 'improb', 'weddl', 'beasley', 'maxiel', 'raoux', 'spoelstra', 'waiv', 'bynum', 'oden', 'lebron', 'dwyan', 'bosh', 'savoia', 'colli', 'zach', 'fairway', 'kapalua', 'honolulu', 'putter', 'carnousti', 'underr', 'underappreci', 'pga', 'caddi', 'shooter', 'superb', 'vijay', 'mcilroy', 'pedigre', 'neb', 'kan', 'teardrop', 'prairi', 'crouch', 'outgrew', 'finess', 'sherwood', 'mickelson', 'awkward', 'damon', 'hoch', 'waiala', 'modesti', 'lei', 'eleven', 'ryder', 'encor', 'upstag', 'anquan', 'boldin', 'tramon', 'rivera', 'stout', 'clutch', 'kuechli', 'tuscaloosa', 'lepianka', 'scorer', 'mcclellan', 'semest', 'reinstat', 'commodor', 'tulsa', 'chess', 'thump', 'gronkowski', 'welker', 'coliseum', 'lowenstein', 'creditth', 'markeisha', 'gatl', 'yow', 'wolfpack', 'lsu', 'nonconfer', 'ralli', 'acc', 'kelli', 'unc', 'antonelli', 'kodi', 'frontcourt', 'aaronbeardap', 'lenni', 'ignelzi', 'hardwick', 'loath', 'mathew', 'morgan', 'burnett', 'tuneup', 'dom', 'caper', 'minicamp', 'bradenton', 'manate', 'sheriff', 'bristow', 'redshirt', 'mankin', 'connolli', 'svitek', 'upbring', 'belichick', 'sang', 'bae', 'scot', 'dufner', 'kuchar', 'putt', 'fiji', 'birdi', 'oahu', 'bogey', 'maui', 'dali', 'benji', 'weatherli', 'englewood', 'andrieski', 'linemen', 'mincey', 'elway', 'vasquez', 'bevi', 'fewest', 'takedown', 'timeout', 'statesman', 'brazziel', 'comth', 'billionair', 'longhorn', 'mccomb', 'haurxv', 'loosen', 'halftim', 'groin', 'jerod', 'wilfork', 'tommi', 'vollmer', 'reggi', 'ahmad', 'bradshaw', 'legarrett', 'blount', 'kickin', 'gostkowski', 'vinatieri', 'predecessor', 'hairston', 'downcourt', 'rental', 'flirt', 'leveron', 'holdov', 'disbelief', 'delhomm', 'deflat', 'tailspin', 'implor', 'trepid', 'letdown', 'bam', 'wharton', 'irrelev', 'stevereedap', 'sancetta', 'canuck', 'frehm', 'rivalri', 'multiyear', 'kingsbridg', 'armori', 'esposito', 'alain', 'vigneault', 'tortorella', 'famer', 'oiler', 'sather', 'doublehead', 'sellout', 'sturner', 'donato', 'outstand', 'faceoff', 'alum', 'alumni', 'der', 'korey', 'thielek', 'gonzaga', 'bulldog', 'ore', 'wahl', 'perenni', 'darl', 'postgam', 'juliu', 'randl', 'siakam', 'damian', 'humphrey', 'calipari', 'dakari', 'duringth', 'cauley', 'freshmen', 'odom', 'vandi', 'outshot', 'pointer', 'poythress', 'layup', 'dribbl', 'boo', 'shaq', 'goodwin', 'dixon', 'rumph', 'quenton', 'decosey', 'rozier', 'smu', 'sterl', 'reboud', 'easley', 'hancock', 'trees', 'matchup', 'pitino', 'negat', 'mustang', 'shawn', 'nic', 'uconn', 'russ', 'montrezl', 'harrel', 'outrebound', 'naismith', 'pleasantri', 'aac', 'yanick', 'moreira', 'collater', 'decker', 'punter', 'scifr', 'te', 'knowshon', 'grabovski', 'sabr', 'agostini', 'ott', 'brouwer', 'chimera', 'codi', 'hodgson', 'lacklust', 'shootout', 'philipp', 'grubauer', 'puck', 'randolph', 'achonwa', 'shurtleff', 'cavali', 'muffet', 'loyd', 'imovbioh', 'kayla', 'rebuilt', 'ataira', 'cav', 'michaela', 'mabrey', 'hank', 'hankkurzjr', 'keenan', 'mahoney', 'tourek', 'microcosm', 'frantic', 'aveng', 'reckon', 'espn', 'rusher', 'chandler', 'ninkovich', 'td', 'arni', 'melendrez', 'stapleton', 'arniestapleton', 'etou', 'lopsid', 'crosstown', 'bearcat', 'kilpatrick', 'apjoekay', 'budenholz', 'grizzli', 'midseason', 'horford', 'millsap', 'teagu', 'drayton', 'bazemor', 'travail', 'deafen', 'arguabl', 'arbitr', 'yanke', 'baseman', 'fredric', 'horowitz', 'selig', 'abdic', 'mlbpa', 'trampl', 'breach', 'biogenesi', 'bosch', 'imparti', 'wholli', 'excerpt', 'notebook', 'bbm', 'yuri', 'sucart', 'oggi', 'velazquez', 'refut', 'jda', 'arbit', 'grievanc', 'galea', 'jurgen', 'klinsmann', 'sao', 'antoin', 'diskerud', 'landon', 'donavan', 'besler', 'terrel', 'emmitt', 'imit', 'irwin', 'salesth', 'talcum', 'bobcat', 'fileth', 'superhero', 'shoutout', 'victor', 'desean', 'mccluster', 'fullback', 'tolbert', 'jamal', 'chad', 'zani', 'cheerlead', 'pylon', 'jig', 'pom', 'ickey', 'tebow', 'deion', 'billi', 'funki', 'fearsom', 'flatteri', 'diss', 'disrespect', 'midfield', 'mariucci', 'smoot', 'infam', 'pregam', 'brett', 'favr', 'plaxico', 'burress', 'maaddi', 'robmaaddi', 'humana', 'palmer', 'quinta', 'carlson', 'cink', 'keegan', 'nicklau', 'ryo', 'ishikawa', 'sinatra', 'bolton', 'feeli', 'sonder', 'ford', 'osorio', 'lewand', 'mayhew', 'xlvii', 'semanski', 'unsolicit', 'stafford', 'handoff', 'brock', 'osweil', 'detour', 'omaha', 'meadowland', 'chiu', 'scoreboard', 'panthersdur', 'centurylink', 'patterson', 'macomb', 'diaco', 'mullen', 'storr', 'slade', 'huski', 'hayden', 'edsal', 'leatherneck', 'quinn', 'standout', 'licata', 'cochran', 'whitmer', 'hampu', 'lindholm', 'bonino', 'francoi', 'beauchemin', 'palmieri', 'glendal', 'rarefi', 'perri', 'beleagu', 'attest', 'honda', 'goaltend', 'jona', 'hiller', 'elud', 'zalubowski', 'studli', 'vacanc', 'fratern', 'devyn', 'lapret', 'mccafferi', 'hawkey', 'overmatch', 'ot', 'perimet', 'buckey', 'nit', 'iguodala', 'celtic', 'averi', 'marcio', 'streaki', 'klay', 'bogut', 'lineup', 'fishey', 'amon', 'cauldron', 'din', 'carrol', 'rile', 'marshawn', 'clinch', 'lore', 'puent', 'unblock', 'daryn', 'colledg', 'fitzgerald', 'slot', 'sherman', 'meacham', 'bree', 'onsid', 'payton', 'knick', 'amar', 'stoudemir', 'pacer', 'kenyon', 'iupui', 'barefoot', 'relish', 'overrul', 'glimmer', 'footwear', 'samaritan', 'stranglehold', 'prouder', 'dent', 'podiatr', 'samaritansfeet', 'gsu', 'newberri', 'pnewberri', 'auburn', 'schmelter', 'nooga', 'outth', 'ka', 'janeka', 'moc', 'geno', 'auriemma', 'appalachian', 'ashlen', 'dewart', 'mckenzi', 'samford', 'classif', 'vol', 'summitt', 'wofford', 'intimid', 'accustom', 'huff', 'wiggin', 'fieldhous', 'orlin', 'travi', 'elli', 'kamari', 'naadir', 'tharp', 'jayhawk', 'embiid', 'ridley', 'niang', 'dustin', 'hogu', 'lammert', 'isaiah', 'perci', 'gibson', 'naz', 'damarcu', 'croaker', 'cyclon', 'javan', 'ejim', 'brewer', 'pensacola', 'stricker', 'perez', 'pittsburgh’', 'syracuse’', 'lisi', 'rakeem', 'lamar', 'jerami', 'pitt', 'seesaw', 'boeheim', 'lefti', 'prather', 'densen', 'gator', 'tahj', 'shamsid', 'deen', 'wilbekin', 'fadeaway', 'patric', 'kt', 'denson', 'slocum', 'andersen', 'contus', 'krystkowiak', 'olsen', 'bryce', 'alford', 'loveridg', 'delon', 'ogb', 'ute', 'pac', 'bruin', 'lavin', 'gail', 'burton', 'laurin', 'minci', 'nariah', 'tyaunna', 'gameon', 'kaela', 'donnaizha', 'fountain', 'terrapin', 'lexi', 'alicia', 'devaughn', 'tierney', 'pfirman', 'whistl', 'roddreka', 'spree', 'stefani', 'dolson', 'kahleah', 'piscataway', 'dishearten', 'betnijah', 'laney', 'vivian', 'scaif', 'scoreless', 'bria', 'hartley', 'breanna', 'stewi', 'stef', 'dougfeinberg', 'impecc', 'dividend', 'yardag', 'demaryiu', 'alfonzo', 'dennard', 'vereen', 'tad', 'thirtysometh', 'terrif', 'hoist', 'aqib', 'talib', 'spygat', 'showdown', 'metlif', 'staubach', 'grindston', 'linna', 'goss', 'butch', 'dill', 'tyres', 'tanner', 'flournoy', 'samari', 'southeasern', 'overcam', 'mitchel', 'meagan', 'frerk', 'denesha', 'stallworth', 'hasina', 'muhammad', 'unspecifi', 'sec', 'tra', 'cee', 'brandi', 'piston', 'wizard', 'beal', 'sune', 'agbuk', 'keyla', 'mulkey', 'cece', 'niya', 'defenseman', 'torey', 'krug', 'amendola', 'eriksson', 'dwight', 'goali', 'kevan', 'marchand', 'bergeron', 'iman', 'shumpert', 'wenig', 'carmelo', 'andray', 'blatch', 'woodson', 'refere', 'andrei', 'kirilenko', 'apiec', 'triumphant', 'blowout', 'romp', 'deron', 'kidd', 'garnett', 'jarnel', 'lexington', 'aggi', 'rupp', 'robic', 'vellano', 'autograph', 'mccourti', 'creighton', 'ethan', 'wragg', 'bluejay', 'thrash', 'laurenc', 'kesterson', 'nati', 'harnik', 'impart', 'stoic', 'mcdermott', 'jahenn', 'manigat', 'giggl', 'barrag', 'korver', 'swung', 'footer', 'rafteri', 'incredul', 'loquaci', 'constitut', 'compton', 'udoni', 'haslem', 'kirkland', 'demarr', 'lackadais', 'elton', 'slippag', 'hti', 'outing', 'cuonzo', 'jeronn', 'maymon', 'margot', 'whitner', 'aldon', 'darryl', 'wilhoit', 'navorro', 'bowman', 'finchem', 'spieth', 'torrey', 'hitch', 'girlfriend', 'dubai', 'seve', 'ballestero', 'spaniard', 'hugo', 'graciou', 'classi', 'flagstick', 'hinrich', 'walsh', 'laker', 'thibodeau', 'taj', 'luol', 'deng', 'copa', 'baixada', 'curitiba', 'fifa', 'jerom', 'valck', 'atletico', 'paranaens', 'paulino', 'menez', 'duna', 'dilma', 'rousseff', 'harrisonburg', 'helber', 'arra', 'fsg', 'alonzo', 'erika', 'monneret', 'anael', 'lardi', 'wnba', 'undraft', 'tryout', 'cecil', 'piccin', 'altman', 'corval', 'johnathan', 'mylar', 'dodger', 'ut', 'robitail', 'pelican', 'demarcu', 'herbert', 'gasol', 'murphey', 'dariu', 'nod', 'lamarcu', 'aldridg', 'pao', 'malon', 'disservic', 'tyrek', 'jrue', 'consul', 'wondolowski', 'ghana', 'branden', 'etherington', 'lans', 'goldi', 'metacarp', 'adreian', 'spartan', 'ricki', 'imsa', 'angelelli', 'rolex', 'kanaan', 'roja', 'shank', 'riley', 'dp', 'ganassi', 'pruett', 'marino', 'franchitti', 'cockpit', 'corvett', 'midyear', 'selfless', 'unifi', 'sportscar', 'slowest', 'mullet', 'hairstyl', 'gottfri', 'floater', 'jabari', 'byu', 'haw', 'upperclassmen', 'quartet', 'purvi', 'returne', 'blazer', 'nugget', 'jj', 'hickson', 'durant', 'griffin', 'wesley', 'mif', 'macklemor', 'grammi', '“same', 'heist', 'rap', '“thrift', 'shop”', 'duo’', '“can’t', 'sayl', 'fefere', 'leavi', 'steeler', 'roethlisberg', 'xl', 'explet', 'sancya', 'haggerti', 'utter', 'riff', 'swagger', 'bravado', 'belittl', 'sounder', 'soundgarden', 'pearl', 'cocki', 'antithesi', 'engulf', 'jermain', 'kears', 'misfortun', 'uppercut', 'payrol', 'cano', 'gipson', 'neibergal', 'weber', 'lull', 'impati', 'southwel', 'spradl', 'deandr', 'kane', 'bubu', 'ish', 'wainright', 'waco', 'aydelott', 'bancal', 'jefferson', 'taurean', 'ferrel', 'ibeh', 'martez', 'maverick', 'monta', 'bereswil', 'rajon', 'rondo', 'collison', 'krupa', 'waltham', 'jarel', 'brogdon', 'cadarian', 'emelogu', 'hoki', 'ppg', 'liber', 'adala', 'moto', 'orward', 'garrick', 'mckie', 'mcintyr', 'deacon', 'connaughton', 'aspen', 'slopestyl', 'shiner', 'halfpip', 'mcmorri', 'screenshot', 'fbk', 'navalni', 'overrun', 'bolshoi', 'fisht', 'businessmen', 'audit', 'rubl', 'unreason', 'auditor', 'olympstroi', 'ivan', 'ninenko', 'rife', 'billon', 'dmitri', 'kozak', 'rospil', 'annul', 'konstantin', 'kalmykov', 'presidenti', 'decre', 'svishchev', 'beneficiari', 'lucr', 'arkadi', 'rotenberg', 'subsidiari', 'mostotrest', 'vedomosti', 'bidder', 'tycoon', 'deripaska', 'abramovich', 'kam', 'rutherford', 'rigg', 'singletari', 'mcmichael', 'wendel', 'lambert', 'greenwood', 'phot', 'xxi', 'heflin', 'clubhous', 'groucho', 'marx', 'backfield', 'byron', 'browner', 'ditto', 'landri', 'curtain', 'foursom', 'omen', 'brotherhood', 'sherm', 'heath', 'farwel', 'thurmond', 'nah', 'litk', 'columnist', 'jlitk', 'jimlitk', 'manu', 'ginobili', 'lin', 'donata', 'motiejuna', 'kawhi', 'tiago', 'rodeo', 'keaton', 'bader', 'wvu', 'morgantown', 'redick', 'gallardo', 'youngstown', 'angrili', 'glumli', 'bemoan', 'tcu', 'dude', 'swingman', 'hoiberg', 'ooz', 'kendal', 'mcbroom', 'edwardsvil', 'intelligenc', 'alton', 'loe', 'grandi', 'cedrick', 'vcu', 'mooney', 'billiken', 'wakeup', 'schultz', 'nystrom', 'scandella', 'ottawa', 'mone', 'shotblock', 'xt', 'goligoski', 'spurgeon', 'mikko', 'koivu', 'fletcher', 'fluki', 'brenden', 'dillon', 'pysyk', 'unwav', 'getzlaf', 'brunt', 'ballard', 'shea', 'timer', 'beacham', 'wawrow', 'lari', 'frisco', 'landen', 'bubba', 'scottsdal', 'ross', 'pigskin', 'rowdiest', 'tpc', 'powel', 'bachynski', 'risberg', 'jahii', 'nastic', 'chasson', 'intermiss', 'je', 'hornbeak', 'hayworth', 'hield', 'woodard', 'stata', 'spangler', 'meredith', 'lukemeredithap', 'sharan', 'sate', 'aaryn', 'tiffani', 'gioya', 'kendra', 'kaylon', 'raucou', 'bedlam', 'cowgirl', 'liz', 'donoho', 'kourtney', 'sandlin', 'antwan', 'yeguet', 'dorian', 'finney', 'pastner', 'undef', 'geron', 'hilltop', 'tiebreak', 'strele', 'clich', 'holden', 'flynn', 'barri', 'mcginn', 'duchen', 'zenon', 'konopka', 'zemgu', 'girgenson', 'landeskog', 'mackinnon', 'semyon', 'varlamov', 'jhona', 'enroth', 'stastni', 'rw', 'tanguay', 'ehrhoff', 'parenteau', 'bashaara', 'nikki', 'hegstett', 'shafontay', 'daisha', 'andraya', 'sharin', 'jasmin', 'cierra', 'burdick', 'crimson', 'meighan', 'pingeton', 'khadijah', 'bri', 'kula', 'sc', 'joday', 'frerick', 'alaina', 'unrank', 'blinder', 'boxscor', 'gamecock', 'solo', 'ja', 'neon', 'spurrier', 'holbrook', 'staley', 'heathwood', 'lofti', 'elem', 'ibiam', 'aleighsa', 'welch', 'dozier', 'stadler', 'delaet', 'yogi', 'albrecht', 'bloomington', 'vonleh', 'zak', 'cari', 'levert', 'hanner', 'mosquera', 'perea', 'derrick', 'walton', 'wolverin', 'beilein', 'duo', 'nik', 'stauska', 'lith', 'crean', 'antidot', 'hoosier', 'berth', 'mcgari', 'stoppag', 'sheehey', 'kickout', 'chiney', 'ogwumik', 'hartman', 'vanderv', 'mikayla', 'lyle', 'lili', 'afur', 'jemerigb', 'karli', 'samuelson', 'jefflo', 'orrang', 'brittani', 'amir', 'gasser', 'bewild', 'thad', 'matta', 'fisher', 'poroy', 'bois', 'garri', 'nicodemu', 'brimer', 'foe', 'letourneau', 'longview', 'weightlift', 'purdu', 'footrac', 'richi', 'incognito', 'wilfredo', 'racial', 'vulgar', 'banter', 'bawdi', 'jocular', 'schamel', 'philbin', 'toughen', 'abruptli', 'dirtiest', 'racist', 'mediocr', 'candac', 'boehli', 'patton', 'stan', 'kasten', 'mccourt', 'guber', 'earvin', 'buss', 'marque', 'nneka', 'toliv', 'youv', 'bohn', 'ono', 'resign', 'whit', 'babcock', 'rebuf', 'bide', 'nippert', 'aldo', 'rebelo', 'reginaldo', 'cordeiro', 'ona', 'garett', 'fisbeck', 'agonizingli', 'underclassmen', 'brittney', 'griner', 'feisti', 'craighead', 'rhetor', 'ole', 'insel', 'makenzi', 'varsiti', 'oelschlegel', 'macaurthur', 'midterm', 'enrolle', 'neiko', 'moseley', 'dontaviu', 'blair', 'dimarya', 'mixon', 'jalen', 'raulerson', 'saul', 'signe', 'hendersonvil', 'neyland', 'ballroom', 'savor', 'kyri', 'duncan', 'gianni', 'antetokounmpo', 'ridnour', 'ty', 'arron', 'afflalo', 'gundi', 'oladipo', 'thaddeu', 'wroten', 'lavoy', 'tristan', 'dion', 'saban', 'mal', 'vasha', 'lineman', 'kouandjio', 'belu', 'hooti', 'dix', 'cornwel', 'coker', 'pettway', 'robberi', 'jarran', 'sason', 'kiffin', 'pitcher', 'vicyhandri', 'odelin', 'inning', 'porlamar', 'llano', 'margarita', 'subpar', 'juventud', 'rebeld', 'disgustingli', 'justic', 'cubadeb', 'clobber', 'drub', 'squeaker', 'yasiel', 'puig', 'fernandez', 'yoeni', 'aroldi', 'multimillion', 'marli', 'escambray', 'oversea', 'higinio', 'velez', 'withdrew', 'maricopa', 'hempen', 'kama', 'griffitt', 'sabbat', 'asu', 'rejuven', 'tenur', 'buoy', 'ander', 'inexperienc', 'deja', 'dornstaud', 'gasket', 'remi', 'dibo', 'eron', 'selden', 'juwan', 'staten', 'watkin', 'rader', 'iwundu', 'bramlag', 'mightili', 'nene', 'gregg', 'popovich', 'belinelli', 'accent', 'gutierrez', 'lashawn', 'joakim', 'kaman', 'scoot', 'nazr', 'kobe', 'bryant', 'pau', 'farmar', 'meek', 'ena', 'gero', 'breloer', 'longshot', 'rambl', 'exasper', 'parenthes', 'gape', 'awe', 'squander', 'disco', 'idol', 'inimit', 'collen', 'razorback', 'rpi', 'calli', 'berna', 'keira', 'fayettevil', 'warmup', 'mccray', 'wetmor', 'mikaela', 'ruef', 'slack', 'cait', 'dara', 'munden', 'ellerb', 'tori', 'waldner', 'darryc', 'ameryst', 'alston', 'mcguff', 'nittani', 'wilt', 'kianna', 'shayla', 'coques', 'shootaround', 'squall', 'maggi', 'talia', 'scullion', 'rustymillerap', 'shakeya', 'syke', 'clemson', 'shatori', 'kimbrough', 'quinyotta', 'pettaway', 'malina', 'paig', 'brionna', 'audra', 'chanci', 'terp', 'tenac', 'rutan', 'frese', 'laquinton', 'lenzel', 'teron', 'woodburi', 'schottenstein', 'encamp', 'mattaritavil', 'krzyzewski', 'lonni', 'anoint', 'overr', 'thornton', 'amil', 'phenom', 'joedi', 'mccreari', 'joedyap', 'zook', 'perlman', 'mcadoo', 'pelt', 'mire', 'stung', 'gash', 'illini', 'harken', 'genaro', 'arma', 'garmasap', 'myle', 'shabazz', 'napier', 'hartford', 'shaquiel', 'mckissic', 'moloshok', 'markel', 'lubbock', 'eichberg', 'unsportsmanlik', 'tirad', 'slur', 'obscen', 'recours', 'idiot', 'alterc', 'orr', 'callist', 'derogatori', 'staf', 'outnumb', 'ugli', 'sportsmanship', 'tubbi', 'heckler', 'henderson', 'keki', 'zenor', 'betsi', 'blaney', 'bargain', 'pie', 'cba', 'happenst', 'powerhous', 'briancmahoney', 'hoefl', 'riesch', 'supercombin', 'hosp', 'hamelin', 'viktor', 'ahn', 'mulder', 'fourcad', 'biathlon', 'bilodeau', 'skater', 'wili', 'tianyu', 'smeeken', 'ondrej', 'moravec', 'guillaum', 'beatrix', 'einar', 'bjoerndalen', 'mikael', 'kingsburi', 'rectangl', 'semifin', 'dunham', 'delicaci', 'merchandis', 'rodrigo', 'caatinga', 'fuleco', 'futebol', 'ecologia', 'zakumi', 'goleo', 'sibaja', 'brasilia', 'mele', 'loper', 'ncca', 'riviera', 'palisad', 'merrick', 'simpson', 'belfri', 'slop', 'tangent', 'johnni', 'weiskopf', 'littler', 'teed', 'kibitz', 'angelon', 'angelonian', 'angelean', 'nicola', 'colsaert', 'basher', 'captainci', 'golfer', 'faldo', 'moin', 'melsahn', 'basab', 'gabe', 'olaseni', 'putback', 'indecis', 'izzo', 'sparti', 'upend', 'kuznetsov', 'breaker', 'kukushkin', 'soli', 'yen', 'hsun', 'kudla', 'quarterfin', 'lleyton', 'hewitt', 'baghdati', 'feliciano', 'ivo', 'karlov', 'ucf', 'rashad', 'spurn', 'unlv', 'woeful', 'skylar', 'diggin', 'uncasvil', 'covet', 'roc', 'otero', 'yondariu', 'cheri', 'kyan', 'labrum', 'heslip', 'fulham', 'meulensteen', 'fa', 'craven', 'magath', 'releg', 'wolfsburg', 'bundesliga', 'fc', 'schalk', 'vfl', 'gelsenkirchen', 'meissner', 'saddam', 'dutchman', 'shahid', 'bayern', 'amric', 'karviar', 'virtuoso', 'brannen', 'mcgirt', 'mcneill', 'boulevard', 'beljan', 'leaderboard', 'allr', 'stardom', 'palati', 'akron', 'thon', 'paver', 'walkway', 'katrina', 'hornet', 'christen', 'sponsorship', 'cp', 'ovat', 'benson', 'danuel', 'ge', 'guyn', 'titu', 'tashawn', 'shaquil', 'danrad', 'knowl', 'srakoc', 'gesel', 'woodward', 'newbil', 'tyron', 'brashear', 'cobb', 'blackwel', 'kemp', 'kreklow', 'harman', 'tewel', 'shalethia', 'stringfield', 'moriah', 'courtney', 'alisia', 'canedo', 'kiah', 'inga', 'orekhova', 'kaleena', 'mosqueda', 'mononucleosi', 'duje', 'dekker', 'traevon', 'momentarili', 'repriev', 'kaminski', 'badger', 'nishikori', 'backhand', 'racquet', 'haa', 'butorac', 'klaasen', 'tia', 'gibb', 'hearn', 'yalonda', 'asianna', 'fuqua', 'bey', 'antonita', 'slaughter', 'emmonni', 'shoni', 'schimmel', 'mooriah', 'rowser', 'sonna', 'shavon', 'tai', 'webster', 'lesle', 'terran', 'petteway', 'costello', 'kri', 'heineman', 'cornhusk', 'cadet', 'nowitzki', 'haber', 'calderon', 'carlisl', 'marion', 'steadfast', 'throwback', 'larkin', 'shortstop', 'nam', 'huh', 'marana', 'fowler', 'abu', 'dhabi', 'accentur', 'weekley', 'gustavo', 'ayon', 'hibbert', 'brent', 'cartier', 'hamlin', 'homestead', 'deblak', 'stubbornli', 'slicken', 'gridlock', 'tipoff', 'jumbl', 'rashe', 'sulaimon', 'regroup', 'manassero', 'brandt', 'snedek', 'wiesberg', 'graem', 'mcdowel', 'stunner', 'woodland', 'fickl', 'stenson', 'kiradech', 'aphibarnrat', 'pedersen', 'gell', 'ieasia', 'ashley', 'bruner', 'sancheon', 'timet', 'palmetto', 'unitl', 'esquer', 'marquess', 'tireless', 'strikeout', 'horton', 'hander', 'scapegoat', 'bluff', 'joie', 'chitwood', 'renna', 'strobe', 'silverado', 'camaro', 'coetze', 'dubuisson', 'sergio', 'mahan', 'oust', 'oosthuizen', 'zuccarello', 'raffl', 'kristian', 'tollefsen', 'staal', 'jazz', 'vese', 'maynor', 'bowmer', 'shaw', 'unprofession', 'petti', 'hauler', 'phelan', 'ebenhack', 'glossi', 'racetrack', 'danica', 'speedweek', 'aric', 'almirola', 'dixi', 'stetson', 'mustach', 'raceway', 'hendrick', 'kenseth', 'childress', 'sitter', 'letart', 'mcmurray', 'kwasniewski', 'larson', 'multicar', 'knockout', 'hallic', 'roberton', 'romar', 'brockman', 'deliri', 'hickey', 'coti', 'porti', 'kikko', 'hayder', 'lytl', 'alandis', 'roquez', 'borchert', 'anthlon', 'quall', 'trivant', 'bloodman', 'msu', 'regan', 'checker', 'keselowski', 'trevor', 'bayn', 'truex', 'bowyer', 'ragan', 'waltrip', 'tirelessli', 'biter', 'redempt', 'grandstand', 'busch', 'sadler', 'rapper', 'smooch', 'erin', 'swan', 'cole', 'whitt', 'kligerman', 'sm', 'toyota', 'camri', 'sinis', 'gump', 'tier', 'donnel', 'kaitlyn', 'farrington', 'poulter', 'paralymp', 'leeper', 'blacc', 'anthem', 'benni', 'hammon', 'gardler', 'gallego', 'boilermak', 'husker', 'pitchford', 'gam', 'battier', 'snell', 'chalmer', 'aaliyah', 'beckham', 'nolan', 'olli', 'tandem', 'boatright', 'khalid', 'kelley', 'crumpl', 'albatross', 'homestretch', 'motorhom', 'biffl', 'peskiest', 'proteg', 'bumper', 'deject', 'freebi', 'drama', 'voodoo', 'unsign', 'terril', 'kendrick', 'perkin', 'jarron', 'proudli', 'barclay', 'teletov', 'prokhorov', 'dwane', 'manziel', 'teddi', 'bridgewat', 'bortl', 'spielman', 'norv', 'unquest', 'cassel', 'garoppolo', 'mccarron', 'mettenberg', 'adrian', 'cordarrel', 'davecampbellap', 'jaromir', 'jagr', 'shayba', 'newark', 'patrik', 'marek', 'zidlicki', 'damien', 'brunner', 'bylsma', 'ake', 'kissimme', 'peoria', 'catcher', 'baserunn', 'umpirest', 'bukati', 'recuper', 'releford', 'jamei', 'brien', 'heisman', 'girardi', 'groundbal', 'infield', 'rbi', 'cervelli', 'venezuela’', 'maduro', 'mcfarland', 'farnsworth', 'chavez’', 'socialist', 'bolivarian', '“expropri', 'bankrupt', 'slain', 'dj', 'forgett', 'clearwat', 'gunn', 'lawri', 'colbi', 'rasmu', 'rollin', 'dioner', 'ballpark', 'marlon', 'byrd', 'happ', 'jacobi', 'ellsburi', 'mckechni', 'pirat', 'puskar', 'ramon', 'flore', 'edinson', 'volquez', 'beltran', 'liriano', 'yangervi', 'solart', 'homer', 'mcguiness', 'dickerson', 'doral', 'immacul', 'disrepair', 'winthrop', 'newtown', 'becki', 'kowalski', 'boehner', 'lectern', 'wholeheartedli', 'gosh', 'cmak', 'triathlon', 'chasekowalskifund', 'letterman', '“late', 'staab', 'onlyth', 'sheer', 'indycar', 'backstretch', 'hamstrung', 'arca', 'roulo', 'roush', 'fenway', 'toledo', 'weatherman', 'buescher', 'rfr', 'derek', 'norri', 'lucroy', 'skyward', 'fielder', 'coco', 'fuld', 'segura', 'mattison', 'daric', 'braun', 'milon', 'nl', 'choru', 'jeer', 'jed', 'lowri', 'diamondback', 'samardzija', 'bronson', 'arroyo', 'shutout', 'overflow', 'riverview', 'goldschmidt', 'chavez', 'montero', 'prado', 'yu', 'darvish', 'duffi', 'cy', 'kinsler', 'bullpen', 'padr', 'stult', 'erasmo', 'dunedin', 'dickey', 'encarnacion', 'torrid', 'melki', 'cabrera', 'darin', 'ruf', 'unearn', 'vain', 'barney', 'aybar', 'shuck', 'kole', 'calhoun', 'jere', 'berm', 'rusin', 'iannetta', 'moran', 'jarrett', 'grube', 'casteel', 'pollock', 'outfield', 'jess', 'tuiasosopo', 'hitter', 'paxton', 'leonel', 'campo', 'noel', 'saunder', 'dugout', 'cashner', 'taijuan', 'hisashi', 'iwakuma', 'hundley', 'fastbal', 'bloomquist', 'stauffer', 'nate', 'tenbrink', 'joaquin', 'benoit', 'levey', 'backboard', 'abner', 'rake', 'holgorsen', 'trickett', 'millard', 'skyler', 'paterno', 'sanduski', 'tonkeri', 'nana', 'kyeremeh', 'wozniacki', 'fiance', 'brendon', 'jong', 'zimbabw', 'upbeat', 'muscala', 'buyout', 'bucknel', 'acb', 'gonzalez', 'sox', 'rubavcava', 'hyun', 'jin', 'ryu', 'joc', 'pederson', 'petricka', 'moussa', 'keita', 'akil', 'tobey', 'sampson', 'ail', 'nemanja', 'djuris', 'gareth', 'madden', 'stalberg', 'zaleski', 'trouba', 'jokinen', 'enstrom', 'frolik', 'hornqvist', 'mattia', 'ekholm', 'zotto', 'moser', 'ladd', 'setoguchi', 'pavelec', 'cannen', 'kasey', 'odo', 'quarterman', 'devon', 'damaercu', 'booker', 'kruger', 'schill', 'rayvont', 'scribbl', 'destini', 'slipup', 'fedexforum', 'roussel', 'fiddler', 'seguin', 'radko', 'guda', 'chiasson', 'salo', 'hedman', 'lehtonen', 'christa', 'briyona', 'canti', 'lobo', 'maya', 'jamel', 'avondal', 'joey', 'logano', 'harvick', 'pir', 'pensk', 'moustaka', 'hosmer', 'sveum', 'schierholtz', 'starlin', 'cain', 'hick', 'creas', 'okposo', 'nassau', 'uniondal', 'willen', 'upshal', 'lubomir', 'visnovski', 'slovakia', 'strome', 'grabner', 'vie', 'evgeni', 'vanek', 'marcel', 'goc', 'holliday', 'wacha', 'daisuk', 'matsuzaka', 'exhibitionbasebal', 'seratelli', 'dice', 'carlin', 'umpir', 'rackley', 'arencibia', 'upheld', 'logjam', 'implaus', 'grayson', 'greiner', 'okey', 'crammer', 'greenvil', 'seneca', 'zack', 'wynkoop', 'wil', 'seddon', 'wetzler', 'stinnett', 'devilish', 'kellogg', 'lilek', 'ks', 'seton', 'heller', 'undistinguish', 'mccutchen', 'workman', 'peavi', 'leadoff', 'starl', 'strick', 'hitless', 'carp', 'abreu', 'goodyear', 'mcallist', 'asdrub', 'avil', 'wendl', 'castano', 'merion', 'ardmor', 'cadillac', 'trump', 'helipad', 'hans', 'architect', 'jetlin', 'furyk', 'redon', 'busiest', 'paterson', 'lavandi', 'lacava', 'inclement', 'menac', 'molinari', 'sandov', 'chien', 'ming', 'bernadina', 'inadvert', 'cingrani', 'pagan', 'jeter', 'ruiz', 'brignac', 'masahiro', 'tanaka', 'freddi', 'galvi', 'natasha', 'taya', 'reimer', 'tasha', 'fsu', 'semrau', 'braker', 'evansvil', 'balentin', 'tekel', 'cleanthoni', 'egidiju', 'mockeviciu', 'kadeem', 'colebi', 'rarifi', 'swat', 'cushion', 'vanvleet', 'chadrack', 'lufil', 'arduengo', 'driscol', 'gust', 'lame', 'tidland', 'chesson', 'hadley', 'axley', 'ruben', 'tejada', 'misplay', 'tovar', 'granderson', 'jokingli', 'kolten', 'lannan', 'recker', 'theairra', 'camil', 'redmon', 'alli', 'disterhoft', 'doolittl', 'ronda', 'jordin', 'pietsch', 'waverli', 'gardon', 'kaleb', 'tarczewski', 'hemski', 'milan', 'michalek', 'spezza', 'defensemen', 'gryba', 'turri', 'byfuglien', 'tulowitzki', 'arenado', 'punto', 'cuddyer', 'jaso', 'paulsen', 'cristhian', 'achiri', 'ade', 'getz', 'karla', 'ballgam', 'customari', 'heartbreak', 'clank', 'uncharacterist', 'retak', 'vaunt', 'hoya', 'darrun', 'hilliard', 'jeopardi', 'unforc', 'jabril', 'trawick', 'arcidiacono', 'jayvaughn', 'pinkston', 'agaisnt', 'westbrook', 'vitti', 'ibaka', 'jelleah', 'warlick', 'albani', 'shereesha', 'jamaica', 'groll', 'tate', 'proctor', 'seawolv', 'sefcu', 'goldman', 'ezequiel', 'carrera', 'yadier', 'scherzer', 'moya', 'henriqu', 'khudobin', 'clow', 'dekeys', 'duan', 'burleson', 'toew', 'artem', 'anisimov', 'franzen', 'brodeur', 'schneider', 'deboer', 'brantford', 'windsor', 'hamson', 'keani', 'albanez', 'kiara', 'kudron', 'greinach', 'kyli', 'maeda', 'jazmin', 'haiden', 'eaton', 'wcc', 'sherbert', 'bzdelik', 'mo', 'tony', 'jekiri', 'larranaga', 'rion', 'zegeren', 'garriu', 'emeri', 'lamarr', 'mundi', 'batman', 'bowler', 'melton', 'tillman', 'mccown', 'cutler', 'slauson', 'polamalu', 'grichuk', 'piscotti', 'lagar', 'invite', 'onwa', 'dekarai', 'hiroki', 'castellano', 'holaday', 'anib', 'monro', 'farah', 'ozzi', 'newsom', 'ogden', 'fiesta', 'junker', 'probat', 'misdemeanor', 'lenienc', 'subordin', 'galati', 'dichter', 'genuin', 'lobbyist', 'blackshearm', 'poiner', 'blackshear', 'jamari', 'traylor', 'trey', 'amedeo', 'vall', 'inexperi', 'panter', 'flacco', 'laimona', 'chatkeviciu', 'sindariu', 'thornwel', 'brenton', 'celebratioin', 'paso', 'calzada', 'heartland', 'breadbasket', 'flyover', 'tauber', 'dolan', 'lennihan', 'walt', 'paranoid', 'cablevis', 'zen', 'isiah', 'beefi', 'belatedli', 'jeani', 'capston', 'minutia', 'remak', 'disillus', 'dahlberg', 'tdahlberg', 'timdahlberg', 'zanna', 'tokoto', 'meager', 'debacl', 'kiichiro', 'sato', 'duckl', 'prom', 'oddsmak', 'gratif', 'disdain', 'ecstat', 'lage', 'larrylag', 'avila', 'lakeland', 'torii', 'guez', 'stroman', 'smyli', 'romero', 'kwak', 'unlucki', 'saddler', 'chuckl', 'flexor', 'festu', 'eze', 'agonzalezap', 'damyean', 'dotson', 'carlino', 'collinsworth', 'foll', 'peet', 'clap', 'sceneri', 'wojcik', 'cbi', 'cliffbruntap', 'dawkin', 'bairstow', 'hutson', 'gurley', 'footwork', 'metterberg', 'sanford', 'worthington', 'elgin', 'amardi', 'bartley', 'homecom', 'koni', 'eali', 'jadeveon', 'clowney', 'kirkham', 'dunkirk', 'jamestown', 'lockport', 'niagara', 'olean', 'salamanca', 'tonawanda', 'cooney', 'connar', 'tava', 'loverd', 'backcourt', 'dayton', 'midpoint', 'shayn', 'whittington', 'haymond', 'lafayett', 'marlin', 'esmil', 'munenori', 'kawasaki', 'bunt', 'flyout', 'kratz', 'mois', 'buchanan', 'gwynn', 'utley', 'holder', 'sixer', 'pitchman', 'hinki', 'shrewd', 'ringer', 'celebratori', 'noncompetit', 'erv', 'iverson', 'belfort', 'dreari', 'blitzer', 'prudenti', 'fargo', 'meklinski', 'taker', 'nerlen', 'vee', 'scull', 'archi', 'elfrid', 'ragin', 'cajun', 'kest', 'luburgh', 'briann', 'coffman', 'versyp', 'unbeat', 'tourney', 'gauntlet', 'stoehr', 'janel', 'lassit', 'cassi', 'harbert', 'tartamella', 'trojan', 'resurg', 'dyke', 'upsw', 'depaul', 'clapp', 'cronan', 'massengal', 'cadi', 'lalann', 'chaz', 'raphiael', 'putney', 'minutemen', 'umass', 'fullcourt', 'maxi', 'esho', 'jitter', 'halli', 'christofferson', 'fennelli', 'spea', 'namk', 'greenfield', 'huxley', 'rpg', 'unders', 'brynn', 'fuch', 'wyckoff', 'tulan', 'iowan', 'seekamp', 'linesman', 'sharrer', 'eakin', 'daley', 'benn', 'jordi', 'colton', 'sceviour', 'oberholtz', 'krauss', 'altuv', 'scottrad', 'brazen', 'attain', 'tecca', 'torri', 'carli', 'lubergh', 'kaci', 'gearld', 'doubter', 'foolish', 'tenaci', 'ouster', 'dwayn', 'jordair', 'jett', 'burtonth', 'gollon', 'huesti', 'noncommitt', 'timberwolv', 'heisenfelt', 'rubio', 'slovenia', 'dant', 'barea', 'adelman', 'hanigan', 'xander', 'bogaert', 'oviedo', 'doubront', 'arnold', 'arlington', 'fiercest', 'bluegrass', 'anselm', 'jenewin', 'dowl', 'druri', 'carey', 'christal', 'theresa', 'plaisanc', 'kenney', 'shamiya', 'fairbank', 'cindi', 'martelli', 'ervin', 'heyward', 'laird', 'uggla', 'porcello', 'aqeel', 'kade', 'pullman', 'grove', 'descalso', 'mcgehe', 'bogusev', 'yelich', 'gallinari', 'javal', 'mcgee', 'connelli', 'buchholz', 'odorizzi', 'pedroia', 'loney', 'gradi', 'sizemor', 'middlebrook', 'delaware’', 'musselman', 'mick', 'cronin', 'prowess', 'careless', 'frieder', 'jud', 'heathcot', 'kain', 'colter', 'apu', 'buckley', 'dooley', 'chaney', 'unison', 'swofford', 'stipend', 'clung', 'archaic', 'claus', 'farelli', 'wield', 'gelston', 'mccauley', 'bridgeport', 'ned', 'gerard', 'dutchmen', 'uscho', 'delgado', 'speedster', 'parraz', 'quinton', 'chievou', 'reunion', 'kemba', 'gritti', 'beater', 'mcrobert', 'anucha', 'coatney', 'walz', 'tavarsha', 'jada', 'hrynko', 'luster', 'purcel', 'pavilion', 'littel', 'unbias', 'hobbl', 'kurt', 'budk', 'serna', 'montoya', 'fireston', 'prix', 'takuma', 'halliday', 'undefin', 'rahal', 'foyt', 'scooter', 'paddock', 'beaux', 'barfield', 'rulebook', 'barnhart', 'unser', 'huerta', 'hawksworth', 'mazda', 'aleshin', 'karam', 'goalkeep', 'szabado', 'petr', 'josek', 'cottonmouth', 'ix', 'sphl', 'welter', 'viewership', 'fledgl', 'wnhl', 'rregion', 'sibert', 'napoli', 'forsyth', 'rajai', 'guyer', 'winless', 'ineptitud', 'carnag', 'ol', 'casper', 'bologna', 'lega', 'mccarn', 'hornish', 'fontana', 'cindric', 'bowditch', 'loup', 'tuli', 'kimbrel', 'gatti', 'medlen', 'beachi', 'gearrin', 'downpour', 'shanec', 'mckinney', 'unfaz', 'raigyn', 'moncrief', 'wnit', 'overconfid', 'towasrd', 'boasrd', 'havlat', 'wingel', 'mcleod', 'marwin', 'abat', 'guzman', 'alamodom', 'aguila', 'veracruz', 'narron', 'overbay', 'estrada', 'yordano', 'ventura', 'arami', 'schafer', 'leaguer', 'ratterre', 'kolarek', 'alou', 'boucher', 'morrow', 'matsusaka', 'ene', 'kanter', 'hayward', 'dejak', 'copeland', 'gee', 'kahan', 'shappard', 'ambros', 'appel', 'rojo', 'appendectomi', 'airfar', 'allegi', 'layov', 'nonstop', 'hobica', 'syndic', 'airfarewatchdog', 'pinbal', 'goldsmith', 'lindquist', 'bot', 'saitelbach', 'godzilla', 'storefront', 'playabl', 'alameda', 'mob', 'nordeen', 'skift', 'kalanick', 'uber', 'rabid', 'wrong”', 'refreshingli', 'bilton', 'times‘', 'crusad', 'faa’', 'jetblu', 'carolyn', 'easyjet', 'ryanair’', 'o’leari', '“stop', 'unnecessarili', 'piss', 'fútbol', 'turkish', 'qatar', 'influenti', 'shatner', '“selfi', 'shootout”', 'barcelona”', 'janett', 'sadik', 'sakid', 'braini', 'bloomberg’', 'department’', 'schlangenstein', 'pragmat', 'reaganesqu', 'desjardin', 'organization’', '“best', 'world”', 'raci', 'kangaroo', 'lahood', 'foxx', 'afraid”', 'redevelop', 'riot', 'baldanza', 'pariah', 'contrarian', 'entrant', 'tenaglia', 'bourdain', 'zpz’', 'travelogu', 'zpz', 'emmi', 'sharpl', 'homeaway', 'airbnb', 'homeaway’', 'blackston', 'worldwide’', 'ipo', 'blackstone’', 'smallish', 'hoteltonight', 'hoteltonight’', 'penthous', 'shank’', 'pam', 'traine', 'zimride‘', 'harley', 'davidson', 'calderwood', 'ace’', 'hotelier’', 'outsiz', '“encourag', 'unwis', 'hogan', 'etihad', 'codeshar', 'aer', 'lingu', 'sechel', 'airberlin', 'alitalia', 'hub', 'commerc', 'tressel', 'pura', 'vida', 'gorgeou', 'bluewaterpropertiesofcostarica', 'tamarindo', 'casa', 'rubi', 'housekeep', 'nicoya', 'playa', 'samara', 'entr', 'agua', 'treehous', 'hoteldosagua', 'rincon', 'vieia', 'ecolodg', 'externalaffair', 'uga', 'edu', 'vacation', 'finca', 'juicer', 'irresist', 'ecobambu', 'handmad', 'bookmark', 'stationeri', 'selvatura', 'monteverd', 'birdwatch', 'wattl', 'bellbird', 'boooooong', 'quetzal', 'parkland', 'fortunawaterfal', 'elena', 'empanada', 'arepa', 'rican', 'cabur', 'casado', 'plantain', 'cala', 'moresca', 'luna', 'boutiqu', 'biodynam', 'calaluna', 'junki', 'witch', 'gnarli', 'novic', 'witchsrocksurfcamp', 'hacienda', 'guachipelin', 'horseback', 'cayman', 'catalooche', 'schooler', 'chaperon', 'gracious', 'outerwear', 'donner', 'carpent', 'liftopia', 'getskiticket', 'underwear', 'wick', 'cheapflight', 'rentsnowcloth', 'mountainthread', 'rent', 'psia', 'aasi', 'snare', 'travelzoo', 'vail', 'coupon', 'pitchfork', 'chairlift', 'purgatori', 'durango', 'ellicottvil', 'eileen', 'ogintz', 'takingthekid', 'booksel', 'dc', 'wonderland', 'getaway', 'carniv', 'warehous', 'gergel', 'jfk', 'laguardia', 'concours', 'harbin', 'lifelik', 'colosseum', 'sculptur', 'heilongjiang', 'guyana', 'hew', 'pritzker', 'herzog', 'meuron', 'yacht', 'rustic', 'maritim', 'whimsic', 'dissid', 'ai', 'weiwei', 'eclect', 'pamm', 'zodiac', 'breez', 'airi', 'slat', 'shrubberi', 'enchant', 'skylin', 'staircas', 'sichuan', 'beatriz', 'milhaz', 'psychedel', 'baroqu', 'puritan', 'ostrand', 'metropoli', 'yearn', 'semi', 'botero', 'wifredo', 'esparza', 'deconstruct', 'serap', 'repurpos', 'bilingu', 'placard', 'meatier', 'collag', 'coe', 'chilean', 'augusto', 'pinochet', 'avant', 'gard', 'peláez', 'blvd', 'lwmunoz', 'murad', 'osmann', 'zakharova', 'osmann’', 'istanbul', 'flamenco', 'singapor', 'zakharova’', 'moroccan', 'bali', 'sprung', 'followmeto', 'audaci', 'unwind', 'uglier', 'inconvenienc', 'kiosk', 'disgorg', 'seaney', 'farecompar', 'unrat', 'nonprofit’', '“will', 'tarmac', 'freed', 'mcdonnel', 'takeoff', 'woolfrey', 'airtran', 'icicl', 'cs', 'rezidor', 'radisson', 'guestroom', 'omni', 'marriott', 'amtrak', 'orbitz', 'caracol', 'belizean', 'logger', 'seminara', 'ack', 'homestay', 'griddl', 'comal', 'gomez', 'iguana', 'igancio', 'beliz', 'howler', 'burrel', 'dangriga', 'yolanda', 'belmopan', 'waffl', 'rumpl', 'yolanda’', '“beliz', 'belize’', '“cay', 'bounti', 'beachcomb', 'air’', 'belkin', 'kriol', 'hondura', 'afar', 'shadi', 'lubaantun', 'cahal', 'pech', 'altun', 'macal', 'ignacio', '“baboon', 'penis', 'gibnut', 'zimmern', '“royal', 'seattrop', 'placencia', 'punta', 'gorda', 'btl', 'impot', '“rico”', 'creol', 'mestizo', 'garifuna', 'mennonit', 'cay', 'currenc', 'orchid', 'tulum', 'diagon', 'cabana', 'citywalk', '“accord', 'nbcuniversal’', 'crompton', 'ibisworld', 'universal’', 'seasid', 'motel', 'yesteryear', 'dagon', 'kitchenett', 'dickson', '“basic', '‘mi', 'cowfish', 'burgsushi', 'bento', 'edamam', 'antojito', 'tapa', 'menchi', 'hedwig', 'puppet', 'trabucco', 'gringott', 'goblin', 'hogsmead', 'hogwart', '“windows”', 'potterhead', '“harri', '“disney’', 'forbidden', 'klau', 'andersson', 'lufthansa', 'neukoelln', 'campaign’', 'good…but', 'airline’', 'blaster', 'nicer', 'crazier', 'grumpier', 'andersson’', 'flier', 'engval', 'bistro', 'herrera', 'safarik', 'pima', 'crophopp', 'cessna', 'pzl', 'mielec', 'dromad', 'leadbottom', 'pt', 'sterman', 'biplan', 'trailer', 'emich', 'corsair', 'ripsling', 'skipper', 'navy’', 'bravo', 'film’', 'sequel', 'aalia', 'shahe', 'antonio’', 'airliner', 'benzo', 'qanta', 'phobic', 'asn', 'harro', 'ranter', 'qantas’', 'nippon', 'cathay', 'jordanian', 'scat', 'kazakh', 'afghan', 'surinames', 'bluew', 'journal’', 'scorecard', 'babbit', '“qanta', 'washburn', 'granada', 'morgan’', 'jicaro', 'melani', 'skype', 'internship', 'casita', 'treetop', 'hammock', 'sandboard', 'cerro', 'turquois', 'motmot', 'guardabarranco', 'sur', 'mombacho', 'fumarol', 'plantat', 'beachfront', 'nicaraguan', 'touristi', 'remo', 'pere', 'managua', 'ortega', 'masaya', 'agran', 'bathrob', 'handicraft', 'chimichurri', 'rum', 'yogi’', 'tortois', 'dubai’', 'madinat', 'jumeirah', 'itinerari', 'cotopaxi', 'quito', 'hoddevik', 'chap', 'sojourn', 'ashram', 'ziplin', 'paddleboard', 'centric', 'santorini', 'ecuador’', 'dolomit', 'patagonia', 'hoddevik’', 'locations”', '“tanzania', 'safari”', 'tanzania’', 'serengeti', 'zanzibar', 'oniri', 'barichara', 'yoga’', 'clemon', 'scalisi', 'costigan', 'iyengar', 'upsurg', 'scenic', 'deanna', 'utah’', 'sheri', 'askinazi', 'snowmass', 'confess', 'ertl', 'westin', 'starwood', 'valet', 'viceroy', 'jimini', 'abut', 'whirlpool', 'mayerowitz', 'globetrotscott', 'ryanair', 'google’', 'ita', 'cnet', 'zagat', 'ripoff', 'tame', 'fanni', 'crook', 'minh', 'hanoi', 'sinh', 'impostor', 'iffi', 'overpr', 'cahoot', 'travelfish', 'thesinhtourist', 'vn', 'pushi', 'cd', 'luggag', 'cab', 'cabbi', 'macdonald', 'scammer', 'hostag', 'kara', 'lucchesi', 'sta', 'piqu', 'purloin', 'pickpocket', 'ruse', 'bolivia', 'passageway', 'cochabamba', 'cancha', 'burli', 'thug', 'rummag', 'baru', 'peso', 'histrion', 'tsa', 'unattend', 'moratorium', 'cavern', 'afl', 'cio', 'wytkind', 'aeronaut', '“dude', 'snuggl', 'surefir', 'dicaprio', 'winslet', 'unsink', 'landlock', 'shipwreck', 'shaojun', 'blackbust', 'extravag', '‘divorc', '’”said', 'glynda', 'alu', 'rhodes’', 'wilburn', 'devor', '‘i’ll', 'finn', 'freyda', 'spira', 'rarest', 'grang', 'hupk', 'chicl', 'uncut', 'gridiron', 'lithograph', 'sweater', 'omit', 'swick', 'knute', 'rockn', 'intercollegi', 'luckman', 'gifford', 'antitrust', 'harteveldt', 'truce', 'nocella', 'savannah', 'islip', 'myrtl', 'bahama', 'roanok', 'wilmington', 'roundtrip', 'outpac', 'recessionari', 'expedia', 'unprofit', 'thackston', 'legroom', 'suitcas', 'kalish', 'breakneck', 'rappel', 'kayak', 'laze', 'adventure—and', 'grenada', 'unspoil', 'nicaragua’', '“turquois', 'bane', 'debit', '“buy', 'back”', 'renault’', 'potomac', 'gondola', 'cater', 'condominium', 'carousel', 'awaken', 'hain', 'mgm', 'casino', 'nell', 'cuisin', 'lacuisinepari', 'voila', 'monteleon', 'bertch', 'pugliesi', 'conti', 'oaxaca', 'lucca', 'windstar', 'comfi', 'boister', 'finest', 'beazley', 'cavallo', 'hyatt', 'culinari', 'macaron', 'eclair', 'croissant', 'baguett', 'usd', 'vill', 'annaliss', 'gauci', 'lloyd', 'burbag', 'hendrickson', 'cpa', 'shallot', 'yum', 'girel', 'boucheri', 'boulangeri', 'nutmeg', 'giaimo', 'hôtel', 'glace', 'crystallin', 'elsa', '“frozen', 'suite”', 'andersen’', 'arendel', 'fjord', 'oslo', 'stave', 'epcot', 'iger', 'showstopp', '“let', 'disney’', 'loon', 'breckenridg', 'igloo', 'crisscross', 'somervil', 'ceil', 'livingood', 'foreman', 'drench', 'archway', 'handpick', 'bookin', 'weiner', 'blah', 'pledg', 'dingi', 'glamour', 'layla', 'bullard', 'cuomo', 'tappan', 'zee', 'flush', 'boweri', 'dimli', 'haphazardli', 'blare', 'pizzeria', 'dunkin', 'baggag', 'deco', 'seaplan', 'disjoint', 'sigmund', 'waterslid', 'schlitterbahn', 'waterpark', 'verrückt', 'meg', 'wig', 'haneda', 'offenc', 'ryosei', 'nomura', 'comedian', 'excitedli', 'nonpluss', 'fluffi', 'lol', 'humour', 'liney', 'lineypet', 'bitcoin', 'kahului', 'waimea', 'kauai', 'balmi', 'hanauma', 'hassl', 'hilo', 'kailua', 'kona', 'nawiliwili', 'sightse', 'hana', 'splendid', 'kilauea', 'pele', 'simmer', 'mauna', 'kea', 'everest', 'pawai', 'catamaran', 'parasail', 'wailua', 'waikiki', 'polynesian', 'samoa', 'tahiti', 'tonga', 'aotearoa', 'luau', 'skiff', 'uss', 'unpack', 'gohawaii', 'ncl', 'amer', 'stateroom', 'awwa', '“ski', 'viñal', 'nanotub', '“self', 'wingspan', 'vinal', 'jumbo', 'dvice', 'turbo', '“biblic', 'entrepreneurship”', '“kingdom', 'entrepreneurship', 'tsagu', 'servant', 'nehemiah', '“jesus’', 'pastor', 'bahm', 'kingdompoint', '“ministri', '“turn', 'kalispel', 'flathead', 'tripadvisor', 'unsuspect', 'hotel’', 'partier', 'nightspot', 'partygo', 'bling', 'bachelorett', 'doatlanticc', 'showusyourbl', 'hotwire’', 'hoteli', 'hell’', 'armenia', 'hermosa', 'sequest', 'festival’', 'centenni', 'hotwir', 'dogwood', 'berlinal', 'velothon', 'tiergarten', 'pragu', 'cristiano', 'ronaldo', 'gran', 'king’', '“queen’', 'day”', 'vondelpark', 'kjellberg', 'jk', 'rowl', 'longbottom', 'coup', 'shops—and', 'countrysid', 'hermion', 'chare', 'grimmauld', 'wyndham', 'theatr', 'uncanni', 'muggl', 'gilmor', 'queue', 'banger', 'jaysen', 'butterb', 'weasley', 'wheas', 'madam', 'malkin’', 'robe', 'apparel', 'plush', 'quidditch', 'snitch', 'quaffl', 'bludger', 'scribbulu', 'ollivand', 'florean', 'fortescue’', 'parlour', 'carkitt', 'knockturn', 'alleyway', 'borgin', 'sinist', 'brigant', 'insidethemag', 'podcast', 'chinatown', 'mainland', 'nouveau', 'quintupl', 'lichun', 'zhong', 'xin', 'beckon', 'manhattan’', 'ritzi', 'fiancé', 'vuitton', 'zolb', 'conge', 'kettl', 'noodl', 'preparatori', 'discretionari', 'hainan', 'dumpl', 'hare', 'gripe', 'available”', '“premium”', '“cheap”', 'seatguru', 'twa', 'jetblue’', 'space”', 'airlines’', 'united’', '“new', 'smell”', 'american’', '“twin”', 'bearabl', 'leeward', 'providencial', 'dutil', 'somerset', 'colling', 'caico', 'vaknin', 'aah', 'sandcastl', 'shelli', 'chrenik', 'overs', 'hemingway', 'conch', 'fritter', 'chowder', 'sandal', 'vogel', 'opin', 'greenberg', 'melinda', 'pluse', 'bonefish', 'kite', 'mangrov', 'mansion', 'gild', 'lifeblood', 'disagr', 'steamrol', 'magnific', 'magnat', 'corneliu', 'gloria', 'decri', 'raze', 'conservatori', 'ernest', 'olmst', 'salv', 'regina', 'alletta', 'mcbean', 'onorato', 'monticello', 'intrus', 'ipanema', 'porto', 'alegr', 'recif', 'olinda', 'bahia', 'florianopoli', 'buzio', 'galinha', 'fortaleza', 'seguro', 'iguazu', 'sugarloaf', 'tram', 'unforgett', 'saadiyat', 'glamor', 'trivago', 'joyrid', 'souk', 'burj', 'fahidi', 'cultu', 'emerati', 'bur', 'bastakiya', 'cultral', 'mushrif', 'fujairah', 'sharjah', 'ajman', 'khaimah', 'umm', 'qaiwain', 'crossfir', 'cartel', 'cabo', 'paz', 'campech', 'cristob', 'chiapa', 'allend', 'acapuco', 'zihuatanejo', 'ixtapa', 'guadalajara', 'vallarta', 'morelia', 'lázaro', 'cardena', 'nayarit', 'huatulco', 'escondido', 'puerbla', 'queretaro', 'villahermosa', 'tlaxcala', 'merida', 'chichen', 'itza', 'cancun', 'cozumel', 'carmen', 'nowaday', 'bureaucrat', 'visa', 'pedophil', 'homosexu', 'nontradit', 'petion', 'occident', 'unimagin', 'boracay', 'cebu', 'bohol', 'iloilo', 'bacolod', 'banau', 'terrac', 'donsol', 'tubbataha', 'palawan', 'manila', 'tacloban', 'mahal', 'hotb', 'rape', 'balconi', 'agra', 'objectifi', 'sympathi', 'harrass', 'torward', 'bangkok', 'chiang', 'loung', 'xi', 'kwong', 'wah', 'yit', 'poh', 'stroll', 'darrenrovel', 'ldr', 'hfqhic', 'peytonman', 'kw', 'zrbka', 'luka', 'matzing', 'lukasmatzing', 'denver’', 'seatac', 'seatacairport', 'orangewilllookgreatatseatac', 'int', 'denairport', 'bluewilllookgreatatdia', 'kvlmcpjl', 'tac', 'unitedinorang', 'wgzfm', 'aruba', 'redoubl', 'midland', 'riverbank', 'congare', 'riverwalk', 'boyhood', 'woodrow', 'textil', 'vista', 'richland', 'horri', 'casal', 'cameo', 'carrier’', 'soundtrack', 'montag', 'scrunchi', 'atari', 'ruxpin', 'alf', '“energi', 'dome”', 'kareem', 'jabbar', 'delta’', 'rendit', 'lookalik', 'glam', 'urkel', 'winter’', 'aprè', 'roszella', 'gambler', 'game’', 'hrld', 'egbbmk', 'schnabel', 'mia', 'emilio', 'homeport', 'mural', 'drab', 'swirli', 'mermaid', 'batard', 'lebo', 'breakaway', 'zakarian', 'valastro', 'floral', 'motif', 'tropicana', 'illusionarium', 'concordia', 'tobaggan', 'gmc', 'maci', 'handcraft', 'noon', 'toboggan', 'burlap', 'foo', 'dmc', 'wolcott', 'marley', 'pedest', 'guardado', 'naturedli', 'dancer', 'techno', 'citypass', 'pummel', 'pulitz', 'crate', 'jigsaw', 'emigr', 'trachoma', 'jetsons”', 'porthol', 'veranda', 'farzad', 'banist', '“fall', 'cabin', '“studio', 'staterooms”', 'balust', 'detract', 'fibr', 'latenc', 'cinema', 'aft', 'starboard', '“fish', 'eye”', 'aural', 'balcony”', 'motter', 'cruisem', 'freighter', 'liveri', 'hobbit', 'warner', 'zaraiskiy', 'sanatorium', 'prose', 'osyotr', 'gnome', 'expiri', 'rawl', 'hutchison', 'houston’', 'purk', 'incheon', 'masan', 'gizmag', 'kidbot', 'automot', 'taekwon', 'voltar', 'edutain', 'everland', 'suwon', '‘walter', 'mitty’', 'isla', 'mujer', 'easternmost', 'lazili', 'southernmost', 'calmer', 'idyl', 'rolandi', 'seduct', 'rowdi', 'sow', 'avalon', 'wrangler', 'scroung', 'quaint', 'zazil', 'garrafon', 'docil', 'quintana', 'roo', 'bottomless', 'villarolandi', 'amandaleeap', 'friendliest', 'bar…', 'johannesburg', 'perdi', 'saunter', 'café', 'meander', 'onlook', 'distilleri', 'mixologist', 'vodka', 'distil', 'colorado’', 'tippl', 'saloon', 'gastro', 'rye—a', 'rye', 'whiski', 'brais', 'ingredients—colorado', 'breckinridg', 'snowmelt', 'queche', 'products—even', 'apples—to', 'moo', 'tini—vermont', 'kahlua', 'placid', 'mcglynn', 'adirondack', 'roughstock', 'malt', 'sleigh', 'romanc', 'oliver’', 'submarin', 'whim', 'fondant', 'petal', 'quirkiest', 'claustrophob', 'lucia', 'sunken', 'battleship', 'valentine’', 'steakhous', 'frisco’', 'upscal', 'bellagio', 'eiffel', 'venetian', 'cirqu', 'du', 'soleil', 'mainstay', '“cloud', 'gate”', 'millennium', 'theatergo', 'chicago’', 'lakesid', 'seaworld', 'fisherman’', 'lovebird', 'brentwood', '“anti', '“birds”', 'segundo', '\\xad', '“chocol', 'tour”', 'alexandria', '“sleeper', 'city”', 'phoenix’', 'apach', 'camelback', 'regenc', 'coronado', 'hialeah', 'swoon', 'getaways…', 'incycl', 'micgrogreen’', 'thurgood', 'bwi', 'dunkerli', 'flightawar', 'lunsford', 'michelangelo’', 'madonna', 'altausse', '“monument', 'neuschwanstein', 'adolf', 'clooney', 'cate', 'blanchett', 'fogg', 'eisenhow', 'irreplac', 'rorim', 'versail', 'bruge', 'valland', 'goer', 'maygen', 'zongker', 'dcartbeat', 'entourag', 'ideaworkscompani', '“vip', 'payback', 'sorenson', '“mileag', 'precheck', 'admiral’', 'heathrow', 'skyclub', '“discreet', 'travelers’', 'porsch', 'sfo', 'steeper', 'lufthansa’', 'marhaba', 'aa’', 'france’', 'atlantic’', 'chauffeur', 'hours’', 'airport’', '“asid', 'virginia’', 'angelo', 'shenandoah', 'parcel', 'repay', 'shill', 'melvil', 'mobi', 'sublim', 'grocer', '—januari', '—novemb', 'mcconnel', '—august', 'clarksburg', 'fairmont', 'globemast', 'macdil', 'southland', 'sulphur', 'duster', 'mistakenli', '—octob', 'testi', '—june', 'ellsworth', 'philipsburg', 'elkhart', '—may', 'corpu', 'christi', '—march', 'springdal', '—septemb', 'misdirect', 'brinkley', 'video”', 'cavort', '“safeti', 'paradise”', 'chrissi', 'teigen', '“work', 'franchise…wa', 'feminist', 'zeland', 'massey', 'traffic”', 'gryll', 'teaser', 'choiceseat', 'roomier', 'expertfly', 'orgasm', 'annvil', 'vintner’', 'hiil', 'hershey', 'chocolate—everyth', 'martini', 'sugartooth', 'pare', 'tour’', 'babymoon', 'trapp', 'lodge—y', 'family—in', 'stow', 'xc', 'smartwatch', 'limousin', 'heathrow’', 'hazen', 'placa', 'espanya', 'confisc', '“toy', 'story”', 'doll’', '“keep', 'overzeal', 'squint', 'groonz', 'duseinsha', 'pathet', 'novelti', 'woody’', 'elf', 'snarl', 'otubuah', 'masflight', 'hozdulick', 'koenig', 'airlinewrit', 'gdp', 'koh', 'ma', 'phangan', 'mairead', 'cambodia', 'angkor', 'wat', 'thai', 'andaman', 'phuket', 'samui', 'tao', 'chaweng', 'peddl', 'cob', 'beachwear', 'keepsak', 'laidback', 'swimwear', 'sarong', 'cerulean', 'ricketi', 'sandbar', 'cruso', 'cork', 'limbo', 'shimmi', 'sewn', 'quieter', 'overland', 'nutella', 'haleiwa', 'king—of', 'kids—and', 'yourselves—someth', 'country—from', 'simi', 'smithsonian’', 'presidents—from', 'ford’', 'lincoln’', 'yorktown', 'climact', 'hossam', 'shalabi', 'reschedul', 'hartsfield', 'rebook', 'savanthi', 'syth', 'rarer', 'notif', 'taxiway', 'boardap', 'dohm', 'agnew', 'memento', 'passman', 'passport', 'ouch”', 'utila', '“overwhelm', 'resortdisney', 'hk', 'mardi', 'gra', 'bead', 'necklac', 'easy’', 'lenten', '“sleeper”', 'soulard', 'freshest', '“quebec', 'stays—even', 'viareggio', 'tuscani', 'traditionalist', 'garb', 'south—pisa', '“battl', 'acropoli', 'graveston', 'monast', 'glendalough', 'wicklow', 'pilgrimag', 'crypt', 'baptiz', 'malin', 'lacey', 'antrim', 'revelri', 'evoc', 'rebuk', 'ardent', 'suitor', 'outstretch', 'yarn', 'pilgrim', 'scribe', 'kildar', 'brigid', 'chieftain', 'grudgingli', 'cloak', 'clonmacnois', 'offali', 'ciaran', 'sainthood', 'psalter', 'psalm', 'smitten', 'manchan', 'waterford', 'declan', 'flagston', 'aground', 'oratori', 'shrine', 'fenit', 'ox', 'newfoundland', 'abound', 'plunkett', 'drogheda', 'reliquari', 'carmelit', 'whitefriar', 'extravaganza', 'ceili', 'fheil', 'padraig', 'downpatrick', 'reputedli', 'unlearn', 'lowliest', 'utterli', 'ie', 'offalytour', 'businessdirectori', 'heritageireland', 'irelandsholywel', 'blogspot', 'html', 'kildareheritag', 'saintpatrickcentr', 'soufrièr', 'montserrat', '“pyroclast', '“seismic”', '“dome', 'collapse”', 'drumstick', 'montserrat’', 'uninhabit', 'volcano’', '“exclus', 'courthous', 'island’', 'tripper', 'antigua', 'government’', 'pivot', 'megaresort', 'unhurri', 'nonexist', 'arthurton', 'emerald', 'isl', 'mccartney', 'clapton', 'shutter', 'monserrat’', 'olveston', 'guesthous', 'gingerbread', 'clover', 'lea', '“volcanophiles”', 'missionari', 'cityap', 'wilentz', 'do—and', 'parqu', 'polanco', 'aviari', 'yanqui', 'espresso', 'paunch', 'décolletag', 'week—wait', 'mezcal', 'praga', 'zona', 'tiangui', 'outli', 'condesa', 'melgar', 'pachuca', 'roma', 'pushkin', 'aristotel', 'castelar', 'rivera’', 'masterpiec', '“dream', 'central”', 'solidaridad', 'baldera', 'colón', 'hidalgo', 'histórico', 'museo', 'dolor', 'olmedo', 'patiño', 'xochimilco', 'philanthropist', 'divorce', 'frida', 'kahlo', 'kahlo’', 'revelatori', 'peacock', 'xoloitzcuintl', 'olmedo’', 'porcelain', 'avenida', 'mexica', 'taxi—mani', 'unmonitor', 'sitio', 'condé', 'celeb', 'parrotfish', 'saba', 'moray', 'anemon', 'shoal', 'softli', 'breakup', 'antil', 'seascap', 'encrust', 'seamount', 'symphoni', 'costernaro', 'abyss', 'spire', 'frogfish', 'hitchhik', 'lushli', 'jobean', 'glasswork', 'sabatour', 'windward', 'winair', 'buena', 'prunti', 'kitschi', 'fiberglass', 'mclaughlin', 'mango’', 'bowen’', '“bowen', '’’', 'pithi', 'incas', 'lalalinda', 'burdekin', 'loco', 'feint', 'adventuredom', 'circuscircu', 'harrow', 'lavatori', 'inflight', '“ignor', 'neighbor”', 'credo', '“pardon', 'chatti', 'wan', '“excus', 'grunt', 'whine', 'washroom', 'seatmat', 'reebok’', 'cheeri', '“sorri', 'cring', 'deltaassist', 'wk', 'sic', 'classichippi', 'sd', 'theleakyboob', 'nmhutch', 'mmitk', 'unlatch', 'hpbtsptw', 'lyndsay', 'hisfeministmama', 'daycar', 'sobbel', 'accolad', 'boat—literally—spr', 'keg', 'voluntour', 'togetherforgood', 'packforapurpos', 'carlsbad', 'sanibel', 'oar', 'sampler', 'adventuresmith', 'msc', 'antartica', 'resort’', 'fairytal', 'fantasyland', 'cinderella', 'rapunzel', 'legoland', 'chima', 'lego', 'deals—and', 'keyston', 'downey', 'sherlock', '“sherlock', 'outwit', '£', 'conan', 'hologram', 'reenact', 'sherlock’', 'probyn', 'krulewitz', 'gbdc', 'tutu', 'strauss', 'loya', 'albuquerqu', 'businesspeopl', 'preapprov', 'sunport', 'globalentri', 'dole', 'banglesdorf', 'bergstrom', 'contrera', 'russcontrera', 'priciest', 'skymil', 'seater', 'tohono', 'o’odham', 'tucson’', 'lemmon', 'pueblo', 'presidio', 'sonoran', 'cyclist', 'uppermost', 'sabino', 'babbl', 'dilling', 'memorabilia', 'maynard', 'quirkier', 'eusebio', 'kino', 'odham', 'ronstadt', 'ansel', 'weston', 'hectar', 'saguaro', 'ttangap', 'streetmuseum', 'overlay', 'london’', 'sparham', 'museum’', '“streetmuseum', 'itun', 'simplon', 'belmond', '“belmond', 'aruzza', 'sncf', '“migrat', 'immort', 'agatha', 'copacabana', 'maroma', 'york’', 'encanto', '“geek”', 'zealot', 'paltri', 'medallion”', 'bandit', '“attraction”', 'outrank', 'beyonc', 'scotsman', 'then…i', '“attract', 'website’', '“been', '“similar”', 'bellahouston', 'pollok', 'guidebook', 'perrierdoumb', 'grumpi', '“astound', 'maryness”', 'trip”', 'marydol', 'hgvxarhj', 'cervaa', 'vimh', 'allah', 'lotfollah', 'isfahan', 'easy—an', 'medhi', 'habimana', 'visahq', 'embassi', 'travel—onli', 'bollywood', 'rajasthan', 'mahal…india', 'allur', 'india—mor', 'year—it', 'surprise—and', 'travisa', 'live—ther', 'photocopi', 'bill—wat', 'persnicketi', 'hermitag', 'ballet', 'kremlin', 'wearisom', 'brigg', 'overstay', 'approved—a', 'gasp', 'terra', 'cotta', 'unfamiliar', 'application—expand', 'four—and', 'tibet', 'years—a', 'iguazú', 'live—th', 'slowest—habimana', 'priciest—', 'himalaya', 'true—th', 'visit—al', '—cost', 'surcharg', 'visa—ther', 'directori', 'persepoli', 'frenet', 'tehran', 'persia', 'modestli', 'borat', 'petroglyph', 'trip—a', 'all…', 'hajj', 'madain', 'saleh', 'petra', 'nabataean', 'sites—saudi', 'group—it', 'kindly—go', 'prettiest', 'cheapair', '“prime', 'window”', 'late”', 'overpay', 'skyscann', 'virginatlant', 'noir', 'trigg', 'whilst', 'cheeki', 'imaginari', 'guesswork', 'cushier', 'upholst', '“flip', 'over”', 'seatback', 'fedex', 'filthi', 'amex', 'paddington', 'penc', 'kingston', 'trinidad', 'tobago', 'maraca', 'chutney', 'tamarind', 'papa', 'boi', 'verteuil', 'trinidadian', 'fillet', 'imogen', 'zethoven', 'pew', 'insati', 'patsi', 'mcfadden', 'dmcfadd', 'roxann', 'accru', 'nonrefund', 'tripflex', 'toiletri', '“tsa', 'entrance”', 'westjet', 'sexist', 'steaci', 'scrawl', 'proverb', 'ps', 'discreetli', 'cock', 'funniest', 'deplan', 'grumbl', 'exorbit', 'tumult', 'timeshar', 'summerhous', 'markham', 'concierg', 'wallpap', 'fazio', 'rooftop', 'bluer', 'neverland', 'downstair', 'flatiron', 'humm', 'guidara', 'bemelman', 'carlyl', 'ludwig', 'madelin', 'pianist', 'chandeli', 'velvet', 'tiki', 'francisco’', 'tai’', 'smack', 'delano', 'poolsid', 'glitz', 'clink', 'strangler', 'malcom', 'jail’', 'thepointsguy', 'valuepenguin', 'groundhog', 'season’', '“color', 'throwings”', 'modera', 'psu', 'stuffi', 'powerbrok', 'sugarhous', 'sugarbush', 'slopesid', 'applianc', 'washer', 'fireplac', 'keho', 'fussi', 'hardwood', 'savannah’', 'multicultur', 'buckhead', 'nosh', 'unto', 'jacuzzi', 'flightradar', 'malaysia', '“specul', 'searcher', '“anxiou', 'bond’', 'tote', 'conneri', '“you’ll', 'leave”', '“except', 'chic', 'wallow', 'antoinett', 'swarovski', 'virginamerica', 'tongko', 'synch', 'zac', 'gyrat', 'impromptu', 'attendant’', 'holler', 'xplorer', 'neatli', 'irrepress', 'mesmer', 'steepest', 'picholin', 'napa', 'mayacama', 'mcevoy', 'petaluma', 'liccino', 'onsit', 'roundpond', 'prato', 'lungo', 'lmr', 'longmeadowranch', 'nan', 'maurizio', 'castelli', 'wreath', 'mcevoyranch', 'sonoma', 'theolivepress', 'lucero', 'zippi', 'lucerooliveoil', 'aadvantag', 'abhor', 'more—at', 'samsung', 'usb', 'galley', 'aforement', 'ferrer', 'roomi', 'transcontinent', 'horizontal—someth', 'marguil', 'mover', 'shaker', 'gulfstream', 'arrangement—no', 'hound', 'leah', 'murr', 'jenifour', 'glamoo', 'hagia', 'parka', 'shifting—or', 'chaykun', 'hostel', 'chaykun’', '‘oh', 'nextpedit', 'inveroran', 'gatliff', 'farmhous', 'croft', 'berneray', 'rhenigidal', 'motorboat', 'tarbert', 'kilt', 'gaelic', 'boggi', 'footpath', 'nevi', 'skippingli', 'skyfal', 'walkhighland', 'ordnanc', 'hebridean', 'chequ', 'whiff', 'movingli', 'postman', 'skye', 'stoutli', 'snuffl', 'porpois', 'skitter', 'knelt', 'bagpip', 'uist', 'churchyard', 'machair', 'airbnb’', 'jukkasjärvi', 'kiruna', 'swedenic', 'unicorn', 'swanki', 'arn', 'bergh', '“haut', 'coutur', 'experience”', 'schoolhous', 'sharetrip', 'dvorkin', 'clem', 'bason', 'paranaqu', 'azur', 'pampanga', 'jetway', 'loudli', 'gq', 'sealed—not', 'walker’', 'shortbread', 'reseat', 'crossword', 'carryon', 'wail', 'banshe', 'swag', 'zielinski', 'bulki', 'checkpoint', 'admitt', 'awash', 'trinket', 'visor', 'balm', 'gaga', 'portaventura', 'perron', 'proposals…it', 'shambhala', 'eyeglass', 'embroideri', 'giusepp', 'arcimboldo', 'roisin', 'arti', 'littlest', 'hieronymu', 'dollhous', 'crayon', 'do’', 'iwallet', 'thumbprint', 'hack', 'readimask', 'jammer', 'issac', 'stoltz', 'randa', 'korchmar', 'fenton', 'choo', 'sephora', 'loi', 'ktkv', 'airportconfisc', 'constru', 'alright', 'undet', 'ktvk', 'fanciest', '“sleep', 'malefic', 'beauty”', 'stripe', 'bolero', 'embellish', 'sequin', 'spangl', 'horsehair', 'rada', 'plaid', 'tweed', 'newsi', 'headpiec', 'steampunk', 'getup', 'yearlong', 'homag', 'cannon', 'troup', 'pendulum', 'rada’', 'menacingli', 'hauntingli', 'swarvoski', 'lacquer', 'circu', 'taffi', 'origami', '“allow', 'workroom', 'millin', 'cosmetolog', 'brainstorm', 'airbrush', 'rhineston', 'spandex', '“bubbl', 'girl”', 'pixar', '“brave”', 'medallion', '“swing', 'thugs”', '“tangled”', 'vinyl', '“coral', 'twins”', 'knit', 'faberg', 'fabergé', 'hilfig', 'koon', 'zaha', 'hadid', 'waldo', 'julian', 'sawaya', 'rockefel', 'sothebi', 'underserv', 'sak', 'ornat', 'bejewel', 'czar', 'opul', 'versac', 'miami’', 'drive—al', 'designer’', 'intim', 'cunanan', 'casuarina', 'vm', 'inl', 'burma’', 'shan', 'sargent', 'lake’', 'myanmar', 'repress', 'rangoon', 'yangon', 'turboprop', 'heho', 'mist', 'nyuang', 'shwe', 'teak', 'outboard', 'bucol', 'indawgyi', 'kachin', 'bamboo', 'lingo', 'topsoil', 'newish', 'lotu', 'craftspeopl', 'extric', 'scarv', 'downsiz', 'steinbrenn', 'ybor', 'cigar', 'arizona’', 'kids’', 'beach—go', 'sharpi', 'extol', 'felton', 'handcuf', 'clerk', 'baumann', 'utilitarian', 'hubbub', 'arraign', 'confession', 'bellow', 'diddi', 'summons', 'regi', 'sightseer', 'jargon', 'lorrain', 'cheyn', 'ranfurli', 'unceremoni', 'coto', 'triphoney', 'jori', 'waxman', 'manur', 'bioga', 'intercom', 'unbibl', 'euthanasia', 'ambl', 'udder', 'fofarm', 'bygon', 'aristocrat', 'funicular', 'bellboy', 'stockhausen', 'stairwel', 'pastri', 'budapest', 'façad', 'gorlitz', 'grandhotel', 'pupp', 'karlovi', '“moonris', '“casino', 'grandrestaur', 'movie’', 'pupp’', 'confection', 'snowman', 'confect', 'czechoslovakia’', 'hotel”', 'omin', 'adlon', 'kempinski', 'platz', 'brandenburg', 'hangout', 'socialit', 'zz', 'insignia', 'demolish', 'reunif', 'savoy', 'pancra', 'doormen', 'fienn', 'photochrom', 'haad', 'rin', 'pha', 'ngan', 'salar', 'uyuni', 'estrella', 'pegi', '“gringo', 'gringo', 'timbuktu', 'gentrif', 'anthropologist', 'ethnographi', 'bolivian', 'incahuasi', 'trails”', 'vail’', 'transcend', 'anaconda', 'ko', 'overtook', 'abbamont', '“see', 'himalayan', 'policy”', 'preplan', '…thailand', 'panacea', 'lamoureux', 'nori', 'quinto', '“tourist', 'diploma', 'vimeo', 'clime', 'lifeguard', 'floati', 'redcross', 'watersafeti', 'forewarn', 'cruiselaw', 'castaway', 'flotat', 'signag', 'annemari', 'kyran', 'quinlan', 'safekid', 'polynesia', 'strut', 'stylist', 'sunblock', '“other', 'cutout', 'bustier', 'tincher', 'strapless', 'saterman', 'millenni', 'flirti', 'silhouett', '“soft', 'daywear', '“shorter', 'russo', 'bolder', '“fit', 'durand', 'guion', '“put', 'mascara', 'skinceut', 'suncar', 'magicband', 'microchip', 'fastpass', 'passhold', 'painless', 'hostess', 'prepay', 'verif', 'tiresom', 'vouch', 'chautauqua', 'esri', 'ginsburg', 'healdsburg', 'steamboat', 'marietta', 'beaufort', 'sedona', 'lanesboro', 'brat', 'drivabl', 'pequot', 'alexia', 'natalia', 'antioch', 'dongdaemun', 'curvi', 'precinct', 'knack', 'gangnam', 'psi', 'mayoralti', 'hoon', 'scorn', 'vestig', 'ddp', 'eun', 'sik', 'endear', 'keum', 'derid', 'handbag', 'herm', 'shini', 'pai', 'hyungmin', 'joseon', 'youkyung', 'ykleeap', 'dauphin', 'substandard', 'ntsb', 'squalid', 'splendor', 'capsiz', 'hersman', 'imo', 'policeman', 'winbow', 'thinker', 'mauricio', 'cnbc', 'migicovski', 'patten', 'deltainnovationclass', 'wiz', 'wizz', 'luton', 'euclaim', 'hungarian', 'caa', 'punctual', 'ajit', 'franchise', 'dialer', 'intercontinent', 'fcc', 'estrang', 'baymont', 'prefix', 'giovanna', 'mandalay', 'vegas’', 'munchi', 'caesar’', 'o’clock', 'moorea', 'bora', '“remot', '⁄', 'nui', 'uncompromis', 'saver', 'bungalow', 'pamper', 'motu', 'tapu', 'tablecloth', 'trumpetfish', 'picasso', 'hilton’', 'toatea', 'creperi', 'belveder', 'pearl’', 'mutini', '“le', 'marché', 'papeete”', 'fragrant', 'manoi', 'poisson', 'cru', 'cevich', 'flamboy', 'tipani', 'tiar', 'auti', 'hura', 'tapairu', 'polynesia’', 'enthral', 'manava', 'arem', 'insensit', 'huckabi', 'moehl', 'abc’', 'krtk', '“pleas', 'tradesman', 'iah', 'towboat', 'barg', 'allegheni', 'bicyclist', 'duquesn', 'monongahela', 'frick', 'sooti', 'blockhous', 'confluenc', 'clement', 'warhol', 'pnc', 'mellon', 'vietnames', 'industrialist', 'lavishli', 'tweeter', '“shameless', 'post’', 'bianca', 'bosker', '“social', 'fmg', 'xovao', 'ninagarcia', 'hornick', 'schoolfield', 'funworld', 'facedown', 'lex', 'luthor', 'zumanjaro', 'pantopia', 'tamaralush', 'comfiest', 'peev', 'geni', 'admittedli', 'poopi', 'fairyland', 'ziploc', 'expuls', 'rind', 'granola', 'wrapper', 'gatekeep', 'fess', 'overwork', 'underpaid', 'platinum', 'playbook', 'precept', 'cranki', 'bulkhead', 'cruiser', 'wellington', 'l’orang', 'almandin', 'goldstein', 'regiment', 'gumbo', 'ribey', 'veal', '“pan', 'serrano', 'broadband', '“wayfinders”', 'kaleidoscop', 'fizz', 'cellophan', 'sriracha', 'brainchild', 'gastropub', 'panzerotti', 'zingi', 'linguin', 'devinli', 'solarium', 'cookbook', 'mignon', 'izumi', 'tempura', 'gyoza', 'aperitif', 'foie', 'risotto', 'bisqu', 'windjamm', 'lido', 'cafeteria', 'showroom', '°', 'degrees”', 'seaplex', 'hotdog', 'monet’', 'giverni', 'brouillet', 'yemma', 'enamor', 'linnea', 'bjork', 'fetch', 'orangeri', 'tuileri', 'canvas', 'stepchildren', 'sketchbook', 'hosched', 'baudi', 'tulip', 'azalea', 'elysé', 'draper', 'holloway', '“mad', 'men”', 'cast’', 'longer—but', 'westchest', 'slurp', 'hotel—anoth', 'elyse', 'madmentour', 'amc', 'homeless', 'fab']\n"
     ]
    }
   ],
   "source": [
    "# words in model\n",
    "words = list(fox_models[0].wv.vocab)\n",
    "print(words)"
   ]
  },
  {
   "cell_type": "code",
   "execution_count": 52,
   "metadata": {},
   "outputs": [],
   "source": [
    "# Creating a measurement of distance between vectors for man and genius vs woman and genius\n",
    "from scipy.spatial.distance import cosine\n",
    "\n",
    "def bais_genius(model):\n",
    "    man_diff = cosine(model['man'], model['geniu']) # Porter Stemmer for Genius\n",
    "    woman_diff = cosine(model['woman'], model['geniu'])\n",
    "    return man_diff - woman_diff"
   ]
  },
  {
   "cell_type": "code",
   "execution_count": 53,
   "metadata": {},
   "outputs": [
    {
     "data": {
      "text/plain": [
       "[0.02350810170173645,\n",
       " 0.08249592781066895,\n",
       " 0.10686850547790527,\n",
       " 0.08221328258514404,\n",
       " 0.14302611351013184,\n",
       " 0.12809205055236816,\n",
       " 0.017285585403442383,\n",
       " 0.11719155311584473,\n",
       " 0.09974968433380127,\n",
       " 0.02854815125465393]"
      ]
     },
     "execution_count": 53,
     "metadata": {},
     "output_type": "execute_result"
    }
   ],
   "source": [
    "bais_genius_diffs = []\n",
    "for model in fox_models:\n",
    "    bais_genius_diffs.append(bais_genius(model))\n",
    "bais_genius_diffs\n",
    "# the word genius appears less than five times in this corpus so more variable "
   ]
  },
  {
   "cell_type": "code",
   "execution_count": 54,
   "metadata": {},
   "outputs": [],
   "source": [
    "# Creating a measurement of distance between vectors for man and scientific vs woman and scientific\n",
    "def bais_scientific(model):\n",
    "    man_diff = cosine(model['man'], model['scientif'])\n",
    "    woman_diff = cosine(model['woman'], model['scientif'])\n",
    "    return man_diff - woman_diff"
   ]
  },
  {
   "cell_type": "code",
   "execution_count": 55,
   "metadata": {},
   "outputs": [
    {
     "data": {
      "text/plain": [
       "[0.09267503023147583,\n",
       " 0.1108025312423706,\n",
       " 0.08360707759857178,\n",
       " 0.07212823629379272,\n",
       " 0.05978953838348389,\n",
       " 0.08282989263534546,\n",
       " 0.07420730590820312,\n",
       " 0.09893792867660522,\n",
       " 0.09830725193023682,\n",
       " 0.07714188098907471]"
      ]
     },
     "execution_count": 55,
     "metadata": {},
     "output_type": "execute_result"
    }
   ],
   "source": [
    "bais_scientif_diffs = []\n",
    "for model in fox_models:\n",
    "    bais_scientif_diffs.append(bais_scientific(model))\n",
    "bais_scientif_diffs"
   ]
  },
  {
   "cell_type": "code",
   "execution_count": 66,
   "metadata": {},
   "outputs": [
    {
     "name": "stdout",
     "output_type": "stream",
     "text": [
      "[('need', 0.8607437610626221)]\n",
      "[('galore—wil', 0.9423556327819824)]\n",
      "[('puriti', 0.9095423221588135)]\n",
      "[('cannot', 0.8990209102630615)]\n",
      "[('enigma', 0.8811341524124146)]\n",
      "[('pest', 0.9191004037857056)]\n",
      "[('truli', 0.8875516653060913)]\n",
      "[('selfish', 0.9042293429374695)]\n",
      "[('purveyor', 0.8641253113746643)]\n",
      "[('pretend', 0.8655644059181213)]\n"
     ]
    }
   ],
   "source": [
    "# variablity in models, the most similar word is never the same\n",
    "for model in fox_models:\n",
    "    results = model.most_similar(positive=['woman', 'geniu'], negative=['man'], topn=1)\n",
    "    print(results)"
   ]
  },
  {
   "cell_type": "code",
   "execution_count": 67,
   "metadata": {},
   "outputs": [
    {
     "name": "stdout",
     "output_type": "stream",
     "text": [
      "[('women’', 0.934119701385498)]\n",
      "[('basal', 0.9424046874046326)]\n",
      "[('literatur', 0.9356421232223511)]\n",
      "[('document', 0.924622118473053)]\n",
      "[('examin', 0.9318491220474243)]\n",
      "[('literatur', 0.9414931535720825)]\n",
      "[('statist', 0.9608193635940552)]\n",
      "[('seattle’', 0.9278523921966553)]\n",
      "[('examin', 0.9419289827346802)]\n",
      "[('amus', 0.9347630143165588)]\n"
     ]
    }
   ],
   "source": [
    "for model in fox_models:\n",
    "    results = model.most_similar(positive=['woman', 'scientif'], negative=['man'], topn=1)\n",
    "    print(results)"
   ]
  },
  {
   "cell_type": "code",
   "execution_count": 68,
   "metadata": {},
   "outputs": [
    {
     "name": "stdout",
     "output_type": "stream",
     "text": [
      "[('engin', 0.9406636953353882)]\n",
      "[('ikram', 0.9424094557762146)]\n",
      "[('project', 0.9208171367645264)]\n",
      "[('keppler', 0.9323422908782959)]\n",
      "[('novarti', 0.9330419898033142)]\n",
      "[('jehl', 0.9343219995498657)]\n",
      "[('confirm', 0.945823073387146)]\n",
      "[('ikram', 0.9446556568145752)]\n",
      "[('ibrahim', 0.9341367483139038)]\n",
      "[('mcinni', 0.9554709196090698)]\n"
     ]
    }
   ],
   "source": [
    "for model in fox_models:\n",
    "    results = model.most_similar(positive=['man', 'scientif'], negative=['woman'], topn=1)\n",
    "    print(results)"
   ]
  },
  {
   "cell_type": "code",
   "execution_count": 71,
   "metadata": {},
   "outputs": [],
   "source": [
    "# loading a old model from the same corpus \n",
    "os.chdir('/Users/7of9/Documents/Word2Vec/')\n",
    "old_model = Word2Vec.load('model.bin')"
   ]
  },
  {
   "cell_type": "code",
   "execution_count": 75,
   "metadata": {},
   "outputs": [],
   "source": [
    "fox_models[0].wv.save_word2vec_format('fox_model'+'0'+'.bin')"
   ]
  },
  {
   "cell_type": "code",
   "execution_count": 79,
   "metadata": {},
   "outputs": [
    {
     "data": {
      "text/plain": [
       "<bound method Word2Vec.save of <gensim.models.word2vec.Word2Vec object at 0x1a21c72860>>"
      ]
     },
     "execution_count": 79,
     "metadata": {},
     "output_type": "execute_result"
    }
   ],
   "source": [
    "fox_models[0].save"
   ]
  },
  {
   "cell_type": "code",
   "execution_count": 80,
   "metadata": {},
   "outputs": [],
   "source": [
    "fox_models_100 = []\n",
    "for i in range(100):\n",
    "    fox_models_100.append(Word2Vec(fox_docs, min_count=1, size=300))"
   ]
  },
  {
   "cell_type": "code",
   "execution_count": 86,
   "metadata": {},
   "outputs": [],
   "source": [
    "bais_genius_diffs_100 = []\n",
    "for model in fox_models_100:\n",
    "    bais_genius_diffs_100.append(bais_genius(model))"
   ]
  },
  {
   "cell_type": "code",
   "execution_count": 82,
   "metadata": {},
   "outputs": [
    {
     "data": {
      "text/plain": [
       "0.16247719526290894"
      ]
     },
     "execution_count": 82,
     "metadata": {},
     "output_type": "execute_result"
    }
   ],
   "source": [
    "max(bais_genius_diffs_100)"
   ]
  },
  {
   "cell_type": "code",
   "execution_count": 83,
   "metadata": {},
   "outputs": [
    {
     "data": {
      "text/plain": [
       "-0.030609816312789917"
      ]
     },
     "execution_count": 83,
     "metadata": {},
     "output_type": "execute_result"
    }
   ],
   "source": [
    "min(bais_genius_diffs_100)"
   ]
  },
  {
   "cell_type": "code",
   "execution_count": 85,
   "metadata": {},
   "outputs": [
    {
     "data": {
      "text/plain": [
       "0.03566310574402655"
      ]
     },
     "execution_count": 85,
     "metadata": {},
     "output_type": "execute_result"
    }
   ],
   "source": [
    "np.std(bais_genius_diffs_100)"
   ]
  },
  {
   "cell_type": "code",
   "execution_count": 88,
   "metadata": {},
   "outputs": [
    {
     "data": {
      "text/plain": [
       "0.0012718571113096192"
      ]
     },
     "execution_count": 88,
     "metadata": {},
     "output_type": "execute_result"
    }
   ],
   "source": [
    "np.var(bais_genius_diffs_100)"
   ]
  },
  {
   "cell_type": "code",
   "execution_count": 100,
   "metadata": {},
   "outputs": [],
   "source": [
    "bais_scientif_diffs_100 = []\n",
    "for model in fox_models_100:\n",
    "    bais_scientif_diffs_100.append(bais_scientific(model))"
   ]
  },
  {
   "cell_type": "code",
   "execution_count": 101,
   "metadata": {},
   "outputs": [
    {
     "data": {
      "text/plain": [
       "0.15680259466171265"
      ]
     },
     "execution_count": 101,
     "metadata": {},
     "output_type": "execute_result"
    }
   ],
   "source": [
    "max(bais_scientif_diffs_100)"
   ]
  },
  {
   "cell_type": "code",
   "execution_count": 102,
   "metadata": {},
   "outputs": [
    {
     "data": {
      "text/plain": [
       "0.03328913450241089"
      ]
     },
     "execution_count": 102,
     "metadata": {},
     "output_type": "execute_result"
    }
   ],
   "source": [
    "min(bais_scientif_diffs_100)"
   ]
  },
  {
   "cell_type": "code",
   "execution_count": 103,
   "metadata": {},
   "outputs": [
    {
     "data": {
      "text/plain": [
       "0.026718195016273597"
      ]
     },
     "execution_count": 103,
     "metadata": {},
     "output_type": "execute_result"
    }
   ],
   "source": [
    "np.std(bais_scientif_diffs_100)"
   ]
  },
  {
   "cell_type": "code",
   "execution_count": 104,
   "metadata": {},
   "outputs": [
    {
     "data": {
      "text/plain": [
       "0.0007138619449276273"
      ]
     },
     "execution_count": 104,
     "metadata": {},
     "output_type": "execute_result"
    }
   ],
   "source": [
    "np.var(bais_scientif_diffs_100)"
   ]
  },
  {
   "cell_type": "code",
   "execution_count": 105,
   "metadata": {},
   "outputs": [],
   "source": [
    "with open('fox_models_100_scientif_diffs.txt', 'w') as f:\n",
    "    for diff in bais_scientif_diffs_100:\n",
    "        f.write(str(diff))\n",
    "        f.write(\"\\n\")"
   ]
  },
  {
   "cell_type": "code",
   "execution_count": 106,
   "metadata": {},
   "outputs": [],
   "source": [
    "for i in range(100):\n",
    "    fox_models_100.append(Word2Vec(fox_docs, min_count=1, size=300)) # now it has 200"
   ]
  },
  {
   "cell_type": "code",
   "execution_count": 107,
   "metadata": {},
   "outputs": [],
   "source": [
    "for model in fox_models_100[100:]:\n",
    "    bais_genius_diffs_100.append(bais_genius(model))\n",
    "    bais_scientif_diffs_100.append(bais_scientific(model))"
   ]
  },
  {
   "cell_type": "code",
   "execution_count": 108,
   "metadata": {},
   "outputs": [],
   "source": [
    "with open('fox_models_100_scientif_diffs.txt', 'w') as f:\n",
    "    for diff in bais_scientif_diffs_100[100:]:\n",
    "        f.write(str(diff))\n",
    "        f.write(\"\\n\")"
   ]
  },
  {
   "cell_type": "code",
   "execution_count": 109,
   "metadata": {},
   "outputs": [],
   "source": [
    "with open('fox_models_100_genius_diffs.txt', 'w') as f:\n",
    "    for diff in bais_genius_diffs_100:\n",
    "        f.write(str(diff))\n",
    "        f.write(\"\\n\")"
   ]
  },
  {
   "cell_type": "code",
   "execution_count": 112,
   "metadata": {},
   "outputs": [
    {
     "data": {
      "text/plain": [
       "200"
      ]
     },
     "execution_count": 112,
     "metadata": {},
     "output_type": "execute_result"
    }
   ],
   "source": [
    "len(bais_scientif_diffs_100)"
   ]
  },
  {
   "cell_type": "code",
   "execution_count": 110,
   "metadata": {},
   "outputs": [
    {
     "data": {
      "text/plain": [
       "0.1760689616203308"
      ]
     },
     "execution_count": 110,
     "metadata": {},
     "output_type": "execute_result"
    }
   ],
   "source": [
    "# Changes with 200 distributions\n",
    "max(bais_scientif_diffs_100) # was 0.15680259466171265"
   ]
  },
  {
   "cell_type": "code",
   "execution_count": 111,
   "metadata": {},
   "outputs": [
    {
     "data": {
      "text/plain": [
       "0.03328913450241089"
      ]
     },
     "execution_count": 111,
     "metadata": {},
     "output_type": "execute_result"
    }
   ],
   "source": [
    "min(bais_scientif_diffs_100) # was 0.03328913450241089 (same)"
   ]
  },
  {
   "cell_type": "code",
   "execution_count": 113,
   "metadata": {},
   "outputs": [
    {
     "data": {
      "text/plain": [
       "0.028073732344559763"
      ]
     },
     "execution_count": 113,
     "metadata": {},
     "output_type": "execute_result"
    }
   ],
   "source": [
    "np.std(bais_scientif_diffs_100) # was 0.026718195016273597"
   ]
  },
  {
   "cell_type": "code",
   "execution_count": 115,
   "metadata": {},
   "outputs": [
    {
     "data": {
      "text/plain": [
       "0.0007881344477539809"
      ]
     },
     "execution_count": 115,
     "metadata": {},
     "output_type": "execute_result"
    }
   ],
   "source": [
    "np.var(bais_scientif_diffs_100) # was 0.0007138619449276273"
   ]
  },
  {
   "cell_type": "code",
   "execution_count": 116,
   "metadata": {},
   "outputs": [
    {
     "data": {
      "text/plain": [
       "0.2145942747592926"
      ]
     },
     "execution_count": 116,
     "metadata": {},
     "output_type": "execute_result"
    }
   ],
   "source": [
    "# Changes with 200 distributions\n",
    "max(bais_genius_diffs_100) # was 0.16247719526290894"
   ]
  },
  {
   "cell_type": "code",
   "execution_count": 117,
   "metadata": {},
   "outputs": [
    {
     "data": {
      "text/plain": [
       "-0.030609816312789917"
      ]
     },
     "execution_count": 117,
     "metadata": {},
     "output_type": "execute_result"
    }
   ],
   "source": [
    "min(bais_genius_diffs_100) # was 0.03328913450241089"
   ]
  },
  {
   "cell_type": "code",
   "execution_count": 118,
   "metadata": {},
   "outputs": [
    {
     "data": {
      "text/plain": [
       "0.038979631479938666"
      ]
     },
     "execution_count": 118,
     "metadata": {},
     "output_type": "execute_result"
    }
   ],
   "source": [
    "np.std(bais_genius_diffs_100) # was 0.03566310574402655"
   ]
  },
  {
   "cell_type": "code",
   "execution_count": 119,
   "metadata": {},
   "outputs": [
    {
     "data": {
      "text/plain": [
       "0.0015194116703118254"
      ]
     },
     "execution_count": 119,
     "metadata": {},
     "output_type": "execute_result"
    }
   ],
   "source": [
    "np.var(bais_genius_diffs_100) # was 0.0012718571113096192"
   ]
  },
  {
   "cell_type": "code",
   "execution_count": 123,
   "metadata": {},
   "outputs": [],
   "source": [
    "scientif_diffs = []\n",
    "for i in range(200):\n",
    "    for j in range(200):\n",
    "        if i != j:\n",
    "            scientif_diffs.append(cosine(fox_models_100[i]['scientif'], fox_models_100[j]['scientif']))"
   ]
  },
  {
   "cell_type": "code",
   "execution_count": 125,
   "metadata": {},
   "outputs": [
    {
     "data": {
      "text/plain": [
       "0.09829330444335938"
      ]
     },
     "execution_count": 125,
     "metadata": {},
     "output_type": "execute_result"
    }
   ],
   "source": [
    "max(scientif_diffs)"
   ]
  },
  {
   "cell_type": "code",
   "execution_count": 126,
   "metadata": {},
   "outputs": [
    {
     "data": {
      "text/plain": [
       "0.0018343329429626465"
      ]
     },
     "execution_count": 126,
     "metadata": {},
     "output_type": "execute_result"
    }
   ],
   "source": [
    "min(scientif_diffs)"
   ]
  },
  {
   "cell_type": "code",
   "execution_count": 127,
   "metadata": {},
   "outputs": [
    {
     "data": {
      "text/plain": [
       "0.014443872480739127"
      ]
     },
     "execution_count": 127,
     "metadata": {},
     "output_type": "execute_result"
    }
   ],
   "source": [
    "np.std(scientif_diffs)"
   ]
  },
  {
   "cell_type": "code",
   "execution_count": 128,
   "metadata": {},
   "outputs": [
    {
     "data": {
      "text/plain": [
       "0.00020862545223985306"
      ]
     },
     "execution_count": 128,
     "metadata": {},
     "output_type": "execute_result"
    }
   ],
   "source": [
    "np.var(scientif_diffs)"
   ]
  },
  {
   "cell_type": "code",
   "execution_count": 132,
   "metadata": {},
   "outputs": [],
   "source": [
    "women_diffs = []\n",
    "for i in range(200):\n",
    "    for j in range(200):\n",
    "        if i != j:\n",
    "            women_diffs.append(cosine(fox_models_100[i]['women'], fox_models_100[j]['women']))"
   ]
  },
  {
   "cell_type": "code",
   "execution_count": 133,
   "metadata": {},
   "outputs": [
    {
     "data": {
      "text/plain": [
       "0.22022521495819092"
      ]
     },
     "execution_count": 133,
     "metadata": {},
     "output_type": "execute_result"
    }
   ],
   "source": [
    "max(women_diffs)"
   ]
  },
  {
   "cell_type": "code",
   "execution_count": 134,
   "metadata": {},
   "outputs": [
    {
     "data": {
      "text/plain": [
       "0.0046340227127075195"
      ]
     },
     "execution_count": 134,
     "metadata": {},
     "output_type": "execute_result"
    }
   ],
   "source": [
    "min(women_diffs)"
   ]
  },
  {
   "cell_type": "code",
   "execution_count": 135,
   "metadata": {},
   "outputs": [
    {
     "data": {
      "text/plain": [
       "0.031498931645416554"
      ]
     },
     "execution_count": 135,
     "metadata": {},
     "output_type": "execute_result"
    }
   ],
   "source": [
    "np.std(women_diffs)"
   ]
  },
  {
   "cell_type": "code",
   "execution_count": 136,
   "metadata": {},
   "outputs": [
    {
     "data": {
      "text/plain": [
       "0.0009921826948026244"
      ]
     },
     "execution_count": 136,
     "metadata": {},
     "output_type": "execute_result"
    }
   ],
   "source": [
    "np.var(women_diffs)"
   ]
  },
  {
   "cell_type": "code",
   "execution_count": 137,
   "metadata": {},
   "outputs": [
    {
     "data": {
      "text/plain": [
       "-0.018680965273920977"
      ]
     },
     "execution_count": 137,
     "metadata": {},
     "output_type": "execute_result"
    }
   ],
   "source": [
    "np.std(scientif_diffs) - np.std(women_diffs)"
   ]
  },
  {
   "cell_type": "code",
   "execution_count": 140,
   "metadata": {},
   "outputs": [
    {
     "data": {
      "text/plain": [
       "-0.0008278824329018328"
      ]
     },
     "execution_count": 140,
     "metadata": {},
     "output_type": "execute_result"
    }
   ],
   "source": [
    "np.var(scientif_diffs) - np.var(women_diffs)"
   ]
  },
  {
   "cell_type": "code",
   "execution_count": 138,
   "metadata": {},
   "outputs": [
    {
     "data": {
      "text/plain": [
       "-0.1396620273590088"
      ]
     },
     "execution_count": 138,
     "metadata": {},
     "output_type": "execute_result"
    }
   ],
   "source": [
    "max(scientif_diffs) - max(women_diffs)"
   ]
  },
  {
   "cell_type": "code",
   "execution_count": 139,
   "metadata": {},
   "outputs": [
    {
     "data": {
      "text/plain": [
       "0.008727729320526123"
      ]
     },
     "execution_count": 139,
     "metadata": {},
     "output_type": "execute_result"
    }
   ],
   "source": [
    "min(scientif_diffs) - min(women_diffs)"
   ]
  },
  {
   "cell_type": "code",
   "execution_count": 141,
   "metadata": {},
   "outputs": [],
   "source": [
    "# saving data\n",
    "with open('scientif_diffs.txt', 'w') as f:\n",
    "    for diff in scientif_diffs:\n",
    "        f.write(str(diff))\n",
    "        f.write(\"\\n\")"
   ]
  },
  {
   "cell_type": "code",
   "execution_count": 142,
   "metadata": {},
   "outputs": [],
   "source": [
    "with open('women_diffs.txt', 'w') as f:\n",
    "    for diff in women_diffs:\n",
    "        f.write(str(diff))\n",
    "        f.write(\"\\n\")"
   ]
  },
  {
   "cell_type": "code",
   "execution_count": 143,
   "metadata": {},
   "outputs": [],
   "source": [
    "woman_diffs = []\n",
    "for i in range(200):\n",
    "    for j in range(200):\n",
    "        if i != j:\n",
    "            woman_diffs.append(cosine(fox_models_100[i]['woman'], fox_models_100[j]['woman']))"
   ]
  },
  {
   "cell_type": "code",
   "execution_count": 144,
   "metadata": {},
   "outputs": [
    {
     "data": {
      "text/plain": [
       "0.2022518515586853"
      ]
     },
     "execution_count": 144,
     "metadata": {},
     "output_type": "execute_result"
    }
   ],
   "source": [
    "max(woman_diffs)"
   ]
  },
  {
   "cell_type": "code",
   "execution_count": 145,
   "metadata": {},
   "outputs": [
    {
     "data": {
      "text/plain": [
       "0.006748974323272705"
      ]
     },
     "execution_count": 145,
     "metadata": {},
     "output_type": "execute_result"
    }
   ],
   "source": [
    "min(woman_diffs)"
   ]
  },
  {
   "cell_type": "code",
   "execution_count": 146,
   "metadata": {},
   "outputs": [
    {
     "data": {
      "text/plain": [
       "0.02433671712343692"
      ]
     },
     "execution_count": 146,
     "metadata": {},
     "output_type": "execute_result"
    }
   ],
   "source": [
    "np.std(woman_diffs)"
   ]
  },
  {
   "cell_type": "code",
   "execution_count": 147,
   "metadata": {},
   "outputs": [
    {
     "data": {
      "text/plain": [
       "0.0005922758003461878"
      ]
     },
     "execution_count": 147,
     "metadata": {},
     "output_type": "execute_result"
    }
   ],
   "source": [
    "np.var(woman_diffs)"
   ]
  },
  {
   "cell_type": "code",
   "execution_count": 150,
   "metadata": {},
   "outputs": [
    {
     "data": {
      "text/plain": [
       "-0.017973363399505615"
      ]
     },
     "execution_count": 150,
     "metadata": {},
     "output_type": "execute_result"
    }
   ],
   "source": [
    "max(woman_diffs) - max(women_diffs)"
   ]
  },
  {
   "cell_type": "code",
   "execution_count": 151,
   "metadata": {},
   "outputs": [
    {
     "data": {
      "text/plain": [
       "0.0021149516105651855"
      ]
     },
     "execution_count": 151,
     "metadata": {},
     "output_type": "execute_result"
    }
   ],
   "source": [
    "min(woman_diffs) - min(women_diffs)"
   ]
  },
  {
   "cell_type": "code",
   "execution_count": 152,
   "metadata": {},
   "outputs": [
    {
     "data": {
      "text/plain": [
       "-0.007162214521979633"
      ]
     },
     "execution_count": 152,
     "metadata": {},
     "output_type": "execute_result"
    }
   ],
   "source": [
    "np.std(woman_diffs) - np.std(women_diffs)"
   ]
  },
  {
   "cell_type": "code",
   "execution_count": 153,
   "metadata": {},
   "outputs": [
    {
     "data": {
      "text/plain": [
       "-0.00039990689445643655"
      ]
     },
     "execution_count": 153,
     "metadata": {},
     "output_type": "execute_result"
    }
   ],
   "source": [
    "np.var(woman_diffs) - np.var(women_diffs)"
   ]
  },
  {
   "cell_type": "code",
   "execution_count": 154,
   "metadata": {},
   "outputs": [],
   "source": [
    "with open('woman_diffs.txt', 'w') as f:\n",
    "    for diff in woman_diffs:\n",
    "        f.write(str(diff))\n",
    "        f.write(\"\\n\")"
   ]
  },
  {
   "cell_type": "code",
   "execution_count": 172,
   "metadata": {},
   "outputs": [
    {
     "data": {
      "text/plain": [
       "(array([8.600e+01, 6.020e+02, 1.546e+03, 2.178e+03, 2.694e+03, 3.614e+03,\n",
       "        5.988e+03, 7.484e+03, 6.532e+03, 4.380e+03, 2.406e+03, 1.164e+03,\n",
       "        5.620e+02, 2.460e+02, 1.460e+02, 8.400e+01, 6.000e+01, 1.800e+01,\n",
       "        6.000e+00, 4.000e+00]),\n",
       " array([0.00674897, 0.01652412, 0.02629926, 0.03607441, 0.04584955,\n",
       "        0.05562469, 0.06539984, 0.07517498, 0.08495013, 0.09472527,\n",
       "        0.10450041, 0.11427556, 0.1240507 , 0.13382584, 0.14360099,\n",
       "        0.15337613, 0.16315128, 0.17292642, 0.18270156, 0.19247671,\n",
       "        0.20225185]),\n",
       " <a list of 20 Patch objects>)"
      ]
     },
     "execution_count": 172,
     "metadata": {},
     "output_type": "execute_result"
    },
    {
     "data": {
      "image/png": "[encoded data removed]",
      "text/plain": [
       "<matplotlib.figure.Figure at 0x1d60c29c88>"
      ]
     },
     "metadata": {},
     "output_type": "display_data"
    }
   ],
   "source": [
    "# Distributions of Differnce between models vectors for the word 'woman', 200 iterations\n",
    "from matplotlib.pyplot import hist\n",
    "\n",
    "hist(woman_diffs, bins=20)\n",
    "# word count for woman is 171"
   ]
  },
  {
   "cell_type": "code",
   "execution_count": 173,
   "metadata": {},
   "outputs": [
    {
     "data": {
      "text/plain": [
       "(array([ 388., 1614., 1478., 1106., 1862., 2998., 4816., 7432., 6728.,\n",
       "        4448., 2724., 1700., 1060.,  610.,  376.,  230.,  128.,   66.,\n",
       "          20.,   16.]),\n",
       " array([0.00463402, 0.01541358, 0.02619314, 0.0369727 , 0.04775226,\n",
       "        0.05853182, 0.06931138, 0.08009094, 0.0908705 , 0.10165006,\n",
       "        0.11242962, 0.12320918, 0.13398874, 0.1447683 , 0.15554786,\n",
       "        0.16632742, 0.17710698, 0.18788654, 0.1986661 , 0.20944566,\n",
       "        0.22022521]),\n",
       " <a list of 20 Patch objects>)"
      ]
     },
     "execution_count": 173,
     "metadata": {},
     "output_type": "execute_result"
    },
    {
     "data": {
      "image/png": "[encoded data removed]",
      "text/plain": [
       "<matplotlib.figure.Figure at 0x1d609f4518>"
      ]
     },
     "metadata": {},
     "output_type": "display_data"
    }
   ],
   "source": [
    "# Distributions of Differnce between models vectors for the word 'women'\n",
    "hist(women_diffs, bins=20)\n",
    "# word count for women 806"
   ]
  },
  {
   "cell_type": "code",
   "execution_count": 174,
   "metadata": {},
   "outputs": [
    {
     "data": {
      "text/plain": [
       "(array([ 3.,  1.,  6., 10., 14., 19., 14., 11., 17., 17., 16., 21., 24.,\n",
       "        15.,  4.,  3.,  2.,  1.,  0.,  2.]),\n",
       " array([0.01336175, 0.01672182, 0.0200819 , 0.02344197, 0.02680204,\n",
       "        0.03016211, 0.03352218, 0.03688225, 0.04024233, 0.0436024 ,\n",
       "        0.04696247, 0.05032254, 0.05368261, 0.05704269, 0.06040276,\n",
       "        0.06376283, 0.0671229 , 0.07048297, 0.07384304, 0.07720312,\n",
       "        0.08056319]),\n",
       " <a list of 20 Patch objects>)"
      ]
     },
     "execution_count": 174,
     "metadata": {},
     "output_type": "execute_result"
    },
    {
     "data": {
      "image/png": "[encoded data removed]",
      "text/plain": [
       "<matplotlib.figure.Figure at 0x1d60d0d4a8>"
      ]
     },
     "metadata": {},
     "output_type": "display_data"
    }
   ],
   "source": [
    "# Distributions of Differnce between models vectors for the word 'scientif'\n",
    "hist(scientif_diffs, bins=20)\n",
    "# word count for scientif is 137"
   ]
  },
  {
   "cell_type": "code",
   "execution_count": 175,
   "metadata": {},
   "outputs": [
    {
     "data": {
      "text/plain": [
       "(array([ 4.,  5.,  6.,  9., 10., 13., 21., 19., 27., 22., 14., 17.,  8.,\n",
       "         8.,  4.,  3.,  0.,  6.,  1.,  3.]),\n",
       " array([0.03328913, 0.04042813, 0.04756712, 0.05470611, 0.0618451 ,\n",
       "        0.06898409, 0.07612308, 0.08326207, 0.09040107, 0.09754006,\n",
       "        0.10467905, 0.11181804, 0.11895703, 0.12609602, 0.13323501,\n",
       "        0.140374  , 0.147513  , 0.15465199, 0.16179098, 0.16892997,\n",
       "        0.17606896]),\n",
       " <a list of 20 Patch objects>)"
      ]
     },
     "execution_count": 175,
     "metadata": {},
     "output_type": "execute_result"
    },
    {
     "data": {
      "image/png": "[encoded data removed]",
      "text/plain": [
       "<matplotlib.figure.Figure at 0x1d60dc0710>"
      ]
     },
     "metadata": {},
     "output_type": "display_data"
    }
   ],
   "source": [
    "# Distribution of the amount of difference between each model's \n",
    "# distance between vectors for man and scientific vs woman and scientific (200 models)\n",
    "hist(bais_scientif_diffs_100, bins =20)"
   ]
  },
  {
   "cell_type": "code",
   "execution_count": 176,
   "metadata": {},
   "outputs": [
    {
     "data": {
      "text/plain": [
       "(array([ 1.,  1.,  2.,  4.,  8., 14., 15., 25., 21., 19., 25., 24., 18.,\n",
       "         9.,  6.,  6.,  0.,  1.,  0.,  1.]),\n",
       " array([-0.03060982, -0.01834961, -0.00608941,  0.0061708 ,  0.018431  ,\n",
       "         0.03069121,  0.04295141,  0.05521162,  0.06747182,  0.07973202,\n",
       "         0.09199223,  0.10425243,  0.11651264,  0.12877284,  0.14103305,\n",
       "         0.15329325,  0.16555346,  0.17781366,  0.19007387,  0.20233407,\n",
       "         0.21459427]),\n",
       " <a list of 20 Patch objects>)"
      ]
     },
     "execution_count": 176,
     "metadata": {},
     "output_type": "execute_result"
    },
    {
     "data": {
      "image/png": "[encoded data removed]",
      "text/plain": [
       "<matplotlib.figure.Figure at 0x1d60ff83c8>"
      ]
     },
     "metadata": {},
     "output_type": "display_data"
    }
   ],
   "source": [
    "# Distribution of the amount of difference between each model's \n",
    "# distance between vectors for man and genius vs woman and genius (200 models)\n",
    "hist(bais_genius_diffs_100, bins=20)"
   ]
  },
  {
   "cell_type": "code",
   "execution_count": null,
   "metadata": {},
   "outputs": [],
   "source": [
    "# increase number of models \n",
    "for i in range(509):  # stoped at 509\n",
    "    fox_models_100.append(Word2Vec(fox_docs, min_count=1, size=300)) # now it has 709"
   ]
  },
  {
   "cell_type": "code",
   "execution_count": 180,
   "metadata": {},
   "outputs": [
    {
     "data": {
      "text/plain": [
       "709"
      ]
     },
     "execution_count": 180,
     "metadata": {},
     "output_type": "execute_result"
    }
   ],
   "source": [
    "len(fox_models_100)"
   ]
  },
  {
   "cell_type": "code",
   "execution_count": 181,
   "metadata": {},
   "outputs": [],
   "source": [
    "bais_genius_diffs_709  = bais_genius_diffs_100\n",
    "bais_scientif_diffs_709 = bais_scientif_diffs_100 \n",
    "\n",
    "for model in fox_models_100[200:]:\n",
    "    bais_genius_diffs_709.append(bais_genius(model))\n",
    "    bais_scientif_diffs_709.append(bais_scientific(model))"
   ]
  },
  {
   "cell_type": "code",
   "execution_count": 183,
   "metadata": {},
   "outputs": [
    {
     "data": {
      "text/plain": [
       "(array([ 1.,  4.,  5., 13., 20., 38., 61., 71., 80., 75., 80., 89., 62.,\n",
       "        45., 31., 23.,  4.,  5.,  1.,  1.]),\n",
       " array([-0.04550368, -0.03249878, -0.01949388, -0.00648898,  0.00651591,\n",
       "         0.01952081,  0.03252571,  0.04553061,  0.0585355 ,  0.0715404 ,\n",
       "         0.0845453 ,  0.0975502 ,  0.11055509,  0.12355999,  0.13656489,\n",
       "         0.14956979,  0.16257468,  0.17557958,  0.18858448,  0.20158938,\n",
       "         0.21459427]),\n",
       " <a list of 20 Patch objects>)"
      ]
     },
     "execution_count": 183,
     "metadata": {},
     "output_type": "execute_result"
    },
    {
     "data": {
      "image/png": "[encoded data removed]",
      "text/plain": [
       "<matplotlib.figure.Figure at 0x24f7d6e278>"
      ]
     },
     "metadata": {},
     "output_type": "display_data"
    }
   ],
   "source": [
    "hist(bais_genius_diffs_709, bins=20)"
   ]
  },
  {
   "cell_type": "code",
   "execution_count": 184,
   "metadata": {},
   "outputs": [
    {
     "data": {
      "text/plain": [
       "(array([ 2.,  4., 10., 16., 34., 42., 66., 81., 98., 83., 73., 54., 54.,\n",
       "        40., 23.,  9.,  8.,  6.,  2.,  4.]),\n",
       " array([0.02001894, 0.02782144, 0.03562394, 0.04342644, 0.05122894,\n",
       "        0.05903144, 0.06683394, 0.07463644, 0.08243895, 0.09024145,\n",
       "        0.09804395, 0.10584645, 0.11364895, 0.12145145, 0.12925395,\n",
       "        0.13705646, 0.14485896, 0.15266146, 0.16046396, 0.16826646,\n",
       "        0.17606896]),\n",
       " <a list of 20 Patch objects>)"
      ]
     },
     "execution_count": 184,
     "metadata": {},
     "output_type": "execute_result"
    },
    {
     "data": {
      "image/png": "[encoded data removed]",
      "text/plain": [
       "<matplotlib.figure.Figure at 0x24f81bc5c0>"
      ]
     },
     "metadata": {},
     "output_type": "display_data"
    }
   ],
   "source": [
    "hist(bais_scientif_diffs_709, bins=20)"
   ]
  },
  {
   "cell_type": "code",
   "execution_count": 186,
   "metadata": {},
   "outputs": [],
   "source": [
    "for i in range(291):  # stoped at 709 models\n",
    "    fox_models_100.append(Word2Vec(fox_docs, min_count=1, size=300))"
   ]
  },
  {
   "cell_type": "code",
   "execution_count": 187,
   "metadata": {},
   "outputs": [],
   "source": [
    "bais_genius_diffs_1000  = bais_genius_diffs_709\n",
    "bais_scientif_diffs_1000 = bais_scientif_diffs_709 \n",
    "\n",
    "for model in fox_models_100[709:]:\n",
    "    bais_genius_diffs_1000.append(bais_genius(model))\n",
    "    bais_scientif_diffs_1000.append(bais_scientific(model))"
   ]
  },
  {
   "cell_type": "code",
   "execution_count": 190,
   "metadata": {},
   "outputs": [
    {
     "data": {
      "text/plain": [
       "(array([ 1.,  1.,  4.,  1.,  4., 14., 10., 16., 31., 43., 56., 59., 81.,\n",
       "        71., 82., 64., 92., 91., 66., 61., 35., 43., 27., 24., 12.,  5.,\n",
       "         3.,  2.,  0.,  1.]),\n",
       " array([-0.05617249, -0.04714693, -0.03812137, -0.02909581, -0.02007025,\n",
       "        -0.0110447 , -0.00201914,  0.00700642,  0.01603198,  0.02505754,\n",
       "         0.0340831 ,  0.04310866,  0.05213422,  0.06115977,  0.07018533,\n",
       "         0.07921089,  0.08823645,  0.09726201,  0.10628757,  0.11531313,\n",
       "         0.12433869,  0.13336425,  0.1423898 ,  0.15141536,  0.16044092,\n",
       "         0.16946648,  0.17849204,  0.1875176 ,  0.19654316,  0.20556872,\n",
       "         0.21459427]),\n",
       " <a list of 30 Patch objects>)"
      ]
     },
     "execution_count": 190,
     "metadata": {},
     "output_type": "execute_result"
    },
    {
     "data": {
      "image/png": "[encoded data removed]",
      "text/plain": [
       "<matplotlib.figure.Figure at 0x294ca1fbe0>"
      ]
     },
     "metadata": {},
     "output_type": "display_data"
    }
   ],
   "source": [
    "hist(bais_genius_diffs_1000, bins=30)"
   ]
  },
  {
   "cell_type": "code",
   "execution_count": 191,
   "metadata": {},
   "outputs": [
    {
     "data": {
      "text/plain": [
       "(array([ 1.,  3.,  4.,  8., 17., 11., 30., 35., 41., 59., 67., 72., 92.,\n",
       "        82., 72., 75., 62., 48., 55., 37., 37., 30., 18., 15., 12.,  4.,\n",
       "         6.,  1.,  2.,  4.]),\n",
       " array([0.02001894, 0.0252206 , 0.03042227, 0.03562394, 0.04082561,\n",
       "        0.04602727, 0.05122894, 0.05643061, 0.06163228, 0.06683394,\n",
       "        0.07203561, 0.07723728, 0.08243895, 0.08764061, 0.09284228,\n",
       "        0.09804395, 0.10324562, 0.10844728, 0.11364895, 0.11885062,\n",
       "        0.12405229, 0.12925395, 0.13445562, 0.13965729, 0.14485896,\n",
       "        0.15006062, 0.15526229, 0.16046396, 0.16566563, 0.17086729,\n",
       "        0.17606896]),\n",
       " <a list of 30 Patch objects>)"
      ]
     },
     "execution_count": 191,
     "metadata": {},
     "output_type": "execute_result"
    },
    {
     "data": {
      "image/png": "[encoded data removed]",
      "text/plain": [
       "<matplotlib.figure.Figure at 0x294ca64198>"
      ]
     },
     "metadata": {},
     "output_type": "display_data"
    }
   ],
   "source": [
    "hist(bais_scientif_diffs_1000, bins=30)"
   ]
  }
 ],
 "metadata": {
  "kernelspec": {
   "display_name": "Python 3",
   "language": "python",
   "name": "python3"
  },
  "language_info": {
   "codemirror_mode": {
    "name": "ipython",
    "version": 3
   },
   "file_extension": ".py",
   "mimetype": "text/x-python",
   "name": "python",
   "nbconvert_exporter": "python",
   "pygments_lexer": "ipython3",
   "version": "3.6.6"
  }
 },
 "nbformat": 4,
 "nbformat_minor": 2
}
