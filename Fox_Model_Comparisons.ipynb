{
 "cells": [
  {
   "cell_type": "code",
   "execution_count": 23,
   "metadata": {},
   "outputs": [],
   "source": [
    "import gensim\n",
    "import os\n",
    "import codecs\n",
    "import re\n",
    "import string\n",
    "import io\n",
    "import numpy as np\n",
    "import warnings\n",
    "warnings.filterwarnings('ignore')"
   ]
  },
  {
   "cell_type": "code",
   "execution_count": 24,
   "metadata": {},
   "outputs": [],
   "source": [
    "# formating corpus\n",
    "os.chdir('/Users/7of9/Documents/Word2Vec/')\n",
    "f = open('FOX/DocList.txt', 'r')\n",
    "fox_list = f.readlines()\n",
    "os.chdir('FOX/')\n",
    "fox_files = []\n",
    "for file in fox_list:\n",
    "    file = file.split(\"\\\\\")[0] + \"/\" + file.split(\"\\\\\")[1]\n",
    "    file = file.replace(\"\\n\", \"\")\n",
    "    fox_files.append(file)\n"
   ]
  },
  {
   "cell_type": "code",
   "execution_count": 27,
   "metadata": {},
   "outputs": [],
   "source": [
    "import nltk\n",
    "from nltk.stem.porter import *\n",
    "\n",
    "def words(text):\n",
    "    regex = re.compile('[' + '–' + re.escape(string.punctuation) + '0-9\\\\r\\\\t\\\\n]')   \n",
    "    text = regex.sub(\" \", text)\n",
    "    words = text.split()\n",
    "    wordsL = [word.lower() for word in words]\n",
    "    stemmer = PorterStemmer()\n",
    "    stemmed = [stemmer.stem(word) for word in wordsL]\n",
    "    return(stemmed)"
   ]
  },
  {
   "cell_type": "code",
   "execution_count": 29,
   "metadata": {},
   "outputs": [],
   "source": [
    "# https://stackoverflow.com/questions/7691514/extracting-text-from-xml-using-python\n",
    "# preparing corpus for Word2Vec\n",
    "from xml.etree import cElementTree as ET\n",
    "from bs4 import BeautifulSoup\n",
    "\n",
    "#os.chdir('Raw/')\n",
    "fox_docs = []\n",
    "for text in fox_files[20:]:\n",
    "    with open(text) as f:\n",
    "        soup = BeautifulSoup(f, 'xml')\n",
    "    content = soup.find_all('TEXT')\n",
    "    fox_docs.append(words(str(content).replace('TEXT', '')))"
   ]
  },
  {
   "cell_type": "code",
   "execution_count": 50,
   "metadata": {},
   "outputs": [],
   "source": [
    "# Creating Multiple Word2Vec Models\n",
    "from gensim.models import Word2Vec\n",
    "\n",
    "fox_models = []\n",
    "for i in range(10):\n",
    "    fox_models.append(Word2Vec(fox_docs, min_count=1, size=300))"
   ]
  },
  {
   "cell_type": "code",
   "execution_count": 51,
   "metadata": {},
   "outputs": [
    {
     "data": {
      "text/plain": [
       "array([ 0.04063547,  0.01316679, -0.00557441, -0.06230384, -0.0132723 ,\n",
       "       -0.02259594,  0.04358752,  0.03321808,  0.04466537,  0.08241895,\n",
       "       -0.03553206,  0.05473089,  0.10403603, -0.04959665, -0.02707661,\n",
       "        0.0314827 ,  0.04837343, -0.14079328,  0.02665066, -0.0482365 ,\n",
       "        0.01357561,  0.0242806 , -0.12222427, -0.10770872, -0.04159199,\n",
       "        0.12560417, -0.03541125, -0.15054551, -0.04977736, -0.09915876,\n",
       "        0.08531117, -0.06451252, -0.0250667 , -0.00303152,  0.08958578,\n",
       "        0.06255117, -0.01242691,  0.06055062, -0.02829386, -0.11695766,\n",
       "        0.00347739,  0.00065887, -0.0292082 ,  0.00186145,  0.010423  ,\n",
       "        0.07236429,  0.0345329 ,  0.00892127,  0.02496287,  0.02605209,\n",
       "        0.13989684, -0.00429447, -0.00018508,  0.06162474, -0.07254846,\n",
       "       -0.09879389, -0.04704352,  0.02212003,  0.01781655, -0.01520075,\n",
       "       -0.07433799,  0.05223632, -0.09191015,  0.00018296, -0.02788164,\n",
       "        0.04892144, -0.05730559, -0.0453511 , -0.03185068,  0.0436341 ,\n",
       "       -0.04267243, -0.02635783,  0.0227821 ,  0.01953292, -0.01554151,\n",
       "        0.02086592,  0.00924301, -0.00948391, -0.04217737,  0.03080483,\n",
       "       -0.03470987, -0.00260581,  0.08689034, -0.02299456,  0.04174231,\n",
       "       -0.02416058,  0.03583604, -0.0372261 ,  0.01217002, -0.09808764,\n",
       "        0.01356152, -0.07507975,  0.06565964, -0.04903032,  0.02148885,\n",
       "       -0.02537221,  0.01470877,  0.00954661, -0.02861389,  0.08347181,\n",
       "        0.0211301 , -0.03394562, -0.00388868,  0.01951487,  0.05455205,\n",
       "       -0.04240492,  0.0459165 ,  0.04889208, -0.1015745 , -0.09458289,\n",
       "       -0.04076892, -0.03986604, -0.00207633,  0.02885318, -0.09506036,\n",
       "        0.02370214, -0.00977947, -0.12199824, -0.04585204,  0.00048947,\n",
       "       -0.04532159, -0.10425983, -0.00030828,  0.01227781, -0.12266999,\n",
       "        0.09552928,  0.05794513,  0.03473984, -0.01787272, -0.03588177,\n",
       "       -0.02088419, -0.03499689,  0.061672  , -0.04720341, -0.01382302,\n",
       "       -0.03170176, -0.04931292, -0.03800136,  0.02427356, -0.01185919,\n",
       "        0.01248314,  0.04041658, -0.0286662 , -0.01682411, -0.01024256,\n",
       "       -0.02762226, -0.02364112, -0.04544941, -0.063865  ,  0.06777257,\n",
       "        0.07004099,  0.01282403,  0.11603183, -0.02054563, -0.01003854,\n",
       "       -0.11801009,  0.05424258, -0.01639271,  0.04110743, -0.0283106 ,\n",
       "       -0.07356726,  0.0159063 ,  0.08605145,  0.01933688, -0.03899287,\n",
       "        0.05452329,  0.00049324, -0.00209564, -0.10453948, -0.03108935,\n",
       "       -0.00215864,  0.06377892,  0.03231831, -0.00051376, -0.04167696,\n",
       "        0.00356734, -0.11303753,  0.05419609, -0.04557154, -0.01268555,\n",
       "        0.06816295, -0.0441225 , -0.06310099,  0.03410321,  0.01905018,\n",
       "        0.00948635,  0.03551659,  0.02295788,  0.02211514,  0.09765771,\n",
       "       -0.05409223,  0.02112181,  0.01003563,  0.04366604,  0.04532775,\n",
       "        0.05596334, -0.03232725,  0.00633885,  0.02928089,  0.01044269,\n",
       "       -0.00949867, -0.03566083,  0.01905328,  0.02365078, -0.00593176,\n",
       "        0.03054233,  0.08020505, -0.07988925,  0.07641356, -0.01365905,\n",
       "       -0.04149892, -0.06103408, -0.12689856, -0.02876963, -0.02567022,\n",
       "       -0.00227326, -0.00194567,  0.01355764,  0.04822041,  0.01678297,\n",
       "       -0.03705066,  0.01595394, -0.06776941, -0.0662162 , -0.01872298,\n",
       "        0.03344443, -0.02819398,  0.03900503, -0.11127989, -0.00987514,\n",
       "       -0.04378745, -0.03359922,  0.00361292,  0.03249253,  0.07763219,\n",
       "       -0.0107934 ,  0.04073524, -0.10435897, -0.09969255,  0.04817712,\n",
       "        0.05604579, -0.03051674,  0.04951775,  0.09802583,  0.06915155,\n",
       "        0.03405626,  0.02837367, -0.05783971,  0.03337418,  0.07143766,\n",
       "        0.02528509,  0.04502859, -0.03977929,  0.03000793, -0.04241655,\n",
       "        0.01439309, -0.10562441,  0.03733723, -0.00867474, -0.0250558 ,\n",
       "        0.0432189 , -0.01671401, -0.03040346, -0.05060875, -0.03450479,\n",
       "       -0.0230819 , -0.06555487,  0.00211233,  0.0695814 ,  0.05044305,\n",
       "       -0.04530342, -0.01784465, -0.03008918,  0.05101295, -0.07720938,\n",
       "       -0.0346596 , -0.01372807,  0.00521206,  0.02815094,  0.032653  ,\n",
       "       -0.04032191,  0.02282236, -0.01722292, -0.03535801, -0.02515583,\n",
       "        0.0152725 , -0.00995109, -0.01979958, -0.03518956,  0.02809399,\n",
       "        0.09566408, -0.05985491,  0.03961083,  0.01804355,  0.042567  ,\n",
       "        0.04477674,  0.01599377, -0.03102192, -0.07281443, -0.04839739],\n",
       "      dtype=float32)"
      ]
     },
     "execution_count": 51,
     "metadata": {},
     "output_type": "execute_result"
    }
   ],
   "source": [
    "# Difference in the vector for king from model 0 to model 1\n",
    "np.subtract(fox_models[0]['king'],fox_models[1]['king'])"
   ]
  },
  {
   "cell_type": "code",
   "execution_count": null,
   "metadata": {},
   "outputs": [],
   "source": [
    "# words in model\n",
    "words = list(fox_models[0].wv.vocab)\n",
    "print(words)"
   ]
  },
  {
   "cell_type": "code",
   "execution_count": 52,
   "metadata": {},
   "outputs": [],
   "source": [
    "# Creating a measurement of distance between vectors for man and genius vs woman and genius\n",
    "from scipy.spatial.distance import cosine\n",
    "\n",
    "def bais_genius(model):\n",
    "    man_diff = cosine(model['man'], model['geniu']) # Porter Stemmer for Genius\n",
    "    woman_diff = cosine(model['woman'], model['geniu'])\n",
    "    return man_diff - woman_diff"
   ]
  },
  {
   "cell_type": "code",
   "execution_count": 53,
   "metadata": {},
   "outputs": [
    {
     "data": {
      "text/plain": [
       "[0.02350810170173645,\n",
       " 0.08249592781066895,\n",
       " 0.10686850547790527,\n",
       " 0.08221328258514404,\n",
       " 0.14302611351013184,\n",
       " 0.12809205055236816,\n",
       " 0.017285585403442383,\n",
       " 0.11719155311584473,\n",
       " 0.09974968433380127,\n",
       " 0.02854815125465393]"
      ]
     },
     "execution_count": 53,
     "metadata": {},
     "output_type": "execute_result"
    }
   ],
   "source": [
    "bais_genius_diffs = []\n",
    "for model in fox_models:\n",
    "    bais_genius_diffs.append(bais_genius(model))\n",
    "bais_genius_diffs\n",
    "# the word genius appears less than five times in this corpus so more variable "
   ]
  },
  {
   "cell_type": "code",
   "execution_count": 54,
   "metadata": {},
   "outputs": [],
   "source": [
    "# Creating a measurement of distance between vectors for man and scientific vs woman and scientific\n",
    "def bais_scientific(model):\n",
    "    man_diff = cosine(model['man'], model['scientif'])\n",
    "    woman_diff = cosine(model['woman'], model['scientif'])\n",
    "    return man_diff - woman_diff"
   ]
  },
  {
   "cell_type": "code",
   "execution_count": 55,
   "metadata": {},
   "outputs": [
    {
     "data": {
      "text/plain": [
       "[0.09267503023147583,\n",
       " 0.1108025312423706,\n",
       " 0.08360707759857178,\n",
       " 0.07212823629379272,\n",
       " 0.05978953838348389,\n",
       " 0.08282989263534546,\n",
       " 0.07420730590820312,\n",
       " 0.09893792867660522,\n",
       " 0.09830725193023682,\n",
       " 0.07714188098907471]"
      ]
     },
     "execution_count": 55,
     "metadata": {},
     "output_type": "execute_result"
    }
   ],
   "source": [
    "bais_scientif_diffs = []\n",
    "for model in fox_models:\n",
    "    bais_scientif_diffs.append(bais_scientific(model))\n",
    "bais_scientif_diffs"
   ]
  },
  {
   "cell_type": "code",
   "execution_count": 66,
   "metadata": {},
   "outputs": [
    {
     "name": "stdout",
     "output_type": "stream",
     "text": [
      "[('need', 0.8607437610626221)]\n",
      "[('galore—wil', 0.9423556327819824)]\n",
      "[('puriti', 0.9095423221588135)]\n",
      "[('cannot', 0.8990209102630615)]\n",
      "[('enigma', 0.8811341524124146)]\n",
      "[('pest', 0.9191004037857056)]\n",
      "[('truli', 0.8875516653060913)]\n",
      "[('selfish', 0.9042293429374695)]\n",
      "[('purveyor', 0.8641253113746643)]\n",
      "[('pretend', 0.8655644059181213)]\n"
     ]
    }
   ],
   "source": [
    "# variablity in models, the most similar word is never the same\n",
    "for model in fox_models:\n",
    "    results = model.most_similar(positive=['woman', 'geniu'], negative=['man'], topn=1)\n",
    "    print(results)"
   ]
  },
  {
   "cell_type": "code",
   "execution_count": 67,
   "metadata": {},
   "outputs": [
    {
     "name": "stdout",
     "output_type": "stream",
     "text": [
      "[('women’', 0.934119701385498)]\n",
      "[('basal', 0.9424046874046326)]\n",
      "[('literatur', 0.9356421232223511)]\n",
      "[('document', 0.924622118473053)]\n",
      "[('examin', 0.9318491220474243)]\n",
      "[('literatur', 0.9414931535720825)]\n",
      "[('statist', 0.9608193635940552)]\n",
      "[('seattle’', 0.9278523921966553)]\n",
      "[('examin', 0.9419289827346802)]\n",
      "[('amus', 0.9347630143165588)]\n"
     ]
    }
   ],
   "source": [
    "for model in fox_models:\n",
    "    results = model.most_similar(positive=['woman', 'scientif'], negative=['man'], topn=1)\n",
    "    print(results)"
   ]
  },
  {
   "cell_type": "code",
   "execution_count": 68,
   "metadata": {},
   "outputs": [
    {
     "name": "stdout",
     "output_type": "stream",
     "text": [
      "[('engin', 0.9406636953353882)]\n",
      "[('ikram', 0.9424094557762146)]\n",
      "[('project', 0.9208171367645264)]\n",
      "[('keppler', 0.9323422908782959)]\n",
      "[('novarti', 0.9330419898033142)]\n",
      "[('jehl', 0.9343219995498657)]\n",
      "[('confirm', 0.945823073387146)]\n",
      "[('ikram', 0.9446556568145752)]\n",
      "[('ibrahim', 0.9341367483139038)]\n",
      "[('mcinni', 0.9554709196090698)]\n"
     ]
    }
   ],
   "source": [
    "for model in fox_models:\n",
    "    results = model.most_similar(positive=['man', 'scientif'], negative=['woman'], topn=1)\n",
    "    print(results)"
   ]
  },
  {
   "cell_type": "code",
   "execution_count": 71,
   "metadata": {},
   "outputs": [],
   "source": [
    "# loading a old model from the same corpus \n",
    "os.chdir('/Users/7of9/Documents/Word2Vec/')\n",
    "old_model = Word2Vec.load('model.bin')"
   ]
  },
  {
   "cell_type": "code",
   "execution_count": 75,
   "metadata": {},
   "outputs": [],
   "source": [
    "fox_models[0].wv.save_word2vec_format('fox_model'+'0'+'.bin')"
   ]
  },
  {
   "cell_type": "code",
   "execution_count": 79,
   "metadata": {},
   "outputs": [
    {
     "data": {
      "text/plain": [
       "<bound method Word2Vec.save of <gensim.models.word2vec.Word2Vec object at 0x1a21c72860>>"
      ]
     },
     "execution_count": 79,
     "metadata": {},
     "output_type": "execute_result"
    }
   ],
   "source": [
    "fox_models[0].save"
   ]
  },
  {
   "cell_type": "code",
   "execution_count": 80,
   "metadata": {},
   "outputs": [],
   "source": [
    "fox_models_100 = []\n",
    "for i in range(100):\n",
    "    fox_models_100.append(Word2Vec(fox_docs, min_count=1, size=300))"
   ]
  },
  {
   "cell_type": "code",
   "execution_count": 86,
   "metadata": {},
   "outputs": [],
   "source": [
    "bais_genius_diffs_100 = []\n",
    "for model in fox_models_100:\n",
    "    bais_genius_diffs_100.append(bais_genius(model))"
   ]
  },
  {
   "cell_type": "code",
   "execution_count": 82,
   "metadata": {},
   "outputs": [
    {
     "data": {
      "text/plain": [
       "0.16247719526290894"
      ]
     },
     "execution_count": 82,
     "metadata": {},
     "output_type": "execute_result"
    }
   ],
   "source": [
    "max(bais_genius_diffs_100)"
   ]
  },
  {
   "cell_type": "code",
   "execution_count": 83,
   "metadata": {},
   "outputs": [
    {
     "data": {
      "text/plain": [
       "-0.030609816312789917"
      ]
     },
     "execution_count": 83,
     "metadata": {},
     "output_type": "execute_result"
    }
   ],
   "source": [
    "min(bais_genius_diffs_100)"
   ]
  },
  {
   "cell_type": "code",
   "execution_count": 85,
   "metadata": {},
   "outputs": [
    {
     "data": {
      "text/plain": [
       "0.03566310574402655"
      ]
     },
     "execution_count": 85,
     "metadata": {},
     "output_type": "execute_result"
    }
   ],
   "source": [
    "np.std(bais_genius_diffs_100)"
   ]
  },
  {
   "cell_type": "code",
   "execution_count": 88,
   "metadata": {},
   "outputs": [
    {
     "data": {
      "text/plain": [
       "0.0012718571113096192"
      ]
     },
     "execution_count": 88,
     "metadata": {},
     "output_type": "execute_result"
    }
   ],
   "source": [
    "np.var(bais_genius_diffs_100)"
   ]
  },
  {
   "cell_type": "code",
   "execution_count": 100,
   "metadata": {},
   "outputs": [],
   "source": [
    "bais_scientif_diffs_100 = []\n",
    "for model in fox_models_100:\n",
    "    bais_scientif_diffs_100.append(bais_scientific(model))"
   ]
  },
  {
   "cell_type": "code",
   "execution_count": 101,
   "metadata": {},
   "outputs": [
    {
     "data": {
      "text/plain": [
       "0.15680259466171265"
      ]
     },
     "execution_count": 101,
     "metadata": {},
     "output_type": "execute_result"
    }
   ],
   "source": [
    "max(bais_scientif_diffs_100)"
   ]
  },
  {
   "cell_type": "code",
   "execution_count": 102,
   "metadata": {},
   "outputs": [
    {
     "data": {
      "text/plain": [
       "0.03328913450241089"
      ]
     },
     "execution_count": 102,
     "metadata": {},
     "output_type": "execute_result"
    }
   ],
   "source": [
    "min(bais_scientif_diffs_100)"
   ]
  },
  {
   "cell_type": "code",
   "execution_count": 103,
   "metadata": {},
   "outputs": [
    {
     "data": {
      "text/plain": [
       "0.026718195016273597"
      ]
     },
     "execution_count": 103,
     "metadata": {},
     "output_type": "execute_result"
    }
   ],
   "source": [
    "np.std(bais_scientif_diffs_100)"
   ]
  },
  {
   "cell_type": "code",
   "execution_count": 104,
   "metadata": {},
   "outputs": [
    {
     "data": {
      "text/plain": [
       "0.0007138619449276273"
      ]
     },
     "execution_count": 104,
     "metadata": {},
     "output_type": "execute_result"
    }
   ],
   "source": [
    "np.var(bais_scientif_diffs_100)"
   ]
  },
  {
   "cell_type": "code",
   "execution_count": 105,
   "metadata": {},
   "outputs": [],
   "source": [
    "with open('fox_models_100_scientif_diffs.txt', 'w') as f:\n",
    "    for diff in bais_scientif_diffs_100:\n",
    "        f.write(str(diff))\n",
    "        f.write(\"\\n\")"
   ]
  },
  {
   "cell_type": "code",
   "execution_count": 106,
   "metadata": {},
   "outputs": [],
   "source": [
    "for i in range(100):\n",
    "    fox_models_100.append(Word2Vec(fox_docs, min_count=1, size=300)) # now it has 200"
   ]
  },
  {
   "cell_type": "code",
   "execution_count": 107,
   "metadata": {},
   "outputs": [],
   "source": [
    "for model in fox_models_100[100:]:\n",
    "    bais_genius_diffs_100.append(bais_genius(model))\n",
    "    bais_scientif_diffs_100.append(bais_scientific(model))"
   ]
  },
  {
   "cell_type": "code",
   "execution_count": 108,
   "metadata": {},
   "outputs": [],
   "source": [
    "with open('fox_models_100_scientif_diffs.txt', 'w') as f:\n",
    "    for diff in bais_scientif_diffs_100[100:]:\n",
    "        f.write(str(diff))\n",
    "        f.write(\"\\n\")"
   ]
  },
  {
   "cell_type": "code",
   "execution_count": 109,
   "metadata": {},
   "outputs": [],
   "source": [
    "with open('fox_models_100_genius_diffs.txt', 'w') as f:\n",
    "    for diff in bais_genius_diffs_100:\n",
    "        f.write(str(diff))\n",
    "        f.write(\"\\n\")"
   ]
  },
  {
   "cell_type": "code",
   "execution_count": 112,
   "metadata": {},
   "outputs": [
    {
     "data": {
      "text/plain": [
       "200"
      ]
     },
     "execution_count": 112,
     "metadata": {},
     "output_type": "execute_result"
    }
   ],
   "source": [
    "len(bais_scientif_diffs_100)"
   ]
  },
  {
   "cell_type": "code",
   "execution_count": 110,
   "metadata": {},
   "outputs": [
    {
     "data": {
      "text/plain": [
       "0.1760689616203308"
      ]
     },
     "execution_count": 110,
     "metadata": {},
     "output_type": "execute_result"
    }
   ],
   "source": [
    "# Changes with 200 distributions\n",
    "max(bais_scientif_diffs_100) # was 0.15680259466171265"
   ]
  },
  {
   "cell_type": "code",
   "execution_count": 111,
   "metadata": {},
   "outputs": [
    {
     "data": {
      "text/plain": [
       "0.03328913450241089"
      ]
     },
     "execution_count": 111,
     "metadata": {},
     "output_type": "execute_result"
    }
   ],
   "source": [
    "min(bais_scientif_diffs_100) # was 0.03328913450241089 (same)"
   ]
  },
  {
   "cell_type": "code",
   "execution_count": 113,
   "metadata": {},
   "outputs": [
    {
     "data": {
      "text/plain": [
       "0.028073732344559763"
      ]
     },
     "execution_count": 113,
     "metadata": {},
     "output_type": "execute_result"
    }
   ],
   "source": [
    "np.std(bais_scientif_diffs_100) # was 0.026718195016273597"
   ]
  },
  {
   "cell_type": "code",
   "execution_count": 115,
   "metadata": {},
   "outputs": [
    {
     "data": {
      "text/plain": [
       "0.0007881344477539809"
      ]
     },
     "execution_count": 115,
     "metadata": {},
     "output_type": "execute_result"
    }
   ],
   "source": [
    "np.var(bais_scientif_diffs_100) # was 0.0007138619449276273"
   ]
  },
  {
   "cell_type": "code",
   "execution_count": 116,
   "metadata": {},
   "outputs": [
    {
     "data": {
      "text/plain": [
       "0.2145942747592926"
      ]
     },
     "execution_count": 116,
     "metadata": {},
     "output_type": "execute_result"
    }
   ],
   "source": [
    "# Changes with 200 distributions\n",
    "max(bais_genius_diffs_100) # was 0.16247719526290894"
   ]
  },
  {
   "cell_type": "code",
   "execution_count": 117,
   "metadata": {},
   "outputs": [
    {
     "data": {
      "text/plain": [
       "-0.030609816312789917"
      ]
     },
     "execution_count": 117,
     "metadata": {},
     "output_type": "execute_result"
    }
   ],
   "source": [
    "min(bais_genius_diffs_100) # was 0.03328913450241089"
   ]
  },
  {
   "cell_type": "code",
   "execution_count": 118,
   "metadata": {},
   "outputs": [
    {
     "data": {
      "text/plain": [
       "0.038979631479938666"
      ]
     },
     "execution_count": 118,
     "metadata": {},
     "output_type": "execute_result"
    }
   ],
   "source": [
    "np.std(bais_genius_diffs_100) # was 0.03566310574402655"
   ]
  },
  {
   "cell_type": "code",
   "execution_count": 119,
   "metadata": {},
   "outputs": [
    {
     "data": {
      "text/plain": [
       "0.0015194116703118254"
      ]
     },
     "execution_count": 119,
     "metadata": {},
     "output_type": "execute_result"
    }
   ],
   "source": [
    "np.var(bais_genius_diffs_100) # was 0.0012718571113096192"
   ]
  },
  {
   "cell_type": "code",
   "execution_count": 123,
   "metadata": {},
   "outputs": [],
   "source": [
    "scientif_diffs = []\n",
    "for i in range(200):\n",
    "    for j in range(200):\n",
    "        if i != j:\n",
    "            scientif_diffs.append(cosine(fox_models_100[i]['scientif'], fox_models_100[j]['scientif']))"
   ]
  },
  {
   "cell_type": "code",
   "execution_count": 125,
   "metadata": {},
   "outputs": [
    {
     "data": {
      "text/plain": [
       "0.09829330444335938"
      ]
     },
     "execution_count": 125,
     "metadata": {},
     "output_type": "execute_result"
    }
   ],
   "source": [
    "max(scientif_diffs)"
   ]
  },
  {
   "cell_type": "code",
   "execution_count": 126,
   "metadata": {},
   "outputs": [
    {
     "data": {
      "text/plain": [
       "0.0018343329429626465"
      ]
     },
     "execution_count": 126,
     "metadata": {},
     "output_type": "execute_result"
    }
   ],
   "source": [
    "min(scientif_diffs)"
   ]
  },
  {
   "cell_type": "code",
   "execution_count": 127,
   "metadata": {},
   "outputs": [
    {
     "data": {
      "text/plain": [
       "0.014443872480739127"
      ]
     },
     "execution_count": 127,
     "metadata": {},
     "output_type": "execute_result"
    }
   ],
   "source": [
    "np.std(scientif_diffs)"
   ]
  },
  {
   "cell_type": "code",
   "execution_count": 128,
   "metadata": {},
   "outputs": [
    {
     "data": {
      "text/plain": [
       "0.00020862545223985306"
      ]
     },
     "execution_count": 128,
     "metadata": {},
     "output_type": "execute_result"
    }
   ],
   "source": [
    "np.var(scientif_diffs)"
   ]
  },
  {
   "cell_type": "code",
   "execution_count": 132,
   "metadata": {},
   "outputs": [],
   "source": [
    "women_diffs = []\n",
    "for i in range(200):\n",
    "    for j in range(200):\n",
    "        if i != j:\n",
    "            women_diffs.append(cosine(fox_models_100[i]['women'], fox_models_100[j]['women']))"
   ]
  },
  {
   "cell_type": "code",
   "execution_count": 133,
   "metadata": {},
   "outputs": [
    {
     "data": {
      "text/plain": [
       "0.22022521495819092"
      ]
     },
     "execution_count": 133,
     "metadata": {},
     "output_type": "execute_result"
    }
   ],
   "source": [
    "max(women_diffs)"
   ]
  },
  {
   "cell_type": "code",
   "execution_count": 134,
   "metadata": {},
   "outputs": [
    {
     "data": {
      "text/plain": [
       "0.0046340227127075195"
      ]
     },
     "execution_count": 134,
     "metadata": {},
     "output_type": "execute_result"
    }
   ],
   "source": [
    "min(women_diffs)"
   ]
  },
  {
   "cell_type": "code",
   "execution_count": 135,
   "metadata": {},
   "outputs": [
    {
     "data": {
      "text/plain": [
       "0.031498931645416554"
      ]
     },
     "execution_count": 135,
     "metadata": {},
     "output_type": "execute_result"
    }
   ],
   "source": [
    "np.std(women_diffs)"
   ]
  },
  {
   "cell_type": "code",
   "execution_count": 136,
   "metadata": {},
   "outputs": [
    {
     "data": {
      "text/plain": [
       "0.0009921826948026244"
      ]
     },
     "execution_count": 136,
     "metadata": {},
     "output_type": "execute_result"
    }
   ],
   "source": [
    "np.var(women_diffs)"
   ]
  },
  {
   "cell_type": "code",
   "execution_count": 137,
   "metadata": {},
   "outputs": [
    {
     "data": {
      "text/plain": [
       "-0.018680965273920977"
      ]
     },
     "execution_count": 137,
     "metadata": {},
     "output_type": "execute_result"
    }
   ],
   "source": [
    "np.std(scientif_diffs) - np.std(women_diffs)"
   ]
  },
  {
   "cell_type": "code",
   "execution_count": 140,
   "metadata": {},
   "outputs": [
    {
     "data": {
      "text/plain": [
       "-0.0008278824329018328"
      ]
     },
     "execution_count": 140,
     "metadata": {},
     "output_type": "execute_result"
    }
   ],
   "source": [
    "np.var(scientif_diffs) - np.var(women_diffs)"
   ]
  },
  {
   "cell_type": "code",
   "execution_count": 138,
   "metadata": {},
   "outputs": [
    {
     "data": {
      "text/plain": [
       "-0.1396620273590088"
      ]
     },
     "execution_count": 138,
     "metadata": {},
     "output_type": "execute_result"
    }
   ],
   "source": [
    "max(scientif_diffs) - max(women_diffs)"
   ]
  },
  {
   "cell_type": "code",
   "execution_count": 139,
   "metadata": {},
   "outputs": [
    {
     "data": {
      "text/plain": [
       "0.008727729320526123"
      ]
     },
     "execution_count": 139,
     "metadata": {},
     "output_type": "execute_result"
    }
   ],
   "source": [
    "min(scientif_diffs) - min(women_diffs)"
   ]
  },
  {
   "cell_type": "code",
   "execution_count": 141,
   "metadata": {},
   "outputs": [],
   "source": [
    "# saving data\n",
    "with open('scientif_diffs.txt', 'w') as f:\n",
    "    for diff in scientif_diffs:\n",
    "        f.write(str(diff))\n",
    "        f.write(\"\\n\")"
   ]
  },
  {
   "cell_type": "code",
   "execution_count": 142,
   "metadata": {},
   "outputs": [],
   "source": [
    "with open('women_diffs.txt', 'w') as f:\n",
    "    for diff in women_diffs:\n",
    "        f.write(str(diff))\n",
    "        f.write(\"\\n\")"
   ]
  },
  {
   "cell_type": "code",
   "execution_count": 143,
   "metadata": {},
   "outputs": [],
   "source": [
    "woman_diffs = []\n",
    "for i in range(200):\n",
    "    for j in range(200):\n",
    "        if i != j:\n",
    "            woman_diffs.append(cosine(fox_models_100[i]['woman'], fox_models_100[j]['woman']))"
   ]
  },
  {
   "cell_type": "code",
   "execution_count": 144,
   "metadata": {},
   "outputs": [
    {
     "data": {
      "text/plain": [
       "0.2022518515586853"
      ]
     },
     "execution_count": 144,
     "metadata": {},
     "output_type": "execute_result"
    }
   ],
   "source": [
    "max(woman_diffs)"
   ]
  },
  {
   "cell_type": "code",
   "execution_count": 145,
   "metadata": {},
   "outputs": [
    {
     "data": {
      "text/plain": [
       "0.006748974323272705"
      ]
     },
     "execution_count": 145,
     "metadata": {},
     "output_type": "execute_result"
    }
   ],
   "source": [
    "min(woman_diffs)"
   ]
  },
  {
   "cell_type": "code",
   "execution_count": 146,
   "metadata": {},
   "outputs": [
    {
     "data": {
      "text/plain": [
       "0.02433671712343692"
      ]
     },
     "execution_count": 146,
     "metadata": {},
     "output_type": "execute_result"
    }
   ],
   "source": [
    "np.std(woman_diffs)"
   ]
  },
  {
   "cell_type": "code",
   "execution_count": 147,
   "metadata": {},
   "outputs": [
    {
     "data": {
      "text/plain": [
       "0.0005922758003461878"
      ]
     },
     "execution_count": 147,
     "metadata": {},
     "output_type": "execute_result"
    }
   ],
   "source": [
    "np.var(woman_diffs)"
   ]
  },
  {
   "cell_type": "code",
   "execution_count": 150,
   "metadata": {},
   "outputs": [
    {
     "data": {
      "text/plain": [
       "-0.017973363399505615"
      ]
     },
     "execution_count": 150,
     "metadata": {},
     "output_type": "execute_result"
    }
   ],
   "source": [
    "max(woman_diffs) - max(women_diffs)"
   ]
  },
  {
   "cell_type": "code",
   "execution_count": 151,
   "metadata": {},
   "outputs": [
    {
     "data": {
      "text/plain": [
       "0.0021149516105651855"
      ]
     },
     "execution_count": 151,
     "metadata": {},
     "output_type": "execute_result"
    }
   ],
   "source": [
    "min(woman_diffs) - min(women_diffs)"
   ]
  },
  {
   "cell_type": "code",
   "execution_count": 152,
   "metadata": {},
   "outputs": [
    {
     "data": {
      "text/plain": [
       "-0.007162214521979633"
      ]
     },
     "execution_count": 152,
     "metadata": {},
     "output_type": "execute_result"
    }
   ],
   "source": [
    "np.std(woman_diffs) - np.std(women_diffs)"
   ]
  },
  {
   "cell_type": "code",
   "execution_count": 153,
   "metadata": {},
   "outputs": [
    {
     "data": {
      "text/plain": [
       "-0.00039990689445643655"
      ]
     },
     "execution_count": 153,
     "metadata": {},
     "output_type": "execute_result"
    }
   ],
   "source": [
    "np.var(woman_diffs) - np.var(women_diffs)"
   ]
  },
  {
   "cell_type": "code",
   "execution_count": 154,
   "metadata": {},
   "outputs": [],
   "source": [
    "with open('woman_diffs.txt', 'w') as f:\n",
    "    for diff in woman_diffs:\n",
    "        f.write(str(diff))\n",
    "        f.write(\"\\n\")"
   ]
  },
  {
   "cell_type": "code",
   "execution_count": 172,
   "metadata": {},
   "outputs": [
    {
     "data": {
      "text/plain": [
       "(array([8.600e+01, 6.020e+02, 1.546e+03, 2.178e+03, 2.694e+03, 3.614e+03,\n",
       "        5.988e+03, 7.484e+03, 6.532e+03, 4.380e+03, 2.406e+03, 1.164e+03,\n",
       "        5.620e+02, 2.460e+02, 1.460e+02, 8.400e+01, 6.000e+01, 1.800e+01,\n",
       "        6.000e+00, 4.000e+00]),\n",
       " array([0.00674897, 0.01652412, 0.02629926, 0.03607441, 0.04584955,\n",
       "        0.05562469, 0.06539984, 0.07517498, 0.08495013, 0.09472527,\n",
       "        0.10450041, 0.11427556, 0.1240507 , 0.13382584, 0.14360099,\n",
       "        0.15337613, 0.16315128, 0.17292642, 0.18270156, 0.19247671,\n",
       "        0.20225185]),\n",
       " <a list of 20 Patch objects>)"
      ]
     },
     "execution_count": 172,
     "metadata": {},
     "output_type": "execute_result"
    },
    {
     "data": {
      "image/png": "[encoded data removed]",
      "text/plain": [
       "<matplotlib.figure.Figure at 0x1d60c29c88>"
      ]
     },
     "metadata": {},
     "output_type": "display_data"
    }
   ],
   "source": [
    "# Distributions of Differnce between models vectors for the word 'woman', 200 iterations\n",
    "from matplotlib.pyplot import hist\n",
    "\n",
    "hist(woman_diffs, bins=20)\n",
    "# word count for woman is 171"
   ]
  },
  {
   "cell_type": "code",
   "execution_count": 173,
   "metadata": {},
   "outputs": [
    {
     "data": {
      "text/plain": [
       "(array([ 388., 1614., 1478., 1106., 1862., 2998., 4816., 7432., 6728.,\n",
       "        4448., 2724., 1700., 1060.,  610.,  376.,  230.,  128.,   66.,\n",
       "          20.,   16.]),\n",
       " array([0.00463402, 0.01541358, 0.02619314, 0.0369727 , 0.04775226,\n",
       "        0.05853182, 0.06931138, 0.08009094, 0.0908705 , 0.10165006,\n",
       "        0.11242962, 0.12320918, 0.13398874, 0.1447683 , 0.15554786,\n",
       "        0.16632742, 0.17710698, 0.18788654, 0.1986661 , 0.20944566,\n",
       "        0.22022521]),\n",
       " <a list of 20 Patch objects>)"
      ]
     },
     "execution_count": 173,
     "metadata": {},
     "output_type": "execute_result"
    },
    {
     "data": {
      "image/png": "[encoded data removed]",
      "text/plain": [
       "<matplotlib.figure.Figure at 0x1d609f4518>"
      ]
     },
     "metadata": {},
     "output_type": "display_data"
    }
   ],
   "source": [
    "# Distributions of Differnce between models vectors for the word 'women'\n",
    "hist(women_diffs, bins=20)\n",
    "# word count for women 806"
   ]
  },
  {
   "cell_type": "code",
   "execution_count": 174,
   "metadata": {},
   "outputs": [
    {
     "data": {
      "text/plain": [
       "(array([ 3.,  1.,  6., 10., 14., 19., 14., 11., 17., 17., 16., 21., 24.,\n",
       "        15.,  4.,  3.,  2.,  1.,  0.,  2.]),\n",
       " array([0.01336175, 0.01672182, 0.0200819 , 0.02344197, 0.02680204,\n",
       "        0.03016211, 0.03352218, 0.03688225, 0.04024233, 0.0436024 ,\n",
       "        0.04696247, 0.05032254, 0.05368261, 0.05704269, 0.06040276,\n",
       "        0.06376283, 0.0671229 , 0.07048297, 0.07384304, 0.07720312,\n",
       "        0.08056319]),\n",
       " <a list of 20 Patch objects>)"
      ]
     },
     "execution_count": 174,
     "metadata": {},
     "output_type": "execute_result"
    },
    {
     "data": {
      "image/png": "[encoded data removed]",
      "text/plain": [
       "<matplotlib.figure.Figure at 0x1d60d0d4a8>"
      ]
     },
     "metadata": {},
     "output_type": "display_data"
    }
   ],
   "source": [
    "# Distributions of Differnce between models vectors for the word 'scientif'\n",
    "hist(scientif_diffs, bins=20)\n",
    "# word count for scientif is 137"
   ]
  },
  {
   "cell_type": "code",
   "execution_count": 175,
   "metadata": {},
   "outputs": [
    {
     "data": {
      "text/plain": [
       "(array([ 4.,  5.,  6.,  9., 10., 13., 21., 19., 27., 22., 14., 17.,  8.,\n",
       "         8.,  4.,  3.,  0.,  6.,  1.,  3.]),\n",
       " array([0.03328913, 0.04042813, 0.04756712, 0.05470611, 0.0618451 ,\n",
       "        0.06898409, 0.07612308, 0.08326207, 0.09040107, 0.09754006,\n",
       "        0.10467905, 0.11181804, 0.11895703, 0.12609602, 0.13323501,\n",
       "        0.140374  , 0.147513  , 0.15465199, 0.16179098, 0.16892997,\n",
       "        0.17606896]),\n",
       " <a list of 20 Patch objects>)"
      ]
     },
     "execution_count": 175,
     "metadata": {},
     "output_type": "execute_result"
    },
    {
     "data": {
      "image/png": "[encoded data removed]",
      "text/plain": [
       "<matplotlib.figure.Figure at 0x1d60dc0710>"
      ]
     },
     "metadata": {},
     "output_type": "display_data"
    }
   ],
   "source": [
    "# Distribution of the amount of difference between each model's \n",
    "# distance between vectors for man and scientific vs woman and scientific (200 models)\n",
    "hist(bais_scientif_diffs_100, bins =20)"
   ]
  },
  {
   "cell_type": "code",
   "execution_count": 176,
   "metadata": {},
   "outputs": [
    {
     "data": {
      "text/plain": [
       "(array([ 1.,  1.,  2.,  4.,  8., 14., 15., 25., 21., 19., 25., 24., 18.,\n",
       "         9.,  6.,  6.,  0.,  1.,  0.,  1.]),\n",
       " array([-0.03060982, -0.01834961, -0.00608941,  0.0061708 ,  0.018431  ,\n",
       "         0.03069121,  0.04295141,  0.05521162,  0.06747182,  0.07973202,\n",
       "         0.09199223,  0.10425243,  0.11651264,  0.12877284,  0.14103305,\n",
       "         0.15329325,  0.16555346,  0.17781366,  0.19007387,  0.20233407,\n",
       "         0.21459427]),\n",
       " <a list of 20 Patch objects>)"
      ]
     },
     "execution_count": 176,
     "metadata": {},
     "output_type": "execute_result"
    },
    {
     "data": {
      "image/png": "[encoded data removed]",
      "text/plain": [
       "<matplotlib.figure.Figure at 0x1d60ff83c8>"
      ]
     },
     "metadata": {},
     "output_type": "display_data"
    }
   ],
   "source": [
    "# Distribution of the amount of difference between each model's \n",
    "# distance between vectors for man and genius vs woman and genius (200 models)\n",
    "hist(bais_genius_diffs_100, bins=20)"
   ]
  },
  {
   "cell_type": "code",
   "execution_count": null,
   "metadata": {},
   "outputs": [],
   "source": [
    "# increase number of models \n",
    "for i in range(509):  # stoped at 509\n",
    "    fox_models_100.append(Word2Vec(fox_docs, min_count=1, size=300)) # now it has 709"
   ]
  },
  {
   "cell_type": "code",
   "execution_count": 180,
   "metadata": {},
   "outputs": [
    {
     "data": {
      "text/plain": [
       "709"
      ]
     },
     "execution_count": 180,
     "metadata": {},
     "output_type": "execute_result"
    }
   ],
   "source": [
    "len(fox_models_100)"
   ]
  },
  {
   "cell_type": "code",
   "execution_count": 181,
   "metadata": {},
   "outputs": [],
   "source": [
    "bais_genius_diffs_709  = bais_genius_diffs_100\n",
    "bais_scientif_diffs_709 = bais_scientif_diffs_100 \n",
    "\n",
    "for model in fox_models_100[200:]:\n",
    "    bais_genius_diffs_709.append(bais_genius(model))\n",
    "    bais_scientif_diffs_709.append(bais_scientific(model))"
   ]
  },
  {
   "cell_type": "code",
   "execution_count": 183,
   "metadata": {},
   "outputs": [
    {
     "data": {
      "text/plain": [
       "(array([ 1.,  4.,  5., 13., 20., 38., 61., 71., 80., 75., 80., 89., 62.,\n",
       "        45., 31., 23.,  4.,  5.,  1.,  1.]),\n",
       " array([-0.04550368, -0.03249878, -0.01949388, -0.00648898,  0.00651591,\n",
       "         0.01952081,  0.03252571,  0.04553061,  0.0585355 ,  0.0715404 ,\n",
       "         0.0845453 ,  0.0975502 ,  0.11055509,  0.12355999,  0.13656489,\n",
       "         0.14956979,  0.16257468,  0.17557958,  0.18858448,  0.20158938,\n",
       "         0.21459427]),\n",
       " <a list of 20 Patch objects>)"
      ]
     },
     "execution_count": 183,
     "metadata": {},
     "output_type": "execute_result"
    },
    {
     "data": {
      "image/png": "[encoded data removed]",
      "text/plain": [
       "<matplotlib.figure.Figure at 0x24f7d6e278>"
      ]
     },
     "metadata": {},
     "output_type": "display_data"
    }
   ],
   "source": [
    "hist(bais_genius_diffs_709, bins=20)"
   ]
  },
  {
   "cell_type": "code",
   "execution_count": 184,
   "metadata": {},
   "outputs": [
    {
     "data": {
      "text/plain": [
       "(array([ 2.,  4., 10., 16., 34., 42., 66., 81., 98., 83., 73., 54., 54.,\n",
       "        40., 23.,  9.,  8.,  6.,  2.,  4.]),\n",
       " array([0.02001894, 0.02782144, 0.03562394, 0.04342644, 0.05122894,\n",
       "        0.05903144, 0.06683394, 0.07463644, 0.08243895, 0.09024145,\n",
       "        0.09804395, 0.10584645, 0.11364895, 0.12145145, 0.12925395,\n",
       "        0.13705646, 0.14485896, 0.15266146, 0.16046396, 0.16826646,\n",
       "        0.17606896]),\n",
       " <a list of 20 Patch objects>)"
      ]
     },
     "execution_count": 184,
     "metadata": {},
     "output_type": "execute_result"
    },
    {
     "data": {
      "image/png": "[encoded data removed]",
      "text/plain": [
       "<matplotlib.figure.Figure at 0x24f81bc5c0>"
      ]
     },
     "metadata": {},
     "output_type": "display_data"
    }
   ],
   "source": [
    "hist(bais_scientif_diffs_709, bins=20)"
   ]
  },
  {
   "cell_type": "code",
   "execution_count": 186,
   "metadata": {},
   "outputs": [],
   "source": [
    "for i in range(291):  # stoped at 709 models\n",
    "    fox_models_100.append(Word2Vec(fox_docs, min_count=1, size=300))"
   ]
  },
  {
   "cell_type": "code",
   "execution_count": 187,
   "metadata": {},
   "outputs": [],
   "source": [
    "bais_genius_diffs_1000  = bais_genius_diffs_709\n",
    "bais_scientif_diffs_1000 = bais_scientif_diffs_709 \n",
    "\n",
    "for model in fox_models_100[709:]:\n",
    "    bais_genius_diffs_1000.append(bais_genius(model))\n",
    "    bais_scientif_diffs_1000.append(bais_scientific(model))"
   ]
  },
  {
   "cell_type": "code",
   "execution_count": 190,
   "metadata": {},
   "outputs": [
    {
     "data": {
      "text/plain": [
       "(array([ 1.,  1.,  4.,  1.,  4., 14., 10., 16., 31., 43., 56., 59., 81.,\n",
       "        71., 82., 64., 92., 91., 66., 61., 35., 43., 27., 24., 12.,  5.,\n",
       "         3.,  2.,  0.,  1.]),\n",
       " array([-0.05617249, -0.04714693, -0.03812137, -0.02909581, -0.02007025,\n",
       "        -0.0110447 , -0.00201914,  0.00700642,  0.01603198,  0.02505754,\n",
       "         0.0340831 ,  0.04310866,  0.05213422,  0.06115977,  0.07018533,\n",
       "         0.07921089,  0.08823645,  0.09726201,  0.10628757,  0.11531313,\n",
       "         0.12433869,  0.13336425,  0.1423898 ,  0.15141536,  0.16044092,\n",
       "         0.16946648,  0.17849204,  0.1875176 ,  0.19654316,  0.20556872,\n",
       "         0.21459427]),\n",
       " <a list of 30 Patch objects>)"
      ]
     },
     "execution_count": 190,
     "metadata": {},
     "output_type": "execute_result"
    },
    {
     "data": {
      "image/png": "[encoded data removed]",
      "text/plain": [
       "<matplotlib.figure.Figure at 0x294ca1fbe0>"
      ]
     },
     "metadata": {},
     "output_type": "display_data"
    }
   ],
   "source": [
    "hist(bais_genius_diffs_1000, bins=30)"
   ]
  },
  {
   "cell_type": "code",
   "execution_count": 191,
   "metadata": {},
   "outputs": [
    {
     "data": {
      "text/plain": [
       "(array([ 1.,  3.,  4.,  8., 17., 11., 30., 35., 41., 59., 67., 72., 92.,\n",
       "        82., 72., 75., 62., 48., 55., 37., 37., 30., 18., 15., 12.,  4.,\n",
       "         6.,  1.,  2.,  4.]),\n",
       " array([0.02001894, 0.0252206 , 0.03042227, 0.03562394, 0.04082561,\n",
       "        0.04602727, 0.05122894, 0.05643061, 0.06163228, 0.06683394,\n",
       "        0.07203561, 0.07723728, 0.08243895, 0.08764061, 0.09284228,\n",
       "        0.09804395, 0.10324562, 0.10844728, 0.11364895, 0.11885062,\n",
       "        0.12405229, 0.12925395, 0.13445562, 0.13965729, 0.14485896,\n",
       "        0.15006062, 0.15526229, 0.16046396, 0.16566563, 0.17086729,\n",
       "        0.17606896]),\n",
       " <a list of 30 Patch objects>)"
      ]
     },
     "execution_count": 191,
     "metadata": {},
     "output_type": "execute_result"
    },
    {
     "data": {
      "image/png": "[encoded data removed]",
      "text/plain": [
       "<matplotlib.figure.Figure at 0x294ca64198>"
      ]
     },
     "metadata": {},
     "output_type": "display_data"
    }
   ],
   "source": [
    "hist(bais_scientif_diffs_1000, bins=30)"
   ]
  }
 ],
 "metadata": {
  "kernelspec": {
   "display_name": "Python 3",
   "language": "python",
   "name": "python3"
  },
  "language_info": {
   "codemirror_mode": {
    "name": "ipython",
    "version": 3
   },
   "file_extension": ".py",
   "mimetype": "text/x-python",
   "name": "python",
   "nbconvert_exporter": "python",
   "pygments_lexer": "ipython3",
   "version": "3.6.8"
  }
 },
 "nbformat": 4,
 "nbformat_minor": 2
}
