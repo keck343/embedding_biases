{
 "cells": [
  {
   "cell_type": "code",
   "execution_count": 1,
   "metadata": {},
   "outputs": [],
   "source": [
    "import pandas as pd\n",
    "from gensim.models import Word2Vec\n",
    "from gensim.models import KeyedVectors\n",
    "from gensim.scripts.glove2word2vec import glove2word2vec\n",
    "import re\n",
    "import string\n",
    "import os\n",
    "import numpy as np\n",
    "import codecs\n",
    "import io\n",
    "from scipy.spatial import distance\n",
    "from scipy.spatial.distance import cosine\n",
    "import nltk\n",
    "from nltk.corpus import stopwords\n",
    "import warnings\n",
    "warnings.filterwarnings('ignore')"
   ]
  },
  {
   "cell_type": "code",
   "execution_count": 2,
   "metadata": {},
   "outputs": [
    {
     "name": "stdout",
     "output_type": "stream",
     "text": [
      "[('queen', 0.6713277101516724)]\n"
     ]
    }
   ],
   "source": [
    "# Load Glove Model\n",
    "glove_input_file = 'glove.6B/glove.6B.300d.txt'\n",
    "word2vec_output_file = 'glove.6B.300d.txt.word2vec'\n",
    "glove2word2vec(glove_input_file, word2vec_output_file)\n",
    "\n",
    "filename = 'glove.6B.300d.txt.word2vec'\n",
    "glove_model = KeyedVectors.load_word2vec_format(filename, binary=False)\n",
    "# calculate: (king - man) + woman = ?\n",
    "result = glove_model.most_similar(positive=['woman', 'king'], negative=['man'], topn=1)\n",
    "print(result)"
   ]
  },
  {
   "cell_type": "code",
   "execution_count": 3,
   "metadata": {},
   "outputs": [],
   "source": [
    "# Names from Supplemental Materials of the Paper\n",
    "# Semantics derived automatically from language corpora contain human-like biases\n",
    "# Authors: Aylin Caliskan,* Joanna J. Bryson,* Arvind Narayanan*\n",
    "# https://science.sciencemag.org/content/356/6334/183\n",
    "# Removed 'Boobie-Sue' because name not in models\n",
    "\n",
    "european_american_names = ['Adam', 'Harry', 'Josh', 'Roger', 'Alan', \n",
    "                           'Frank', 'Justin', 'Ryan', 'Andrew', 'Jack', \n",
    "                           'Matthew', 'Stephen', 'Brad', 'Greg', 'Paul', \n",
    "                           'Jonathan', 'Peter', 'Amanda', 'Courtney', 'Heather', \n",
    "                           'Melanie', 'Katie', 'Betsy', 'Kristin', 'Nancy', \n",
    "                           'Stephanie', 'Ellen', 'Lauren', \n",
    "                           'Colleen', 'Emily', 'Megan', 'Rachel']\n",
    "\n",
    "african_american_names = ['Alonzo', 'Jamel', 'Theo', 'Alphonse', 'Jerome',\n",
    "                          'Leroy', 'Torrance', 'Darnell', 'Lamar', 'Lionel', \n",
    "                          'Tyree', 'Deion', 'Lamont', 'Malik', 'Terrence',\n",
    "                          'Tyrone', 'Lavon', 'Marcellus', 'Wardell', 'Nichelle', \n",
    "                          'Shereen', 'Ebony', 'Latisha', 'Shaniqua', 'Jasmine', \n",
    "                          'Tanisha', 'Tia', 'Lakisha', 'Latoya','Yolanda', \n",
    "                          'Malika', 'Yvette']\n",
    "\n",
    "\n",
    "male_european_american_names = ['Adam', 'Harry', 'Josh', 'Roger', 'Alan', \n",
    "                                'Frank', 'Justin', 'Ryan', 'Andrew', 'Jack', \n",
    "                                'Matthew', 'Stephen', 'Brad', 'Greg', 'Paul', \n",
    "                                'Jonathan', 'Peter']\n",
    "\n",
    "female_european_american_names = ['Amanda', 'Courtney', 'Heather', 'Melanie', 'Katie', \n",
    "                                  'Betsy', 'Kristin', 'Nancy', 'Stephanie', 'Ellen', \n",
    "                                  'Lauren', 'Colleen', 'Emily', 'Megan', 'Rachel']\n",
    "\n",
    "male_african_american_names = ['Alonzo', 'Jamel', 'Theo', 'Alphonse', 'Jerome', \n",
    "                               'Leroy', 'Torrance', 'Darnell', 'Lamar', 'Lionel', \n",
    "                               'Tyree', 'Deion', 'Lamont', 'Malik', 'Terrence', \n",
    "                                'Tyrone', 'Lavon', 'Marcellus', 'Wardell']\n",
    "\n",
    "female_african_american_names = ['Nichelle', 'Shereen', 'Ebony', 'Latisha', 'Shaniqua', \n",
    "                                 'Jasmine', 'Tanisha', 'Tia', 'Lakisha', 'Latoya', \n",
    "                                 'Yolanda', 'Malika', 'Yvette']\n",
    "\n",
    "female_names =  female_african_american_names + female_european_american_names\n",
    "\n",
    "male_names = male_african_american_names + male_european_american_names\n"
   ]
  },
  {
   "cell_type": "code",
   "execution_count": 4,
   "metadata": {},
   "outputs": [],
   "source": [
    "## write text of resumes for each name:\n",
    "\n",
    "def write_cs_resume_string(name, location=\"Ohio\"):\n",
    "    \"\"\"\n",
    "    Write a generic CS resume with a specfic name, location, volunteer experiences, and one unrelated work \n",
    "    experience that is a strong he or she occupation in vector space as defined by\n",
    "    'Man is to Computer Programmer as Woman is to Homemaker? Debiasing Word Embeddings' \n",
    "    https://arxiv.org/pdf/1607.06520.pdf \n",
    "    \"\"\"\n",
    "    resume_str = \"\"\n",
    "\n",
    "    education = \"\"\"University of {} | Bachelor of Science in Computer Science | 2013 - 2017\n",
    "    Coursework: Analysis I and II; Introduction to Programming; Concepts of Mathematics; Principles of Imperative Programming, Great Theoretical Ideas in Computer Science\"\"\".format(location.split(\",\")[0])\n",
    "    \n",
    "    cs_job = \"\"\"Crane & Jenkins, {} | Software Engineer | March 2018 - Present\"\"\".format(location)\n",
    "    \n",
    "    cs_bullets = [\"Integrate code changes, test code changes, and document code changes\",\n",
    "    \"Developed Perl and PHP scripts to translate data between applications\",\n",
    "    \"Developed automation scripts to test storage appliances in Python\",\n",
    "    \"Practice agile development methodologies and work with current networking technologies\",  \n",
    "    \"Used Hadoop to build a scalable distributed data solution\"]\n",
    "\n",
    "    \n",
    "    hair_job = \"Top Salon, {} | Hair Stylist | 2013 - 2014\".format(location)\n",
    "    \n",
    "    hair_bullets = [\"Personally handled customer problems or concerns that ensured appropriate resolution steps were taken that maintained customer satisfaction\",\n",
    "                    \"Built enduring client relationships and a thriving customer base of repeat and referral business.\",\n",
    "                    \"Provided clientele with quality hair styling, coloring, and perming\"]\n",
    "\n",
    "    project = \"\"\"Projects:\n",
    "    \n",
    "    News Delivery System (Spring 2014) - online information gathering/presentation system\n",
    "    Integrated old code with new for web application delivering custom tailored web news. Coded in Java using Model-View-Controller architecture.\n",
    "    \n",
    "    Budgie (September 2016) - Lead Android Developer, Git Repo Manager\n",
    "    App to manage and categorize expenses. Implements Microsoft’s Oxford Opitcal Character Recognition API. Pie charts show spending distribution. \n",
    "    \"\"\"\n",
    "    \n",
    "    skills = \"\"\"Skills: Java, Python, C, SML, HTML5, CSS, Django, Android, LATEX, Git, Data structures, Software design patterns \"\"\"\n",
    "\n",
    "    resume_str += name + \" \"\n",
    "    resume_str += '{}@gmail.com | 656-789-6599 | www.linkedin.com/{} | github.com/{}123'.format(name.lower(), name.lower(), name.lower())\n",
    "    resume_str += \" Education: \"\n",
    "    resume_str += education + \" \"\n",
    "    resume_str += \"Work Experience: \"\n",
    "    resume_str += cs_job + \" \"\n",
    "    \n",
    "    for bullet in cs_bullets:\n",
    "        resume_str += bullet + \" \"\n",
    "        \n",
    "    resume_str += hair_job\n",
    "    \n",
    "    for bullet in hair_bullets:\n",
    "        resume_str += bullet + \" \"  \n",
    "    \n",
    "    resume_str += project + \" \"\n",
    "    \n",
    "    resume_str += skills + \" \"\n",
    "    \n",
    "    return resume_str"
   ]
  },
  {
   "cell_type": "code",
   "execution_count": 5,
   "metadata": {},
   "outputs": [
    {
     "data": {
      "text/plain": [
       "'Alonzo alonzo@gmail.com | 656-789-6599 | www.linkedin.com/alonzo | github.com/alonzo123 Education: University of Ohio | Bachelor of Science in Computer Science | 2013 - 2017\\n    Coursework: Analysis I and II; Introduction to Programming; Concepts of Mathematics; Principles of Imperative Programming, Great Theoretical Ideas in Computer Science Work Experience: Crane & Jenkins, Ohio | Software Engineer | March 2018 - Present Integrate code changes, test code changes, and document code changes Developed Perl and PHP scripts to translate data between applications Developed automation scripts to test storage appliances in Python Practice agile development methodologies and work with current networking technologies Used Hadoop to build a scalable distributed data solution Top Salon, Ohio | Hair Stylist | 2013 - 2014Personally handled customer problems or concerns that ensured appropriate resolution steps were taken that maintained customer satisfaction Built enduring client relationships and a thriving customer base of repeat and referral business. Provided clientele with quality hair styling, coloring, and perming Projects:\\n    \\n    News Delivery System (Spring 2014) - online information gathering/presentation system\\n    Integrated old code with new for web application delivering custom tailored web news. Coded in Java using Model-View-Controller architecture.\\n    \\n    Budgie (September 2016) - Lead Android Developer, Git Repo Manager\\n    App to manage and categorize expenses. Implements Microsoft’s Oxford Opitcal Character Recognition API. Pie charts show spending distribution. \\n     Skills: Java, Python, C, SML, HTML5, CSS, Django, Android, LATEX, Git, Data structures, Software design patterns  '"
      ]
     },
     "execution_count": 5,
     "metadata": {},
     "output_type": "execute_result"
    }
   ],
   "source": [
    "write_cs_resume_string(african_american_names[0])"
   ]
  },
  {
   "cell_type": "code",
   "execution_count": 6,
   "metadata": {},
   "outputs": [
    {
     "data": {
      "text/plain": [
       "'Software Engineer\\nGoogle Sunnyvale, CA, USA + 4 more locations\\n25 days ago\\nApply\\nIn school or graduated within last 9 months? We encourage you to apply to openings on the Student Jobs site\\n\\nNote: By applying to this position your application is automatically submitted to the following locations: San Francisco, CA, USA; Mountain View, CA, USA; San Bruno, CA, USA; Sunnyvale, CA, USA; Palo Alto, CA, USA\\n\\nQualifications\\nMinimum qualifications:\\n\\nBS degree in Computer Science, similar technical field of study or equivalent practical experience.\\nSoftware development experience in one or more general purpose programming languages.\\nExperience working with two or more from the following: web application development, Unix/Linux environments, mobile application development, distributed and parallel systems, machine learning, information retrieval, natural language processing, networking, developing large software systems, and/or security software development.\\nWorking proficiency and communication '"
      ]
     },
     "execution_count": 6,
     "metadata": {},
     "output_type": "execute_result"
    }
   ],
   "source": [
    "# google job posting: https://careers.google.com/jobs/results/6441926003982336-software-engineer/?src=Online%2FJob%20Board%2Fstackoverflow&utm_campaign=2019&utm_medium=jobposting&utm_source=stackoverflow\n",
    "\n",
    "with open(\"google_software_engineer_posting.txt\", 'r') as f:\n",
    "    google_job = f.read()\n",
    "\n",
    "google_job[0:1000]"
   ]
  },
  {
   "cell_type": "code",
   "execution_count": 7,
   "metadata": {},
   "outputs": [],
   "source": [
    "stop_words =  set(stopwords.words('english'))\n",
    "names = african_american_names + european_american_names\n",
    "\n",
    "def words(text):\n",
    "    regex = re.compile('[' + re.escape(string.punctuation) + '0-9\\\\r\\\\t\\\\n]')\n",
    "    text = regex.sub(\" \", text)\n",
    "    words = text.split()\n",
    "    words3 = [word for word in words if len(word) > 2]\n",
    "    wordsL = [word.lower() for word in words3]\n",
    "    wordsG = [word for word in wordsL if word not in stop_words]\n",
    "    return(wordsG)\n",
    "\n",
    "def doc2vec(text, model, n=300, names=names):\n",
    "    wordlist = words(text)\n",
    "    for name in names:\n",
    "        if name.lower() in wordlist:\n",
    "            wordlist += name  # Glove model has tokens for captiolized names\n",
    "    vector_sum = np.zeros(n)\n",
    "    n_words = 0\n",
    "    vocab = list(model.wv.vocab)\n",
    "    for word in wordlist:\n",
    "        if word in vocab:\n",
    "            n_words += 1\n",
    "            vector_sum += model[word]\n",
    "    return np.divide(vector_sum, n_words) # returns centriod \n",
    "\n",
    "def average_centriod_names(resume_strings:list, model, n=300, names=names):\n",
    "    centroids = [doc2vec(resume, model, n=300, names=names) for resume in resume_strings]\n",
    "    return np.mean(np.array(centroids), axis=0)\n",
    "\n",
    "def distances(model, posting=str, resumes_centroids=list, n=300, distance='euclidean'): \n",
    "    \"\"\"\n",
    "    Resume list of resume text strings.\n",
    "    Text is taken directly from posting or resume.\n",
    "    \"\"\"\n",
    "    distances = []\n",
    "    posting_centroid = doc2vec(posting, model, n)\n",
    "    for resume_centroid in resumes_centroids:\n",
    "        if distance == 'euclidean':\n",
    "            closeness = np.linalg.norm(posting_centroid-resume_centroid)\n",
    "        elif distance == 'cosine':\n",
    "            closeness = cosine(resume_centroid, posting_centroid)\n",
    "        else:\n",
    "            ValueError(\"Enter euclidean or cosine\")\n",
    "        distances.append(closeness)\n",
    "    return distances"
   ]
  },
  {
   "cell_type": "code",
   "execution_count": 8,
   "metadata": {},
   "outputs": [],
   "source": [
    "# create resumes strings\n",
    "\n",
    "female_african_american_resume_strings = [write_cs_resume_string(name) for name in female_african_american_names]\n",
    "\n",
    "male_african_american_resume_strings = [write_cs_resume_string(name) for name in male_african_american_names]\n",
    "\n",
    "female_european_american_resume_strings = [write_cs_resume_string(name) for name in female_european_american_names]\n",
    "\n",
    "male_european_american_resume_strings = [write_cs_resume_string(name) for name in male_european_american_names]\n",
    "\n",
    "african_american_resume_strings = female_african_american_resume_strings + male_african_american_resume_strings\n",
    "\n",
    "european_american_resume_strings = female_european_american_resume_strings + male_european_american_resume_strings\n",
    "\n",
    "female_resume_strings = female_african_american_resume_strings + female_european_american_resume_strings\n",
    "\n",
    "male_resume_strings = male_african_american_resume_strings + male_european_american_resume_strings"
   ]
  },
  {
   "cell_type": "code",
   "execution_count": 9,
   "metadata": {},
   "outputs": [],
   "source": [
    "# find average centroid for each set of resumes and calculate distances\n",
    "\n",
    "resumes_set_titles = ['Female African American', 'Male African American', \n",
    "                     'Female European American', 'Male European American',\n",
    "                     'All African American', 'All European American',\n",
    "                     'All Female', 'All Male']\n",
    "\n",
    "resumes_sets = [female_african_american_resume_strings, male_african_american_resume_strings,\n",
    "                female_european_american_resume_strings, male_european_american_resume_strings, \n",
    "                african_american_resume_strings, european_american_resume_strings,\n",
    "                female_resume_strings, male_resume_strings]\n",
    "\n",
    "glove_resume_sets_centroids = [average_centriod_names(resume_strings, glove_model) for resume_strings in resumes_sets]\n",
    "\n",
    "glove_resumes_sets_euclidean_distances = distances(glove_model, posting=google_job, resumes_centroids=glove_resume_sets_centroids, distance='euclidean')\n",
    "\n",
    "glove_resumes_sets_cosine_distances = distances(glove_model, posting=google_job, resumes_centroids=glove_resume_sets_centroids, distance='cosine')\n"
   ]
  },
  {
   "cell_type": "code",
   "execution_count": 10,
   "metadata": {},
   "outputs": [
    {
     "name": "stdout",
     "output_type": "stream",
     "text": [
      "The euclidean distance of Male European American resumes to the job posting is  1.0926220169696208\n",
      "The euclidean distance of All European American resumes to the job posting is  1.0983770489395506\n",
      "The euclidean distance of All Male resumes to the job posting is  1.1055158793717879\n",
      "The euclidean distance of Female European American resumes to the job posting is  1.1064668948630332\n",
      "The euclidean distance of All Female resumes to the job posting is  1.1105680481865001\n",
      "The euclidean distance of Female African American resumes to the job posting is  1.116902547103274\n",
      "The euclidean distance of All African American resumes to the job posting is  1.1171543414834997\n",
      "The euclidean distance of Male African American resumes to the job posting is  1.1185147165183427\n"
     ]
    }
   ],
   "source": [
    "glove_euclidean_distances = dict()\n",
    "\n",
    "for n, c in zip(resumes_set_titles, glove_resumes_sets_euclidean_distances):\n",
    "    glove_euclidean_distances[n] = c\n",
    "    \n",
    "for i in sorted(glove_euclidean_distances.items(), key = lambda kv:(kv[1], kv[0])):\n",
    "    print(\"The euclidean distance of\", i[0], \"resumes to the job posting is \", i[1])"
   ]
  },
  {
   "cell_type": "code",
   "execution_count": 11,
   "metadata": {},
   "outputs": [
    {
     "name": "stdout",
     "output_type": "stream",
     "text": [
      "The cosine distance of Male European American resumes to the job posting is  0.08020465439885416\n",
      "The cosine distance of All European American resumes to the job posting is  0.08098174383432477\n",
      "The cosine distance of All Male resumes to the job posting is  0.08189844646319411\n",
      "The cosine distance of Female European American resumes to the job posting is  0.08215613964145507\n",
      "The cosine distance of All Female resumes to the job posting is  0.08254444270455352\n",
      "The cosine distance of Female African American resumes to the job posting is  0.08328236447005288\n",
      "The cosine distance of All African American resumes to the job posting is  0.08339192281842867\n",
      "The cosine distance of Male African American resumes to the job posting is  0.0836931202746386\n"
     ]
    }
   ],
   "source": [
    "glove_cosine_distances = dict()\n",
    "\n",
    "for n, c in zip(resumes_set_titles, glove_resumes_sets_cosine_distances):\n",
    "    glove_euclidean_distances[n] = c\n",
    "    \n",
    "for i in sorted(glove_euclidean_distances.items(), key = lambda kv:(kv[1], kv[0])):\n",
    "    print(\"The cosine distance of\", i[0], \"resumes to the job posting is \", i[1])"
   ]
  },
  {
   "cell_type": "code",
   "execution_count": 12,
   "metadata": {},
   "outputs": [],
   "source": [
    "# examine word counts\n",
    "\n",
    "def word_count_dict(model, words):\n",
    "    word_counts = dict() \n",
    "    for word in words:\n",
    "        if word not in model.wv.vocab:\n",
    "            word = word.lower()\n",
    "            if word in model.wv.vocab:\n",
    "                word_counts[word] = model.wv.vocab[word].count\n",
    "            else:\n",
    "                word_counts[word] = 0\n",
    "        else:\n",
    "            word_counts[word] = model.wv.vocab[word].count\n",
    "    return word_counts\n",
    "\n",
    "glove_name_counts = word_count_dict(glove_model, names)"
   ]
  },
  {
   "cell_type": "code",
   "execution_count": 13,
   "metadata": {},
   "outputs": [
    {
     "data": {
      "text/plain": [
       "{'alonzo': 374012,\n",
       " 'jamel': 297609,\n",
       " 'theo': 384401,\n",
       " 'alphonse': 363587,\n",
       " 'jerome': 390108,\n",
       " 'leroy': 382590,\n",
       " 'torrance': 373252,\n",
       " 'darnell': 363798,\n",
       " 'lamar': 385433,\n",
       " 'lionel': 388612,\n",
       " 'tyree': 339329,\n",
       " 'deion': 372830,\n",
       " 'lamont': 379177,\n",
       " 'malik': 389603,\n",
       " 'terrence': 376125,\n",
       " 'tyrone': 382193,\n",
       " 'lavon': 257858,\n",
       " 'marcellus': 355502,\n",
       " 'wardell': 344443,\n",
       " 'nichelle': 239039,\n",
       " 'shereen': 185280,\n",
       " 'ebony': 364920,\n",
       " 'latisha': 136968,\n",
       " 'shaniqua': 69799,\n",
       " 'jasmine': 375040,\n",
       " 'tanisha': 246351,\n",
       " 'tia': 362308,\n",
       " 'lakisha': 165572,\n",
       " 'latoya': 309172,\n",
       " 'yolanda': 366146,\n",
       " 'malika': 315243,\n",
       " 'yvette': 356168,\n",
       " 'adam': 396074,\n",
       " 'harry': 396785,\n",
       " 'josh': 392259,\n",
       " 'roger': 396276,\n",
       " 'alan': 396734,\n",
       " 'frank': 397930,\n",
       " 'justin': 393289,\n",
       " 'ryan': 396488,\n",
       " 'andrew': 397369,\n",
       " 'jack': 397820,\n",
       " 'matthew': 395230,\n",
       " 'stephen': 397338,\n",
       " 'brad': 393658,\n",
       " 'greg': 395373,\n",
       " 'paul': 399077,\n",
       " 'jonathan': 395170,\n",
       " 'peter': 398706,\n",
       " 'amanda': 388658,\n",
       " 'courtney': 385578,\n",
       " 'heather': 387260,\n",
       " 'melanie': 382685,\n",
       " 'katie': 387673,\n",
       " 'betsy': 378427,\n",
       " 'kristin': 379343,\n",
       " 'nancy': 394638,\n",
       " 'stephanie': 388420,\n",
       " 'ellen': 391421,\n",
       " 'lauren': 388599,\n",
       " 'colleen': 376588,\n",
       " 'emily': 390464,\n",
       " 'megan': 382157,\n",
       " 'rachel': 391300}"
      ]
     },
     "execution_count": 13,
     "metadata": {},
     "output_type": "execute_result"
    }
   ],
   "source": [
    "glove_name_counts"
   ]
  },
  {
   "cell_type": "code",
   "execution_count": 15,
   "metadata": {},
   "outputs": [
    {
     "data": {
      "text/plain": [
       "(69799, 67153.15559125302)"
      ]
     },
     "execution_count": 15,
     "metadata": {},
     "output_type": "execute_result"
    }
   ],
   "source": [
    "np.min(list(glove_name_counts.values())), np.std(list(glove_name_counts.values()))"
   ]
  },
  {
   "cell_type": "markdown",
   "metadata": {},
   "source": [
    "### Examining Glove Model Distances"
   ]
  },
  {
   "cell_type": "code",
   "execution_count": 16,
   "metadata": {},
   "outputs": [
    {
     "data": {
      "text/plain": [
       "(1.108265186679451, 0.008783889172250977)"
      ]
     },
     "execution_count": 16,
     "metadata": {},
     "output_type": "execute_result"
    }
   ],
   "source": [
    "glove_distances_df = pd.DataFrame()\n",
    "glove_distances_df['Group'] = resumes_set_titles\n",
    "glove_distances_df['Euclidean'] = glove_resumes_sets_euclidean_distances\n",
    "glove_distances_df['Cosine'] = glove_resumes_sets_cosine_distances\n",
    "\n",
    "glove_euclidean_mean, glove_euclidean_std = np.mean(glove_resumes_sets_euclidean_distances), np.std(glove_resumes_sets_euclidean_distances)\n",
    "\n",
    "glove_euclidean_mean, glove_euclidean_std \n"
   ]
  },
  {
   "cell_type": "code",
   "execution_count": 17,
   "metadata": {},
   "outputs": [
    {
     "data": {
      "text/plain": [
       "(0.08226910432568772, 0.0011434842007861515)"
      ]
     },
     "execution_count": 17,
     "metadata": {},
     "output_type": "execute_result"
    }
   ],
   "source": [
    "glove_cosine_mean, glove_cosine_std = np.mean(glove_resumes_sets_cosine_distances), np.std(glove_resumes_sets_cosine_distances)\n",
    "glove_cosine_mean, glove_cosine_std"
   ]
  },
  {
   "cell_type": "code",
   "execution_count": 18,
   "metadata": {},
   "outputs": [
    {
     "data": {
      "text/html": [
       "<div>\n",
       "<style scoped>\n",
       "    .dataframe tbody tr th:only-of-type {\n",
       "        vertical-align: middle;\n",
       "    }\n",
       "\n",
       "    .dataframe tbody tr th {\n",
       "        vertical-align: top;\n",
       "    }\n",
       "\n",
       "    .dataframe thead th {\n",
       "        text-align: right;\n",
       "    }\n",
       "</style>\n",
       "<table border=\"1\" class=\"dataframe\">\n",
       "  <thead>\n",
       "    <tr style=\"text-align: right;\">\n",
       "      <th></th>\n",
       "      <th>Group</th>\n",
       "      <th>Euclidean</th>\n",
       "      <th>Cosine</th>\n",
       "      <th>Stds_Away_From_Euclidean_Mean</th>\n",
       "      <th>Stds_Away_From_Cosine_Mean</th>\n",
       "    </tr>\n",
       "  </thead>\n",
       "  <tbody>\n",
       "    <tr>\n",
       "      <th>3</th>\n",
       "      <td>Male European American</td>\n",
       "      <td>1.092622</td>\n",
       "      <td>0.080205</td>\n",
       "      <td>-1.780893</td>\n",
       "      <td>-1.805403</td>\n",
       "    </tr>\n",
       "    <tr>\n",
       "      <th>5</th>\n",
       "      <td>All European American</td>\n",
       "      <td>1.098377</td>\n",
       "      <td>0.080982</td>\n",
       "      <td>-1.125713</td>\n",
       "      <td>-1.125823</td>\n",
       "    </tr>\n",
       "    <tr>\n",
       "      <th>7</th>\n",
       "      <td>All Male</td>\n",
       "      <td>1.105516</td>\n",
       "      <td>0.081898</td>\n",
       "      <td>-0.312994</td>\n",
       "      <td>-0.324148</td>\n",
       "    </tr>\n",
       "    <tr>\n",
       "      <th>2</th>\n",
       "      <td>Female European American</td>\n",
       "      <td>1.106467</td>\n",
       "      <td>0.082156</td>\n",
       "      <td>-0.204726</td>\n",
       "      <td>-0.098790</td>\n",
       "    </tr>\n",
       "    <tr>\n",
       "      <th>6</th>\n",
       "      <td>All Female</td>\n",
       "      <td>1.110568</td>\n",
       "      <td>0.082544</td>\n",
       "      <td>0.262169</td>\n",
       "      <td>0.240789</td>\n",
       "    </tr>\n",
       "    <tr>\n",
       "      <th>0</th>\n",
       "      <td>Female African American</td>\n",
       "      <td>1.116903</td>\n",
       "      <td>0.083282</td>\n",
       "      <td>0.983318</td>\n",
       "      <td>0.886116</td>\n",
       "    </tr>\n",
       "    <tr>\n",
       "      <th>4</th>\n",
       "      <td>All African American</td>\n",
       "      <td>1.117154</td>\n",
       "      <td>0.083392</td>\n",
       "      <td>1.011984</td>\n",
       "      <td>0.981927</td>\n",
       "    </tr>\n",
       "    <tr>\n",
       "      <th>1</th>\n",
       "      <td>Male African American</td>\n",
       "      <td>1.118515</td>\n",
       "      <td>0.083693</td>\n",
       "      <td>1.166856</td>\n",
       "      <td>1.245331</td>\n",
       "    </tr>\n",
       "  </tbody>\n",
       "</table>\n",
       "</div>"
      ],
      "text/plain": [
       "                      Group  Euclidean    Cosine  \\\n",
       "3    Male European American   1.092622  0.080205   \n",
       "5     All European American   1.098377  0.080982   \n",
       "7                  All Male   1.105516  0.081898   \n",
       "2  Female European American   1.106467  0.082156   \n",
       "6                All Female   1.110568  0.082544   \n",
       "0   Female African American   1.116903  0.083282   \n",
       "4      All African American   1.117154  0.083392   \n",
       "1     Male African American   1.118515  0.083693   \n",
       "\n",
       "   Stds_Away_From_Euclidean_Mean  Stds_Away_From_Cosine_Mean  \n",
       "3                      -1.780893                   -1.805403  \n",
       "5                      -1.125713                   -1.125823  \n",
       "7                      -0.312994                   -0.324148  \n",
       "2                      -0.204726                   -0.098790  \n",
       "6                       0.262169                    0.240789  \n",
       "0                       0.983318                    0.886116  \n",
       "4                       1.011984                    0.981927  \n",
       "1                       1.166856                    1.245331  "
      ]
     },
     "execution_count": 18,
     "metadata": {},
     "output_type": "execute_result"
    }
   ],
   "source": [
    "def stds_away(mean, std, value):\n",
    "    return (value - mean)/std\n",
    "\n",
    "glove_distances_df['Stds_Away_From_Euclidean_Mean'] = glove_distances_df.Euclidean.apply(lambda x : stds_away(glove_euclidean_mean, glove_euclidean_std, x))\n",
    "glove_distances_df['Stds_Away_From_Cosine_Mean'] = glove_distances_df.Cosine.apply(lambda x : stds_away(glove_cosine_mean, glove_cosine_std, x))\n",
    "\n",
    "glove_distances_df.sort_values('Euclidean')\n"
   ]
  },
  {
   "cell_type": "code",
   "execution_count": 19,
   "metadata": {},
   "outputs": [
    {
     "name": "stdout",
     "output_type": "stream",
     "text": [
      "When comparing Euclidean distances, the group of Male African American resumes is 2.947748889013652 standord deviations away from the group of European American resumes.\n",
      "When comparing Euclidean distances, the group of Male African American resumes is 3.0507337778572734 standord deviations away from the group of European American resumes.\n"
     ]
    }
   ],
   "source": [
    "distance_male_european_male_african_euclidean = abs(float(glove_distances_df[glove_distances_df.Group=='Male European American']['Stds_Away_From_Euclidean_Mean'])) + float(glove_distances_df[glove_distances_df.Group=='Male African American']['Stds_Away_From_Euclidean_Mean'])\n",
    "print(\"When comparing Euclidean distances, the group of Male African American resumes is\", distance_male_european_male_african_euclidean, \"standord deviations away from the group of European American resumes.\")\n",
    "\n",
    "distance_male_european_male_african_cosine = abs(float(glove_distances_df[glove_distances_df.Group=='Male European American']['Stds_Away_From_Cosine_Mean'])) + float(glove_distances_df[glove_distances_df.Group=='Male African American']['Stds_Away_From_Cosine_Mean'])\n",
    "print(\"When comparing Euclidean distances, the group of Male African American resumes is\", distance_male_european_male_african_cosine, \"standord deviations away from the group of European American resumes.\")\n"
   ]
  },
  {
   "cell_type": "code",
   "execution_count": 22,
   "metadata": {},
   "outputs": [
    {
     "data": {
      "text/plain": [
       "([0, 1, 2, 3, 4, 5, 6, 7], <a list of 8 Text xticklabel objects>)"
      ]
     },
     "execution_count": 22,
     "metadata": {},
     "output_type": "execute_result"
    },
    {
     "data": {
      "image/png": "[encoded data removed]",
      "text/plain": [
       "<Figure size 432x288 with 1 Axes>"
      ]
     },
     "metadata": {},
     "output_type": "display_data"
    }
   ],
   "source": [
    "import matplotlib.pyplot as plt\n",
    "\n",
    "glove_distances_df = glove_distances_df.sort_values('Euclidean')\n",
    "plt.style.use('ggplot')\n",
    "plt.bar(glove_distances_df['Group'], glove_distances_df['Stds_Away_From_Euclidean_Mean'], width=0.1, color = 'darkcyan')\n",
    "plt.title(\"Standard Deviations Away from Mean Euclidean Distance\")\n",
    "plt.xlabel('group', fontweight='bold')\n",
    "plt.xticks(rotation=90)\n",
    "\n",
    "        "
   ]
  },
  {
   "cell_type": "code",
   "execution_count": 23,
   "metadata": {},
   "outputs": [
    {
     "data": {
      "text/plain": [
       "([0, 1, 2, 3, 4, 5, 6, 7], <a list of 8 Text xticklabel objects>)"
      ]
     },
     "execution_count": 23,
     "metadata": {},
     "output_type": "execute_result"
    },
    {
     "data": {
      "image/png": "[encoded data removed]",
      "text/plain": [
       "<Figure size 432x288 with 1 Axes>"
      ]
     },
     "metadata": {},
     "output_type": "display_data"
    }
   ],
   "source": [
    "plt.style.use('ggplot')\n",
    "plt.bar(glove_distances_df['Group'], glove_distances_df['Stds_Away_From_Cosine_Mean'], width=0.1, color = 'royalblue')\n",
    "plt.title(\"Standard Deviations Away from Mean Cosine Distance\")\n",
    "plt.xlabel('group', fontweight='bold')\n",
    "plt.xticks(rotation=90)\n"
   ]
  },
  {
   "cell_type": "code",
   "execution_count": null,
   "metadata": {},
   "outputs": [],
   "source": []
  }
 ],
 "metadata": {
  "kernelspec": {
   "display_name": "Python 3",
   "language": "python",
   "name": "python3"
  },
  "language_info": {
   "codemirror_mode": {
    "name": "ipython",
    "version": 3
   },
   "file_extension": ".py",
   "mimetype": "text/x-python",
   "name": "python",
   "nbconvert_exporter": "python",
   "pygments_lexer": "ipython3",
   "version": "3.7.1"
  }
 },
 "nbformat": 4,
 "nbformat_minor": 2
}
